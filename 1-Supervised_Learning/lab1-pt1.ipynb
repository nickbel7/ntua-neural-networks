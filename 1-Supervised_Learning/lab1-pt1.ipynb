{
  "cells": [
    {
      "cell_type": "markdown",
      "metadata": {
        "id": "Y1nskBgmzmD-"
      },
      "source": [
        "### Στοιχεία ομάδας (Ομάδα 1):\n",
        "\n",
        "```\n",
        "Neural Networks - Lab 1\n",
        "Creators : \n",
        "Αναστάσης Αγγλογάλλος\n",
        "Παναγιώτης Κοκκινάκης\n",
        "Νικόλας Μπέλλος\n",
        "```"
      ]
    },
    {
      "cell_type": "markdown",
      "metadata": {
        "id": "DgBhMPlXWn4N"
      },
      "source": [
        "# Μέρος 1. UCI dataset"
      ]
    },
    {
      "cell_type": "markdown",
      "metadata": {
        "id": "ovIu0BWetkI_"
      },
      "source": [
        "# Εισαγωγή και Επισκόπηση:\n",
        "\n",
        "Το Dataset που χρησιμοποιήσαμε είναι το HCC Survival Data Set. Πρόκειται για δεδομένα ασθενών που πάσχουν από Υπατοκυτταρικό Καρκίνωμα τα οποία συλλέχθησαν στο University Hospital στην Πορτογαλία. Το Dataset περιλαμβάνει 49 διαφορετικά χαρακτηριστικά από 165 ασθενείς, ενώ στα δεδομένα δεν περιέχονται επικεφαλίδες ή αρίθμηση γραμμών. Από τα 49 χαρακτηριστικά τα 26 είναι ποιοτικά και τα 23 ποσοτικά. Τα απουσιάζοντα δεδομένα αποτελούν το 10.22% του συνολικού Dataset, ενώ μόνο 4/165 ασθενείς έχουν πληροφορίες σε όλα τα πεδία. Κύριος στόχος είναι η εξάλειψη συμπερασμάτων για το αν ο ασθενής επιβίωσε έναν χρόνο μετά τη διάγνωση, χαρακτηριστικό που κωδικοποιείται με 1 (έζησε) ή 0 (απεβίωσε) ενώ οι ετικέτες κλάσης βρίσκονται στην τελευταία στήλη. Οι δύο κλάσεις (έζησε-απεβίωσε) εμφανίζονται σε ποσοστά 38.18% και 61.82% αντίστοιχα. Επομένως υπάρχει class imbalance αφού η μία κλάση είναι τουλάχιστον 1.5 φορές πιο συχνά εμφανιζόμενη από την άλλη. \n"
      ]
    },
    {
      "cell_type": "markdown",
      "metadata": {
        "id": "mujLPRdD8VfA"
      },
      "source": [
        "# 1. Προετοιμασία\n"
      ]
    },
    {
      "cell_type": "code",
      "execution_count": null,
      "metadata": {
        "colab": {
          "base_uri": "https://localhost:8080/"
        },
        "id": "I8BufFmVYZQh",
        "outputId": "a5d2b9cd-c4c0-4b06-f601-2680a9675310"
      },
      "outputs": [
        {
          "name": "stdout",
          "output_type": "stream",
          "text": [
            "Looking in indexes: https://pypi.org/simple, https://us-python.pkg.dev/colab-wheels/public/simple/\n",
            "Requirement already satisfied: pip in /usr/local/lib/python3.7/dist-packages (21.1.3)\n",
            "Collecting pip\n",
            "  Downloading pip-22.3.1-py3-none-any.whl (2.1 MB)\n",
            "\u001b[K     |████████████████████████████████| 2.1 MB 13.8 MB/s \n",
            "\u001b[?25hInstalling collected packages: pip\n",
            "  Attempting uninstall: pip\n",
            "    Found existing installation: pip 21.1.3\n",
            "    Uninstalling pip-21.1.3:\n",
            "      Successfully uninstalled pip-21.1.3\n",
            "Successfully installed pip-22.3.1\n",
            "Looking in indexes: https://pypi.org/simple, https://us-python.pkg.dev/colab-wheels/public/simple/\n",
            "Requirement already satisfied: scikit-learn in /usr/local/lib/python3.7/dist-packages (1.0.2)\n",
            "Requirement already satisfied: joblib>=0.11 in /usr/local/lib/python3.7/dist-packages (from scikit-learn) (1.2.0)\n",
            "Requirement already satisfied: threadpoolctl>=2.0.0 in /usr/local/lib/python3.7/dist-packages (from scikit-learn) (3.1.0)\n",
            "Requirement already satisfied: numpy>=1.14.6 in /usr/local/lib/python3.7/dist-packages (from scikit-learn) (1.21.6)\n",
            "Requirement already satisfied: scipy>=1.1.0 in /usr/local/lib/python3.7/dist-packages (from scikit-learn) (1.7.3)\n",
            "\u001b[33mWARNING: Running pip as the 'root' user can result in broken permissions and conflicting behaviour with the system package manager. It is recommended to use a virtual environment instead: https://pip.pypa.io/warnings/venv\u001b[0m\u001b[33m\n",
            "\u001b[0mLooking in indexes: https://pypi.org/simple, https://us-python.pkg.dev/colab-wheels/public/simple/\n",
            "Requirement already satisfied: numpy in /usr/local/lib/python3.7/dist-packages (1.21.6)\n",
            "\u001b[33mWARNING: Running pip as the 'root' user can result in broken permissions and conflicting behaviour with the system package manager. It is recommended to use a virtual environment instead: https://pip.pypa.io/warnings/venv\u001b[0m\u001b[33m\n",
            "\u001b[0mLooking in indexes: https://pypi.org/simple, https://us-python.pkg.dev/colab-wheels/public/simple/\n",
            "Requirement already satisfied: scipy in /usr/local/lib/python3.7/dist-packages (1.7.3)\n",
            "Requirement already satisfied: numpy<1.23.0,>=1.16.5 in /usr/local/lib/python3.7/dist-packages (from scipy) (1.21.6)\n",
            "\u001b[33mWARNING: Running pip as the 'root' user can result in broken permissions and conflicting behaviour with the system package manager. It is recommended to use a virtual environment instead: https://pip.pypa.io/warnings/venv\u001b[0m\u001b[33m\n",
            "\u001b[0mLooking in indexes: https://pypi.org/simple, https://us-python.pkg.dev/colab-wheels/public/simple/\n",
            "Requirement already satisfied: pandas in /usr/local/lib/python3.7/dist-packages (1.3.5)\n",
            "Requirement already satisfied: pytz>=2017.3 in /usr/local/lib/python3.7/dist-packages (from pandas) (2022.6)\n",
            "Requirement already satisfied: numpy>=1.17.3 in /usr/local/lib/python3.7/dist-packages (from pandas) (1.21.6)\n",
            "Requirement already satisfied: python-dateutil>=2.7.3 in /usr/local/lib/python3.7/dist-packages (from pandas) (2.8.2)\n",
            "Requirement already satisfied: six>=1.5 in /usr/local/lib/python3.7/dist-packages (from python-dateutil>=2.7.3->pandas) (1.15.0)\n",
            "\u001b[33mWARNING: Running pip as the 'root' user can result in broken permissions and conflicting behaviour with the system package manager. It is recommended to use a virtual environment instead: https://pip.pypa.io/warnings/venv\u001b[0m\u001b[33m\n",
            "\u001b[0mLooking in indexes: https://pypi.org/simple, https://us-python.pkg.dev/colab-wheels/public/simple/\n",
            "Collecting optuna\n",
            "  Downloading optuna-3.0.3-py3-none-any.whl (348 kB)\n",
            "\u001b[2K     \u001b[90m━━━━━━━━━━━━━━━━━━━━━━━━━━━━━━━━━━━━━━\u001b[0m \u001b[32m348.5/348.5 kB\u001b[0m \u001b[31m17.7 MB/s\u001b[0m eta \u001b[36m0:00:00\u001b[0m\n",
            "\u001b[?25hCollecting cmaes>=0.8.2\n",
            "  Downloading cmaes-0.9.0-py3-none-any.whl (23 kB)\n",
            "Requirement already satisfied: packaging>=20.0 in /usr/local/lib/python3.7/dist-packages (from optuna) (21.3)\n",
            "Collecting colorlog\n",
            "  Downloading colorlog-6.7.0-py2.py3-none-any.whl (11 kB)\n",
            "Requirement already satisfied: numpy in /usr/local/lib/python3.7/dist-packages (from optuna) (1.21.6)\n",
            "Collecting cliff\n",
            "  Downloading cliff-3.10.1-py3-none-any.whl (81 kB)\n",
            "\u001b[2K     \u001b[90m━━━━━━━━━━━━━━━━━━━━━━━━━━━━━━━━━━━━━━━━\u001b[0m \u001b[32m81.0/81.0 kB\u001b[0m \u001b[31m11.2 MB/s\u001b[0m eta \u001b[36m0:00:00\u001b[0m\n",
            "\u001b[?25hRequirement already satisfied: sqlalchemy>=1.3.0 in /usr/local/lib/python3.7/dist-packages (from optuna) (1.4.44)\n",
            "Requirement already satisfied: scipy<1.9.0,>=1.7.0 in /usr/local/lib/python3.7/dist-packages (from optuna) (1.7.3)\n",
            "Requirement already satisfied: tqdm in /usr/local/lib/python3.7/dist-packages (from optuna) (4.64.1)\n",
            "Requirement already satisfied: PyYAML in /usr/local/lib/python3.7/dist-packages (from optuna) (6.0)\n",
            "Requirement already satisfied: importlib-metadata<5.0.0 in /usr/local/lib/python3.7/dist-packages (from optuna) (4.13.0)\n",
            "Collecting alembic>=1.5.0\n",
            "  Downloading alembic-1.8.1-py3-none-any.whl (209 kB)\n",
            "\u001b[2K     \u001b[90m━━━━━━━━━━━━━━━━━━━━━━━━━━━━━━━━━━━━━━\u001b[0m \u001b[32m209.8/209.8 kB\u001b[0m \u001b[31m21.4 MB/s\u001b[0m eta \u001b[36m0:00:00\u001b[0m\n",
            "\u001b[?25hCollecting Mako\n",
            "  Downloading Mako-1.2.4-py3-none-any.whl (78 kB)\n",
            "\u001b[2K     \u001b[90m━━━━━━━━━━━━━━━━━━━━━━━━━━━━━━━━━━━━━━━━\u001b[0m \u001b[32m78.7/78.7 kB\u001b[0m \u001b[31m11.7 MB/s\u001b[0m eta \u001b[36m0:00:00\u001b[0m\n",
            "\u001b[?25hRequirement already satisfied: importlib-resources in /usr/local/lib/python3.7/dist-packages (from alembic>=1.5.0->optuna) (5.10.0)\n",
            "Requirement already satisfied: typing-extensions>=3.6.4 in /usr/local/lib/python3.7/dist-packages (from importlib-metadata<5.0.0->optuna) (4.1.1)\n",
            "Requirement already satisfied: zipp>=0.5 in /usr/local/lib/python3.7/dist-packages (from importlib-metadata<5.0.0->optuna) (3.10.0)\n",
            "Requirement already satisfied: pyparsing!=3.0.5,>=2.0.2 in /usr/local/lib/python3.7/dist-packages (from packaging>=20.0->optuna) (3.0.9)\n",
            "Requirement already satisfied: greenlet!=0.4.17 in /usr/local/lib/python3.7/dist-packages (from sqlalchemy>=1.3.0->optuna) (2.0.1)\n",
            "Requirement already satisfied: PrettyTable>=0.7.2 in /usr/local/lib/python3.7/dist-packages (from cliff->optuna) (3.5.0)\n",
            "Collecting pbr!=2.1.0,>=2.0.0\n",
            "  Downloading pbr-5.11.0-py2.py3-none-any.whl (112 kB)\n",
            "\u001b[2K     \u001b[90m━━━━━━━━━━━━━━━━━━━━━━━━━━━━━━━━━━━━━━\u001b[0m \u001b[32m112.6/112.6 kB\u001b[0m \u001b[31m17.2 MB/s\u001b[0m eta \u001b[36m0:00:00\u001b[0m\n",
            "\u001b[?25hCollecting autopage>=0.4.0\n",
            "  Downloading autopage-0.5.1-py3-none-any.whl (29 kB)\n",
            "Collecting cmd2>=1.0.0\n",
            "  Downloading cmd2-2.4.2-py3-none-any.whl (147 kB)\n",
            "\u001b[2K     \u001b[90m━━━━━━━━━━━━━━━━━━━━━━━━━━━━━━━━━━━━━━\u001b[0m \u001b[32m147.1/147.1 kB\u001b[0m \u001b[31m18.7 MB/s\u001b[0m eta \u001b[36m0:00:00\u001b[0m\n",
            "\u001b[?25hCollecting stevedore>=2.0.1\n",
            "  Downloading stevedore-3.5.2-py3-none-any.whl (50 kB)\n",
            "\u001b[2K     \u001b[90m━━━━━━━━━━━━━━━━━━━━━━━━━━━━━━━━━━━━━━━━\u001b[0m \u001b[32m50.2/50.2 kB\u001b[0m \u001b[31m7.1 MB/s\u001b[0m eta \u001b[36m0:00:00\u001b[0m\n",
            "\u001b[?25hRequirement already satisfied: attrs>=16.3.0 in /usr/local/lib/python3.7/dist-packages (from cmd2>=1.0.0->cliff->optuna) (22.1.0)\n",
            "Collecting pyperclip>=1.6\n",
            "  Downloading pyperclip-1.8.2.tar.gz (20 kB)\n",
            "  Preparing metadata (setup.py) ... \u001b[?25l\u001b[?25hdone\n",
            "Requirement already satisfied: wcwidth>=0.1.7 in /usr/local/lib/python3.7/dist-packages (from cmd2>=1.0.0->cliff->optuna) (0.2.5)\n",
            "Requirement already satisfied: MarkupSafe>=0.9.2 in /usr/local/lib/python3.7/dist-packages (from Mako->alembic>=1.5.0->optuna) (2.0.1)\n",
            "Building wheels for collected packages: pyperclip\n",
            "  Building wheel for pyperclip (setup.py) ... \u001b[?25l\u001b[?25hdone\n",
            "  Created wheel for pyperclip: filename=pyperclip-1.8.2-py3-none-any.whl size=11136 sha256=e551bcfc1c90f2c014389b850f5a964992eb58b533f63c90ea6dab85fa268d88\n",
            "  Stored in directory: /root/.cache/pip/wheels/36/86/43/c32981b55b0d0a78b9762fd4fa7d6de0da0a46fd035cedfccb\n",
            "Successfully built pyperclip\n",
            "Installing collected packages: pyperclip, pbr, colorlog, cmaes, autopage, stevedore, Mako, cmd2, cliff, alembic, optuna\n",
            "Successfully installed Mako-1.2.4 alembic-1.8.1 autopage-0.5.1 cliff-3.10.1 cmaes-0.9.0 cmd2-2.4.2 colorlog-6.7.0 optuna-3.0.3 pbr-5.11.0 pyperclip-1.8.2 stevedore-3.5.2\n",
            "\u001b[33mWARNING: Running pip as the 'root' user can result in broken permissions and conflicting behaviour with the system package manager. It is recommended to use a virtual environment instead: https://pip.pypa.io/warnings/venv\u001b[0m\u001b[33m\n",
            "\u001b[0mLooking in indexes: https://pypi.org/simple, https://us-python.pkg.dev/colab-wheels/public/simple/\n",
            "Requirement already satisfied: imbalanced-learn in /usr/local/lib/python3.7/dist-packages (0.8.1)\n",
            "Collecting imbalanced-learn\n",
            "  Downloading imbalanced_learn-0.9.1-py3-none-any.whl (199 kB)\n",
            "\u001b[2K     \u001b[90m━━━━━━━━━━━━━━━━━━━━━━━━━━━━━━━━━━━━━━\u001b[0m \u001b[32m199.3/199.3 kB\u001b[0m \u001b[31m11.7 MB/s\u001b[0m eta \u001b[36m0:00:00\u001b[0m\n",
            "\u001b[?25hRequirement already satisfied: scipy>=1.3.2 in /usr/local/lib/python3.7/dist-packages (from imbalanced-learn) (1.7.3)\n",
            "Requirement already satisfied: numpy>=1.17.3 in /usr/local/lib/python3.7/dist-packages (from imbalanced-learn) (1.21.6)\n",
            "Requirement already satisfied: joblib>=1.0.0 in /usr/local/lib/python3.7/dist-packages (from imbalanced-learn) (1.2.0)\n",
            "Requirement already satisfied: threadpoolctl>=2.0.0 in /usr/local/lib/python3.7/dist-packages (from imbalanced-learn) (3.1.0)\n",
            "  Downloading imbalanced_learn-0.9.0-py3-none-any.whl (199 kB)\n",
            "\u001b[2K     \u001b[90m━━━━━━━━━━━━━━━━━━━━━━━━━━━━━━━━━━━━━━\u001b[0m \u001b[32m199.1/199.1 kB\u001b[0m \u001b[31m24.9 MB/s\u001b[0m eta \u001b[36m0:00:00\u001b[0m\n",
            "\u001b[?25hRequirement already satisfied: scikit-learn>=1.0.1 in /usr/local/lib/python3.7/dist-packages (from imbalanced-learn) (1.0.2)\n",
            "Installing collected packages: imbalanced-learn\n",
            "  Attempting uninstall: imbalanced-learn\n",
            "    Found existing installation: imbalanced-learn 0.8.1\n",
            "    Uninstalling imbalanced-learn-0.8.1:\n",
            "      Successfully uninstalled imbalanced-learn-0.8.1\n",
            "Successfully installed imbalanced-learn-0.9.0\n",
            "\u001b[33mWARNING: Running pip as the 'root' user can result in broken permissions and conflicting behaviour with the system package manager. It is recommended to use a virtual environment instead: https://pip.pypa.io/warnings/venv\u001b[0m\u001b[33m\n",
            "\u001b[0mLooking in indexes: https://pypi.org/simple, https://us-python.pkg.dev/colab-wheels/public/simple/\n",
            "Collecting ray\n",
            "  Downloading ray-2.1.0-cp37-cp37m-manylinux2014_x86_64.whl (59.1 MB)\n",
            "\u001b[2K     \u001b[90m━━━━━━━━━━━━━━━━━━━━━━━━━━━━━━━━━━━━━━━━\u001b[0m \u001b[32m59.1/59.1 MB\u001b[0m \u001b[31m12.0 MB/s\u001b[0m eta \u001b[36m0:00:00\u001b[0m\n",
            "\u001b[?25hRequirement already satisfied: pyyaml in /usr/local/lib/python3.7/dist-packages (from ray) (6.0)\n",
            "Requirement already satisfied: jsonschema in /usr/local/lib/python3.7/dist-packages (from ray) (4.3.3)\n",
            "Requirement already satisfied: msgpack<2.0.0,>=1.0.0 in /usr/local/lib/python3.7/dist-packages (from ray) (1.0.4)\n",
            "Requirement already satisfied: attrs in /usr/local/lib/python3.7/dist-packages (from ray) (22.1.0)\n",
            "Requirement already satisfied: filelock in /usr/local/lib/python3.7/dist-packages (from ray) (3.8.0)\n",
            "Requirement already satisfied: protobuf!=3.19.5,>=3.15.3 in /usr/local/lib/python3.7/dist-packages (from ray) (3.19.6)\n",
            "Requirement already satisfied: aiosignal in /usr/local/lib/python3.7/dist-packages (from ray) (1.3.1)\n",
            "Requirement already satisfied: requests in /usr/local/lib/python3.7/dist-packages (from ray) (2.23.0)\n",
            "Requirement already satisfied: frozenlist in /usr/local/lib/python3.7/dist-packages (from ray) (1.3.3)\n",
            "Requirement already satisfied: click<=8.0.4,>=7.0 in /usr/local/lib/python3.7/dist-packages (from ray) (7.1.2)\n",
            "Collecting virtualenv>=20.0.24\n",
            "  Downloading virtualenv-20.16.7-py3-none-any.whl (8.8 MB)\n",
            "\u001b[2K     \u001b[90m━━━━━━━━━━━━━━━━━━━━━━━━━━━━━━━━━━━━━━━━\u001b[0m \u001b[32m8.8/8.8 MB\u001b[0m \u001b[31m106.2 MB/s\u001b[0m eta \u001b[36m0:00:00\u001b[0m\n",
            "\u001b[?25hRequirement already satisfied: numpy>=1.16 in /usr/local/lib/python3.7/dist-packages (from ray) (1.21.6)\n",
            "Requirement already satisfied: grpcio>=1.32.0 in /usr/local/lib/python3.7/dist-packages (from ray) (1.50.0)\n",
            "Requirement already satisfied: typing-extensions in /usr/local/lib/python3.7/dist-packages (from ray) (4.1.1)\n",
            "Requirement already satisfied: six>=1.5.2 in /usr/local/lib/python3.7/dist-packages (from grpcio>=1.32.0->ray) (1.15.0)\n",
            "Collecting platformdirs<3,>=2.4\n",
            "  Downloading platformdirs-2.5.4-py3-none-any.whl (14 kB)\n",
            "Requirement already satisfied: importlib-metadata>=4.8.3 in /usr/local/lib/python3.7/dist-packages (from virtualenv>=20.0.24->ray) (4.13.0)\n",
            "Collecting distlib<1,>=0.3.6\n",
            "  Downloading distlib-0.3.6-py2.py3-none-any.whl (468 kB)\n",
            "\u001b[2K     \u001b[90m━━━━━━━━━━━━━━━━━━━━━━━━━━━━━━━━━━━━━━\u001b[0m \u001b[32m468.5/468.5 kB\u001b[0m \u001b[31m45.2 MB/s\u001b[0m eta \u001b[36m0:00:00\u001b[0m\n",
            "\u001b[?25hRequirement already satisfied: importlib-resources>=1.4.0 in /usr/local/lib/python3.7/dist-packages (from jsonschema->ray) (5.10.0)\n",
            "Requirement already satisfied: pyrsistent!=0.17.0,!=0.17.1,!=0.17.2,>=0.14.0 in /usr/local/lib/python3.7/dist-packages (from jsonschema->ray) (0.19.2)\n",
            "Requirement already satisfied: urllib3!=1.25.0,!=1.25.1,<1.26,>=1.21.1 in /usr/local/lib/python3.7/dist-packages (from requests->ray) (1.24.3)\n",
            "Requirement already satisfied: certifi>=2017.4.17 in /usr/local/lib/python3.7/dist-packages (from requests->ray) (2022.9.24)\n",
            "Requirement already satisfied: idna<3,>=2.5 in /usr/local/lib/python3.7/dist-packages (from requests->ray) (2.10)\n",
            "Requirement already satisfied: chardet<4,>=3.0.2 in /usr/local/lib/python3.7/dist-packages (from requests->ray) (3.0.4)\n",
            "Requirement already satisfied: zipp>=0.5 in /usr/local/lib/python3.7/dist-packages (from importlib-metadata>=4.8.3->virtualenv>=20.0.24->ray) (3.10.0)\n",
            "Installing collected packages: distlib, platformdirs, virtualenv, ray\n",
            "Successfully installed distlib-0.3.6 platformdirs-2.5.4 ray-2.1.0 virtualenv-20.16.7\n",
            "\u001b[33mWARNING: Running pip as the 'root' user can result in broken permissions and conflicting behaviour with the system package manager. It is recommended to use a virtual environment instead: https://pip.pypa.io/warnings/venv\u001b[0m\u001b[33m\n",
            "\u001b[0mLooking in indexes: https://pypi.org/simple, https://us-python.pkg.dev/colab-wheels/public/simple/\n",
            "Requirement already satisfied: ray[tune] in /usr/local/lib/python3.7/dist-packages (2.1.0)\n",
            "Requirement already satisfied: msgpack<2.0.0,>=1.0.0 in /usr/local/lib/python3.7/dist-packages (from ray[tune]) (1.0.4)\n",
            "Requirement already satisfied: aiosignal in /usr/local/lib/python3.7/dist-packages (from ray[tune]) (1.3.1)\n",
            "Requirement already satisfied: typing-extensions in /usr/local/lib/python3.7/dist-packages (from ray[tune]) (4.1.1)\n",
            "Requirement already satisfied: frozenlist in /usr/local/lib/python3.7/dist-packages (from ray[tune]) (1.3.3)\n",
            "Requirement already satisfied: requests in /usr/local/lib/python3.7/dist-packages (from ray[tune]) (2.23.0)\n",
            "Requirement already satisfied: click<=8.0.4,>=7.0 in /usr/local/lib/python3.7/dist-packages (from ray[tune]) (7.1.2)\n",
            "Requirement already satisfied: virtualenv>=20.0.24 in /usr/local/lib/python3.7/dist-packages (from ray[tune]) (20.16.7)\n",
            "Requirement already satisfied: grpcio>=1.32.0 in /usr/local/lib/python3.7/dist-packages (from ray[tune]) (1.50.0)\n",
            "Requirement already satisfied: attrs in /usr/local/lib/python3.7/dist-packages (from ray[tune]) (22.1.0)\n",
            "Requirement already satisfied: pyyaml in /usr/local/lib/python3.7/dist-packages (from ray[tune]) (6.0)\n",
            "Requirement already satisfied: numpy>=1.16 in /usr/local/lib/python3.7/dist-packages (from ray[tune]) (1.21.6)\n",
            "Requirement already satisfied: protobuf!=3.19.5,>=3.15.3 in /usr/local/lib/python3.7/dist-packages (from ray[tune]) (3.19.6)\n",
            "Requirement already satisfied: filelock in /usr/local/lib/python3.7/dist-packages (from ray[tune]) (3.8.0)\n",
            "Requirement already satisfied: jsonschema in /usr/local/lib/python3.7/dist-packages (from ray[tune]) (4.3.3)\n",
            "Requirement already satisfied: tabulate in /usr/local/lib/python3.7/dist-packages (from ray[tune]) (0.8.10)\n",
            "Requirement already satisfied: pandas in /usr/local/lib/python3.7/dist-packages (from ray[tune]) (1.3.5)\n",
            "Collecting tensorboardX>=1.9\n",
            "  Downloading tensorboardX-2.5.1-py2.py3-none-any.whl (125 kB)\n",
            "\u001b[2K     \u001b[90m━━━━━━━━━━━━━━━━━━━━━━━━━━━━━━━━━━━━━━\u001b[0m \u001b[32m125.4/125.4 kB\u001b[0m \u001b[31m11.1 MB/s\u001b[0m eta \u001b[36m0:00:00\u001b[0m\n",
            "\u001b[?25hRequirement already satisfied: six>=1.5.2 in /usr/local/lib/python3.7/dist-packages (from grpcio>=1.32.0->ray[tune]) (1.15.0)\n",
            "Requirement already satisfied: platformdirs<3,>=2.4 in /usr/local/lib/python3.7/dist-packages (from virtualenv>=20.0.24->ray[tune]) (2.5.4)\n",
            "Requirement already satisfied: importlib-metadata>=4.8.3 in /usr/local/lib/python3.7/dist-packages (from virtualenv>=20.0.24->ray[tune]) (4.13.0)\n",
            "Requirement already satisfied: distlib<1,>=0.3.6 in /usr/local/lib/python3.7/dist-packages (from virtualenv>=20.0.24->ray[tune]) (0.3.6)\n",
            "Requirement already satisfied: pyrsistent!=0.17.0,!=0.17.1,!=0.17.2,>=0.14.0 in /usr/local/lib/python3.7/dist-packages (from jsonschema->ray[tune]) (0.19.2)\n",
            "Requirement already satisfied: importlib-resources>=1.4.0 in /usr/local/lib/python3.7/dist-packages (from jsonschema->ray[tune]) (5.10.0)\n",
            "Requirement already satisfied: pytz>=2017.3 in /usr/local/lib/python3.7/dist-packages (from pandas->ray[tune]) (2022.6)\n",
            "Requirement already satisfied: python-dateutil>=2.7.3 in /usr/local/lib/python3.7/dist-packages (from pandas->ray[tune]) (2.8.2)\n",
            "Requirement already satisfied: urllib3!=1.25.0,!=1.25.1,<1.26,>=1.21.1 in /usr/local/lib/python3.7/dist-packages (from requests->ray[tune]) (1.24.3)\n",
            "Requirement already satisfied: certifi>=2017.4.17 in /usr/local/lib/python3.7/dist-packages (from requests->ray[tune]) (2022.9.24)\n",
            "Requirement already satisfied: idna<3,>=2.5 in /usr/local/lib/python3.7/dist-packages (from requests->ray[tune]) (2.10)\n",
            "Requirement already satisfied: chardet<4,>=3.0.2 in /usr/local/lib/python3.7/dist-packages (from requests->ray[tune]) (3.0.4)\n",
            "Requirement already satisfied: zipp>=0.5 in /usr/local/lib/python3.7/dist-packages (from importlib-metadata>=4.8.3->virtualenv>=20.0.24->ray[tune]) (3.10.0)\n",
            "Installing collected packages: tensorboardX\n",
            "Successfully installed tensorboardX-2.5.1\n",
            "\u001b[33mWARNING: Running pip as the 'root' user can result in broken permissions and conflicting behaviour with the system package manager. It is recommended to use a virtual environment instead: https://pip.pypa.io/warnings/venv\u001b[0m\u001b[33m\n",
            "\u001b[0mLooking in indexes: https://pypi.org/simple, https://us-python.pkg.dev/colab-wheels/public/simple/\n",
            "Collecting tune-sklearn\n",
            "  Downloading tune_sklearn-0.4.5-py3-none-any.whl (41 kB)\n",
            "\u001b[2K     \u001b[90m━━━━━━━━━━━━━━━━━━━━━━━━━━━━━━━━━━━━━━━━\u001b[0m \u001b[32m41.1/41.1 kB\u001b[0m \u001b[31m5.6 MB/s\u001b[0m eta \u001b[36m0:00:00\u001b[0m\n",
            "\u001b[?25hRequirement already satisfied: ray[tune]>=2.0.0 in /usr/local/lib/python3.7/dist-packages (from tune-sklearn) (2.1.0)\n",
            "Requirement already satisfied: scipy in /usr/local/lib/python3.7/dist-packages (from tune-sklearn) (1.7.3)\n",
            "Requirement already satisfied: numpy>=1.16 in /usr/local/lib/python3.7/dist-packages (from tune-sklearn) (1.21.6)\n",
            "Requirement already satisfied: scikit-learn in /usr/local/lib/python3.7/dist-packages (from tune-sklearn) (1.0.2)\n",
            "Requirement already satisfied: protobuf!=3.19.5,>=3.15.3 in /usr/local/lib/python3.7/dist-packages (from ray[tune]>=2.0.0->tune-sklearn) (3.19.6)\n",
            "Requirement already satisfied: virtualenv>=20.0.24 in /usr/local/lib/python3.7/dist-packages (from ray[tune]>=2.0.0->tune-sklearn) (20.16.7)\n",
            "Requirement already satisfied: pyyaml in /usr/local/lib/python3.7/dist-packages (from ray[tune]>=2.0.0->tune-sklearn) (6.0)\n",
            "Requirement already satisfied: aiosignal in /usr/local/lib/python3.7/dist-packages (from ray[tune]>=2.0.0->tune-sklearn) (1.3.1)\n",
            "Requirement already satisfied: requests in /usr/local/lib/python3.7/dist-packages (from ray[tune]>=2.0.0->tune-sklearn) (2.23.0)\n",
            "Requirement already satisfied: grpcio>=1.32.0 in /usr/local/lib/python3.7/dist-packages (from ray[tune]>=2.0.0->tune-sklearn) (1.50.0)\n",
            "Requirement already satisfied: typing-extensions in /usr/local/lib/python3.7/dist-packages (from ray[tune]>=2.0.0->tune-sklearn) (4.1.1)\n",
            "Requirement already satisfied: msgpack<2.0.0,>=1.0.0 in /usr/local/lib/python3.7/dist-packages (from ray[tune]>=2.0.0->tune-sklearn) (1.0.4)\n",
            "Requirement already satisfied: click<=8.0.4,>=7.0 in /usr/local/lib/python3.7/dist-packages (from ray[tune]>=2.0.0->tune-sklearn) (7.1.2)\n",
            "Requirement already satisfied: filelock in /usr/local/lib/python3.7/dist-packages (from ray[tune]>=2.0.0->tune-sklearn) (3.8.0)\n",
            "Requirement already satisfied: jsonschema in /usr/local/lib/python3.7/dist-packages (from ray[tune]>=2.0.0->tune-sklearn) (4.3.3)\n",
            "Requirement already satisfied: frozenlist in /usr/local/lib/python3.7/dist-packages (from ray[tune]>=2.0.0->tune-sklearn) (1.3.3)\n",
            "Requirement already satisfied: attrs in /usr/local/lib/python3.7/dist-packages (from ray[tune]>=2.0.0->tune-sklearn) (22.1.0)\n",
            "Requirement already satisfied: tensorboardX>=1.9 in /usr/local/lib/python3.7/dist-packages (from ray[tune]>=2.0.0->tune-sklearn) (2.5.1)\n",
            "Requirement already satisfied: tabulate in /usr/local/lib/python3.7/dist-packages (from ray[tune]>=2.0.0->tune-sklearn) (0.8.10)\n",
            "Requirement already satisfied: pandas in /usr/local/lib/python3.7/dist-packages (from ray[tune]>=2.0.0->tune-sklearn) (1.3.5)\n",
            "Requirement already satisfied: threadpoolctl>=2.0.0 in /usr/local/lib/python3.7/dist-packages (from scikit-learn->tune-sklearn) (3.1.0)\n",
            "Requirement already satisfied: joblib>=0.11 in /usr/local/lib/python3.7/dist-packages (from scikit-learn->tune-sklearn) (1.2.0)\n",
            "Requirement already satisfied: six>=1.5.2 in /usr/local/lib/python3.7/dist-packages (from grpcio>=1.32.0->ray[tune]>=2.0.0->tune-sklearn) (1.15.0)\n",
            "Requirement already satisfied: platformdirs<3,>=2.4 in /usr/local/lib/python3.7/dist-packages (from virtualenv>=20.0.24->ray[tune]>=2.0.0->tune-sklearn) (2.5.4)\n",
            "Requirement already satisfied: distlib<1,>=0.3.6 in /usr/local/lib/python3.7/dist-packages (from virtualenv>=20.0.24->ray[tune]>=2.0.0->tune-sklearn) (0.3.6)\n",
            "Requirement already satisfied: importlib-metadata>=4.8.3 in /usr/local/lib/python3.7/dist-packages (from virtualenv>=20.0.24->ray[tune]>=2.0.0->tune-sklearn) (4.13.0)\n",
            "Requirement already satisfied: pyrsistent!=0.17.0,!=0.17.1,!=0.17.2,>=0.14.0 in /usr/local/lib/python3.7/dist-packages (from jsonschema->ray[tune]>=2.0.0->tune-sklearn) (0.19.2)\n",
            "Requirement already satisfied: importlib-resources>=1.4.0 in /usr/local/lib/python3.7/dist-packages (from jsonschema->ray[tune]>=2.0.0->tune-sklearn) (5.10.0)\n",
            "Requirement already satisfied: python-dateutil>=2.7.3 in /usr/local/lib/python3.7/dist-packages (from pandas->ray[tune]>=2.0.0->tune-sklearn) (2.8.2)\n",
            "Requirement already satisfied: pytz>=2017.3 in /usr/local/lib/python3.7/dist-packages (from pandas->ray[tune]>=2.0.0->tune-sklearn) (2022.6)\n",
            "Requirement already satisfied: idna<3,>=2.5 in /usr/local/lib/python3.7/dist-packages (from requests->ray[tune]>=2.0.0->tune-sklearn) (2.10)\n",
            "Requirement already satisfied: certifi>=2017.4.17 in /usr/local/lib/python3.7/dist-packages (from requests->ray[tune]>=2.0.0->tune-sklearn) (2022.9.24)\n",
            "Requirement already satisfied: chardet<4,>=3.0.2 in /usr/local/lib/python3.7/dist-packages (from requests->ray[tune]>=2.0.0->tune-sklearn) (3.0.4)\n",
            "Requirement already satisfied: urllib3!=1.25.0,!=1.25.1,<1.26,>=1.21.1 in /usr/local/lib/python3.7/dist-packages (from requests->ray[tune]>=2.0.0->tune-sklearn) (1.24.3)\n",
            "Requirement already satisfied: zipp>=0.5 in /usr/local/lib/python3.7/dist-packages (from importlib-metadata>=4.8.3->virtualenv>=20.0.24->ray[tune]>=2.0.0->tune-sklearn) (3.10.0)\n",
            "Installing collected packages: tune-sklearn\n",
            "Successfully installed tune-sklearn-0.4.5\n",
            "\u001b[33mWARNING: Running pip as the 'root' user can result in broken permissions and conflicting behaviour with the system package manager. It is recommended to use a virtual environment instead: https://pip.pypa.io/warnings/venv\u001b[0m\u001b[33m\n",
            "\u001b[0mLooking in indexes: https://pypi.org/simple, https://us-python.pkg.dev/colab-wheels/public/simple/\n",
            "Requirement already satisfied: seaborn in /usr/local/lib/python3.7/dist-packages (0.11.2)\n",
            "Requirement already satisfied: scipy>=1.0 in /usr/local/lib/python3.7/dist-packages (from seaborn) (1.7.3)\n",
            "Requirement already satisfied: matplotlib>=2.2 in /usr/local/lib/python3.7/dist-packages (from seaborn) (3.2.2)\n",
            "Requirement already satisfied: pandas>=0.23 in /usr/local/lib/python3.7/dist-packages (from seaborn) (1.3.5)\n",
            "Requirement already satisfied: numpy>=1.15 in /usr/local/lib/python3.7/dist-packages (from seaborn) (1.21.6)\n",
            "Requirement already satisfied: python-dateutil>=2.1 in /usr/local/lib/python3.7/dist-packages (from matplotlib>=2.2->seaborn) (2.8.2)\n",
            "Requirement already satisfied: cycler>=0.10 in /usr/local/lib/python3.7/dist-packages (from matplotlib>=2.2->seaborn) (0.11.0)\n",
            "Requirement already satisfied: pyparsing!=2.0.4,!=2.1.2,!=2.1.6,>=2.0.1 in /usr/local/lib/python3.7/dist-packages (from matplotlib>=2.2->seaborn) (3.0.9)\n",
            "Requirement already satisfied: kiwisolver>=1.0.1 in /usr/local/lib/python3.7/dist-packages (from matplotlib>=2.2->seaborn) (1.4.4)\n",
            "Requirement already satisfied: pytz>=2017.3 in /usr/local/lib/python3.7/dist-packages (from pandas>=0.23->seaborn) (2022.6)\n",
            "Requirement already satisfied: typing-extensions in /usr/local/lib/python3.7/dist-packages (from kiwisolver>=1.0.1->matplotlib>=2.2->seaborn) (4.1.1)\n",
            "Requirement already satisfied: six>=1.5 in /usr/local/lib/python3.7/dist-packages (from python-dateutil>=2.1->matplotlib>=2.2->seaborn) (1.15.0)\n",
            "\u001b[33mWARNING: Running pip as the 'root' user can result in broken permissions and conflicting behaviour with the system package manager. It is recommended to use a virtual environment instead: https://pip.pypa.io/warnings/venv\u001b[0m\u001b[33m\n",
            "\u001b[0m"
          ]
        }
      ],
      "source": [
        "!pip install --upgrade pip \n",
        "!pip install --upgrade scikit-learn \n",
        "!pip install --upgrade numpy \n",
        "!pip install --upgrade scipy \n",
        "!pip install --upgrade pandas\n",
        "!pip install optuna \n",
        "!pip install -U imbalanced-learn\n",
        "!pip install -U ray \n",
        "!pip install -U ray[tune]\n",
        "!pip install -U tune-sklearn\n",
        "!pip install seaborn"
      ]
    },
    {
      "cell_type": "code",
      "execution_count": null,
      "metadata": {
        "colab": {
          "base_uri": "https://localhost:8080/",
          "height": 73
        },
        "id": "VzO_8eqUZzr4",
        "outputId": "32f25512-f064-49e6-be3b-31cadd08bef6"
      },
      "outputs": [
        {
          "data": {
            "text/html": [
              "\n",
              "     <input type=\"file\" id=\"files-9c9febe4-a13a-4609-93b4-af8209cdf776\" name=\"files[]\" multiple disabled\n",
              "        style=\"border:none\" />\n",
              "     <output id=\"result-9c9febe4-a13a-4609-93b4-af8209cdf776\">\n",
              "      Upload widget is only available when the cell has been executed in the\n",
              "      current browser session. Please rerun this cell to enable.\n",
              "      </output>\n",
              "      <script>// Copyright 2017 Google LLC\n",
              "//\n",
              "// Licensed under the Apache License, Version 2.0 (the \"License\");\n",
              "// you may not use this file except in compliance with the License.\n",
              "// You may obtain a copy of the License at\n",
              "//\n",
              "//      http://www.apache.org/licenses/LICENSE-2.0\n",
              "//\n",
              "// Unless required by applicable law or agreed to in writing, software\n",
              "// distributed under the License is distributed on an \"AS IS\" BASIS,\n",
              "// WITHOUT WARRANTIES OR CONDITIONS OF ANY KIND, either express or implied.\n",
              "// See the License for the specific language governing permissions and\n",
              "// limitations under the License.\n",
              "\n",
              "/**\n",
              " * @fileoverview Helpers for google.colab Python module.\n",
              " */\n",
              "(function(scope) {\n",
              "function span(text, styleAttributes = {}) {\n",
              "  const element = document.createElement('span');\n",
              "  element.textContent = text;\n",
              "  for (const key of Object.keys(styleAttributes)) {\n",
              "    element.style[key] = styleAttributes[key];\n",
              "  }\n",
              "  return element;\n",
              "}\n",
              "\n",
              "// Max number of bytes which will be uploaded at a time.\n",
              "const MAX_PAYLOAD_SIZE = 100 * 1024;\n",
              "\n",
              "function _uploadFiles(inputId, outputId) {\n",
              "  const steps = uploadFilesStep(inputId, outputId);\n",
              "  const outputElement = document.getElementById(outputId);\n",
              "  // Cache steps on the outputElement to make it available for the next call\n",
              "  // to uploadFilesContinue from Python.\n",
              "  outputElement.steps = steps;\n",
              "\n",
              "  return _uploadFilesContinue(outputId);\n",
              "}\n",
              "\n",
              "// This is roughly an async generator (not supported in the browser yet),\n",
              "// where there are multiple asynchronous steps and the Python side is going\n",
              "// to poll for completion of each step.\n",
              "// This uses a Promise to block the python side on completion of each step,\n",
              "// then passes the result of the previous step as the input to the next step.\n",
              "function _uploadFilesContinue(outputId) {\n",
              "  const outputElement = document.getElementById(outputId);\n",
              "  const steps = outputElement.steps;\n",
              "\n",
              "  const next = steps.next(outputElement.lastPromiseValue);\n",
              "  return Promise.resolve(next.value.promise).then((value) => {\n",
              "    // Cache the last promise value to make it available to the next\n",
              "    // step of the generator.\n",
              "    outputElement.lastPromiseValue = value;\n",
              "    return next.value.response;\n",
              "  });\n",
              "}\n",
              "\n",
              "/**\n",
              " * Generator function which is called between each async step of the upload\n",
              " * process.\n",
              " * @param {string} inputId Element ID of the input file picker element.\n",
              " * @param {string} outputId Element ID of the output display.\n",
              " * @return {!Iterable<!Object>} Iterable of next steps.\n",
              " */\n",
              "function* uploadFilesStep(inputId, outputId) {\n",
              "  const inputElement = document.getElementById(inputId);\n",
              "  inputElement.disabled = false;\n",
              "\n",
              "  const outputElement = document.getElementById(outputId);\n",
              "  outputElement.innerHTML = '';\n",
              "\n",
              "  const pickedPromise = new Promise((resolve) => {\n",
              "    inputElement.addEventListener('change', (e) => {\n",
              "      resolve(e.target.files);\n",
              "    });\n",
              "  });\n",
              "\n",
              "  const cancel = document.createElement('button');\n",
              "  inputElement.parentElement.appendChild(cancel);\n",
              "  cancel.textContent = 'Cancel upload';\n",
              "  const cancelPromise = new Promise((resolve) => {\n",
              "    cancel.onclick = () => {\n",
              "      resolve(null);\n",
              "    };\n",
              "  });\n",
              "\n",
              "  // Wait for the user to pick the files.\n",
              "  const files = yield {\n",
              "    promise: Promise.race([pickedPromise, cancelPromise]),\n",
              "    response: {\n",
              "      action: 'starting',\n",
              "    }\n",
              "  };\n",
              "\n",
              "  cancel.remove();\n",
              "\n",
              "  // Disable the input element since further picks are not allowed.\n",
              "  inputElement.disabled = true;\n",
              "\n",
              "  if (!files) {\n",
              "    return {\n",
              "      response: {\n",
              "        action: 'complete',\n",
              "      }\n",
              "    };\n",
              "  }\n",
              "\n",
              "  for (const file of files) {\n",
              "    const li = document.createElement('li');\n",
              "    li.append(span(file.name, {fontWeight: 'bold'}));\n",
              "    li.append(span(\n",
              "        `(${file.type || 'n/a'}) - ${file.size} bytes, ` +\n",
              "        `last modified: ${\n",
              "            file.lastModifiedDate ? file.lastModifiedDate.toLocaleDateString() :\n",
              "                                    'n/a'} - `));\n",
              "    const percent = span('0% done');\n",
              "    li.appendChild(percent);\n",
              "\n",
              "    outputElement.appendChild(li);\n",
              "\n",
              "    const fileDataPromise = new Promise((resolve) => {\n",
              "      const reader = new FileReader();\n",
              "      reader.onload = (e) => {\n",
              "        resolve(e.target.result);\n",
              "      };\n",
              "      reader.readAsArrayBuffer(file);\n",
              "    });\n",
              "    // Wait for the data to be ready.\n",
              "    let fileData = yield {\n",
              "      promise: fileDataPromise,\n",
              "      response: {\n",
              "        action: 'continue',\n",
              "      }\n",
              "    };\n",
              "\n",
              "    // Use a chunked sending to avoid message size limits. See b/62115660.\n",
              "    let position = 0;\n",
              "    do {\n",
              "      const length = Math.min(fileData.byteLength - position, MAX_PAYLOAD_SIZE);\n",
              "      const chunk = new Uint8Array(fileData, position, length);\n",
              "      position += length;\n",
              "\n",
              "      const base64 = btoa(String.fromCharCode.apply(null, chunk));\n",
              "      yield {\n",
              "        response: {\n",
              "          action: 'append',\n",
              "          file: file.name,\n",
              "          data: base64,\n",
              "        },\n",
              "      };\n",
              "\n",
              "      let percentDone = fileData.byteLength === 0 ?\n",
              "          100 :\n",
              "          Math.round((position / fileData.byteLength) * 100);\n",
              "      percent.textContent = `${percentDone}% done`;\n",
              "\n",
              "    } while (position < fileData.byteLength);\n",
              "  }\n",
              "\n",
              "  // All done.\n",
              "  yield {\n",
              "    response: {\n",
              "      action: 'complete',\n",
              "    }\n",
              "  };\n",
              "}\n",
              "\n",
              "scope.google = scope.google || {};\n",
              "scope.google.colab = scope.google.colab || {};\n",
              "scope.google.colab._files = {\n",
              "  _uploadFiles,\n",
              "  _uploadFilesContinue,\n",
              "};\n",
              "})(self);\n",
              "</script> "
            ],
            "text/plain": [
              "<IPython.core.display.HTML object>"
            ]
          },
          "metadata": {},
          "output_type": "display_data"
        },
        {
          "name": "stdout",
          "output_type": "stream",
          "text": [
            "Saving hcc-data.txt to hcc-data.txt\n"
          ]
        }
      ],
      "source": [
        "from google.colab import files\n",
        "uploaded = files.upload()"
      ]
    },
    {
      "cell_type": "markdown",
      "metadata": {
        "id": "8qK5SkMRVsIW"
      },
      "source": [
        "## Split Data Set (train, test)"
      ]
    },
    {
      "cell_type": "code",
      "execution_count": 150,
      "metadata": {
        "colab": {
          "base_uri": "https://localhost:8080/"
        },
        "id": "VV-m_m4EYflB",
        "outputId": "80c99341-fdba-4209-c33c-c4a01ec9fbe0"
      },
      "outputs": [
        {
          "name": "stdout",
          "output_type": "stream",
          "text": [
            "     0  1   2  3  4  5  6   7  8  9   ...   40   41    42 43    44    45  46  47  48 49\n",
            "0     1  0   1  0  0  0  0   1  0  1  ...  150  7.1   0.7  1   3.5   0.5   ?   ?   ?  1\n",
            "1     0  ?   0  0  0  0  1   1  ?  ?  ...    ?    ?     ?  1   1.8     ?   ?   ?   ?  1\n",
            "2     1  0   1  1  0  1  0   1  0  1  ...  109    7   2.1  5    13   0.1  28   6  16  1\n",
            "3     1  1   1  0  0  0  0   1  0  1  ...  174  8.1  1.11  2  15.7   0.2   ?   ?   ?  0\n",
            "4     1  1   1  1  0  1  0   1  0  1  ...  109  6.9   1.8  1     9     ?  59  15  22  1\n",
            "..   .. ..  .. .. .. .. ..  .. .. ..  ...  ...  ...   ... ..   ...   ...  ..  ..  .. ..\n",
            "160   0  0   1  ?  ?  ?  1   1  0  1  ...  109  7.6   0.7  5     3     ?   ?   ?   ?  1\n",
            "161   0  1   0  ?  ?  ?  ?   1  0  0  ...  280  6.7   0.7  1   2.2   2.3   ?   ?   ?  0\n",
            "162   1  0   1  0  0  0  0   1  0  1  ...  181  7.5  1.46  5  18.6     ?   ?   ?   ?  1\n",
            "163   1  0   1  1  0  1  1   1  1  1  ...  170  8.4  0.74  5    18     ?   ?   ?   ?  0\n",
            "164   1  1   1  0  0  0  1   1  0  1  ...  462  6.6  3.95  5   8.5  19.8   ?   ?   ?  0\n",
            "\n",
            "[165 rows x 50 columns]\n",
            "--------------------------------------------\n",
            "Entire Data Set (size) : (165, 50)\n",
            "Train Set (size) : (115, 50)\n",
            "Test Set (size) : (50, 50)\n"
          ]
        }
      ],
      "source": [
        "import pandas as pd\n",
        "import numpy as np\n",
        "from numpy.random import RandomState\n",
        "\n",
        "# Print arrray inline\n",
        "pd.set_option('expand_frame_repr', False)\n",
        "\n",
        "all_data = pd.read_csv(\"/content/hcc-data.txt\", header=None)\n",
        "print(all_data)\n",
        "print(\"--------------------------------------------\")\n",
        "\n",
        "# Split dataset into TRAIN SET and TEST SET\n",
        "\n",
        "#rng = RandomState()\n",
        "#train_set = all_data.sample(frac=0.7, random_state=rng)\n",
        "train_set = all_data.sample(frac=0.7, random_state=42)\n",
        "test_set = all_data.loc[~all_data.index.isin(train_set.index)]\n",
        "\n",
        "print(\"Entire Data Set (size) : \" + str(all_data.shape))\n",
        "print(\"Train Set (size) : \" + str(train_set.shape))\n",
        "print(\"Test Set (size) : \" + str(test_set.shape))"
      ]
    },
    {
      "cell_type": "markdown",
      "metadata": {
        "id": "cONBmEiyWGfn"
      },
      "source": [
        "## Handle missing values"
      ]
    },
    {
      "cell_type": "markdown",
      "metadata": {
        "id": "AtAwgoSsWc7G"
      },
      "source": [
        "**Αιτιολόγηση για διαχείρηση των missing values**\n",
        "\n",
        "Χρησιμοποιούμε δύο διαφορετικές μεθόδους για να διαχειριστούμε με τον ίδιο τρόπο τις τιμές που λείπουν.\n",
        "1. Για το train Θα πρέπει για τις ποιοτικές τιμές να υπολογίσουμε την πιο συχνή ενώ για τις ποσοτικές να υπολογίσουμε τον μέσο όρο τους\n",
        "2. Θα εφαρμόσουμε τις τιμές αυτές (ποιοτικές, ποσοτικές) σε όλα missing values τόσο του train set όσο και του test set."
      ]
    },
    {
      "cell_type": "code",
      "execution_count": 151,
      "metadata": {
        "colab": {
          "base_uri": "https://localhost:8080/"
        },
        "id": "d4xeWzzPvonJ",
        "outputId": "71491ba6-d337-4570-e159-fb5353aee0a6"
      },
      "outputs": [
        {
          "name": "stderr",
          "output_type": "stream",
          "text": [
            "/usr/local/lib/python3.7/dist-packages/pandas/core/frame.py:5244: SettingWithCopyWarning:\n",
            "\n",
            "\n",
            "A value is trying to be set on a copy of a slice from a DataFrame\n",
            "\n",
            "See the caveats in the documentation: https://pandas.pydata.org/pandas-docs/stable/user_guide/indexing.html#returning-a-view-versus-a-copy\n",
            "\n"
          ]
        }
      ],
      "source": [
        "from sklearn.impute import SimpleImputer\n",
        "\n",
        "# replace ? with NaN\n",
        "train_set.replace('?',np.NaN,inplace=True)\n",
        "test_set.replace('?',np.NaN,inplace=True)\n",
        "\n",
        "# mark which columns contain qualitative data\n",
        "quant_columns = np.concatenate((np.arange(0, 23), np.arange(26,29))) #ex. {0, 1, 2}\n",
        "\n",
        "# replace NaN values with the mean of the each column\n",
        "imputer_mean = SimpleImputer(missing_values=np.NaN,strategy='mean')\n",
        "imputer_most_frequent = SimpleImputer(missing_values=np.NaN,strategy='most_frequent')\n",
        "imputer_median = SimpleImputer(missing_values=np.NaN,strategy='median')"
      ]
    },
    {
      "cell_type": "code",
      "execution_count": 152,
      "metadata": {
        "colab": {
          "base_uri": "https://localhost:8080/"
        },
        "id": "mnmD7CCCWWZi",
        "outputId": "04ac5f8b-c541-4940-c2ec-51a9337e563d"
      },
      "outputs": [
        {
          "name": "stdout",
          "output_type": "stream",
          "text": [
            "TRAIN SET (OLD - NEW)\n",
            "     0  1   2    3    4    5    6   7  8    9   ...   40   41    42   43    44   45   46   47   48 49\n",
            "135   0  1   0    0    0    0    0   1  0    0  ...  123  6.8  0.82    5   8.3  NaN  NaN  NaN  NaN  1\n",
            "115   1  1   1    0  NaN  NaN    0   1  0    1  ...  629  8.4  0.71    5   9.1  0.3  NaN  NaN  NaN  1\n",
            "131   0  0   1  NaN  NaN  NaN    0   1  0  NaN  ...  147  6.5     1    5   2.6  3.8  NaN  NaN  NaN  1\n",
            "55    0  1   0  NaN  NaN  NaN    1   0  0    0  ...  923  5.4  1.31    3  15.4  NaN  NaN  NaN  NaN  0\n",
            "95    1  0   0    0    0    0    0   0  0    0  ...  124  6.8   1.6    1   5.5  NaN   15    7  810  0\n",
            "..   .. ..  ..  ...  ...  ...  ...  .. ..  ...  ...  ...  ...   ...  ...   ...  ...  ...  ...  ... ..\n",
            "46    0  1   0    0    0    0    0   0  0    0  ...  NaN  NaN   NaN  NaN   NaN  NaN  NaN  NaN  NaN  1\n",
            "7     1  1   1    0  NaN    0    0   1  0    1  ...  300  7.1  0.52    2     9  1.3   42   25  706  0\n",
            "43    1  0   1  NaN  NaN  NaN  NaN   1  0  NaN  ...   56  7.3   0.7    1     2  0.2  NaN  NaN  NaN  1\n",
            "70    0  1   0    0    0    1    0   1  1    0  ...   94  4.9   0.2    2   5.4  0.8   50   16   20  1\n",
            "125   1  1   1    0    0    0    0   1  0  NaN  ...  217  6.3   0.7    1    20  0.5   52   17  832  0\n",
            "\n",
            "[115 rows x 50 columns]\n",
            "      0    1    2    3    4    5    6    7    8    9   ...      40    41    42    43     44    45     46     47      48   49\n",
            "0    0.0  1.0  0.0  0.0  0.0  0.0  0.0  1.0  0.0  0.0  ...  123.00  6.80  0.82  5.00   8.30  1.68  85.63  35.38  422.73  1.0\n",
            "1    1.0  1.0  1.0  0.0  0.0  0.0  0.0  1.0  0.0  1.0  ...  629.00  8.40  0.71  5.00   9.10  0.30  85.63  35.38  422.73  1.0\n",
            "2    0.0  0.0  1.0  0.0  0.0  0.0  0.0  1.0  0.0  0.0  ...  147.00  6.50  1.00  5.00   2.60  3.80  85.63  35.38  422.73  1.0\n",
            "3    0.0  1.0  0.0  0.0  0.0  0.0  1.0  0.0  0.0  0.0  ...  923.00  5.40  1.31  3.00  15.40  1.68  85.63  35.38  422.73  0.0\n",
            "4    1.0  0.0  0.0  0.0  0.0  0.0  0.0  0.0  0.0  0.0  ...  124.00  6.80  1.60  1.00   5.50  1.68  15.00   7.00  810.00  0.0\n",
            "..   ...  ...  ...  ...  ...  ...  ...  ...  ...  ...  ...     ...   ...   ...   ...    ...   ...    ...    ...     ...  ...\n",
            "110  0.0  1.0  0.0  0.0  0.0  0.0  0.0  0.0  0.0  0.0  ...  222.21  9.83  1.11  2.75   6.43  1.68  85.63  35.38  422.73  1.0\n",
            "111  1.0  1.0  1.0  0.0  0.0  0.0  0.0  1.0  0.0  1.0  ...  300.00  7.10  0.52  2.00   9.00  1.30  42.00  25.00  706.00  0.0\n",
            "112  1.0  0.0  1.0  0.0  0.0  0.0  0.0  1.0  0.0  0.0  ...   56.00  7.30  0.70  1.00   2.00  0.20  85.63  35.38  422.73  1.0\n",
            "113  0.0  1.0  0.0  0.0  0.0  1.0  0.0  1.0  1.0  0.0  ...   94.00  4.90  0.20  2.00   5.40  0.80  50.00  16.00   20.00  1.0\n",
            "114  1.0  1.0  1.0  0.0  0.0  0.0  0.0  1.0  0.0  0.0  ...  217.00  6.30  0.70  1.00  20.00  0.50  52.00  17.00  832.00  0.0\n",
            "\n",
            "[115 rows x 50 columns]\n"
          ]
        }
      ],
      "source": [
        "# Apply imputer to train set\n",
        "train_set_new = pd.DataFrame(imputer_mean.fit_transform(train_set))\n",
        "train_set_new = np.round(train_set_new, decimals=2) #round them up\n",
        "\n",
        "# round qualitive numbers\n",
        "train_set_rows = np.shape(train_set)[0]\n",
        "train_set_columns = np.shape(train_set)[1]\n",
        "for i in range (train_set_rows):\n",
        "  for j in range (train_set_columns):\n",
        "    if (j in quant_columns):\n",
        "      train_set_new[j][i] = np.round(train_set_new[j][i], decimals=0)\n",
        "\n",
        "# PRINT TRAIN SET\n",
        "print(\"TRAIN SET (OLD - NEW)\")\n",
        "print(train_set)\n",
        "print(train_set_new)"
      ]
    },
    {
      "cell_type": "code",
      "execution_count": null,
      "metadata": {
        "colab": {
          "base_uri": "https://localhost:8080/"
        },
        "id": "0PxhakTAsyGP",
        "outputId": "4cc58b4c-1020-4204-c09d-eb910f336323"
      },
      "outputs": [
        {
          "name": "stdout",
          "output_type": "stream",
          "text": [
            "TEST SET (OLD - NEW)\n",
            "     0    1   2    3    4    5    6   7    8    9   ...    40   41    42   43    44    45   46    47    48 49\n",
            "0     1    0   1    0    0    0    0   1    0    1  ...   150  7.1   0.7    1   3.5   0.5  NaN   NaN   NaN  1\n",
            "3     1    1   1    0    0    0    0   1    0    1  ...   174  8.1  1.11    2  15.7   0.2  NaN   NaN   NaN  0\n",
            "8     1    1   1    0    0    0    0   1    0    1  ...    63  6.1  0.59    1   6.4   1.2   85    73   982  1\n",
            "11    1    0   1    0    0    0    1   1    1    0  ...   154  NaN   7.6    5   1.9   0.3  144    41   277  1\n",
            "14    1    0   1    0    0    0    0   1    0  NaN  ...   163  7.3  1.07    4   4.5   4.5  197    84   302  1\n",
            "15    0    0   1    0    0    0    0   1    0    0  ...   176    5   0.8    2   2.6   1.3   25    13    60  1\n",
            "19    1    1   1    0    0    0    0   1  NaN  NaN  ...   147  6.3   0.9    5   2.3   1.6   67    34   774  0\n",
            "21    1    0   1    0    0    1    1   1    0    1  ...    97  6.3  0.75    1   6.8   0.2   87    26    84  1\n",
            "22    1    1   1    0    0    1    0   1  NaN    0  ...   562   69  1.14    5   3.8   0.5  112    73  1001  0\n",
            "23    1    1   1    0    0    0    0   1    1    1  ...   396    7  0.53    5    15   1.6  NaN   NaN   NaN  0\n",
            "24    1    1   1    0  NaN    1    0   0    0    1  ...   311  5.6  0.95    1    10   0.7  NaN   NaN   NaN  0\n",
            "25    1    0   1    0  NaN    0    0   1    0    0  ...   233  8.4  0.79    5   NaN   0.7   93    31    79  1\n",
            "32    1    1   1  NaN  NaN  NaN    0   1  NaN  NaN  ...   135  8.2   0.9    2   NaN   NaN  NaN   NaN   NaN  1\n",
            "37    1    1   1    0    0    0    0   1  NaN    1  ...   209  6.7   1.4    5   4.9   0.2   57    25   134  0\n",
            "45    1    0   1    0    0    0    0   1    0    0  ...    68  8.3  0.72    1   2.3   NaN  NaN   NaN   NaN  1\n",
            "46    0    1   0    0    0    0    0   0    0    0  ...   NaN  NaN   NaN  NaN   NaN   NaN  NaN   NaN   NaN  1\n",
            "51    0    0   1  NaN  NaN  NaN    1   1  NaN    0  ...   350  7.3   1.7    5   NaN   0.8   84    37   497  0\n",
            "53    1  NaN   1    0    0    0    0   1    0    0  ...   130  NaN  0.76    2     2   0.3  184  2.26    59  1\n",
            "54    1    1   1    0    0    0    1   1  NaN    1  ...   397  6.7  0.82    1   2.1   5.5   56    27   742  0\n",
            "57    1  NaN   1    0    0    0    0   1    0    1  ...   120    7  0.58    1   4.7  0.85   32    10    18  1\n",
            "62    0    0   1    0    0    0    0   1    0    1  ...   178  6.1  0.62    1   4.6   2.2  NaN   NaN   NaN  1\n",
            "65    0    1   0    0    0    0    0   1    0    0  ...   104  5.4   0.6    5   7.8   0.2   46    18   NaN  0\n",
            "69    0    1   1    0    0    1    0   1  NaN    0  ...   260  5.9   NaN    5     3   1.3   15    17   639  0\n",
            "70    0    1   0    0    0    1    0   1    1    0  ...    94  4.9   0.2    2   5.4   0.8   50    16    20  1\n",
            "71    1    1   1    0    0    0    0   1    0    1  ...   417  6.5  0.64    5    15   1.1  NaN   NaN   NaN  1\n",
            "72    1    1   1    0    0    0    0   1  NaN    1  ...  1.28  6.7   1.5    5     4   0.8   26    15   227  1\n",
            "73    1    1   1    0    0    0    0   1    0    0  ...   684  7.1  0.81    5   NaN   NaN  NaN   NaN   NaN  0\n",
            "74    1    1   1    0  NaN    0    0   1    0    1  ...   101  7.4   1.1    5   7.5   0.3   61   NaN   255  1\n",
            "76    1    1   1    0    0    0    0   1    0  NaN  ...   165  7.7  0.83    1   4.5   1.2   72  29.5   355  0\n",
            "78    1    1   1    0    0    0    0   1    0  NaN  ...    88  5.6   NaN    5   4.7   0.5   19     8   141  1\n",
            "89    1    0   1    0    0    1    0   1    0    1  ...   474  3.9  2.69    1     2     1  NaN   NaN   NaN  1\n",
            "93    1    1   1    0    0    0    0   1    0    1  ...   335  7.1  0.68    5   NaN   0.6  NaN   NaN   NaN  0\n",
            "95    1    0   0    0    0    0    0   0    0    0  ...   124  6.8   1.6    1   5.5   NaN   15     7   810  0\n",
            "97    1    0   1    0    0    0    0   1    0  NaN  ...   137  6.8  0.67    4   4.7   1.1  NaN   NaN   NaN  1\n",
            "100   1    1   1  NaN  NaN  NaN    0   1    0    0  ...   297  5.7  2.19    5   NaN   1.5   55    33   256  1\n",
            "101   1    1   0    0    0    0    1   1    0  NaN  ...   262  6.9   1.2    5     4  19.5  121    27   749  0\n",
            "110   1    1   1    1    0    1    0   1  NaN    1  ...   166  7.2  0.48    5  12.6   1.8  161    96   297  1\n",
            "115   1    1   1    0  NaN  NaN    0   1    0    1  ...   629  8.4  0.71    5   9.1   0.3  NaN   NaN   NaN  1\n",
            "117   1    1   1    1    1    1    0   1    0  NaN  ...   146    8  3.23    1   NaN   9.7  106    67  2165  0\n",
            "118   1    0   1    0    0    0    0   1    0    0  ...    79  7.7  1.02    1     3   NaN  NaN   NaN   NaN  1\n",
            "120   1    1   0    1    0  NaN    0   1    1    0  ...   980  7.5  0.78    5     9   2.8  NaN   NaN   NaN  1\n",
            "123   1    0   0    0    0    0    0   0    0    0  ...   151  6.4   1.5    1   8.3   NaN   88    27    90  1\n",
            "124   1    1   1    0    0    1    1   1  NaN    1  ...   466  7.3   0.7    1   8.3   NaN  NaN   NaN   579  0\n",
            "127   1    0   1    0    0    0  NaN   1    0    0  ...   182  6.2  0.77    2   4.3     1   93    47   307  1\n",
            "132   0    0   0    0    0    0    1   1  NaN    0  ...   106  7.1   6.1    2     9   0.7  NaN   NaN   NaN  0\n",
            "145   1    1   1    0    0    0    0   1    0  NaN  ...   141  NaN   1.1    1    15  0.33  NaN   NaN   NaN  1\n",
            "152   1    1   1    0    0    0    1   1    0    1  ...    44    7  0.96    5   3.5   NaN  NaN   NaN   NaN  1\n",
            "153   1    1   1  NaN  NaN  NaN    0   1    0    0  ...   338    7  1.13    1    15   1.3  NaN   NaN   NaN  0\n",
            "155   1    1   1    0    0    0    0   1  NaN    1  ...   139  7.6   0.9    3     9   2.9  111    94  1600  0\n",
            "161   0    1   0  NaN  NaN  NaN  NaN   1    0    0  ...   280  6.7   0.7    1   2.2   2.3  NaN   NaN   NaN  0\n",
            "\n",
            "[50 rows x 50 columns]\n",
            "     0    1    2    3    4    5    6    7    8    9   ...      40     41    42    43     44     45      46     47       48   49\n",
            "0   1.0  0.0  1.0  0.0  0.0  0.0  0.0  1.0  0.0  1.0  ...  150.00   7.10  0.70  1.00   3.50   0.50   87.92  37.41   417.82  1.0\n",
            "1   1.0  1.0  1.0  0.0  0.0  0.0  0.0  1.0  0.0  1.0  ...  174.00   8.10  1.11  2.00  15.70   0.20   87.92  37.41   417.82  0.0\n",
            "2   1.0  1.0  1.0  0.0  0.0  0.0  0.0  1.0  0.0  1.0  ...   63.00   6.10  0.59  1.00   6.40   1.20   85.00  73.00   982.00  1.0\n",
            "3   1.0  0.0  1.0  0.0  0.0  0.0  1.0  1.0  1.0  0.0  ...  154.00   9.31  7.60  5.00   1.90   0.30  144.00  41.00   277.00  1.0\n",
            "4   1.0  0.0  1.0  0.0  0.0  0.0  0.0  1.0  0.0  1.0  ...  163.00   7.30  1.07  4.00   4.50   4.50  197.00  84.00   302.00  1.0\n",
            "5   0.0  0.0  1.0  0.0  0.0  0.0  0.0  1.0  0.0  0.0  ...  176.00   5.00  0.80  2.00   2.60   1.30   25.00  13.00    60.00  1.0\n",
            "6   1.0  1.0  1.0  0.0  0.0  0.0  0.0  1.0  0.0  1.0  ...  147.00   6.30  0.90  5.00   2.30   1.60   67.00  34.00   774.00  0.0\n",
            "7   1.0  0.0  1.0  0.0  0.0  1.0  1.0  1.0  0.0  1.0  ...   97.00   6.30  0.75  1.00   6.80   0.20   87.00  26.00    84.00  1.0\n",
            "8   1.0  1.0  1.0  0.0  0.0  1.0  0.0  1.0  0.0  0.0  ...  562.00  69.00  1.14  5.00   3.80   0.50  112.00  73.00  1001.00  0.0\n",
            "9   1.0  1.0  1.0  0.0  0.0  0.0  0.0  1.0  1.0  1.0  ...  396.00   7.00  0.53  5.00  15.00   1.60   87.92  37.41   417.82  0.0\n",
            "10  1.0  1.0  1.0  0.0  0.0  1.0  0.0  0.0  0.0  1.0  ...  311.00   5.60  0.95  1.00  10.00   0.70   87.92  37.41   417.82  0.0\n",
            "11  1.0  0.0  1.0  0.0  0.0  0.0  0.0  1.0  0.0  0.0  ...  233.00   8.40  0.79  5.00   7.03   0.70   93.00  31.00    79.00  1.0\n",
            "12  1.0  1.0  1.0  0.0  0.0  0.0  0.0  1.0  0.0  1.0  ...  135.00   8.20  0.90  2.00   7.03   1.97   87.92  37.41   417.82  1.0\n",
            "13  1.0  1.0  1.0  0.0  0.0  0.0  0.0  1.0  0.0  1.0  ...  209.00   6.70  1.40  5.00   4.90   0.20   57.00  25.00   134.00  0.0\n",
            "14  1.0  0.0  1.0  0.0  0.0  0.0  0.0  1.0  0.0  0.0  ...   68.00   8.30  0.72  1.00   2.30   1.97   87.92  37.41   417.82  1.0\n",
            "15  0.0  1.0  0.0  0.0  0.0  0.0  0.0  0.0  0.0  0.0  ...  201.55   9.31  1.07  2.61   7.03   1.97   87.92  37.41   417.82  1.0\n",
            "16  0.0  0.0  1.0  0.0  0.0  0.0  1.0  1.0  0.0  0.0  ...  350.00   7.30  1.70  5.00   7.03   0.80   84.00  37.00   497.00  0.0\n",
            "17  1.0  1.0  1.0  0.0  0.0  0.0  0.0  1.0  0.0  0.0  ...  130.00   9.31  0.76  2.00   2.00   0.30  184.00   2.26    59.00  1.0\n",
            "18  1.0  1.0  1.0  0.0  0.0  0.0  1.0  1.0  0.0  1.0  ...  397.00   6.70  0.82  1.00   2.10   5.50   56.00  27.00   742.00  0.0\n",
            "19  1.0  1.0  1.0  0.0  0.0  0.0  0.0  1.0  0.0  1.0  ...  120.00   7.00  0.58  1.00   4.70   0.85   32.00  10.00    18.00  1.0\n",
            "20  0.0  0.0  1.0  0.0  0.0  0.0  0.0  1.0  0.0  1.0  ...  178.00   6.10  0.62  1.00   4.60   2.20   87.92  37.41   417.82  1.0\n",
            "21  0.0  1.0  0.0  0.0  0.0  0.0  0.0  1.0  0.0  0.0  ...  104.00   5.40  0.60  5.00   7.80   0.20   46.00  18.00   417.82  0.0\n",
            "22  0.0  1.0  1.0  0.0  0.0  1.0  0.0  1.0  0.0  0.0  ...  260.00   5.90  1.07  5.00   3.00   1.30   15.00  17.00   639.00  0.0\n",
            "23  0.0  1.0  0.0  0.0  0.0  1.0  0.0  1.0  1.0  0.0  ...   94.00   4.90  0.20  2.00   5.40   0.80   50.00  16.00    20.00  1.0\n",
            "24  1.0  1.0  1.0  0.0  0.0  0.0  0.0  1.0  0.0  1.0  ...  417.00   6.50  0.64  5.00  15.00   1.10   87.92  37.41   417.82  1.0\n",
            "25  1.0  1.0  1.0  0.0  0.0  0.0  0.0  1.0  0.0  1.0  ...    1.28   6.70  1.50  5.00   4.00   0.80   26.00  15.00   227.00  1.0\n",
            "26  1.0  1.0  1.0  0.0  0.0  0.0  0.0  1.0  0.0  0.0  ...  684.00   7.10  0.81  5.00   7.03   1.97   87.92  37.41   417.82  0.0\n",
            "27  1.0  1.0  1.0  0.0  0.0  0.0  0.0  1.0  0.0  1.0  ...  101.00   7.40  1.10  5.00   7.50   0.30   61.00  37.41   255.00  1.0\n",
            "28  1.0  1.0  1.0  0.0  0.0  0.0  0.0  1.0  0.0  1.0  ...  165.00   7.70  0.83  1.00   4.50   1.20   72.00  29.50   355.00  0.0\n",
            "29  1.0  1.0  1.0  0.0  0.0  0.0  0.0  1.0  0.0  1.0  ...   88.00   5.60  1.07  5.00   4.70   0.50   19.00   8.00   141.00  1.0\n",
            "30  1.0  0.0  1.0  0.0  0.0  1.0  0.0  1.0  0.0  1.0  ...  474.00   3.90  2.69  1.00   2.00   1.00   87.92  37.41   417.82  1.0\n",
            "31  1.0  1.0  1.0  0.0  0.0  0.0  0.0  1.0  0.0  1.0  ...  335.00   7.10  0.68  5.00   7.03   0.60   87.92  37.41   417.82  0.0\n",
            "32  1.0  0.0  0.0  0.0  0.0  0.0  0.0  0.0  0.0  0.0  ...  124.00   6.80  1.60  1.00   5.50   1.97   15.00   7.00   810.00  0.0\n",
            "33  1.0  0.0  1.0  0.0  0.0  0.0  0.0  1.0  0.0  1.0  ...  137.00   6.80  0.67  4.00   4.70   1.10   87.92  37.41   417.82  1.0\n",
            "34  1.0  1.0  1.0  0.0  0.0  0.0  0.0  1.0  0.0  0.0  ...  297.00   5.70  2.19  5.00   7.03   1.50   55.00  33.00   256.00  1.0\n",
            "35  1.0  1.0  0.0  0.0  0.0  0.0  1.0  1.0  0.0  1.0  ...  262.00   6.90  1.20  5.00   4.00  19.50  121.00  27.00   749.00  0.0\n",
            "36  1.0  1.0  1.0  1.0  0.0  1.0  0.0  1.0  0.0  1.0  ...  166.00   7.20  0.48  5.00  12.60   1.80  161.00  96.00   297.00  1.0\n",
            "37  1.0  1.0  1.0  0.0  0.0  0.0  0.0  1.0  0.0  1.0  ...  629.00   8.40  0.71  5.00   9.10   0.30   87.92  37.41   417.82  1.0\n",
            "38  1.0  1.0  1.0  1.0  1.0  1.0  0.0  1.0  0.0  1.0  ...  146.00   8.00  3.23  1.00   7.03   9.70  106.00  67.00  2165.00  0.0\n",
            "39  1.0  0.0  1.0  0.0  0.0  0.0  0.0  1.0  0.0  0.0  ...   79.00   7.70  1.02  1.00   3.00   1.97   87.92  37.41   417.82  1.0\n",
            "40  1.0  1.0  0.0  1.0  0.0  0.0  0.0  1.0  1.0  0.0  ...  980.00   7.50  0.78  5.00   9.00   2.80   87.92  37.41   417.82  1.0\n",
            "41  1.0  0.0  0.0  0.0  0.0  0.0  0.0  0.0  0.0  0.0  ...  151.00   6.40  1.50  1.00   8.30   1.97   88.00  27.00    90.00  1.0\n",
            "42  1.0  1.0  1.0  0.0  0.0  1.0  1.0  1.0  0.0  1.0  ...  466.00   7.30  0.70  1.00   8.30   1.97   87.92  37.41   579.00  0.0\n",
            "43  1.0  0.0  1.0  0.0  0.0  0.0  0.0  1.0  0.0  0.0  ...  182.00   6.20  0.77  2.00   4.30   1.00   93.00  47.00   307.00  1.0\n",
            "44  0.0  0.0  0.0  0.0  0.0  0.0  1.0  1.0  0.0  0.0  ...  106.00   7.10  6.10  2.00   9.00   0.70   87.92  37.41   417.82  0.0\n",
            "45  1.0  1.0  1.0  0.0  0.0  0.0  0.0  1.0  0.0  1.0  ...  141.00   9.31  1.10  1.00  15.00   0.33   87.92  37.41   417.82  1.0\n",
            "46  1.0  1.0  1.0  0.0  0.0  0.0  1.0  1.0  0.0  1.0  ...   44.00   7.00  0.96  5.00   3.50   1.97   87.92  37.41   417.82  1.0\n",
            "47  1.0  1.0  1.0  0.0  0.0  0.0  0.0  1.0  0.0  0.0  ...  338.00   7.00  1.13  1.00  15.00   1.30   87.92  37.41   417.82  0.0\n",
            "48  1.0  1.0  1.0  0.0  0.0  0.0  0.0  1.0  0.0  1.0  ...  139.00   7.60  0.90  3.00   9.00   2.90  111.00  94.00  1600.00  0.0\n",
            "49  0.0  1.0  0.0  0.0  0.0  0.0  0.0  1.0  0.0  0.0  ...  280.00   6.70  0.70  1.00   2.20   2.30   87.92  37.41   417.82  0.0\n",
            "\n",
            "[50 rows x 50 columns]\n"
          ]
        }
      ],
      "source": [
        "# Apply imputer to test set\n",
        "test_set_new = pd.DataFrame(imputer_mean.transform(test_set.values))\n",
        "test_set_new = np.round(test_set_new, decimals=2) #round them up\n",
        "\n",
        "# round qualitive numbers\n",
        "test_set_rows = np.shape(test_set)[0]\n",
        "test_set_columns = np.shape(test_set)[1]\n",
        "for i in range (test_set_rows):\n",
        "  for j in range (test_set_columns):\n",
        "    if (j in quant_columns):\n",
        "      test_set_new[j][i] = np.round(test_set_new[j][i], decimals=0)\n",
        "\n",
        "# PRINT TEST SET\n",
        "print(\"TEST SET (OLD - NEW)\")\n",
        "print(test_set)\n",
        "print(test_set_new)"
      ]
    },
    {
      "cell_type": "markdown",
      "metadata": {
        "id": "UEMHhzDHk4jc"
      },
      "source": [
        "# Ταξινόμηση\n",
        "\n",
        "Θα χρησιμοποιήσουμε τους εξής ταξινομητές για να αξιολογήσουμε την αποτελεσματικότητα τους στο συγκεκριμένο Dataset. \n",
        "\n",
        "1.  dummy\n",
        "2.  Gaussian Naive Bayes (GNB),\n",
        "3.  KNeirestNeighbors (kNN), και\n",
        "4.  Logistic Regression (LR)\n",
        "\n",
        "Αρχικά θα χρησιμοποιήσουμε τους ταξινομητές χωρίς κάποια βελτιστοποίηση με τις default ρυθμίσεις τους, και στη συνέχεια θα εφαρμόσουμε διάφορες τεχνικές optimization για να βελτιώσουμε την επίδοση τους.\n"
      ]
    },
    {
      "cell_type": "code",
      "execution_count": 153,
      "metadata": {
        "id": "JOhrOvlFORsH"
      },
      "outputs": [],
      "source": [
        "# Import all neccessairy libraries\n",
        "from sklearn.metrics import classification_report\n",
        "from sklearn.metrics import accuracy_score\n",
        "from sklearn.metrics import f1_score\n",
        "from sklearn.metrics import confusion_matrix\n",
        "from sklearn.model_selection import cross_val_score\n",
        "from sklearn.pipeline import make_pipeline\n",
        "import matplotlib.pyplot as plt"
      ]
    },
    {
      "cell_type": "markdown",
      "metadata": {
        "id": "J4Db0Q_4M9VF"
      },
      "source": [
        "## Out-of-the-box"
      ]
    },
    {
      "cell_type": "code",
      "execution_count": 154,
      "metadata": {
        "id": "jm3BTGSYWTvo"
      },
      "outputs": [],
      "source": [
        "# Splitting datasets into data and targets\n",
        "\n",
        "# Train Set\n",
        "train_data = train_set_new.iloc[:, :49]\n",
        "train_targets = train_set_new.iloc[:, -1]\n",
        "\n",
        "# Test Set\n",
        "test_data = test_set_new.iloc[:, :49]\n",
        "test_targets = test_set_new.iloc[:, -1]\n",
        "# Also works for test_set_new.iloc[:, 49:]\n",
        "\n",
        "# test_targets = test_targets.astype(int)\n",
        "# train_targets = train_targets.astype(int)\n",
        "\n",
        "# print(test_targets)"
      ]
    },
    {
      "cell_type": "code",
      "execution_count": 155,
      "metadata": {
        "id": "1a3n7ccY7ELt"
      },
      "outputs": [],
      "source": [
        "# Transform the datasets to work better with the following methods\n",
        "x_train = train_data; y_train = train_targets.values.ravel()\n",
        "x_test = test_data; y_test = test_targets.values.ravel()"
      ]
    },
    {
      "cell_type": "code",
      "execution_count": 156,
      "metadata": {
        "colab": {
          "base_uri": "https://localhost:8080/"
        },
        "id": "9d0VcJ9QliMj",
        "outputId": "eb2996fd-567a-4426-a9a0-beb5b53a93f6"
      },
      "outputs": [
        {
          "name": "stdout",
          "output_type": "stream",
          "text": [
            "(115, 49) (115,)\n"
          ]
        }
      ],
      "source": [
        "print(np.shape(x_train), np.shape(y_train))"
      ]
    },
    {
      "cell_type": "markdown",
      "metadata": {
        "id": "sXHrqoI6WYK1"
      },
      "source": [
        "### Dummy Classifier\n",
        "\n",
        "Χρησιμοποιούμε τον Dummy Classifier με 4 διαφορετικές στρατηγικές, σαν baseline για να συγκρίνουμε με τις υπόλοιπες μεθόδους."
      ]
    },
    {
      "cell_type": "code",
      "execution_count": 157,
      "metadata": {
        "id": "t408StkMRjnR"
      },
      "outputs": [],
      "source": [
        "from sklearn.dummy import DummyClassifier\n",
        "\n",
        "#1 Output based on uniform distribution of 0 and 1 (50/50)\n",
        "dummy_clf_uniform = DummyClassifier(strategy=\"uniform\", random_state = 1)\n",
        "\n",
        "#2 Chooses most frequent class\n",
        "dummy_clf_mf = DummyClassifier(strategy=\"most_frequent\")\n",
        "\n",
        "#3 Always outputs one specific class (0 or 1)\n",
        "dummy_clf_constant_0 = DummyClassifier(strategy=\"constant\", constant=0)\n",
        "dummy_clf_constant_1 = DummyClassifier(strategy=\"constant\", constant=1)\n",
        "\n",
        "#4 Output based on distribution of classes in training set (ex. 30% -> 1, 70% -> 0)\n",
        "dummy_clf_str = DummyClassifier(strategy=\"stratified\")"
      ]
    },
    {
      "cell_type": "code",
      "execution_count": 158,
      "metadata": {
        "colab": {
          "base_uri": "https://localhost:8080/"
        },
        "id": "XoVYXjC7ll6u",
        "outputId": "ad8bf215-affa-4284-c1a2-76931e326150"
      },
      "outputs": [
        {
          "name": "stdout",
          "output_type": "stream",
          "text": [
            "Classification Accuracy for the Train Set \n",
            "\n",
            "Dummy Classifiers Scores\n",
            "most frequent\t\t:  0.6173913043478261\n",
            "constant 1\t\t:  0.6173913043478261\n",
            "stratified\t\t:  0.6086956521739131\n",
            "uniform \t\t:  0.5478260869565217\n",
            "constant 0\t\t:  0.3826086956521739\n"
          ]
        }
      ],
      "source": [
        "# Measuring the accuracy for the train data and sorting the classifiers\n",
        "train_accuracy = {}\n",
        "\n",
        "#1\n",
        "dummy_clf_uniform.fit(train_data, train_targets)\n",
        "train_accuracy['uniform '] = dummy_clf_uniform.score(train_data, train_targets)\n",
        "#2\n",
        "dummy_clf_mf.fit(train_data, train_targets)\n",
        "train_accuracy['most frequent'] = dummy_clf_mf.score(train_data, train_targets)\n",
        "#3\n",
        "dummy_clf_constant_0.fit(train_data, train_targets)\n",
        "train_accuracy['constant 0'] = dummy_clf_constant_0.score(train_data, train_targets)\n",
        "dummy_clf_constant_1.fit(train_data, train_targets)\n",
        "train_accuracy['constant 1'] = dummy_clf_constant_1.score(train_data, train_targets)\n",
        "#4\n",
        "dummy_clf_str.fit(train_data, train_targets)\n",
        "train_accuracy['stratified'] = dummy_clf_str.score(train_data, train_targets)\n",
        "\n",
        "# Sort the accuracies\n",
        "print(\"Classification Accuracy for the Train Set \\n\")\n",
        "sorted_accuracy = [(k, train_accuracy[k]) for k in sorted(train_accuracy, key=train_accuracy.get, reverse=True)]\n",
        "print(\"Dummy Classifiers Scores\")\n",
        "for clf, score in sorted_accuracy:\n",
        "  print(str(clf) + \"\\t\\t: \", score)"
      ]
    },
    {
      "cell_type": "code",
      "execution_count": 159,
      "metadata": {
        "colab": {
          "base_uri": "https://localhost:8080/"
        },
        "id": "e6i_LN7lWsgx",
        "outputId": "d7eefa36-5ba9-4ab1-80f7-454d944f47aa"
      },
      "outputs": [
        {
          "name": "stdout",
          "output_type": "stream",
          "text": [
            "Classification Accuracy for the Test Set \n",
            "\n",
            "Dummy Classifiers Scores\n",
            "most frequent\t\t:  0.58\n",
            "constant 1\t\t:  0.58\n",
            "stratified\t\t:  0.52\n",
            "uniform \t\t:  0.48\n",
            "constant 0\t\t:  0.42\n"
          ]
        }
      ],
      "source": [
        "# Measuring the accuracy for the test data and sorting the classifiers\n",
        "test_accuracy = {}\n",
        "\n",
        "#1\n",
        "dummy_clf_uniform.fit(test_data, test_targets)\n",
        "test_accuracy['uniform '] = dummy_clf_uniform.score(test_data, test_targets)\n",
        "#2\n",
        "dummy_clf_mf.fit(test_data, test_targets)\n",
        "test_accuracy['most frequent'] = dummy_clf_mf.score(test_data, test_targets)\n",
        "#3\n",
        "dummy_clf_constant_0.fit(test_data, test_targets)\n",
        "test_accuracy['constant 0'] = dummy_clf_constant_0.score(test_data, test_targets)\n",
        "dummy_clf_constant_1.fit(test_data, test_targets)\n",
        "test_accuracy['constant 1'] = dummy_clf_constant_1.score(test_data, test_targets)\n",
        "#4\n",
        "dummy_clf_str.fit(test_data, test_targets)\n",
        "test_accuracy['stratified'] = dummy_clf_str.score(test_data, test_targets)\n",
        "\n",
        "print(\"Classification Accuracy for the Test Set \\n\")\n",
        "sorted_accuracy = [(k, test_accuracy[k]) for k in sorted(test_accuracy, key=test_accuracy.get, reverse=True)]\n",
        "print(\"Dummy Classifiers Scores\")\n",
        "for clf, score in sorted_accuracy:\n",
        "  print(str(clf) + \"\\t\\t: \", score)"
      ]
    },
    {
      "cell_type": "code",
      "execution_count": 160,
      "metadata": {
        "colab": {
          "base_uri": "https://localhost:8080/"
        },
        "id": "n1yxnqAdSGh_",
        "outputId": "2b316395-c771-45b2-f531-8b82b67c2f60"
      },
      "outputs": [
        {
          "name": "stdout",
          "output_type": "stream",
          "text": [
            "F1-macro score for the Test Set \n",
            "\n",
            "Dummy Classifiers Scores\n",
            "uniform \t\t:  0.4724025974025974\n",
            "stratified\t\t:  0.45054945054945056\n",
            "most frequent\t\t:  0.36708860759493667\n",
            "constant 1\t\t:  0.36708860759493667\n",
            "constant 0\t\t:  0.29577464788732394\n",
            "\n",
            "Dummy Classifiers Classification Reports\n",
            "\n",
            "uniform:\n",
            "              precision    recall  f1-score   support\n",
            "\n",
            "         0.0       0.39      0.43      0.41        21\n",
            "         1.0       0.56      0.52      0.54        29\n",
            "\n",
            "    accuracy                           0.48        50\n",
            "   macro avg       0.47      0.47      0.47        50\n",
            "weighted avg       0.49      0.48      0.48        50\n",
            "\n",
            "\n",
            "most frequent:\n",
            "              precision    recall  f1-score   support\n",
            "\n",
            "         0.0       0.00      0.00      0.00        21\n",
            "         1.0       0.58      1.00      0.73        29\n",
            "\n",
            "    accuracy                           0.58        50\n",
            "   macro avg       0.29      0.50      0.37        50\n",
            "weighted avg       0.34      0.58      0.43        50\n",
            "\n",
            "\n",
            "constant 0:\n",
            "              precision    recall  f1-score   support\n",
            "\n",
            "         0.0       0.42      1.00      0.59        21\n",
            "         1.0       0.00      0.00      0.00        29\n",
            "\n",
            "    accuracy                           0.42        50\n",
            "   macro avg       0.21      0.50      0.30        50\n",
            "weighted avg       0.18      0.42      0.25        50\n",
            "\n",
            "\n",
            "constant 1:\n",
            "              precision    recall  f1-score   support\n",
            "\n",
            "         0.0       0.00      0.00      0.00        21\n",
            "         1.0       0.58      1.00      0.73        29\n",
            "\n",
            "    accuracy                           0.58        50\n",
            "   macro avg       0.29      0.50      0.37        50\n",
            "weighted avg       0.34      0.58      0.43        50\n",
            "\n",
            "\n",
            "stratified:\n",
            "              precision    recall  f1-score   support\n",
            "\n",
            "         0.0       0.36      0.24      0.29        21\n",
            "         1.0       0.56      0.69      0.62        29\n",
            "\n",
            "    accuracy                           0.50        50\n",
            "   macro avg       0.46      0.46      0.45        50\n",
            "weighted avg       0.47      0.50      0.48        50\n",
            "\n",
            "\n"
          ]
        }
      ],
      "source": [
        "# Classification metrics for the test set\n",
        "test_predictions = {}\n",
        "test_f1 = {}\n",
        "#1\n",
        "test_predictions['uniform'] = dummy_clf_uniform.predict(test_data)\n",
        "test_f1['uniform '] = f1_score(y_test, test_predictions['uniform'], average='macro')\n",
        "#2\n",
        "test_predictions['most frequent'] = dummy_clf_mf.predict(test_data)\n",
        "test_f1['most frequent'] = f1_score(y_test, test_predictions['most frequent'], average='macro')\n",
        "#3\n",
        "test_predictions['constant 0'] = dummy_clf_constant_0.predict(test_data)\n",
        "test_f1['constant 0'] = f1_score(y_test, test_predictions['constant 0'], average='macro')\n",
        "test_predictions['constant 1'] = dummy_clf_constant_1.predict(test_data)\n",
        "test_f1['constant 1'] = f1_score(y_test, test_predictions['constant 1'], average='macro')\n",
        "#4\n",
        "test_predictions['stratified'] = dummy_clf_str.predict(test_data)\n",
        "test_f1['stratified'] = f1_score(y_test, test_predictions['stratified'], average='macro')\n",
        "\n",
        "print(\"F1-macro score for the Test Set \\n\")\n",
        "\n",
        "sorted_f1 = [(k, test_f1[k]) for k in sorted(test_f1, key=test_f1.get, reverse=True)]\n",
        "print(\"Dummy Classifiers Scores\")\n",
        "for clf, score in sorted_f1:\n",
        "  print(str(clf) + \"\\t\\t: \", score)\n",
        "\n",
        "print(\"\\nDummy Classifiers Classification Reports\\n\")\n",
        "\n",
        "print('uniform:\\n'+ classification_report(test_targets, test_predictions['uniform'], zero_division=0) +'\\n')\n",
        "print('most frequent:\\n'+ classification_report(test_targets, test_predictions['most frequent'], zero_division=0)+'\\n')\n",
        "print('constant 0:\\n'+ classification_report(test_targets, test_predictions['constant 0'], zero_division=0)+'\\n')\n",
        "print('constant 1:\\n'+ classification_report(test_targets, test_predictions['constant 1'], zero_division=0)+'\\n')\n",
        "print('stratified:\\n'+ classification_report(test_targets, test_predictions['stratified'], zero_division=0)+'\\n')"
      ]
    },
    {
      "cell_type": "markdown",
      "metadata": {
        "id": "-espkQvNOdWh"
      },
      "source": [
        "### Gaussian Naive Bayes (GNB) Classifier\n",
        "Ελέγχουμε αρχικά την out-of-the-box επίδοση του αλγορίθμου Gaussian Naive Bayes, δηλαδή με τις default παραμέτρους του, με χρήση 10-fold cross validation."
      ]
    },
    {
      "cell_type": "code",
      "execution_count": 161,
      "metadata": {
        "colab": {
          "base_uri": "https://localhost:8080/"
        },
        "id": "V2Mq01YZOoHL",
        "outputId": "c3c67f54-f865-4982-94f8-6e7c5b5c8985"
      },
      "outputs": [
        {
          "name": "stdout",
          "output_type": "stream",
          "text": [
            "Training Set:\n",
            "GNB accuracy:  0.7060606060606062\n",
            "GNB f1:  0.6378699907763374\n",
            "\n",
            "Test set:\n",
            "GNB accuracy:  0.66\n",
            "GNB f1:  0.6263736263736264\n",
            "\n",
            "GNB Classification Report:\n",
            "              precision    recall  f1-score   support\n",
            "\n",
            "         0.0       0.64      0.43      0.51        21\n",
            "         1.0       0.67      0.83      0.74        29\n",
            "\n",
            "    accuracy                           0.66        50\n",
            "   macro avg       0.65      0.63      0.63        50\n",
            "weighted avg       0.66      0.66      0.64        50\n",
            "\n"
          ]
        }
      ],
      "source": [
        "from sklearn.naive_bayes import GaussianNB\n",
        "\n",
        "# Model creation and training\n",
        "gnb_clf = GaussianNB()\n",
        "gnb_clf.fit(train_data, train_targets.values.ravel())\n",
        "\n",
        "# 10-cross validation\n",
        "gnb_accuracy_train = cross_val_score(gnb_clf, x_train, y_train, scoring='accuracy', cv = 10)\n",
        "gnb_f1_train = cross_val_score(gnb_clf, x_train, y_train, scoring='f1_macro', cv = 10)\n",
        "\n",
        "#Training set accuracy and f1-macro score\n",
        "print(\"Training Set:\")\n",
        "print(\"GNB accuracy: \", np.mean(gnb_accuracy_train))\n",
        "print(\"GNB f1: \", np.mean(gnb_f1_train))\n",
        "\n",
        "#Test set accuracy and f1-macro score\n",
        "gnb_accuracy_test = gnb_clf.score(x_test, y_test)\n",
        "gnb_predictions = gnb_clf.predict(x_test)\n",
        "gnb_f1_test = knn_f1 = f1_score(y_test, gnb_predictions, average='macro')\n",
        "\n",
        "print(\"\\nTest set:\")\n",
        "print(\"GNB accuracy: \", gnb_accuracy_test)\n",
        "print(\"GNB f1: \", gnb_f1_test)\n",
        "print('\\nGNB Classification Report:\\n' + classification_report(y_test, gnb_predictions))"
      ]
    },
    {
      "cell_type": "markdown",
      "metadata": {
        "id": "-6z8F_n2WllL"
      },
      "source": [
        "### K Nearest Neighbors (ΚNN)\n",
        "Ελέγχουμε αρχικά την out-of-the-box επίδοση του αλγορίθμου kNearestNeighbors, δηλαδή με τις default παραμέτρους του, με χρήση 10-fold cross validation."
      ]
    },
    {
      "cell_type": "code",
      "execution_count": 162,
      "metadata": {
        "colab": {
          "base_uri": "https://localhost:8080/"
        },
        "id": "483rRwMHWhgz",
        "outputId": "90cbf188-5cdf-4db9-b60b-56cf3c9f3d68"
      },
      "outputs": [
        {
          "name": "stdout",
          "output_type": "stream",
          "text": [
            "Training Set:\n",
            "kNN accuracy:  0.5681818181818181\n",
            "kNN f1 macro:  0.453828566514325\n",
            "\n",
            "Test set:\n",
            "kNN accuracy:  0.58\n",
            "kNN f1 macro:  0.5091164095371669\n",
            "\n",
            "kNN Classification Report:\n",
            "              precision    recall  f1-score   support\n",
            "\n",
            "         0.0       0.50      0.24      0.32        21\n",
            "         1.0       0.60      0.83      0.70        29\n",
            "\n",
            "    accuracy                           0.58        50\n",
            "   macro avg       0.55      0.53      0.51        50\n",
            "weighted avg       0.56      0.58      0.54        50\n",
            "\n",
            "\n"
          ]
        }
      ],
      "source": [
        "from sklearn import neighbors\n",
        "\n",
        "# Classifier Creation and Training\n",
        "kNN_clf = neighbors.KNeighborsClassifier()\n",
        "kNN_clf.fit(train_data, train_targets.values.ravel())\n",
        "\n",
        "# Use of 10-fold cv for accuracy and f1-macro score for training set\n",
        "kNN_accuracy_train = cross_val_score(kNN_clf, x_train, y_train, scoring='accuracy' ,cv = 10)\n",
        "kNN_f1_train = cross_val_score(kNN_clf, x_train, y_train, scoring='f1_macro', cv = 10)\n",
        "\n",
        "# Training set accuracy and f1-macro score\n",
        "print(\"Training Set:\")\n",
        "print(\"kNN accuracy: \", np.mean(kNN_accuracy_train))\n",
        "print(\"kNN f1 macro: \", np.mean(kNN_f1_train))\n",
        "\n",
        "# Prediction on test data \n",
        "kNN_accuracy_test = kNN_clf.score(x_test, y_test)\n",
        "kNN_predictions = kNN_clf.predict(x_test)\n",
        "kNN_f1_test = f1_score(y_test, kNN_predictions, average='macro')\n",
        "\n",
        "# Test set accuracy and f1-macro score\n",
        "print(\"\\nTest set:\")\n",
        "print(\"kNN accuracy: \", kNN_accuracy_test)\n",
        "print(\"kNN f1 macro: \", kNN_f1_test)\n",
        "print('\\nkNN Classification Report:\\n' + classification_report(y_test, kNN_predictions)+'\\n')"
      ]
    },
    {
      "cell_type": "markdown",
      "metadata": {
        "id": "G9c-aAkwblB0"
      },
      "source": [
        "### Logistic Regression (LR)\n",
        "Ελέγχουμε αρχικά την out-of-the-box επίδοση του αλγορίθμου Logistic Reggression, δηλαδή με τις default παραμέτρους του, με χρήση 10-fold cross validation."
      ]
    },
    {
      "cell_type": "code",
      "execution_count": 163,
      "metadata": {
        "colab": {
          "base_uri": "https://localhost:8080/"
        },
        "id": "yYBCX066bsXp",
        "outputId": "b06d091d-9ac2-46d0-b46a-9bdd78f017dd"
      },
      "outputs": [
        {
          "name": "stderr",
          "output_type": "stream",
          "text": [
            "/usr/local/lib/python3.7/dist-packages/sklearn/linear_model/_logistic.py:818: ConvergenceWarning:\n",
            "\n",
            "lbfgs failed to converge (status=1):\n",
            "STOP: TOTAL NO. of ITERATIONS REACHED LIMIT.\n",
            "\n",
            "Increase the number of iterations (max_iter) or scale the data as shown in:\n",
            "    https://scikit-learn.org/stable/modules/preprocessing.html\n",
            "Please also refer to the documentation for alternative solver options:\n",
            "    https://scikit-learn.org/stable/modules/linear_model.html#logistic-regression\n",
            "\n"
          ]
        },
        {
          "name": "stdout",
          "output_type": "stream",
          "text": [
            "Training Set:\n",
            "LR accuracy:  0.7303030303030303\n",
            "LR f1 macro:  0.6770066710894884\n",
            "\n",
            "Test set:\n",
            "LR accuracy:  0.68\n",
            "LR f1 macro:  0.6604414261460102\n",
            "\n",
            "LR Classification Report:\n",
            "              precision    recall  f1-score   support\n",
            "\n",
            "         0.0       0.65      0.52      0.58        21\n",
            "         1.0       0.70      0.79      0.74        29\n",
            "\n",
            "    accuracy                           0.68        50\n",
            "   macro avg       0.67      0.66      0.66        50\n",
            "weighted avg       0.68      0.68      0.67        50\n",
            "\n",
            "\n"
          ]
        }
      ],
      "source": [
        "from sklearn.linear_model import LogisticRegression\n",
        "import warnings\n",
        "\n",
        "# Classifier Creation and Training\n",
        "\n",
        "# Κάνουμε supress τα warnings καθώς αυτά που προκύπτουν είναι μόνο λόγο τις παραμέτρου max_iter  \n",
        "# Η default τιμή της είναι 100 και δεν αρκεί ώστε να συγκλίνει το μοντέλο σε ορισμένες περιπτώσεις\n",
        "\n",
        "with warnings.catch_warnings(record=True): \n",
        "  LR_clf = LogisticRegression()\n",
        "\n",
        "LR_clf.fit(train_data, train_targets.values.ravel())\n",
        "\n",
        "# Use of 10-fold cv for accuracy and f1-macro score for training set\n",
        "with warnings.catch_warnings(record=True): \n",
        "  LR_accuracy_train = cross_val_score(LR_clf, x_train, y_train, scoring='accuracy' ,cv = 10)\n",
        "  LR_f1_train = cross_val_score(LR_clf, x_train, y_train, scoring='f1_macro', cv = 10)\n",
        "\n",
        "# Training set accuracy and f1-macro score\n",
        "print(\"Training Set:\")\n",
        "print(\"LR accuracy: \", np.mean(LR_accuracy_train))\n",
        "print(\"LR f1 macro: \", np.mean(LR_f1_train))\n",
        "\n",
        "# Prediction on test data \n",
        "LR_accuracy_test = LR_clf.score(x_test, y_test)\n",
        "LR_predictions = LR_clf.predict(x_test)\n",
        "LR_f1_test = f1_score(y_test, LR_predictions, average='macro')\n",
        "\n",
        "# Test set accuracy and f1-macro score\n",
        "print(\"\\nTest set:\")\n",
        "print(\"LR accuracy: \", LR_accuracy_test)\n",
        "print(\"LR f1 macro: \", LR_f1_test)\n",
        "print('\\nLR Classification Report:\\n' + classification_report(y_test, LR_predictions)+'\\n')"
      ]
    },
    {
      "cell_type": "markdown",
      "metadata": {
        "id": "E_9kYdIMCvng"
      },
      "source": [
        "### Plots & Comparison"
      ]
    },
    {
      "cell_type": "code",
      "execution_count": 164,
      "metadata": {
        "id": "3lMNFynyOj5T"
      },
      "outputs": [],
      "source": [
        "# Function to add value labels\n",
        "def addlabels(x,y):\n",
        "    for i in range(len(x)):\n",
        "        plt.text(i,y[i]+0.02,y[i],ha = 'center')"
      ]
    },
    {
      "cell_type": "markdown",
      "metadata": {
        "id": "8EtE6TqHDTGj"
      },
      "source": [
        "**Accuracy Diagram**\n",
        "\n",
        "---"
      ]
    },
    {
      "cell_type": "code",
      "execution_count": 165,
      "metadata": {
        "colab": {
          "base_uri": "https://localhost:8080/",
          "height": 288
        },
        "id": "dLLbvoBWDA68",
        "outputId": "8057c62d-b5f1-4d02-eeb8-19bd179130f0"
      },
      "outputs": [
        {
          "data": {
            "image/png": "[encoded data removed]",
            "text/plain": [
              "<Figure size 720x288 with 1 Axes>"
            ]
          },
          "metadata": {
            "needs_background": "light"
          },
          "output_type": "display_data"
        }
      ],
      "source": [
        "data_ootb_accuracy = {\n",
        "    'Dummy': max(test_accuracy.values()), \n",
        "    'GNB': gnb_accuracy_test, \n",
        "    'KNN': kNN_accuracy_test, \n",
        "    'LR': LR_accuracy_test, \n",
        "}\n",
        "\n",
        "classifiers = list(data_ootb_accuracy.keys())\n",
        "values_acc = list(data_ootb_accuracy.values())\n",
        "\n",
        "fig = plt.figure(figsize = (10, 4))\n",
        "plt.bar(classifiers, values_acc, color ='g', width = 0.4)\n",
        "\n",
        "plt.xlabel('Classifer', fontweight ='bold', fontsize = 15)\n",
        "plt.ylabel('Accuracy score', fontweight ='bold', fontsize = 15)\n",
        "\n",
        "plt.ylim(0.0, 1.0) # Set min, max classifier scores\n",
        "addlabels(classifiers, values_acc)\n",
        "    \n",
        "plt.show()"
      ]
    },
    {
      "cell_type": "markdown",
      "metadata": {
        "id": "RuOJhoHgDY-1"
      },
      "source": [
        "**F1 Diagram**\n",
        "\n",
        "---"
      ]
    },
    {
      "cell_type": "code",
      "execution_count": 215,
      "metadata": {
        "colab": {
          "base_uri": "https://localhost:8080/",
          "height": 288
        },
        "id": "DIevoXqMGRzm",
        "outputId": "a9106d32-cbbf-4aca-c30a-40bcbdbe3b9f"
      },
      "outputs": [
        {
          "data": {
            "image/png": "[encoded data removed]",
            "text/plain": [
              "<Figure size 720x288 with 1 Axes>"
            ]
          },
          "metadata": {
            "needs_background": "light"
          },
          "output_type": "display_data"
        }
      ],
      "source": [
        "data_ootb_accuracy = {\n",
        "    'Dummy': np.round(max(test_f1.values()), 2), \n",
        "    'GNB': np.round(gnb_f1_test, 2), \n",
        "    'KNN': np.round(kNN_f1_test, 2), \n",
        "    'LR': np.round(LR_f1_test, 2), \n",
        "}\n",
        "\n",
        "classifiers = list(data_ootb_accuracy.keys())\n",
        "values_f1 = list(data_ootb_accuracy.values())\n",
        "\n",
        "fig = plt.figure(figsize = (10, 4))\n",
        "plt.bar(classifiers, values_f1, color ='g', width = 0.4)\n",
        "\n",
        "plt.xlabel('Classifer', fontweight ='bold', fontsize = 15)\n",
        "plt.ylabel('F1 score', fontweight ='bold', fontsize = 15)\n",
        "\n",
        "plt.ylim(0.0, 1.0) # Set min, max classifier scores\n",
        "addlabels(classifiers, values_f1)\n",
        "\n",
        "plt.show()"
      ]
    },
    {
      "cell_type": "markdown",
      "metadata": {
        "id": "7GPhbOjqCe-r"
      },
      "source": [
        "**Σχολιασμός Επίδοσης Out-of-the-box Αλγορίθμων** <br> <br>\n",
        "Παρατηρούμε ότι οι ταξινομητές με τις default τιμές για τις παραμέτρους τους, σημειώνουν καλύτερη επίδοση από τους Dummy Classifiers το οποίο σημαίνει πως τα δεδομένα έχουν προετοιμαστεί και επεξεργαστεί σωστά.<br>\n",
        " Classifier | Accuracy | f1 score |\n",
        "| --- | :---: | :---: |\n",
        "| Dummy | 58 % | 47.2% |\n",
        "| Gausian Naive Bayes | 66 % | 62.6 % |\n",
        "| Knn | 58 % | 50.9 % |\n",
        "| Knn | 68 % | 66.1 % |\n",
        "\n",
        "\n",
        "Βέβαια η διαφορά δεν είναι μεγάλη και χρειάζεται επιπλέον επεξεργασία των δεδομένων (preprocessing) αλλά και εύρεση των βέλτιστων τιμών των υπερπαραμέτρων των ταξινομητών. Τότε θα παρατηρήσουμε μεγάλη διαφορά στις αποδόσεις των 'έξυπνων' ταξινομητών.\n",
        "\n"
      ]
    },
    {
      "cell_type": "markdown",
      "metadata": {
        "id": "A2kpgHJqNFF_"
      },
      "source": [
        "## Optimization\n",
        "1. Preproccessing\n",
        "  - Normalization\n",
        "  - Feature Selection\n",
        "  - Dataset balancing\n",
        "2. Pipelines declaration\n",
        "3. Optimal hyperparameters with grid search and cross-validation "
      ]
    },
    {
      "cell_type": "code",
      "execution_count": 167,
      "metadata": {
        "id": "_jK36BzpaC8u"
      },
      "outputs": [],
      "source": [
        "import optuna\n",
        "import sklearn\n",
        "import time \n",
        "from optuna.samplers import TPESampler\n",
        "from sklearn.preprocessing import StandardScaler\n",
        "from sklearn.model_selection import StratifiedKFold"
      ]
    },
    {
      "cell_type": "markdown",
      "metadata": {
        "id": "YVNwh7DvFfzN"
      },
      "source": [
        "**Preproccessing**\n",
        "\n",
        "---"
      ]
    },
    {
      "cell_type": "code",
      "execution_count": 168,
      "metadata": {
        "id": "5_biK1qEc5bq"
      },
      "outputs": [],
      "source": [
        "x_train = train_data; y_train = train_targets.values.ravel()\n",
        "x_test = test_data; y_test = test_targets.values.ravel()"
      ]
    },
    {
      "cell_type": "markdown",
      "metadata": {
        "id": "TkeL-28TFnY8"
      },
      "source": [
        "**Normalization**\n",
        "\n",
        "Θα χρησιμοποιήσουμε τον [Min-Max scaler](https://scikit-learn.org/stable/modules/generated/sklearn.preprocessing.MinMaxScaler.html) για να κανονικοποιήσουμε τα δεδομένα μας στα train και test data set από το 0-1 ώστε όλα να έχουν την ίδια επίδραση στην εκπαίδευση του μοντέλου μας.\n",
        "\n",
        "_(Μπορούμε να χρησιμοποιήσουμε και τον [Standard Scaler](https://scikit-learn.org/stable/modules/generated/sklearn.preprocessing.StandardScaler.html), ο οποίος θεωρεί ομαλή κατανομή στις τιμές των χαρακτηριστικών. Ωστόσο εμείς επιλέγουμε τον min-max γιατί δεν επηρεάζει τις binary μεταβλητές)_"
      ]
    },
    {
      "cell_type": "code",
      "execution_count": 169,
      "metadata": {
        "colab": {
          "base_uri": "https://localhost:8080/"
        },
        "id": "2yUr7AW4FmVF",
        "outputId": "ee10bf29-7a5d-4878-d91e-279da0e4f625"
      },
      "outputs": [
        {
          "name": "stdout",
          "output_type": "stream",
          "text": [
            "[[1.   0.   1.   ... 0.4  0.37 0.19]\n",
            " [1.   1.   1.   ... 0.4  0.37 0.19]\n",
            " [1.   1.   1.   ... 0.38 0.75 0.45]\n",
            " ...\n",
            " [1.   1.   1.   ... 0.4  0.37 0.19]\n",
            " [1.   1.   1.   ... 0.53 0.98 0.74]\n",
            " [0.   1.   0.   ... 0.4  0.37 0.19]]\n"
          ]
        }
      ],
      "source": [
        "from sklearn.preprocessing import MinMaxScaler, StandardScaler, RobustScaler\n",
        "\n",
        "scaler = MinMaxScaler()\n",
        "# Train set Normalization \n",
        "scaler.fit(train_data)\n",
        "x_train_normalized = np.round(scaler.transform(train_data), 2)\n",
        "# Test set Normalization\n",
        "scaler.fit(test_data)\n",
        "x_test_normalized = np.round(scaler.transform(test_data), 2)\n",
        "\n",
        "print(x_test_normalized)\n",
        "\n",
        "# x_train = x_train_normalized\n",
        "# x_test = x_test_normalized"
      ]
    },
    {
      "cell_type": "markdown",
      "metadata": {
        "id": "RovhOFZGWhfB"
      },
      "source": [
        "**Feature Selection**"
      ]
    },
    {
      "cell_type": "code",
      "execution_count": 170,
      "metadata": {
        "colab": {
          "base_uri": "https://localhost:8080/"
        },
        "id": "NH1R86gXWlYS",
        "outputId": "15007e21-697f-4b52-e26c-14f88f3e4600"
      },
      "outputs": [
        {
          "name": "stdout",
          "output_type": "stream",
          "text": [
            "Initial characteristics:  49\n",
            "New characteristics:  24\n"
          ]
        }
      ],
      "source": [
        "from sklearn.feature_selection import VarianceThreshold\n",
        "selector = VarianceThreshold(threshold=0.3)\n",
        "# Reduce characteristics in Train Set\n",
        "x_train_reduced = selector.fit_transform(x_train)\n",
        "# Apply mask to Test Set\n",
        "mask = selector.get_support()\n",
        "x_test_reduced = x_test.values[:,mask]\n",
        "\n",
        "print(\"Initial characteristics: \", np.shape(train_data)[1])\n",
        "print(\"New characteristics: \", np.shape(x_train_reduced)[1])\n",
        "\n",
        "x_train = x_train_reduced\n",
        "x_test = x_test_reduced"
      ]
    },
    {
      "cell_type": "markdown",
      "metadata": {
        "id": "vlZB1oEvWly5"
      },
      "source": [
        "**Dataset balancing**\n",
        "\n",
        "Χρησιμοποιούμε oversampling στα δεδομένα της μικρότερης κλάσης. Τα αρχικά δεδομένα δεν είναι πολλά οπότε θέλουμε να αποφύγουμε να κάνουμε undersampling στα δεδομένα της μεγαλύτερης κλάσης. Σημειώνεται επίσης, ότι ο λόγος της πληθηκότητας των δύο κλάσεων είναι μικρότερος από 2/3 οπότε δεν περιμένουμε να επηρεάσει αυτό το optimization κατά πολύ τα αποτελέσματά μας.\n",
        "\n",
        "_Χρησιμοποιήσαμε τον_ [Random Oversampler](https://imbalanced-learn.org/stable/references/generated/imblearn.over_sampling.RandomOverSampler.html)"
      ]
    },
    {
      "cell_type": "code",
      "execution_count": 171,
      "metadata": {
        "colab": {
          "base_uri": "https://localhost:8080/"
        },
        "id": "6FxpXfAsWqA8",
        "outputId": "7e08464c-81f4-45c0-944d-caeeb1b5d088"
      },
      "outputs": [
        {
          "name": "stdout",
          "output_type": "stream",
          "text": [
            "Current Dataset Size :\n",
            "Total:  115\n",
            "Class 0:  44\n",
            "Class 1:  71\n"
          ]
        }
      ],
      "source": [
        "print(\"Current Dataset Size :\")\n",
        "print(\"Total: \", np.shape(train_targets)[0])\n",
        "print(\"Class 0: \", np.count_nonzero(train_targets == 0))\n",
        "print(\"Class 1: \", np.count_nonzero(train_targets == 1))"
      ]
    },
    {
      "cell_type": "code",
      "execution_count": 172,
      "metadata": {
        "colab": {
          "base_uri": "https://localhost:8080/"
        },
        "id": "FSsYfBgFZZg4",
        "outputId": "d6a496a2-28ef-40c2-c54f-97f6ac384275"
      },
      "outputs": [
        {
          "name": "stdout",
          "output_type": "stream",
          "text": [
            "New Dataset Size :\n",
            "Total:  142\n",
            "Class 0:  71\n",
            "Class 1:  71\n"
          ]
        }
      ],
      "source": [
        "from imblearn.over_sampling import RandomOverSampler\n",
        "ros = RandomOverSampler()\n",
        "x_train_res, y_train_res = ros.fit_resample(x_train, y_train)\n",
        "print(\"New Dataset Size :\")\n",
        "print(\"Total: \", np.shape(y_train_res)[0])\n",
        "print(\"Class 0: \", np.count_nonzero(y_train_res == 0))\n",
        "print(\"Class 1: \", np.count_nonzero(y_train_res == 1))\n",
        "\n",
        "x_train = x_train_res\n",
        "y_train = y_train_res"
      ]
    },
    {
      "cell_type": "markdown",
      "metadata": {
        "id": "rlqHmu3yOdXP"
      },
      "source": [
        "### Dummy Classifier\n",
        "\n",
        "Για τον dummy ταξινομητή δεν μπορεί να γίνει κάποια βελτιστοποίηση καθώς οι έξοδοι είναι ανεξάρτητοι της ποιότητας των δεδομένων και χρησιμοποιείται για τον ορισμό ενός κάτω φράγματος όσον αφορά την απόδοση του μοντέλου."
      ]
    },
    {
      "cell_type": "markdown",
      "metadata": {
        "id": "jsHK2h0WOgXf"
      },
      "source": [
        "### Gaussian Naive Bayes (GNB) Classifier"
      ]
    },
    {
      "cell_type": "markdown",
      "metadata": {
        "id": "jLEAYlsCapxh"
      },
      "source": [
        "**Βελτιστοποίηση βάσει του accuracy score.**\n",
        "\n",
        "---"
      ]
    },
    {
      "cell_type": "code",
      "execution_count": 173,
      "metadata": {
        "id": "F88nnXm2jQor"
      },
      "outputs": [],
      "source": [
        "# Hyperparameter Optimization using Optuna\n",
        "def gnb_objective_accuracy(trial):\n",
        "\n",
        "  scalers = trial.suggest_categorical(\"scalers\", ['minmax', 'standard', 'robust'])\n",
        "\n",
        "  if scalers == \"minmax\":\n",
        "        scaler = MinMaxScaler()\n",
        "  elif scalers == \"standard\":\n",
        "        scaler = StandardScaler()\n",
        "  else:\n",
        "        scaler = RobustScaler()\n",
        "\n",
        "  # Hyperparameters setting\n",
        "  var_smoothing = trial.suggest_float('var_smoothing', 0.5e-9, 2e-9)\n",
        "\n",
        "  # Pipeline creation\n",
        "  gnb = GaussianNB(var_smoothing=var_smoothing)\n",
        "  # Normalization + Model Creation\n",
        "  gnb_pipeline = make_pipeline(scaler, gnb)\n",
        "\n",
        "  # Model training with cv\n",
        "  score = cross_val_score(gnb_pipeline, x_train, y_train, scoring='accuracy', cv = 10, n_jobs = 1)\n",
        "  return score.mean()"
      ]
    },
    {
      "cell_type": "code",
      "execution_count": 174,
      "metadata": {
        "colab": {
          "base_uri": "https://localhost:8080/"
        },
        "id": "mmgImFbgj36Y",
        "outputId": "4c13fc88-b5c1-40f3-897b-7e3959907381"
      },
      "outputs": [
        {
          "name": "stderr",
          "output_type": "stream",
          "text": [
            "\u001b[32m[I 2022-11-27 10:25:18,966]\u001b[0m A new study created in memory with name: no-name-f80f5a34-5b0f-49ee-aad8-ed1e81f5c367\u001b[0m\n",
            "\u001b[32m[I 2022-11-27 10:25:18,997]\u001b[0m Trial 0 finished with value: 0.6971428571428571 and parameters: {'scalers': 'standard', 'var_smoothing': 1.397987726295555e-09}. Best is trial 0 with value: 0.6971428571428571.\u001b[0m\n",
            "\u001b[32m[I 2022-11-27 10:25:19,023]\u001b[0m Trial 1 finished with value: 0.6971428571428571 and parameters: {'scalers': 'minmax', 'var_smoothing': 1.799264218662403e-09}. Best is trial 0 with value: 0.6971428571428571.\u001b[0m\n",
            "\u001b[32m[I 2022-11-27 10:25:19,052]\u001b[0m Trial 2 finished with value: 0.6971428571428571 and parameters: {'scalers': 'standard', 'var_smoothing': 1.9548647782429917e-09}. Best is trial 0 with value: 0.6971428571428571.\u001b[0m\n",
            "\u001b[32m[I 2022-11-27 10:25:19,077]\u001b[0m Trial 3 finished with value: 0.6971428571428571 and parameters: {'scalers': 'minmax', 'var_smoothing': 7.751067647801508e-10}. Best is trial 0 with value: 0.6971428571428571.\u001b[0m\n",
            "\u001b[32m[I 2022-11-27 10:25:19,105]\u001b[0m Trial 4 finished with value: 0.6971428571428571 and parameters: {'scalers': 'standard', 'var_smoothing': 9.36843710297063e-10}. Best is trial 0 with value: 0.6971428571428571.\u001b[0m\n",
            "\u001b[32m[I 2022-11-27 10:25:19,134]\u001b[0m Trial 5 finished with value: 0.6971428571428571 and parameters: {'scalers': 'minmax', 'var_smoothing': 1.0495427649405376e-09}. Best is trial 0 with value: 0.6971428571428571.\u001b[0m\n",
            "\u001b[32m[I 2022-11-27 10:25:19,161]\u001b[0m Trial 6 finished with value: 0.6971428571428571 and parameters: {'scalers': 'standard', 'var_smoothing': 1.2713516576204174e-09}. Best is trial 0 with value: 0.6971428571428571.\u001b[0m\n",
            "\u001b[32m[I 2022-11-27 10:25:19,213]\u001b[0m Trial 7 finished with value: 0.6971428571428571 and parameters: {'scalers': 'robust', 'var_smoothing': 7.557861855309373e-10}. Best is trial 0 with value: 0.6971428571428571.\u001b[0m\n",
            "\u001b[32m[I 2022-11-27 10:25:19,271]\u001b[0m Trial 8 finished with value: 0.6971428571428571 and parameters: {'scalers': 'robust', 'var_smoothing': 1.7125960221746919e-09}. Best is trial 0 with value: 0.6971428571428571.\u001b[0m\n",
            "\u001b[32m[I 2022-11-27 10:25:19,322]\u001b[0m Trial 9 finished with value: 0.6971428571428571 and parameters: {'scalers': 'robust', 'var_smoothing': 1.1602287406094022e-09}. Best is trial 0 with value: 0.6971428571428571.\u001b[0m\n",
            "\u001b[32m[I 2022-11-27 10:25:19,354]\u001b[0m Trial 10 finished with value: 0.6971428571428571 and parameters: {'scalers': 'standard', 'var_smoothing': 1.4807272134327033e-09}. Best is trial 0 with value: 0.6971428571428571.\u001b[0m\n",
            "\u001b[32m[I 2022-11-27 10:25:19,385]\u001b[0m Trial 11 finished with value: 0.6971428571428571 and parameters: {'scalers': 'minmax', 'var_smoothing': 1.5511993117875338e-09}. Best is trial 0 with value: 0.6971428571428571.\u001b[0m\n",
            "\u001b[32m[I 2022-11-27 10:25:19,414]\u001b[0m Trial 12 finished with value: 0.6971428571428571 and parameters: {'scalers': 'minmax', 'var_smoothing': 1.8614971929237771e-09}. Best is trial 0 with value: 0.6971428571428571.\u001b[0m\n",
            "\u001b[32m[I 2022-11-27 10:25:19,442]\u001b[0m Trial 13 finished with value: 0.6971428571428571 and parameters: {'scalers': 'minmax', 'var_smoothing': 1.412993887560281e-09}. Best is trial 0 with value: 0.6971428571428571.\u001b[0m\n",
            "\u001b[32m[I 2022-11-27 10:25:19,473]\u001b[0m Trial 14 finished with value: 0.6971428571428571 and parameters: {'scalers': 'standard', 'var_smoothing': 5.197650986950108e-10}. Best is trial 0 with value: 0.6971428571428571.\u001b[0m\n",
            "\u001b[32m[I 2022-11-27 10:25:19,501]\u001b[0m Trial 15 finished with value: 0.6971428571428571 and parameters: {'scalers': 'minmax', 'var_smoothing': 1.7061002521272418e-09}. Best is trial 0 with value: 0.6971428571428571.\u001b[0m\n",
            "\u001b[32m[I 2022-11-27 10:25:19,544]\u001b[0m Trial 16 finished with value: 0.6971428571428571 and parameters: {'scalers': 'standard', 'var_smoothing': 1.6923782452741103e-09}. Best is trial 0 with value: 0.6971428571428571.\u001b[0m\n",
            "\u001b[32m[I 2022-11-27 10:25:19,575]\u001b[0m Trial 17 finished with value: 0.6971428571428571 and parameters: {'scalers': 'standard', 'var_smoothing': 5.30045716227062e-10}. Best is trial 0 with value: 0.6971428571428571.\u001b[0m\n",
            "\u001b[32m[I 2022-11-27 10:25:19,606]\u001b[0m Trial 18 finished with value: 0.6971428571428571 and parameters: {'scalers': 'minmax', 'var_smoothing': 1.3172938730276616e-09}. Best is trial 0 with value: 0.6971428571428571.\u001b[0m\n",
            "\u001b[32m[I 2022-11-27 10:25:19,636]\u001b[0m Trial 19 finished with value: 0.6971428571428571 and parameters: {'scalers': 'standard', 'var_smoothing': 1.5948606295415028e-09}. Best is trial 0 with value: 0.6971428571428571.\u001b[0m\n",
            "\u001b[32m[I 2022-11-27 10:25:19,668]\u001b[0m Trial 20 finished with value: 0.6971428571428571 and parameters: {'scalers': 'standard', 'var_smoothing': 5.190488753479305e-10}. Best is trial 0 with value: 0.6971428571428571.\u001b[0m\n",
            "\u001b[32m[I 2022-11-27 10:25:19,700]\u001b[0m Trial 21 finished with value: 0.6971428571428571 and parameters: {'scalers': 'standard', 'var_smoothing': 1.3106099096543073e-09}. Best is trial 0 with value: 0.6971428571428571.\u001b[0m\n",
            "\u001b[32m[I 2022-11-27 10:25:19,736]\u001b[0m Trial 22 finished with value: 0.6971428571428571 and parameters: {'scalers': 'standard', 'var_smoothing': 1.4291239006817256e-09}. Best is trial 0 with value: 0.6971428571428571.\u001b[0m\n",
            "\u001b[32m[I 2022-11-27 10:25:19,767]\u001b[0m Trial 23 finished with value: 0.6971428571428571 and parameters: {'scalers': 'standard', 'var_smoothing': 1.5679667033201176e-09}. Best is trial 0 with value: 0.6971428571428571.\u001b[0m\n",
            "\u001b[32m[I 2022-11-27 10:25:19,797]\u001b[0m Trial 24 finished with value: 0.6971428571428571 and parameters: {'scalers': 'standard', 'var_smoothing': 1.1848150349764441e-09}. Best is trial 0 with value: 0.6971428571428571.\u001b[0m\n",
            "\u001b[32m[I 2022-11-27 10:25:19,828]\u001b[0m Trial 25 finished with value: 0.6971428571428571 and parameters: {'scalers': 'standard', 'var_smoothing': 1.4084386958879408e-09}. Best is trial 0 with value: 0.6971428571428571.\u001b[0m\n",
            "\u001b[32m[I 2022-11-27 10:25:19,858]\u001b[0m Trial 26 finished with value: 0.6971428571428571 and parameters: {'scalers': 'standard', 'var_smoothing': 1.5800600221070076e-09}. Best is trial 0 with value: 0.6971428571428571.\u001b[0m\n",
            "\u001b[32m[I 2022-11-27 10:25:19,923]\u001b[0m Trial 27 finished with value: 0.6971428571428571 and parameters: {'scalers': 'robust', 'var_smoothing': 1.0959100315527474e-09}. Best is trial 0 with value: 0.6971428571428571.\u001b[0m\n",
            "\u001b[32m[I 2022-11-27 10:25:19,954]\u001b[0m Trial 28 finished with value: 0.6971428571428571 and parameters: {'scalers': 'standard', 'var_smoothing': 1.2051007300097287e-09}. Best is trial 0 with value: 0.6971428571428571.\u001b[0m\n",
            "\u001b[32m[I 2022-11-27 10:25:19,985]\u001b[0m Trial 29 finished with value: 0.6971428571428571 and parameters: {'scalers': 'standard', 'var_smoothing': 1.8194208900897693e-09}. Best is trial 0 with value: 0.6971428571428571.\u001b[0m\n",
            "\u001b[32m[I 2022-11-27 10:25:20,044]\u001b[0m Trial 30 finished with value: 0.6971428571428571 and parameters: {'scalers': 'robust', 'var_smoothing': 1.0650115122784871e-09}. Best is trial 0 with value: 0.6971428571428571.\u001b[0m\n",
            "\u001b[32m[I 2022-11-27 10:25:20,102]\u001b[0m Trial 31 finished with value: 0.6971428571428571 and parameters: {'scalers': 'robust', 'var_smoothing': 9.52466922683714e-10}. Best is trial 0 with value: 0.6971428571428571.\u001b[0m\n",
            "\u001b[32m[I 2022-11-27 10:25:20,168]\u001b[0m Trial 32 finished with value: 0.6971428571428571 and parameters: {'scalers': 'robust', 'var_smoothing': 1.953512745951692e-09}. Best is trial 0 with value: 0.6971428571428571.\u001b[0m\n",
            "\u001b[32m[I 2022-11-27 10:25:20,226]\u001b[0m Trial 33 finished with value: 0.6971428571428571 and parameters: {'scalers': 'robust', 'var_smoothing': 9.664523082837961e-10}. Best is trial 0 with value: 0.6971428571428571.\u001b[0m\n",
            "\u001b[32m[I 2022-11-27 10:25:20,282]\u001b[0m Trial 34 finished with value: 0.6971428571428571 and parameters: {'scalers': 'robust', 'var_smoothing': 8.330723150375405e-10}. Best is trial 0 with value: 0.6971428571428571.\u001b[0m\n",
            "\u001b[32m[I 2022-11-27 10:25:20,320]\u001b[0m Trial 35 finished with value: 0.6971428571428571 and parameters: {'scalers': 'standard', 'var_smoothing': 1.3157615411800189e-09}. Best is trial 0 with value: 0.6971428571428571.\u001b[0m\n",
            "\u001b[32m[I 2022-11-27 10:25:20,352]\u001b[0m Trial 36 finished with value: 0.6971428571428571 and parameters: {'scalers': 'standard', 'var_smoothing': 1.3974433246424017e-09}. Best is trial 0 with value: 0.6971428571428571.\u001b[0m\n",
            "\u001b[32m[I 2022-11-27 10:25:20,384]\u001b[0m Trial 37 finished with value: 0.6971428571428571 and parameters: {'scalers': 'standard', 'var_smoothing': 6.116819147231978e-10}. Best is trial 0 with value: 0.6971428571428571.\u001b[0m\n",
            "\u001b[32m[I 2022-11-27 10:25:20,415]\u001b[0m Trial 38 finished with value: 0.6971428571428571 and parameters: {'scalers': 'standard', 'var_smoothing': 1.5140674503179649e-09}. Best is trial 0 with value: 0.6971428571428571.\u001b[0m\n",
            "\u001b[32m[I 2022-11-27 10:25:20,447]\u001b[0m Trial 39 finished with value: 0.6971428571428571 and parameters: {'scalers': 'standard', 'var_smoothing': 1.6264958540187892e-09}. Best is trial 0 with value: 0.6971428571428571.\u001b[0m\n",
            "\u001b[32m[I 2022-11-27 10:25:20,480]\u001b[0m Trial 40 finished with value: 0.6971428571428571 and parameters: {'scalers': 'standard', 'var_smoothing': 1.2245290292100993e-09}. Best is trial 0 with value: 0.6971428571428571.\u001b[0m\n",
            "\u001b[32m[I 2022-11-27 10:25:20,511]\u001b[0m Trial 41 finished with value: 0.6971428571428571 and parameters: {'scalers': 'standard', 'var_smoothing': 1.429108577815067e-09}. Best is trial 0 with value: 0.6971428571428571.\u001b[0m\n",
            "\u001b[32m[I 2022-11-27 10:25:20,543]\u001b[0m Trial 42 finished with value: 0.6971428571428571 and parameters: {'scalers': 'standard', 'var_smoothing': 1.642421531109817e-09}. Best is trial 0 with value: 0.6971428571428571.\u001b[0m\n",
            "\u001b[32m[I 2022-11-27 10:25:20,576]\u001b[0m Trial 43 finished with value: 0.6971428571428571 and parameters: {'scalers': 'standard', 'var_smoothing': 1.5208866811705468e-09}. Best is trial 0 with value: 0.6971428571428571.\u001b[0m\n",
            "\u001b[32m[I 2022-11-27 10:25:20,633]\u001b[0m Trial 44 finished with value: 0.6971428571428571 and parameters: {'scalers': 'robust', 'var_smoothing': 1.121154550740536e-09}. Best is trial 0 with value: 0.6971428571428571.\u001b[0m\n",
            "\u001b[32m[I 2022-11-27 10:25:20,689]\u001b[0m Trial 45 finished with value: 0.6971428571428571 and parameters: {'scalers': 'robust', 'var_smoothing': 1.0977966541439956e-09}. Best is trial 0 with value: 0.6971428571428571.\u001b[0m\n",
            "\u001b[32m[I 2022-11-27 10:25:20,720]\u001b[0m Trial 46 finished with value: 0.6971428571428571 and parameters: {'scalers': 'standard', 'var_smoothing': 1.2251798216100034e-09}. Best is trial 0 with value: 0.6971428571428571.\u001b[0m\n",
            "\u001b[32m[I 2022-11-27 10:25:20,785]\u001b[0m Trial 47 finished with value: 0.6971428571428571 and parameters: {'scalers': 'robust', 'var_smoothing': 1.3568764731494126e-09}. Best is trial 0 with value: 0.6971428571428571.\u001b[0m\n",
            "\u001b[32m[I 2022-11-27 10:25:20,814]\u001b[0m Trial 48 finished with value: 0.6971428571428571 and parameters: {'scalers': 'minmax', 'var_smoothing': 1.827093581532323e-09}. Best is trial 0 with value: 0.6971428571428571.\u001b[0m\n",
            "\u001b[32m[I 2022-11-27 10:25:20,847]\u001b[0m Trial 49 finished with value: 0.6971428571428571 and parameters: {'scalers': 'standard', 'var_smoothing': 1.75987686700821e-09}. Best is trial 0 with value: 0.6971428571428571.\u001b[0m\n",
            "\u001b[32m[I 2022-11-27 10:25:20,902]\u001b[0m Trial 50 finished with value: 0.6971428571428571 and parameters: {'scalers': 'robust', 'var_smoothing': 1.0122302679860535e-09}. Best is trial 0 with value: 0.6971428571428571.\u001b[0m\n",
            "\u001b[32m[I 2022-11-27 10:25:20,965]\u001b[0m Trial 51 finished with value: 0.6971428571428571 and parameters: {'scalers': 'robust', 'var_smoothing': 9.058182311908794e-10}. Best is trial 0 with value: 0.6971428571428571.\u001b[0m\n",
            "\u001b[32m[I 2022-11-27 10:25:21,022]\u001b[0m Trial 52 finished with value: 0.6971428571428571 and parameters: {'scalers': 'robust', 'var_smoothing': 1.8859453589651355e-09}. Best is trial 0 with value: 0.6971428571428571.\u001b[0m\n",
            "\u001b[32m[I 2022-11-27 10:25:21,080]\u001b[0m Trial 53 finished with value: 0.6971428571428571 and parameters: {'scalers': 'robust', 'var_smoothing': 1.972253819950142e-09}. Best is trial 0 with value: 0.6971428571428571.\u001b[0m\n",
            "\u001b[32m[I 2022-11-27 10:25:21,135]\u001b[0m Trial 54 finished with value: 0.6971428571428571 and parameters: {'scalers': 'robust', 'var_smoothing': 1.007717042740931e-09}. Best is trial 0 with value: 0.6971428571428571.\u001b[0m\n",
            "\u001b[32m[I 2022-11-27 10:25:21,191]\u001b[0m Trial 55 finished with value: 0.6971428571428571 and parameters: {'scalers': 'robust', 'var_smoothing': 9.494963086127064e-10}. Best is trial 0 with value: 0.6971428571428571.\u001b[0m\n",
            "\u001b[32m[I 2022-11-27 10:25:21,247]\u001b[0m Trial 56 finished with value: 0.6971428571428571 and parameters: {'scalers': 'robust', 'var_smoothing': 7.77172582435738e-10}. Best is trial 0 with value: 0.6971428571428571.\u001b[0m\n",
            "\u001b[32m[I 2022-11-27 10:25:21,299]\u001b[0m Trial 57 finished with value: 0.6971428571428571 and parameters: {'scalers': 'robust', 'var_smoothing': 8.40353561411811e-10}. Best is trial 0 with value: 0.6971428571428571.\u001b[0m\n",
            "\u001b[32m[I 2022-11-27 10:25:21,353]\u001b[0m Trial 58 finished with value: 0.6971428571428571 and parameters: {'scalers': 'robust', 'var_smoothing': 7.093294999996829e-10}. Best is trial 0 with value: 0.6971428571428571.\u001b[0m\n",
            "\u001b[32m[I 2022-11-27 10:25:21,417]\u001b[0m Trial 59 finished with value: 0.6971428571428571 and parameters: {'scalers': 'robust', 'var_smoothing': 8.734171756628585e-10}. Best is trial 0 with value: 0.6971428571428571.\u001b[0m\n",
            "\u001b[32m[I 2022-11-27 10:25:21,450]\u001b[0m Trial 60 finished with value: 0.6971428571428571 and parameters: {'scalers': 'minmax', 'var_smoothing': 1.2791372610621543e-09}. Best is trial 0 with value: 0.6971428571428571.\u001b[0m\n",
            "\u001b[32m[I 2022-11-27 10:25:21,482]\u001b[0m Trial 61 finished with value: 0.6971428571428571 and parameters: {'scalers': 'standard', 'var_smoothing': 6.316861000092228e-10}. Best is trial 0 with value: 0.6971428571428571.\u001b[0m\n",
            "\u001b[32m[I 2022-11-27 10:25:21,515]\u001b[0m Trial 62 finished with value: 0.6971428571428571 and parameters: {'scalers': 'standard', 'var_smoothing': 6.177346144363684e-10}. Best is trial 0 with value: 0.6971428571428571.\u001b[0m\n",
            "\u001b[32m[I 2022-11-27 10:25:21,549]\u001b[0m Trial 63 finished with value: 0.6971428571428571 and parameters: {'scalers': 'standard', 'var_smoothing': 1.3442462504604712e-09}. Best is trial 0 with value: 0.6971428571428571.\u001b[0m\n",
            "\u001b[32m[I 2022-11-27 10:25:21,580]\u001b[0m Trial 64 finished with value: 0.6971428571428571 and parameters: {'scalers': 'standard', 'var_smoothing': 1.480342851226284e-09}. Best is trial 0 with value: 0.6971428571428571.\u001b[0m\n",
            "\u001b[32m[I 2022-11-27 10:25:21,612]\u001b[0m Trial 65 finished with value: 0.6971428571428571 and parameters: {'scalers': 'standard', 'var_smoothing': 1.6429871537611152e-09}. Best is trial 0 with value: 0.6971428571428571.\u001b[0m\n",
            "\u001b[32m[I 2022-11-27 10:25:21,651]\u001b[0m Trial 66 finished with value: 0.6971428571428571 and parameters: {'scalers': 'standard', 'var_smoothing': 1.492595374775144e-09}. Best is trial 0 with value: 0.6971428571428571.\u001b[0m\n",
            "\u001b[32m[I 2022-11-27 10:25:21,682]\u001b[0m Trial 67 finished with value: 0.6971428571428571 and parameters: {'scalers': 'standard', 'var_smoothing': 1.3893051540581567e-09}. Best is trial 0 with value: 0.6971428571428571.\u001b[0m\n",
            "\u001b[32m[I 2022-11-27 10:25:21,713]\u001b[0m Trial 68 finished with value: 0.6971428571428571 and parameters: {'scalers': 'standard', 'var_smoothing': 1.4513382389996573e-09}. Best is trial 0 with value: 0.6971428571428571.\u001b[0m\n",
            "\u001b[32m[I 2022-11-27 10:25:21,745]\u001b[0m Trial 69 finished with value: 0.6971428571428571 and parameters: {'scalers': 'standard', 'var_smoothing': 1.537328177603912e-09}. Best is trial 0 with value: 0.6971428571428571.\u001b[0m\n",
            "\u001b[32m[I 2022-11-27 10:25:21,777]\u001b[0m Trial 70 finished with value: 0.6971428571428571 and parameters: {'scalers': 'standard', 'var_smoothing': 1.6868562491285743e-09}. Best is trial 0 with value: 0.6971428571428571.\u001b[0m\n",
            "\u001b[32m[I 2022-11-27 10:25:21,809]\u001b[0m Trial 71 finished with value: 0.6971428571428571 and parameters: {'scalers': 'minmax', 'var_smoothing': 1.1527073070649304e-09}. Best is trial 0 with value: 0.6971428571428571.\u001b[0m\n",
            "\u001b[32m[I 2022-11-27 10:25:21,840]\u001b[0m Trial 72 finished with value: 0.6971428571428571 and parameters: {'scalers': 'minmax', 'var_smoothing': 1.9015064761164458e-09}. Best is trial 0 with value: 0.6971428571428571.\u001b[0m\n",
            "\u001b[32m[I 2022-11-27 10:25:21,870]\u001b[0m Trial 73 finished with value: 0.6971428571428571 and parameters: {'scalers': 'minmax', 'var_smoothing': 1.906781730574827e-09}. Best is trial 0 with value: 0.6971428571428571.\u001b[0m\n",
            "\u001b[32m[I 2022-11-27 10:25:21,926]\u001b[0m Trial 74 finished with value: 0.6971428571428571 and parameters: {'scalers': 'robust', 'var_smoothing': 1.7692431139987524e-09}. Best is trial 0 with value: 0.6971428571428571.\u001b[0m\n",
            "\u001b[32m[I 2022-11-27 10:25:21,997]\u001b[0m Trial 75 finished with value: 0.6971428571428571 and parameters: {'scalers': 'robust', 'var_smoothing': 1.792075772486021e-09}. Best is trial 0 with value: 0.6971428571428571.\u001b[0m\n",
            "\u001b[32m[I 2022-11-27 10:25:22,056]\u001b[0m Trial 76 finished with value: 0.6971428571428571 and parameters: {'scalers': 'robust', 'var_smoothing': 1.9816135807661045e-09}. Best is trial 0 with value: 0.6971428571428571.\u001b[0m\n",
            "\u001b[32m[I 2022-11-27 10:25:22,112]\u001b[0m Trial 77 finished with value: 0.6971428571428571 and parameters: {'scalers': 'robust', 'var_smoothing': 1.0365556396339277e-09}. Best is trial 0 with value: 0.6971428571428571.\u001b[0m\n",
            "\u001b[32m[I 2022-11-27 10:25:22,168]\u001b[0m Trial 78 finished with value: 0.6971428571428571 and parameters: {'scalers': 'robust', 'var_smoothing': 1.008422654529632e-09}. Best is trial 0 with value: 0.6971428571428571.\u001b[0m\n",
            "\u001b[32m[I 2022-11-27 10:25:22,225]\u001b[0m Trial 79 finished with value: 0.6971428571428571 and parameters: {'scalers': 'robust', 'var_smoothing': 8.973876393879931e-10}. Best is trial 0 with value: 0.6971428571428571.\u001b[0m\n",
            "\u001b[32m[I 2022-11-27 10:25:22,285]\u001b[0m Trial 80 finished with value: 0.6971428571428571 and parameters: {'scalers': 'robust', 'var_smoothing': 7.720476723038605e-10}. Best is trial 0 with value: 0.6971428571428571.\u001b[0m\n",
            "\u001b[32m[I 2022-11-27 10:25:22,341]\u001b[0m Trial 81 finished with value: 0.6971428571428571 and parameters: {'scalers': 'robust', 'var_smoothing': 8.080568459854603e-10}. Best is trial 0 with value: 0.6971428571428571.\u001b[0m\n",
            "\u001b[32m[I 2022-11-27 10:25:22,399]\u001b[0m Trial 82 finished with value: 0.6971428571428571 and parameters: {'scalers': 'robust', 'var_smoothing': 7.280703772735195e-10}. Best is trial 0 with value: 0.6971428571428571.\u001b[0m\n",
            "\u001b[32m[I 2022-11-27 10:25:22,471]\u001b[0m Trial 83 finished with value: 0.6971428571428571 and parameters: {'scalers': 'robust', 'var_smoothing': 6.863517571077214e-10}. Best is trial 0 with value: 0.6971428571428571.\u001b[0m\n",
            "\u001b[32m[I 2022-11-27 10:25:22,529]\u001b[0m Trial 84 finished with value: 0.6971428571428571 and parameters: {'scalers': 'robust', 'var_smoothing': 8.746043458446278e-10}. Best is trial 0 with value: 0.6971428571428571.\u001b[0m\n",
            "\u001b[32m[I 2022-11-27 10:25:22,593]\u001b[0m Trial 85 finished with value: 0.6971428571428571 and parameters: {'scalers': 'robust', 'var_smoothing': 8.226035553455656e-10}. Best is trial 0 with value: 0.6971428571428571.\u001b[0m\n",
            "\u001b[32m[I 2022-11-27 10:25:22,625]\u001b[0m Trial 86 finished with value: 0.6971428571428571 and parameters: {'scalers': 'minmax', 'var_smoothing': 6.78560422104032e-10}. Best is trial 0 with value: 0.6971428571428571.\u001b[0m\n",
            "\u001b[32m[I 2022-11-27 10:25:22,655]\u001b[0m Trial 87 finished with value: 0.6971428571428571 and parameters: {'scalers': 'minmax', 'var_smoothing': 5.906198022468098e-10}. Best is trial 0 with value: 0.6971428571428571.\u001b[0m\n",
            "\u001b[32m[I 2022-11-27 10:25:22,686]\u001b[0m Trial 88 finished with value: 0.6971428571428571 and parameters: {'scalers': 'minmax', 'var_smoothing': 5.887149529022756e-10}. Best is trial 0 with value: 0.6971428571428571.\u001b[0m\n",
            "\u001b[32m[I 2022-11-27 10:25:22,719]\u001b[0m Trial 89 finished with value: 0.6971428571428571 and parameters: {'scalers': 'minmax', 'var_smoothing': 6.465049372903793e-10}. Best is trial 0 with value: 0.6971428571428571.\u001b[0m\n",
            "\u001b[32m[I 2022-11-27 10:25:22,751]\u001b[0m Trial 90 finished with value: 0.6971428571428571 and parameters: {'scalers': 'standard', 'var_smoothing': 1.2657948140771854e-09}. Best is trial 0 with value: 0.6971428571428571.\u001b[0m\n",
            "\u001b[32m[I 2022-11-27 10:25:22,783]\u001b[0m Trial 91 finished with value: 0.6971428571428571 and parameters: {'scalers': 'standard', 'var_smoothing': 1.2899526634220362e-09}. Best is trial 0 with value: 0.6971428571428571.\u001b[0m\n",
            "\u001b[32m[I 2022-11-27 10:25:22,815]\u001b[0m Trial 92 finished with value: 0.6971428571428571 and parameters: {'scalers': 'standard', 'var_smoothing': 1.4741625923430695e-09}. Best is trial 0 with value: 0.6971428571428571.\u001b[0m\n",
            "\u001b[32m[I 2022-11-27 10:25:22,849]\u001b[0m Trial 93 finished with value: 0.6971428571428571 and parameters: {'scalers': 'standard', 'var_smoothing': 5.529790317349601e-10}. Best is trial 0 with value: 0.6971428571428571.\u001b[0m\n",
            "\u001b[32m[I 2022-11-27 10:25:22,880]\u001b[0m Trial 94 finished with value: 0.6971428571428571 and parameters: {'scalers': 'standard', 'var_smoothing': 1.3665151245842661e-09}. Best is trial 0 with value: 0.6971428571428571.\u001b[0m\n",
            "\u001b[32m[I 2022-11-27 10:25:22,912]\u001b[0m Trial 95 finished with value: 0.6971428571428571 and parameters: {'scalers': 'standard', 'var_smoothing': 1.464524107518079e-09}. Best is trial 0 with value: 0.6971428571428571.\u001b[0m\n",
            "\u001b[32m[I 2022-11-27 10:25:22,944]\u001b[0m Trial 96 finished with value: 0.6971428571428571 and parameters: {'scalers': 'standard', 'var_smoothing': 1.5354280860266138e-09}. Best is trial 0 with value: 0.6971428571428571.\u001b[0m\n",
            "\u001b[32m[I 2022-11-27 10:25:22,982]\u001b[0m Trial 97 finished with value: 0.6971428571428571 and parameters: {'scalers': 'standard', 'var_smoothing': 1.6167500600425112e-09}. Best is trial 0 with value: 0.6971428571428571.\u001b[0m\n",
            "\u001b[32m[I 2022-11-27 10:25:23,014]\u001b[0m Trial 98 finished with value: 0.6971428571428571 and parameters: {'scalers': 'standard', 'var_smoothing': 1.6601436547878437e-09}. Best is trial 0 with value: 0.6971428571428571.\u001b[0m\n",
            "\u001b[32m[I 2022-11-27 10:25:23,046]\u001b[0m Trial 99 finished with value: 0.6971428571428571 and parameters: {'scalers': 'standard', 'var_smoothing': 1.5704301048689618e-09}. Best is trial 0 with value: 0.6971428571428571.\u001b[0m\n",
            "\u001b[32m[I 2022-11-27 10:25:23,077]\u001b[0m Trial 100 finished with value: 0.6971428571428571 and parameters: {'scalers': 'minmax', 'var_smoothing': 1.501920913090857e-09}. Best is trial 0 with value: 0.6971428571428571.\u001b[0m\n",
            "\u001b[32m[I 2022-11-27 10:25:23,109]\u001b[0m Trial 101 finished with value: 0.6971428571428571 and parameters: {'scalers': 'standard', 'var_smoothing': 1.3693695629642546e-09}. Best is trial 0 with value: 0.6971428571428571.\u001b[0m\n",
            "\u001b[32m[I 2022-11-27 10:25:23,142]\u001b[0m Trial 102 finished with value: 0.6971428571428571 and parameters: {'scalers': 'minmax', 'var_smoothing': 1.898031132065442e-09}. Best is trial 0 with value: 0.6971428571428571.\u001b[0m\n",
            "\u001b[32m[I 2022-11-27 10:25:23,173]\u001b[0m Trial 103 finished with value: 0.6971428571428571 and parameters: {'scalers': 'minmax', 'var_smoothing': 1.7334271926797337e-09}. Best is trial 0 with value: 0.6971428571428571.\u001b[0m\n",
            "\u001b[32m[I 2022-11-27 10:25:23,218]\u001b[0m Trial 104 finished with value: 0.6971428571428571 and parameters: {'scalers': 'minmax', 'var_smoothing': 1.787625400432581e-09}. Best is trial 0 with value: 0.6971428571428571.\u001b[0m\n",
            "\u001b[32m[I 2022-11-27 10:25:23,248]\u001b[0m Trial 105 finished with value: 0.6971428571428571 and parameters: {'scalers': 'minmax', 'var_smoothing': 1.9192378047439286e-09}. Best is trial 0 with value: 0.6971428571428571.\u001b[0m\n",
            "\u001b[32m[I 2022-11-27 10:25:23,282]\u001b[0m Trial 106 finished with value: 0.6971428571428571 and parameters: {'scalers': 'minmax', 'var_smoothing': 1.8288746705848817e-09}. Best is trial 0 with value: 0.6971428571428571.\u001b[0m\n",
            "\u001b[32m[I 2022-11-27 10:25:23,318]\u001b[0m Trial 107 finished with value: 0.6971428571428571 and parameters: {'scalers': 'minmax', 'var_smoothing': 1.999771888296951e-09}. Best is trial 0 with value: 0.6971428571428571.\u001b[0m\n",
            "\u001b[32m[I 2022-11-27 10:25:23,377]\u001b[0m Trial 108 finished with value: 0.6971428571428571 and parameters: {'scalers': 'robust', 'var_smoothing': 1.1693139093771105e-09}. Best is trial 0 with value: 0.6971428571428571.\u001b[0m\n",
            "\u001b[32m[I 2022-11-27 10:25:23,432]\u001b[0m Trial 109 finished with value: 0.6971428571428571 and parameters: {'scalers': 'robust', 'var_smoothing': 1.8580452333629334e-09}. Best is trial 0 with value: 0.6971428571428571.\u001b[0m\n",
            "\u001b[32m[I 2022-11-27 10:25:23,489]\u001b[0m Trial 110 finished with value: 0.6971428571428571 and parameters: {'scalers': 'robust', 'var_smoothing': 1.1347759085758215e-09}. Best is trial 0 with value: 0.6971428571428571.\u001b[0m\n",
            "\u001b[32m[I 2022-11-27 10:25:23,545]\u001b[0m Trial 111 finished with value: 0.6971428571428571 and parameters: {'scalers': 'robust', 'var_smoothing': 1.0132676935067117e-09}. Best is trial 0 with value: 0.6971428571428571.\u001b[0m\n",
            "\u001b[32m[I 2022-11-27 10:25:23,602]\u001b[0m Trial 112 finished with value: 0.6971428571428571 and parameters: {'scalers': 'robust', 'var_smoothing': 1.930060444408205e-09}. Best is trial 0 with value: 0.6971428571428571.\u001b[0m\n",
            "\u001b[32m[I 2022-11-27 10:25:23,656]\u001b[0m Trial 113 finished with value: 0.6971428571428571 and parameters: {'scalers': 'robust', 'var_smoothing': 9.11356330695045e-10}. Best is trial 0 with value: 0.6971428571428571.\u001b[0m\n",
            "\u001b[32m[I 2022-11-27 10:25:23,711]\u001b[0m Trial 114 finished with value: 0.6971428571428571 and parameters: {'scalers': 'robust', 'var_smoothing': 7.737492197238477e-10}. Best is trial 0 with value: 0.6971428571428571.\u001b[0m\n",
            "\u001b[32m[I 2022-11-27 10:25:23,767]\u001b[0m Trial 115 finished with value: 0.6971428571428571 and parameters: {'scalers': 'robust', 'var_smoothing': 7.352992040966779e-10}. Best is trial 0 with value: 0.6971428571428571.\u001b[0m\n",
            "\u001b[32m[I 2022-11-27 10:25:23,825]\u001b[0m Trial 116 finished with value: 0.6971428571428571 and parameters: {'scalers': 'robust', 'var_smoothing': 8.114828456373338e-10}. Best is trial 0 with value: 0.6971428571428571.\u001b[0m\n",
            "\u001b[32m[I 2022-11-27 10:25:23,880]\u001b[0m Trial 117 finished with value: 0.6971428571428571 and parameters: {'scalers': 'robust', 'var_smoothing': 7.132246759999535e-10}. Best is trial 0 with value: 0.6971428571428571.\u001b[0m\n",
            "\u001b[32m[I 2022-11-27 10:25:23,939]\u001b[0m Trial 118 finished with value: 0.6971428571428571 and parameters: {'scalers': 'robust', 'var_smoothing': 8.68183166465323e-10}. Best is trial 0 with value: 0.6971428571428571.\u001b[0m\n",
            "\u001b[32m[I 2022-11-27 10:25:24,005]\u001b[0m Trial 119 finished with value: 0.6971428571428571 and parameters: {'scalers': 'robust', 'var_smoothing': 6.684569890815244e-10}. Best is trial 0 with value: 0.6971428571428571.\u001b[0m\n",
            "\u001b[32m[I 2022-11-27 10:25:24,061]\u001b[0m Trial 120 finished with value: 0.6971428571428571 and parameters: {'scalers': 'robust', 'var_smoothing': 6.888862216175515e-10}. Best is trial 0 with value: 0.6971428571428571.\u001b[0m\n",
            "\u001b[32m[I 2022-11-27 10:25:24,127]\u001b[0m Trial 121 finished with value: 0.6971428571428571 and parameters: {'scalers': 'robust', 'var_smoothing': 8.078728840434017e-10}. Best is trial 0 with value: 0.6971428571428571.\u001b[0m\n",
            "\u001b[32m[I 2022-11-27 10:25:24,183]\u001b[0m Trial 122 finished with value: 0.6971428571428571 and parameters: {'scalers': 'robust', 'var_smoothing': 8.684074212087943e-10}. Best is trial 0 with value: 0.6971428571428571.\u001b[0m\n",
            "\u001b[32m[I 2022-11-27 10:25:24,213]\u001b[0m Trial 123 finished with value: 0.6971428571428571 and parameters: {'scalers': 'minmax', 'var_smoothing': 5.785525690195358e-10}. Best is trial 0 with value: 0.6971428571428571.\u001b[0m\n",
            "\u001b[32m[I 2022-11-27 10:25:24,242]\u001b[0m Trial 124 finished with value: 0.6971428571428571 and parameters: {'scalers': 'minmax', 'var_smoothing': 5.873765447799066e-10}. Best is trial 0 with value: 0.6971428571428571.\u001b[0m\n",
            "\u001b[32m[I 2022-11-27 10:25:24,274]\u001b[0m Trial 125 finished with value: 0.6971428571428571 and parameters: {'scalers': 'minmax', 'var_smoothing': 6.541719530530726e-10}. Best is trial 0 with value: 0.6971428571428571.\u001b[0m\n",
            "\u001b[32m[I 2022-11-27 10:25:24,304]\u001b[0m Trial 126 finished with value: 0.6971428571428571 and parameters: {'scalers': 'minmax', 'var_smoothing': 5.072570995545952e-10}. Best is trial 0 with value: 0.6971428571428571.\u001b[0m\n",
            "\u001b[32m[I 2022-11-27 10:25:24,336]\u001b[0m Trial 127 finished with value: 0.6971428571428571 and parameters: {'scalers': 'minmax', 'var_smoothing': 1.2823789577228483e-09}. Best is trial 0 with value: 0.6971428571428571.\u001b[0m\n",
            "\u001b[32m[I 2022-11-27 10:25:24,365]\u001b[0m Trial 128 finished with value: 0.6971428571428571 and parameters: {'scalers': 'minmax', 'var_smoothing': 5.669497418683468e-10}. Best is trial 0 with value: 0.6971428571428571.\u001b[0m\n",
            "\u001b[32m[I 2022-11-27 10:25:24,399]\u001b[0m Trial 129 finished with value: 0.6971428571428571 and parameters: {'scalers': 'minmax', 'var_smoothing': 6.426809209849366e-10}. Best is trial 0 with value: 0.6971428571428571.\u001b[0m\n",
            "\u001b[32m[I 2022-11-27 10:25:24,432]\u001b[0m Trial 130 finished with value: 0.6971428571428571 and parameters: {'scalers': 'standard', 'var_smoothing': 1.3283720090816818e-09}. Best is trial 0 with value: 0.6971428571428571.\u001b[0m\n",
            "\u001b[32m[I 2022-11-27 10:25:24,464]\u001b[0m Trial 131 finished with value: 0.6971428571428571 and parameters: {'scalers': 'standard', 'var_smoothing': 5.578680574831137e-10}. Best is trial 0 with value: 0.6971428571428571.\u001b[0m\n",
            "\u001b[32m[I 2022-11-27 10:25:24,498]\u001b[0m Trial 132 finished with value: 0.6971428571428571 and parameters: {'scalers': 'standard', 'var_smoothing': 1.434271722371681e-09}. Best is trial 0 with value: 0.6971428571428571.\u001b[0m\n",
            "\u001b[32m[I 2022-11-27 10:25:24,533]\u001b[0m Trial 133 finished with value: 0.6971428571428571 and parameters: {'scalers': 'standard', 'var_smoothing': 1.2486929038409255e-09}. Best is trial 0 with value: 0.6971428571428571.\u001b[0m\n",
            "\u001b[32m[I 2022-11-27 10:25:24,565]\u001b[0m Trial 134 finished with value: 0.6971428571428571 and parameters: {'scalers': 'standard', 'var_smoothing': 1.3856246000588279e-09}. Best is trial 0 with value: 0.6971428571428571.\u001b[0m\n",
            "\u001b[32m[I 2022-11-27 10:25:24,597]\u001b[0m Trial 135 finished with value: 0.6971428571428571 and parameters: {'scalers': 'standard', 'var_smoothing': 5.380362744436256e-10}. Best is trial 0 with value: 0.6971428571428571.\u001b[0m\n",
            "\u001b[32m[I 2022-11-27 10:25:24,629]\u001b[0m Trial 136 finished with value: 0.6971428571428571 and parameters: {'scalers': 'standard', 'var_smoothing': 1.560523543771092e-09}. Best is trial 0 with value: 0.6971428571428571.\u001b[0m\n",
            "\u001b[32m[I 2022-11-27 10:25:24,661]\u001b[0m Trial 137 finished with value: 0.6971428571428571 and parameters: {'scalers': 'standard', 'var_smoothing': 1.5907451180363935e-09}. Best is trial 0 with value: 0.6971428571428571.\u001b[0m\n",
            "\u001b[32m[I 2022-11-27 10:25:24,693]\u001b[0m Trial 138 finished with value: 0.6971428571428571 and parameters: {'scalers': 'standard', 'var_smoothing': 1.4709443195991916e-09}. Best is trial 0 with value: 0.6971428571428571.\u001b[0m\n",
            "\u001b[32m[I 2022-11-27 10:25:24,729]\u001b[0m Trial 139 finished with value: 0.6971428571428571 and parameters: {'scalers': 'standard', 'var_smoothing': 1.5107744857366541e-09}. Best is trial 0 with value: 0.6971428571428571.\u001b[0m\n",
            "\u001b[32m[I 2022-11-27 10:25:24,765]\u001b[0m Trial 140 finished with value: 0.6971428571428571 and parameters: {'scalers': 'standard', 'var_smoothing': 1.3570654010888662e-09}. Best is trial 0 with value: 0.6971428571428571.\u001b[0m\n",
            "\u001b[32m[I 2022-11-27 10:25:24,795]\u001b[0m Trial 141 finished with value: 0.6971428571428571 and parameters: {'scalers': 'standard', 'var_smoothing': 1.618230833690954e-09}. Best is trial 0 with value: 0.6971428571428571.\u001b[0m\n",
            "\u001b[32m[I 2022-11-27 10:25:24,828]\u001b[0m Trial 142 finished with value: 0.6971428571428571 and parameters: {'scalers': 'standard', 'var_smoothing': 1.671026145238343e-09}. Best is trial 0 with value: 0.6971428571428571.\u001b[0m\n",
            "\u001b[32m[I 2022-11-27 10:25:24,862]\u001b[0m Trial 143 finished with value: 0.6971428571428571 and parameters: {'scalers': 'standard', 'var_smoothing': 1.7375746055953254e-09}. Best is trial 0 with value: 0.6971428571428571.\u001b[0m\n",
            "\u001b[32m[I 2022-11-27 10:25:24,894]\u001b[0m Trial 144 finished with value: 0.6971428571428571 and parameters: {'scalers': 'standard', 'var_smoothing': 1.7212323026313244e-09}. Best is trial 0 with value: 0.6971428571428571.\u001b[0m\n",
            "\u001b[32m[I 2022-11-27 10:25:24,926]\u001b[0m Trial 145 finished with value: 0.6971428571428571 and parameters: {'scalers': 'minmax', 'var_smoothing': 1.456469816035802e-09}. Best is trial 0 with value: 0.6971428571428571.\u001b[0m\n",
            "\u001b[32m[I 2022-11-27 10:25:24,961]\u001b[0m Trial 146 finished with value: 0.6971428571428571 and parameters: {'scalers': 'standard', 'var_smoothing': 1.8163815671655375e-09}. Best is trial 0 with value: 0.6971428571428571.\u001b[0m\n",
            "\u001b[32m[I 2022-11-27 10:25:24,991]\u001b[0m Trial 147 finished with value: 0.6971428571428571 and parameters: {'scalers': 'minmax', 'var_smoothing': 1.8666472857345564e-09}. Best is trial 0 with value: 0.6971428571428571.\u001b[0m\n",
            "\u001b[32m[I 2022-11-27 10:25:25,028]\u001b[0m Trial 148 finished with value: 0.6971428571428571 and parameters: {'scalers': 'minmax', 'var_smoothing': 1.9355590313709397e-09}. Best is trial 0 with value: 0.6971428571428571.\u001b[0m\n",
            "\u001b[32m[I 2022-11-27 10:25:25,065]\u001b[0m Trial 149 finished with value: 0.6971428571428571 and parameters: {'scalers': 'minmax', 'var_smoothing': 1.5322262783417787e-09}. Best is trial 0 with value: 0.6971428571428571.\u001b[0m\n",
            "\u001b[32m[I 2022-11-27 10:25:25,094]\u001b[0m Trial 150 finished with value: 0.6971428571428571 and parameters: {'scalers': 'minmax', 'var_smoothing': 1.8332164164925069e-09}. Best is trial 0 with value: 0.6971428571428571.\u001b[0m\n",
            "\u001b[32m[I 2022-11-27 10:25:25,124]\u001b[0m Trial 151 finished with value: 0.6971428571428571 and parameters: {'scalers': 'minmax', 'var_smoothing': 1.156353177764134e-09}. Best is trial 0 with value: 0.6971428571428571.\u001b[0m\n",
            "\u001b[32m[I 2022-11-27 10:25:25,153]\u001b[0m Trial 152 finished with value: 0.6971428571428571 and parameters: {'scalers': 'minmax', 'var_smoothing': 1.8587448863225e-09}. Best is trial 0 with value: 0.6971428571428571.\u001b[0m\n",
            "\u001b[32m[I 2022-11-27 10:25:25,186]\u001b[0m Trial 153 finished with value: 0.6971428571428571 and parameters: {'scalers': 'minmax', 'var_smoothing': 1.7736637345820968e-09}. Best is trial 0 with value: 0.6971428571428571.\u001b[0m\n",
            "\u001b[32m[I 2022-11-27 10:25:25,220]\u001b[0m Trial 154 finished with value: 0.6971428571428571 and parameters: {'scalers': 'minmax', 'var_smoothing': 1.9389894256596695e-09}. Best is trial 0 with value: 0.6971428571428571.\u001b[0m\n",
            "\u001b[32m[I 2022-11-27 10:25:25,251]\u001b[0m Trial 155 finished with value: 0.6971428571428571 and parameters: {'scalers': 'minmax', 'var_smoothing': 1.9817380035176244e-09}. Best is trial 0 with value: 0.6971428571428571.\u001b[0m\n",
            "\u001b[32m[I 2022-11-27 10:25:25,309]\u001b[0m Trial 156 finished with value: 0.6971428571428571 and parameters: {'scalers': 'robust', 'var_smoothing': 1.9278291846843085e-09}. Best is trial 0 with value: 0.6971428571428571.\u001b[0m\n",
            "\u001b[32m[I 2022-11-27 10:25:25,341]\u001b[0m Trial 157 finished with value: 0.6971428571428571 and parameters: {'scalers': 'minmax', 'var_smoothing': 1.892792047077918e-09}. Best is trial 0 with value: 0.6971428571428571.\u001b[0m\n",
            "\u001b[32m[I 2022-11-27 10:25:25,398]\u001b[0m Trial 158 finished with value: 0.6971428571428571 and parameters: {'scalers': 'robust', 'var_smoothing': 1.1023377705890934e-09}. Best is trial 0 with value: 0.6971428571428571.\u001b[0m\n",
            "\u001b[32m[I 2022-11-27 10:25:25,429]\u001b[0m Trial 159 finished with value: 0.6971428571428571 and parameters: {'scalers': 'minmax', 'var_smoothing': 1.046374069808449e-09}. Best is trial 0 with value: 0.6971428571428571.\u001b[0m\n",
            "\u001b[32m[I 2022-11-27 10:25:25,486]\u001b[0m Trial 160 finished with value: 0.6971428571428571 and parameters: {'scalers': 'robust', 'var_smoothing': 7.538274555740363e-10}. Best is trial 0 with value: 0.6971428571428571.\u001b[0m\n",
            "\u001b[32m[I 2022-11-27 10:25:25,543]\u001b[0m Trial 161 finished with value: 0.6971428571428571 and parameters: {'scalers': 'robust', 'var_smoothing': 1.857163131730482e-09}. Best is trial 0 with value: 0.6971428571428571.\u001b[0m\n",
            "\u001b[32m[I 2022-11-27 10:25:25,599]\u001b[0m Trial 162 finished with value: 0.6971428571428571 and parameters: {'scalers': 'robust', 'var_smoothing': 7.355703221582795e-10}. Best is trial 0 with value: 0.6971428571428571.\u001b[0m\n",
            "\u001b[32m[I 2022-11-27 10:25:25,667]\u001b[0m Trial 163 finished with value: 0.6971428571428571 and parameters: {'scalers': 'robust', 'var_smoothing': 9.370183391623113e-10}. Best is trial 0 with value: 0.6971428571428571.\u001b[0m\n",
            "\u001b[32m[I 2022-11-27 10:25:25,724]\u001b[0m Trial 164 finished with value: 0.6971428571428571 and parameters: {'scalers': 'robust', 'var_smoothing': 7.040621895278301e-10}. Best is trial 0 with value: 0.6971428571428571.\u001b[0m\n",
            "\u001b[32m[I 2022-11-27 10:25:25,779]\u001b[0m Trial 165 finished with value: 0.6971428571428571 and parameters: {'scalers': 'robust', 'var_smoothing': 1.9994178994942914e-09}. Best is trial 0 with value: 0.6971428571428571.\u001b[0m\n",
            "\u001b[32m[I 2022-11-27 10:25:25,835]\u001b[0m Trial 166 finished with value: 0.6971428571428571 and parameters: {'scalers': 'robust', 'var_smoothing': 8.05895300728411e-10}. Best is trial 0 with value: 0.6971428571428571.\u001b[0m\n",
            "\u001b[32m[I 2022-11-27 10:25:25,893]\u001b[0m Trial 167 finished with value: 0.6971428571428571 and parameters: {'scalers': 'robust', 'var_smoothing': 7.915752053962511e-10}. Best is trial 0 with value: 0.6971428571428571.\u001b[0m\n",
            "\u001b[32m[I 2022-11-27 10:25:25,952]\u001b[0m Trial 168 finished with value: 0.6971428571428571 and parameters: {'scalers': 'robust', 'var_smoothing': 9.025687400538566e-10}. Best is trial 0 with value: 0.6971428571428571.\u001b[0m\n",
            "\u001b[32m[I 2022-11-27 10:25:26,008]\u001b[0m Trial 169 finished with value: 0.6971428571428571 and parameters: {'scalers': 'robust', 'var_smoothing': 9.829643141900045e-10}. Best is trial 0 with value: 0.6971428571428571.\u001b[0m\n",
            "\u001b[32m[I 2022-11-27 10:25:26,074]\u001b[0m Trial 170 finished with value: 0.6971428571428571 and parameters: {'scalers': 'robust', 'var_smoothing': 8.81345408442584e-10}. Best is trial 0 with value: 0.6971428571428571.\u001b[0m\n",
            "\u001b[32m[I 2022-11-27 10:25:26,130]\u001b[0m Trial 171 finished with value: 0.6971428571428571 and parameters: {'scalers': 'robust', 'var_smoothing': 8.468978095653126e-10}. Best is trial 0 with value: 0.6971428571428571.\u001b[0m\n",
            "\u001b[32m[I 2022-11-27 10:25:26,186]\u001b[0m Trial 172 finished with value: 0.6971428571428571 and parameters: {'scalers': 'robust', 'var_smoothing': 6.717314152419307e-10}. Best is trial 0 with value: 0.6971428571428571.\u001b[0m\n",
            "\u001b[32m[I 2022-11-27 10:25:26,243]\u001b[0m Trial 173 finished with value: 0.6971428571428571 and parameters: {'scalers': 'robust', 'var_smoothing': 7.581940407545542e-10}. Best is trial 0 with value: 0.6971428571428571.\u001b[0m\n",
            "\u001b[32m[I 2022-11-27 10:25:26,305]\u001b[0m Trial 174 finished with value: 0.6971428571428571 and parameters: {'scalers': 'robust', 'var_smoothing': 5.917561660255697e-10}. Best is trial 0 with value: 0.6971428571428571.\u001b[0m\n",
            "\u001b[32m[I 2022-11-27 10:25:26,367]\u001b[0m Trial 175 finished with value: 0.6971428571428571 and parameters: {'scalers': 'robust', 'var_smoothing': 5.095068909328564e-10}. Best is trial 0 with value: 0.6971428571428571.\u001b[0m\n",
            "\u001b[32m[I 2022-11-27 10:25:26,424]\u001b[0m Trial 176 finished with value: 0.6971428571428571 and parameters: {'scalers': 'robust', 'var_smoothing': 5.690347482124952e-10}. Best is trial 0 with value: 0.6971428571428571.\u001b[0m\n",
            "\u001b[32m[I 2022-11-27 10:25:26,481]\u001b[0m Trial 177 finished with value: 0.6971428571428571 and parameters: {'scalers': 'robust', 'var_smoothing': 6.701778376479886e-10}. Best is trial 0 with value: 0.6971428571428571.\u001b[0m\n",
            "\u001b[32m[I 2022-11-27 10:25:26,512]\u001b[0m Trial 178 finished with value: 0.6971428571428571 and parameters: {'scalers': 'minmax', 'var_smoothing': 6.311507210417712e-10}. Best is trial 0 with value: 0.6971428571428571.\u001b[0m\n",
            "\u001b[32m[I 2022-11-27 10:25:26,571]\u001b[0m Trial 179 finished with value: 0.6971428571428571 and parameters: {'scalers': 'robust', 'var_smoothing': 7.136415000408167e-10}. Best is trial 0 with value: 0.6971428571428571.\u001b[0m\n"
          ]
        }
      ],
      "source": [
        "gnb_sampler = TPESampler(seed=42) # create a seed for the sampler for reproducibility\n",
        "gnb_study = optuna.create_study(direction=\"maximize\", sampler=gnb_sampler)\n",
        "gnb_study.optimize(gnb_objective_accuracy, n_trials=180)"
      ]
    },
    {
      "cell_type": "code",
      "execution_count": 175,
      "metadata": {
        "colab": {
          "base_uri": "https://localhost:8080/",
          "height": 542
        },
        "id": "DNhHsO8LaM1x",
        "outputId": "f9fea0cb-6367-4710-abc3-7d6e5f67dc56"
      },
      "outputs": [
        {
          "data": {
            "text/html": [
              "<html>\n",
              "<head><meta charset=\"utf-8\" /></head>\n",
              "<body>\n",
              "    <div>            <script src=\"https://cdnjs.cloudflare.com/ajax/libs/mathjax/2.7.5/MathJax.js?config=TeX-AMS-MML_SVG\"></script><script type=\"text/javascript\">if (window.MathJax) {MathJax.Hub.Config({SVG: {font: \"STIX-Web\"}});}</script>                <script type=\"text/javascript\">window.PlotlyConfig = {MathJaxConfig: 'local'};</script>\n",
              "        <script src=\"https://cdn.plot.ly/plotly-2.8.3.min.js\"></script>                <div id=\"50a47d3d-8e55-4ef9-aa45-9e1fe4703656\" class=\"plotly-graph-div\" style=\"height:525px; width:100%;\"></div>            <script type=\"text/javascript\">                                    window.PLOTLYENV=window.PLOTLYENV || {};                                    if (document.getElementById(\"50a47d3d-8e55-4ef9-aa45-9e1fe4703656\")) {                    Plotly.newPlot(                        \"50a47d3d-8e55-4ef9-aa45-9e1fe4703656\",                        [{\"mode\":\"markers\",\"name\":\"Objective Value\",\"x\":[0,1,2,3,4,5,6,7,8,9,10,11,12,13,14,15,16,17,18,19,20,21,22,23,24,25,26,27,28,29,30,31,32,33,34,35,36,37,38,39,40,41,42,43,44,45,46,47,48,49,50,51,52,53,54,55,56,57,58,59,60,61,62,63,64,65,66,67,68,69,70,71,72,73,74,75,76,77,78,79,80,81,82,83,84,85,86,87,88,89,90,91,92,93,94,95,96,97,98,99,100,101,102,103,104,105,106,107,108,109,110,111,112,113,114,115,116,117,118,119,120,121,122,123,124,125,126,127,128,129,130,131,132,133,134,135,136,137,138,139,140,141,142,143,144,145,146,147,148,149,150,151,152,153,154,155,156,157,158,159,160,161,162,163,164,165,166,167,168,169,170,171,172,173,174,175,176,177,178,179],\"y\":[0.6971428571428571,0.6971428571428571,0.6971428571428571,0.6971428571428571,0.6971428571428571,0.6971428571428571,0.6971428571428571,0.6971428571428571,0.6971428571428571,0.6971428571428571,0.6971428571428571,0.6971428571428571,0.6971428571428571,0.6971428571428571,0.6971428571428571,0.6971428571428571,0.6971428571428571,0.6971428571428571,0.6971428571428571,0.6971428571428571,0.6971428571428571,0.6971428571428571,0.6971428571428571,0.6971428571428571,0.6971428571428571,0.6971428571428571,0.6971428571428571,0.6971428571428571,0.6971428571428571,0.6971428571428571,0.6971428571428571,0.6971428571428571,0.6971428571428571,0.6971428571428571,0.6971428571428571,0.6971428571428571,0.6971428571428571,0.6971428571428571,0.6971428571428571,0.6971428571428571,0.6971428571428571,0.6971428571428571,0.6971428571428571,0.6971428571428571,0.6971428571428571,0.6971428571428571,0.6971428571428571,0.6971428571428571,0.6971428571428571,0.6971428571428571,0.6971428571428571,0.6971428571428571,0.6971428571428571,0.6971428571428571,0.6971428571428571,0.6971428571428571,0.6971428571428571,0.6971428571428571,0.6971428571428571,0.6971428571428571,0.6971428571428571,0.6971428571428571,0.6971428571428571,0.6971428571428571,0.6971428571428571,0.6971428571428571,0.6971428571428571,0.6971428571428571,0.6971428571428571,0.6971428571428571,0.6971428571428571,0.6971428571428571,0.6971428571428571,0.6971428571428571,0.6971428571428571,0.6971428571428571,0.6971428571428571,0.6971428571428571,0.6971428571428571,0.6971428571428571,0.6971428571428571,0.6971428571428571,0.6971428571428571,0.6971428571428571,0.6971428571428571,0.6971428571428571,0.6971428571428571,0.6971428571428571,0.6971428571428571,0.6971428571428571,0.6971428571428571,0.6971428571428571,0.6971428571428571,0.6971428571428571,0.6971428571428571,0.6971428571428571,0.6971428571428571,0.6971428571428571,0.6971428571428571,0.6971428571428571,0.6971428571428571,0.6971428571428571,0.6971428571428571,0.6971428571428571,0.6971428571428571,0.6971428571428571,0.6971428571428571,0.6971428571428571,0.6971428571428571,0.6971428571428571,0.6971428571428571,0.6971428571428571,0.6971428571428571,0.6971428571428571,0.6971428571428571,0.6971428571428571,0.6971428571428571,0.6971428571428571,0.6971428571428571,0.6971428571428571,0.6971428571428571,0.6971428571428571,0.6971428571428571,0.6971428571428571,0.6971428571428571,0.6971428571428571,0.6971428571428571,0.6971428571428571,0.6971428571428571,0.6971428571428571,0.6971428571428571,0.6971428571428571,0.6971428571428571,0.6971428571428571,0.6971428571428571,0.6971428571428571,0.6971428571428571,0.6971428571428571,0.6971428571428571,0.6971428571428571,0.6971428571428571,0.6971428571428571,0.6971428571428571,0.6971428571428571,0.6971428571428571,0.6971428571428571,0.6971428571428571,0.6971428571428571,0.6971428571428571,0.6971428571428571,0.6971428571428571,0.6971428571428571,0.6971428571428571,0.6971428571428571,0.6971428571428571,0.6971428571428571,0.6971428571428571,0.6971428571428571,0.6971428571428571,0.6971428571428571,0.6971428571428571,0.6971428571428571,0.6971428571428571,0.6971428571428571,0.6971428571428571,0.6971428571428571,0.6971428571428571,0.6971428571428571,0.6971428571428571,0.6971428571428571,0.6971428571428571,0.6971428571428571,0.6971428571428571,0.6971428571428571,0.6971428571428571,0.6971428571428571,0.6971428571428571,0.6971428571428571,0.6971428571428571,0.6971428571428571],\"type\":\"scatter\"},{\"name\":\"Best Value\",\"x\":[0,1,2,3,4,5,6,7,8,9,10,11,12,13,14,15,16,17,18,19,20,21,22,23,24,25,26,27,28,29,30,31,32,33,34,35,36,37,38,39,40,41,42,43,44,45,46,47,48,49,50,51,52,53,54,55,56,57,58,59,60,61,62,63,64,65,66,67,68,69,70,71,72,73,74,75,76,77,78,79,80,81,82,83,84,85,86,87,88,89,90,91,92,93,94,95,96,97,98,99,100,101,102,103,104,105,106,107,108,109,110,111,112,113,114,115,116,117,118,119,120,121,122,123,124,125,126,127,128,129,130,131,132,133,134,135,136,137,138,139,140,141,142,143,144,145,146,147,148,149,150,151,152,153,154,155,156,157,158,159,160,161,162,163,164,165,166,167,168,169,170,171,172,173,174,175,176,177,178,179],\"y\":[0.6971428571428571,0.6971428571428571,0.6971428571428571,0.6971428571428571,0.6971428571428571,0.6971428571428571,0.6971428571428571,0.6971428571428571,0.6971428571428571,0.6971428571428571,0.6971428571428571,0.6971428571428571,0.6971428571428571,0.6971428571428571,0.6971428571428571,0.6971428571428571,0.6971428571428571,0.6971428571428571,0.6971428571428571,0.6971428571428571,0.6971428571428571,0.6971428571428571,0.6971428571428571,0.6971428571428571,0.6971428571428571,0.6971428571428571,0.6971428571428571,0.6971428571428571,0.6971428571428571,0.6971428571428571,0.6971428571428571,0.6971428571428571,0.6971428571428571,0.6971428571428571,0.6971428571428571,0.6971428571428571,0.6971428571428571,0.6971428571428571,0.6971428571428571,0.6971428571428571,0.6971428571428571,0.6971428571428571,0.6971428571428571,0.6971428571428571,0.6971428571428571,0.6971428571428571,0.6971428571428571,0.6971428571428571,0.6971428571428571,0.6971428571428571,0.6971428571428571,0.6971428571428571,0.6971428571428571,0.6971428571428571,0.6971428571428571,0.6971428571428571,0.6971428571428571,0.6971428571428571,0.6971428571428571,0.6971428571428571,0.6971428571428571,0.6971428571428571,0.6971428571428571,0.6971428571428571,0.6971428571428571,0.6971428571428571,0.6971428571428571,0.6971428571428571,0.6971428571428571,0.6971428571428571,0.6971428571428571,0.6971428571428571,0.6971428571428571,0.6971428571428571,0.6971428571428571,0.6971428571428571,0.6971428571428571,0.6971428571428571,0.6971428571428571,0.6971428571428571,0.6971428571428571,0.6971428571428571,0.6971428571428571,0.6971428571428571,0.6971428571428571,0.6971428571428571,0.6971428571428571,0.6971428571428571,0.6971428571428571,0.6971428571428571,0.6971428571428571,0.6971428571428571,0.6971428571428571,0.6971428571428571,0.6971428571428571,0.6971428571428571,0.6971428571428571,0.6971428571428571,0.6971428571428571,0.6971428571428571,0.6971428571428571,0.6971428571428571,0.6971428571428571,0.6971428571428571,0.6971428571428571,0.6971428571428571,0.6971428571428571,0.6971428571428571,0.6971428571428571,0.6971428571428571,0.6971428571428571,0.6971428571428571,0.6971428571428571,0.6971428571428571,0.6971428571428571,0.6971428571428571,0.6971428571428571,0.6971428571428571,0.6971428571428571,0.6971428571428571,0.6971428571428571,0.6971428571428571,0.6971428571428571,0.6971428571428571,0.6971428571428571,0.6971428571428571,0.6971428571428571,0.6971428571428571,0.6971428571428571,0.6971428571428571,0.6971428571428571,0.6971428571428571,0.6971428571428571,0.6971428571428571,0.6971428571428571,0.6971428571428571,0.6971428571428571,0.6971428571428571,0.6971428571428571,0.6971428571428571,0.6971428571428571,0.6971428571428571,0.6971428571428571,0.6971428571428571,0.6971428571428571,0.6971428571428571,0.6971428571428571,0.6971428571428571,0.6971428571428571,0.6971428571428571,0.6971428571428571,0.6971428571428571,0.6971428571428571,0.6971428571428571,0.6971428571428571,0.6971428571428571,0.6971428571428571,0.6971428571428571,0.6971428571428571,0.6971428571428571,0.6971428571428571,0.6971428571428571,0.6971428571428571,0.6971428571428571,0.6971428571428571,0.6971428571428571,0.6971428571428571,0.6971428571428571,0.6971428571428571,0.6971428571428571,0.6971428571428571,0.6971428571428571,0.6971428571428571,0.6971428571428571,0.6971428571428571,0.6971428571428571,0.6971428571428571,0.6971428571428571,0.6971428571428571,0.6971428571428571],\"type\":\"scatter\"}],                        {\"title\":{\"text\":\"Optimization History Plot\"},\"xaxis\":{\"title\":{\"text\":\"Trial\"}},\"yaxis\":{\"title\":{\"text\":\"Objective Value\"}},\"template\":{\"data\":{\"bar\":[{\"error_x\":{\"color\":\"#2a3f5f\"},\"error_y\":{\"color\":\"#2a3f5f\"},\"marker\":{\"line\":{\"color\":\"#E5ECF6\",\"width\":0.5},\"pattern\":{\"fillmode\":\"overlay\",\"size\":10,\"solidity\":0.2}},\"type\":\"bar\"}],\"barpolar\":[{\"marker\":{\"line\":{\"color\":\"#E5ECF6\",\"width\":0.5},\"pattern\":{\"fillmode\":\"overlay\",\"size\":10,\"solidity\":0.2}},\"type\":\"barpolar\"}],\"carpet\":[{\"aaxis\":{\"endlinecolor\":\"#2a3f5f\",\"gridcolor\":\"white\",\"linecolor\":\"white\",\"minorgridcolor\":\"white\",\"startlinecolor\":\"#2a3f5f\"},\"baxis\":{\"endlinecolor\":\"#2a3f5f\",\"gridcolor\":\"white\",\"linecolor\":\"white\",\"minorgridcolor\":\"white\",\"startlinecolor\":\"#2a3f5f\"},\"type\":\"carpet\"}],\"choropleth\":[{\"colorbar\":{\"outlinewidth\":0,\"ticks\":\"\"},\"type\":\"choropleth\"}],\"contour\":[{\"colorbar\":{\"outlinewidth\":0,\"ticks\":\"\"},\"colorscale\":[[0.0,\"#0d0887\"],[0.1111111111111111,\"#46039f\"],[0.2222222222222222,\"#7201a8\"],[0.3333333333333333,\"#9c179e\"],[0.4444444444444444,\"#bd3786\"],[0.5555555555555556,\"#d8576b\"],[0.6666666666666666,\"#ed7953\"],[0.7777777777777778,\"#fb9f3a\"],[0.8888888888888888,\"#fdca26\"],[1.0,\"#f0f921\"]],\"type\":\"contour\"}],\"contourcarpet\":[{\"colorbar\":{\"outlinewidth\":0,\"ticks\":\"\"},\"type\":\"contourcarpet\"}],\"heatmap\":[{\"colorbar\":{\"outlinewidth\":0,\"ticks\":\"\"},\"colorscale\":[[0.0,\"#0d0887\"],[0.1111111111111111,\"#46039f\"],[0.2222222222222222,\"#7201a8\"],[0.3333333333333333,\"#9c179e\"],[0.4444444444444444,\"#bd3786\"],[0.5555555555555556,\"#d8576b\"],[0.6666666666666666,\"#ed7953\"],[0.7777777777777778,\"#fb9f3a\"],[0.8888888888888888,\"#fdca26\"],[1.0,\"#f0f921\"]],\"type\":\"heatmap\"}],\"heatmapgl\":[{\"colorbar\":{\"outlinewidth\":0,\"ticks\":\"\"},\"colorscale\":[[0.0,\"#0d0887\"],[0.1111111111111111,\"#46039f\"],[0.2222222222222222,\"#7201a8\"],[0.3333333333333333,\"#9c179e\"],[0.4444444444444444,\"#bd3786\"],[0.5555555555555556,\"#d8576b\"],[0.6666666666666666,\"#ed7953\"],[0.7777777777777778,\"#fb9f3a\"],[0.8888888888888888,\"#fdca26\"],[1.0,\"#f0f921\"]],\"type\":\"heatmapgl\"}],\"histogram\":[{\"marker\":{\"pattern\":{\"fillmode\":\"overlay\",\"size\":10,\"solidity\":0.2}},\"type\":\"histogram\"}],\"histogram2d\":[{\"colorbar\":{\"outlinewidth\":0,\"ticks\":\"\"},\"colorscale\":[[0.0,\"#0d0887\"],[0.1111111111111111,\"#46039f\"],[0.2222222222222222,\"#7201a8\"],[0.3333333333333333,\"#9c179e\"],[0.4444444444444444,\"#bd3786\"],[0.5555555555555556,\"#d8576b\"],[0.6666666666666666,\"#ed7953\"],[0.7777777777777778,\"#fb9f3a\"],[0.8888888888888888,\"#fdca26\"],[1.0,\"#f0f921\"]],\"type\":\"histogram2d\"}],\"histogram2dcontour\":[{\"colorbar\":{\"outlinewidth\":0,\"ticks\":\"\"},\"colorscale\":[[0.0,\"#0d0887\"],[0.1111111111111111,\"#46039f\"],[0.2222222222222222,\"#7201a8\"],[0.3333333333333333,\"#9c179e\"],[0.4444444444444444,\"#bd3786\"],[0.5555555555555556,\"#d8576b\"],[0.6666666666666666,\"#ed7953\"],[0.7777777777777778,\"#fb9f3a\"],[0.8888888888888888,\"#fdca26\"],[1.0,\"#f0f921\"]],\"type\":\"histogram2dcontour\"}],\"mesh3d\":[{\"colorbar\":{\"outlinewidth\":0,\"ticks\":\"\"},\"type\":\"mesh3d\"}],\"parcoords\":[{\"line\":{\"colorbar\":{\"outlinewidth\":0,\"ticks\":\"\"}},\"type\":\"parcoords\"}],\"pie\":[{\"automargin\":true,\"type\":\"pie\"}],\"scatter\":[{\"marker\":{\"colorbar\":{\"outlinewidth\":0,\"ticks\":\"\"}},\"type\":\"scatter\"}],\"scatter3d\":[{\"line\":{\"colorbar\":{\"outlinewidth\":0,\"ticks\":\"\"}},\"marker\":{\"colorbar\":{\"outlinewidth\":0,\"ticks\":\"\"}},\"type\":\"scatter3d\"}],\"scattercarpet\":[{\"marker\":{\"colorbar\":{\"outlinewidth\":0,\"ticks\":\"\"}},\"type\":\"scattercarpet\"}],\"scattergeo\":[{\"marker\":{\"colorbar\":{\"outlinewidth\":0,\"ticks\":\"\"}},\"type\":\"scattergeo\"}],\"scattergl\":[{\"marker\":{\"colorbar\":{\"outlinewidth\":0,\"ticks\":\"\"}},\"type\":\"scattergl\"}],\"scattermapbox\":[{\"marker\":{\"colorbar\":{\"outlinewidth\":0,\"ticks\":\"\"}},\"type\":\"scattermapbox\"}],\"scatterpolar\":[{\"marker\":{\"colorbar\":{\"outlinewidth\":0,\"ticks\":\"\"}},\"type\":\"scatterpolar\"}],\"scatterpolargl\":[{\"marker\":{\"colorbar\":{\"outlinewidth\":0,\"ticks\":\"\"}},\"type\":\"scatterpolargl\"}],\"scatterternary\":[{\"marker\":{\"colorbar\":{\"outlinewidth\":0,\"ticks\":\"\"}},\"type\":\"scatterternary\"}],\"surface\":[{\"colorbar\":{\"outlinewidth\":0,\"ticks\":\"\"},\"colorscale\":[[0.0,\"#0d0887\"],[0.1111111111111111,\"#46039f\"],[0.2222222222222222,\"#7201a8\"],[0.3333333333333333,\"#9c179e\"],[0.4444444444444444,\"#bd3786\"],[0.5555555555555556,\"#d8576b\"],[0.6666666666666666,\"#ed7953\"],[0.7777777777777778,\"#fb9f3a\"],[0.8888888888888888,\"#fdca26\"],[1.0,\"#f0f921\"]],\"type\":\"surface\"}],\"table\":[{\"cells\":{\"fill\":{\"color\":\"#EBF0F8\"},\"line\":{\"color\":\"white\"}},\"header\":{\"fill\":{\"color\":\"#C8D4E3\"},\"line\":{\"color\":\"white\"}},\"type\":\"table\"}]},\"layout\":{\"annotationdefaults\":{\"arrowcolor\":\"#2a3f5f\",\"arrowhead\":0,\"arrowwidth\":1},\"autotypenumbers\":\"strict\",\"coloraxis\":{\"colorbar\":{\"outlinewidth\":0,\"ticks\":\"\"}},\"colorscale\":{\"diverging\":[[0,\"#8e0152\"],[0.1,\"#c51b7d\"],[0.2,\"#de77ae\"],[0.3,\"#f1b6da\"],[0.4,\"#fde0ef\"],[0.5,\"#f7f7f7\"],[0.6,\"#e6f5d0\"],[0.7,\"#b8e186\"],[0.8,\"#7fbc41\"],[0.9,\"#4d9221\"],[1,\"#276419\"]],\"sequential\":[[0.0,\"#0d0887\"],[0.1111111111111111,\"#46039f\"],[0.2222222222222222,\"#7201a8\"],[0.3333333333333333,\"#9c179e\"],[0.4444444444444444,\"#bd3786\"],[0.5555555555555556,\"#d8576b\"],[0.6666666666666666,\"#ed7953\"],[0.7777777777777778,\"#fb9f3a\"],[0.8888888888888888,\"#fdca26\"],[1.0,\"#f0f921\"]],\"sequentialminus\":[[0.0,\"#0d0887\"],[0.1111111111111111,\"#46039f\"],[0.2222222222222222,\"#7201a8\"],[0.3333333333333333,\"#9c179e\"],[0.4444444444444444,\"#bd3786\"],[0.5555555555555556,\"#d8576b\"],[0.6666666666666666,\"#ed7953\"],[0.7777777777777778,\"#fb9f3a\"],[0.8888888888888888,\"#fdca26\"],[1.0,\"#f0f921\"]]},\"colorway\":[\"#636efa\",\"#EF553B\",\"#00cc96\",\"#ab63fa\",\"#FFA15A\",\"#19d3f3\",\"#FF6692\",\"#B6E880\",\"#FF97FF\",\"#FECB52\"],\"font\":{\"color\":\"#2a3f5f\"},\"geo\":{\"bgcolor\":\"white\",\"lakecolor\":\"white\",\"landcolor\":\"#E5ECF6\",\"showlakes\":true,\"showland\":true,\"subunitcolor\":\"white\"},\"hoverlabel\":{\"align\":\"left\"},\"hovermode\":\"closest\",\"mapbox\":{\"style\":\"light\"},\"paper_bgcolor\":\"white\",\"plot_bgcolor\":\"#E5ECF6\",\"polar\":{\"angularaxis\":{\"gridcolor\":\"white\",\"linecolor\":\"white\",\"ticks\":\"\"},\"bgcolor\":\"#E5ECF6\",\"radialaxis\":{\"gridcolor\":\"white\",\"linecolor\":\"white\",\"ticks\":\"\"}},\"scene\":{\"xaxis\":{\"backgroundcolor\":\"#E5ECF6\",\"gridcolor\":\"white\",\"gridwidth\":2,\"linecolor\":\"white\",\"showbackground\":true,\"ticks\":\"\",\"zerolinecolor\":\"white\"},\"yaxis\":{\"backgroundcolor\":\"#E5ECF6\",\"gridcolor\":\"white\",\"gridwidth\":2,\"linecolor\":\"white\",\"showbackground\":true,\"ticks\":\"\",\"zerolinecolor\":\"white\"},\"zaxis\":{\"backgroundcolor\":\"#E5ECF6\",\"gridcolor\":\"white\",\"gridwidth\":2,\"linecolor\":\"white\",\"showbackground\":true,\"ticks\":\"\",\"zerolinecolor\":\"white\"}},\"shapedefaults\":{\"line\":{\"color\":\"#2a3f5f\"}},\"ternary\":{\"aaxis\":{\"gridcolor\":\"white\",\"linecolor\":\"white\",\"ticks\":\"\"},\"baxis\":{\"gridcolor\":\"white\",\"linecolor\":\"white\",\"ticks\":\"\"},\"bgcolor\":\"#E5ECF6\",\"caxis\":{\"gridcolor\":\"white\",\"linecolor\":\"white\",\"ticks\":\"\"}},\"title\":{\"x\":0.05},\"xaxis\":{\"automargin\":true,\"gridcolor\":\"white\",\"linecolor\":\"white\",\"ticks\":\"\",\"title\":{\"standoff\":15},\"zerolinecolor\":\"white\",\"zerolinewidth\":2},\"yaxis\":{\"automargin\":true,\"gridcolor\":\"white\",\"linecolor\":\"white\",\"ticks\":\"\",\"title\":{\"standoff\":15},\"zerolinecolor\":\"white\",\"zerolinewidth\":2}}}},                        {\"responsive\": true}                    ).then(function(){\n",
              "                            \n",
              "var gd = document.getElementById('50a47d3d-8e55-4ef9-aa45-9e1fe4703656');\n",
              "var x = new MutationObserver(function (mutations, observer) {{\n",
              "        var display = window.getComputedStyle(gd).display;\n",
              "        if (!display || display === 'none') {{\n",
              "            console.log([gd, 'removed!']);\n",
              "            Plotly.purge(gd);\n",
              "            observer.disconnect();\n",
              "        }}\n",
              "}});\n",
              "\n",
              "// Listen for the removal of the full notebook cells\n",
              "var notebookContainer = gd.closest('#notebook-container');\n",
              "if (notebookContainer) {{\n",
              "    x.observe(notebookContainer, {childList: true});\n",
              "}}\n",
              "\n",
              "// Listen for the clearing of the current output cell\n",
              "var outputEl = gd.closest('.output');\n",
              "if (outputEl) {{\n",
              "    x.observe(outputEl, {childList: true});\n",
              "}}\n",
              "\n",
              "                        })                };                            </script>        </div>\n",
              "</body>\n",
              "</html>"
            ]
          },
          "metadata": {},
          "output_type": "display_data"
        }
      ],
      "source": [
        "optuna.visualization.plot_optimization_history(gnb_study)"
      ]
    },
    {
      "cell_type": "code",
      "execution_count": 176,
      "metadata": {
        "colab": {
          "base_uri": "https://localhost:8080/"
        },
        "id": "VQg6NjWRaaV4",
        "outputId": "17857cef-d192-4f1b-ef10-b716d30dee66"
      },
      "outputs": [
        {
          "name": "stdout",
          "output_type": "stream",
          "text": [
            "Best parameters after tuning using mean accuracy:\n"
          ]
        },
        {
          "data": {
            "text/plain": [
              "{'scalers': 'standard', 'var_smoothing': 1.397987726295555e-09}"
            ]
          },
          "execution_count": 176,
          "metadata": {},
          "output_type": "execute_result"
        }
      ],
      "source": [
        "print(\"Best parameters after tuning using mean accuracy:\")\n",
        "gnb_study.best_params"
      ]
    },
    {
      "cell_type": "code",
      "execution_count": 177,
      "metadata": {
        "colab": {
          "base_uri": "https://localhost:8080/"
        },
        "id": "G71kf9UlM1EI",
        "outputId": "366f45fd-e756-4e8b-e5c1-58eca4a269be"
      },
      "outputs": [
        {
          "name": "stdout",
          "output_type": "stream",
          "text": [
            "Συνολικός χρόνος train και test: 0.06442856788635254 seconds\n",
            "Training Set:\n",
            "GNB accuracy:  0.6971428571428571\n",
            "GNB f1:  0.6971428571428571\n",
            "\n",
            "Testing set:\n",
            "GNB accuracy:  0.68\n",
            "GNB f1:  0.6604414261460102\n",
            "\n",
            "GNB Classification Report:\n",
            "              precision    recall  f1-score   support\n",
            "\n",
            "         0.0       0.65      0.52      0.58        21\n",
            "         1.0       0.70      0.79      0.74        29\n",
            "\n",
            "    accuracy                           0.68        50\n",
            "   macro avg       0.67      0.66      0.66        50\n",
            "weighted avg       0.68      0.68      0.67        50\n",
            "\n",
            "\n"
          ]
        }
      ],
      "source": [
        "# Use the best hyperparameters to train the model again\n",
        "best_params = gnb_study.best_params\n",
        "\n",
        "if best_params['scalers'] == \"minmax\":\n",
        "  opt_scaler = MinMaxScaler()\n",
        "elif best_params['scalers'] == \"standard\":\n",
        "  opt_scaler = StandardScaler()\n",
        "else:\n",
        "  opt_scaler = RobustScaler()\n",
        "\n",
        "del best_params['scalers']\n",
        "\n",
        "# Creation of gnb classifier with optimized parameters\n",
        "gnb_clf_opt = GaussianNB(**best_params)\n",
        "gnb_pipeline = make_pipeline(opt_scaler, gnb_clf_opt)\n",
        "\n",
        "# Kαταγραφή χρόνου train και test\n",
        "start_time = time.time()\n",
        "\n",
        "# Model training \n",
        "strtfdKFold = StratifiedKFold(n_splits=10)\n",
        "gnb_pipeline.fit(x_train, y_train)\n",
        "gnb_accuracy_train = cross_val_score(gnb_pipeline, x_train, y_train, scoring='accuracy' ,cv = strtfdKFold, n_jobs=1)\n",
        "gnb_f1_train = cross_val_score(gnb_pipeline, x_train, y_train, scoring='f1_macro', cv = strtfdKFold, n_jobs=1)\n",
        "\n",
        "# Testing\n",
        "gnb_acc_test = gnb_pipeline.score(x_test, y_test)\n",
        "gnb_predictions = gnb_pipeline.predict(x_test)\n",
        "gnb_f1_test = f1_score(y_test, gnb_predictions, average='macro')\n",
        "\n",
        "# Time's up\n",
        "print(\"Συνολικός χρόνος train και test: %s seconds\" % (time.time() - start_time))\n",
        "\n",
        "print(\"Training Set:\")\n",
        "print(\"GNB accuracy: \", gnb_accuracy_train.mean())\n",
        "print(\"GNB f1: \", gnb_accuracy_train.mean())\n",
        "\n",
        "print(\"\\nTesting set:\")\n",
        "print(\"GNB accuracy: \", gnb_acc_test)\n",
        "print(\"GNB f1: \", gnb_f1_test)\n",
        "print('\\nGNB Classification Report:\\n' + classification_report(y_test, gnb_predictions)+'\\n')\n",
        "\n",
        "# Save the results for the optimization using ACCURACY\n",
        "gnb_accuracy_ACC = gnb_acc_test\n",
        "gnb_f1_ACC = gnb_f1_test"
      ]
    },
    {
      "cell_type": "markdown",
      "metadata": {
        "id": "zYRCM9jTalk8"
      },
      "source": [
        "**Βελτιστοποίηση βάσει του f1-macro score.**\n",
        "\n",
        "---"
      ]
    },
    {
      "cell_type": "code",
      "execution_count": 178,
      "metadata": {
        "id": "F-xmN9YGax7s"
      },
      "outputs": [],
      "source": [
        "# Hyperparameter Optimization using Optuna\n",
        "def gnb_objective_f1(trial):\n",
        "\n",
        "  # Hyperparameters setting\n",
        "  scalers = trial.suggest_categorical(\"scalers\", ['minmax', 'standard', 'robust'])\n",
        "\n",
        "  if scalers == \"minmax\":\n",
        "        scaler = MinMaxScaler()\n",
        "  elif scalers == \"standard\":\n",
        "        scaler = StandardScaler()\n",
        "  else:\n",
        "        scaler = RobustScaler()\n",
        "        \n",
        "  var_smoothing = trial.suggest_float('var_smoothing', 0.5e-9, 2e-9)\n",
        "\n",
        "  # Pipeline Creation\n",
        "  gnb = GaussianNB(var_smoothing=var_smoothing)\n",
        "  # Normalization + Model Creation\n",
        "  gnb_pipeline = make_pipeline(scaler, gnb)\n",
        "\n",
        "  start_time = time.time()\n",
        "  # Model training with cv\n",
        "  score = cross_val_score(gnb_pipeline, x_train, y_train, scoring='f1_macro', cv = 10, n_jobs = 1)\n",
        "  score_mean = score.mean()\n",
        "  \n",
        "  return score_mean"
      ]
    },
    {
      "cell_type": "code",
      "execution_count": 179,
      "metadata": {
        "colab": {
          "base_uri": "https://localhost:8080/"
        },
        "id": "WiCyXzD3a9hA",
        "outputId": "1aa65a9f-8fd8-4311-9136-2481be9fd011"
      },
      "outputs": [
        {
          "name": "stderr",
          "output_type": "stream",
          "text": [
            "\u001b[32m[I 2022-11-27 10:25:26,734]\u001b[0m A new study created in memory with name: no-name-afefe617-f200-4291-a119-81a021eaa1be\u001b[0m\n",
            "\u001b[32m[I 2022-11-27 10:25:26,772]\u001b[0m Trial 0 finished with value: 0.688634487717305 and parameters: {'scalers': 'standard', 'var_smoothing': 1.397987726295555e-09}. Best is trial 0 with value: 0.688634487717305.\u001b[0m\n",
            "\u001b[32m[I 2022-11-27 10:25:26,802]\u001b[0m Trial 1 finished with value: 0.688634487717305 and parameters: {'scalers': 'minmax', 'var_smoothing': 1.799264218662403e-09}. Best is trial 0 with value: 0.688634487717305.\u001b[0m\n",
            "\u001b[32m[I 2022-11-27 10:25:26,836]\u001b[0m Trial 2 finished with value: 0.688634487717305 and parameters: {'scalers': 'standard', 'var_smoothing': 1.9548647782429917e-09}. Best is trial 0 with value: 0.688634487717305.\u001b[0m\n",
            "\u001b[32m[I 2022-11-27 10:25:26,881]\u001b[0m Trial 3 finished with value: 0.688634487717305 and parameters: {'scalers': 'minmax', 'var_smoothing': 7.751067647801508e-10}. Best is trial 0 with value: 0.688634487717305.\u001b[0m\n",
            "\u001b[32m[I 2022-11-27 10:25:26,916]\u001b[0m Trial 4 finished with value: 0.688634487717305 and parameters: {'scalers': 'standard', 'var_smoothing': 9.36843710297063e-10}. Best is trial 0 with value: 0.688634487717305.\u001b[0m\n",
            "\u001b[32m[I 2022-11-27 10:25:26,949]\u001b[0m Trial 5 finished with value: 0.688634487717305 and parameters: {'scalers': 'minmax', 'var_smoothing': 1.0495427649405376e-09}. Best is trial 0 with value: 0.688634487717305.\u001b[0m\n",
            "\u001b[32m[I 2022-11-27 10:25:26,984]\u001b[0m Trial 6 finished with value: 0.688634487717305 and parameters: {'scalers': 'standard', 'var_smoothing': 1.2713516576204174e-09}. Best is trial 0 with value: 0.688634487717305.\u001b[0m\n",
            "\u001b[32m[I 2022-11-27 10:25:27,046]\u001b[0m Trial 7 finished with value: 0.688634487717305 and parameters: {'scalers': 'robust', 'var_smoothing': 7.557861855309373e-10}. Best is trial 0 with value: 0.688634487717305.\u001b[0m\n",
            "\u001b[32m[I 2022-11-27 10:25:27,109]\u001b[0m Trial 8 finished with value: 0.688634487717305 and parameters: {'scalers': 'robust', 'var_smoothing': 1.7125960221746919e-09}. Best is trial 0 with value: 0.688634487717305.\u001b[0m\n",
            "\u001b[32m[I 2022-11-27 10:25:27,167]\u001b[0m Trial 9 finished with value: 0.688634487717305 and parameters: {'scalers': 'robust', 'var_smoothing': 1.1602287406094022e-09}. Best is trial 0 with value: 0.688634487717305.\u001b[0m\n",
            "\u001b[32m[I 2022-11-27 10:25:27,204]\u001b[0m Trial 10 finished with value: 0.688634487717305 and parameters: {'scalers': 'standard', 'var_smoothing': 1.4807272134327033e-09}. Best is trial 0 with value: 0.688634487717305.\u001b[0m\n",
            "\u001b[32m[I 2022-11-27 10:25:27,241]\u001b[0m Trial 11 finished with value: 0.688634487717305 and parameters: {'scalers': 'minmax', 'var_smoothing': 1.5511993117875338e-09}. Best is trial 0 with value: 0.688634487717305.\u001b[0m\n",
            "\u001b[32m[I 2022-11-27 10:25:27,278]\u001b[0m Trial 12 finished with value: 0.688634487717305 and parameters: {'scalers': 'minmax', 'var_smoothing': 1.8614971929237771e-09}. Best is trial 0 with value: 0.688634487717305.\u001b[0m\n",
            "\u001b[32m[I 2022-11-27 10:25:27,315]\u001b[0m Trial 13 finished with value: 0.688634487717305 and parameters: {'scalers': 'minmax', 'var_smoothing': 1.412993887560281e-09}. Best is trial 0 with value: 0.688634487717305.\u001b[0m\n",
            "\u001b[32m[I 2022-11-27 10:25:27,352]\u001b[0m Trial 14 finished with value: 0.688634487717305 and parameters: {'scalers': 'standard', 'var_smoothing': 5.197650986950108e-10}. Best is trial 0 with value: 0.688634487717305.\u001b[0m\n",
            "\u001b[32m[I 2022-11-27 10:25:27,388]\u001b[0m Trial 15 finished with value: 0.688634487717305 and parameters: {'scalers': 'minmax', 'var_smoothing': 1.7061002521272418e-09}. Best is trial 0 with value: 0.688634487717305.\u001b[0m\n",
            "\u001b[32m[I 2022-11-27 10:25:27,426]\u001b[0m Trial 16 finished with value: 0.688634487717305 and parameters: {'scalers': 'standard', 'var_smoothing': 1.6923782452741103e-09}. Best is trial 0 with value: 0.688634487717305.\u001b[0m\n",
            "\u001b[32m[I 2022-11-27 10:25:27,465]\u001b[0m Trial 17 finished with value: 0.688634487717305 and parameters: {'scalers': 'standard', 'var_smoothing': 5.30045716227062e-10}. Best is trial 0 with value: 0.688634487717305.\u001b[0m\n",
            "\u001b[32m[I 2022-11-27 10:25:27,513]\u001b[0m Trial 18 finished with value: 0.688634487717305 and parameters: {'scalers': 'minmax', 'var_smoothing': 1.3172938730276616e-09}. Best is trial 0 with value: 0.688634487717305.\u001b[0m\n",
            "\u001b[32m[I 2022-11-27 10:25:27,554]\u001b[0m Trial 19 finished with value: 0.688634487717305 and parameters: {'scalers': 'standard', 'var_smoothing': 1.5948606295415028e-09}. Best is trial 0 with value: 0.688634487717305.\u001b[0m\n",
            "\u001b[32m[I 2022-11-27 10:25:27,592]\u001b[0m Trial 20 finished with value: 0.688634487717305 and parameters: {'scalers': 'standard', 'var_smoothing': 5.190488753479305e-10}. Best is trial 0 with value: 0.688634487717305.\u001b[0m\n",
            "\u001b[32m[I 2022-11-27 10:25:27,630]\u001b[0m Trial 21 finished with value: 0.688634487717305 and parameters: {'scalers': 'standard', 'var_smoothing': 1.3106099096543073e-09}. Best is trial 0 with value: 0.688634487717305.\u001b[0m\n",
            "\u001b[32m[I 2022-11-27 10:25:27,668]\u001b[0m Trial 22 finished with value: 0.688634487717305 and parameters: {'scalers': 'standard', 'var_smoothing': 1.4291239006817256e-09}. Best is trial 0 with value: 0.688634487717305.\u001b[0m\n",
            "\u001b[32m[I 2022-11-27 10:25:27,709]\u001b[0m Trial 23 finished with value: 0.688634487717305 and parameters: {'scalers': 'standard', 'var_smoothing': 1.5679667033201176e-09}. Best is trial 0 with value: 0.688634487717305.\u001b[0m\n",
            "\u001b[32m[I 2022-11-27 10:25:27,745]\u001b[0m Trial 24 finished with value: 0.688634487717305 and parameters: {'scalers': 'standard', 'var_smoothing': 1.1848150349764441e-09}. Best is trial 0 with value: 0.688634487717305.\u001b[0m\n",
            "\u001b[32m[I 2022-11-27 10:25:27,784]\u001b[0m Trial 25 finished with value: 0.688634487717305 and parameters: {'scalers': 'standard', 'var_smoothing': 1.4084386958879408e-09}. Best is trial 0 with value: 0.688634487717305.\u001b[0m\n",
            "\u001b[32m[I 2022-11-27 10:25:27,823]\u001b[0m Trial 26 finished with value: 0.688634487717305 and parameters: {'scalers': 'standard', 'var_smoothing': 1.5800600221070076e-09}. Best is trial 0 with value: 0.688634487717305.\u001b[0m\n",
            "\u001b[32m[I 2022-11-27 10:25:27,885]\u001b[0m Trial 27 finished with value: 0.688634487717305 and parameters: {'scalers': 'robust', 'var_smoothing': 1.0959100315527474e-09}. Best is trial 0 with value: 0.688634487717305.\u001b[0m\n",
            "\u001b[32m[I 2022-11-27 10:25:27,923]\u001b[0m Trial 28 finished with value: 0.688634487717305 and parameters: {'scalers': 'standard', 'var_smoothing': 1.2051007300097287e-09}. Best is trial 0 with value: 0.688634487717305.\u001b[0m\n",
            "\u001b[32m[I 2022-11-27 10:25:27,961]\u001b[0m Trial 29 finished with value: 0.688634487717305 and parameters: {'scalers': 'standard', 'var_smoothing': 1.8194208900897693e-09}. Best is trial 0 with value: 0.688634487717305.\u001b[0m\n",
            "\u001b[32m[I 2022-11-27 10:25:28,023]\u001b[0m Trial 30 finished with value: 0.688634487717305 and parameters: {'scalers': 'robust', 'var_smoothing': 1.0650115122784871e-09}. Best is trial 0 with value: 0.688634487717305.\u001b[0m\n",
            "\u001b[32m[I 2022-11-27 10:25:28,094]\u001b[0m Trial 31 finished with value: 0.688634487717305 and parameters: {'scalers': 'robust', 'var_smoothing': 9.52466922683714e-10}. Best is trial 0 with value: 0.688634487717305.\u001b[0m\n",
            "\u001b[32m[I 2022-11-27 10:25:28,165]\u001b[0m Trial 32 finished with value: 0.688634487717305 and parameters: {'scalers': 'robust', 'var_smoothing': 1.953512745951692e-09}. Best is trial 0 with value: 0.688634487717305.\u001b[0m\n",
            "\u001b[32m[I 2022-11-27 10:25:28,226]\u001b[0m Trial 33 finished with value: 0.688634487717305 and parameters: {'scalers': 'robust', 'var_smoothing': 9.664523082837961e-10}. Best is trial 0 with value: 0.688634487717305.\u001b[0m\n",
            "\u001b[32m[I 2022-11-27 10:25:28,286]\u001b[0m Trial 34 finished with value: 0.688634487717305 and parameters: {'scalers': 'robust', 'var_smoothing': 8.330723150375405e-10}. Best is trial 0 with value: 0.688634487717305.\u001b[0m\n",
            "\u001b[32m[I 2022-11-27 10:25:28,326]\u001b[0m Trial 35 finished with value: 0.688634487717305 and parameters: {'scalers': 'standard', 'var_smoothing': 1.3157615411800189e-09}. Best is trial 0 with value: 0.688634487717305.\u001b[0m\n",
            "\u001b[32m[I 2022-11-27 10:25:28,364]\u001b[0m Trial 36 finished with value: 0.688634487717305 and parameters: {'scalers': 'standard', 'var_smoothing': 1.3974433246424017e-09}. Best is trial 0 with value: 0.688634487717305.\u001b[0m\n",
            "\u001b[32m[I 2022-11-27 10:25:28,403]\u001b[0m Trial 37 finished with value: 0.688634487717305 and parameters: {'scalers': 'standard', 'var_smoothing': 6.116819147231978e-10}. Best is trial 0 with value: 0.688634487717305.\u001b[0m\n",
            "\u001b[32m[I 2022-11-27 10:25:28,442]\u001b[0m Trial 38 finished with value: 0.688634487717305 and parameters: {'scalers': 'standard', 'var_smoothing': 1.5140674503179649e-09}. Best is trial 0 with value: 0.688634487717305.\u001b[0m\n",
            "\u001b[32m[I 2022-11-27 10:25:28,480]\u001b[0m Trial 39 finished with value: 0.688634487717305 and parameters: {'scalers': 'standard', 'var_smoothing': 1.6264958540187892e-09}. Best is trial 0 with value: 0.688634487717305.\u001b[0m\n",
            "\u001b[32m[I 2022-11-27 10:25:28,519]\u001b[0m Trial 40 finished with value: 0.688634487717305 and parameters: {'scalers': 'standard', 'var_smoothing': 1.2245290292100993e-09}. Best is trial 0 with value: 0.688634487717305.\u001b[0m\n",
            "\u001b[32m[I 2022-11-27 10:25:28,557]\u001b[0m Trial 41 finished with value: 0.688634487717305 and parameters: {'scalers': 'standard', 'var_smoothing': 1.429108577815067e-09}. Best is trial 0 with value: 0.688634487717305.\u001b[0m\n",
            "\u001b[32m[I 2022-11-27 10:25:28,595]\u001b[0m Trial 42 finished with value: 0.688634487717305 and parameters: {'scalers': 'standard', 'var_smoothing': 1.642421531109817e-09}. Best is trial 0 with value: 0.688634487717305.\u001b[0m\n",
            "\u001b[32m[I 2022-11-27 10:25:28,633]\u001b[0m Trial 43 finished with value: 0.688634487717305 and parameters: {'scalers': 'standard', 'var_smoothing': 1.5208866811705468e-09}. Best is trial 0 with value: 0.688634487717305.\u001b[0m\n",
            "\u001b[32m[I 2022-11-27 10:25:28,711]\u001b[0m Trial 44 finished with value: 0.688634487717305 and parameters: {'scalers': 'robust', 'var_smoothing': 1.121154550740536e-09}. Best is trial 0 with value: 0.688634487717305.\u001b[0m\n",
            "\u001b[32m[I 2022-11-27 10:25:28,803]\u001b[0m Trial 45 finished with value: 0.688634487717305 and parameters: {'scalers': 'robust', 'var_smoothing': 1.0977966541439956e-09}. Best is trial 0 with value: 0.688634487717305.\u001b[0m\n",
            "\u001b[32m[I 2022-11-27 10:25:28,848]\u001b[0m Trial 46 finished with value: 0.688634487717305 and parameters: {'scalers': 'standard', 'var_smoothing': 1.2251798216100034e-09}. Best is trial 0 with value: 0.688634487717305.\u001b[0m\n",
            "\u001b[32m[I 2022-11-27 10:25:28,919]\u001b[0m Trial 47 finished with value: 0.688634487717305 and parameters: {'scalers': 'robust', 'var_smoothing': 1.3568764731494126e-09}. Best is trial 0 with value: 0.688634487717305.\u001b[0m\n",
            "\u001b[32m[I 2022-11-27 10:25:28,960]\u001b[0m Trial 48 finished with value: 0.688634487717305 and parameters: {'scalers': 'minmax', 'var_smoothing': 1.827093581532323e-09}. Best is trial 0 with value: 0.688634487717305.\u001b[0m\n",
            "\u001b[32m[I 2022-11-27 10:25:29,002]\u001b[0m Trial 49 finished with value: 0.688634487717305 and parameters: {'scalers': 'standard', 'var_smoothing': 1.75987686700821e-09}. Best is trial 0 with value: 0.688634487717305.\u001b[0m\n",
            "\u001b[32m[I 2022-11-27 10:25:29,075]\u001b[0m Trial 50 finished with value: 0.688634487717305 and parameters: {'scalers': 'robust', 'var_smoothing': 1.0122302679860535e-09}. Best is trial 0 with value: 0.688634487717305.\u001b[0m\n",
            "\u001b[32m[I 2022-11-27 10:25:29,152]\u001b[0m Trial 51 finished with value: 0.688634487717305 and parameters: {'scalers': 'robust', 'var_smoothing': 9.058182311908794e-10}. Best is trial 0 with value: 0.688634487717305.\u001b[0m\n",
            "\u001b[32m[I 2022-11-27 10:25:29,221]\u001b[0m Trial 52 finished with value: 0.688634487717305 and parameters: {'scalers': 'robust', 'var_smoothing': 1.8859453589651355e-09}. Best is trial 0 with value: 0.688634487717305.\u001b[0m\n",
            "\u001b[32m[I 2022-11-27 10:25:29,286]\u001b[0m Trial 53 finished with value: 0.688634487717305 and parameters: {'scalers': 'robust', 'var_smoothing': 1.972253819950142e-09}. Best is trial 0 with value: 0.688634487717305.\u001b[0m\n",
            "\u001b[32m[I 2022-11-27 10:25:29,364]\u001b[0m Trial 54 finished with value: 0.688634487717305 and parameters: {'scalers': 'robust', 'var_smoothing': 1.007717042740931e-09}. Best is trial 0 with value: 0.688634487717305.\u001b[0m\n",
            "\u001b[32m[I 2022-11-27 10:25:29,430]\u001b[0m Trial 55 finished with value: 0.688634487717305 and parameters: {'scalers': 'robust', 'var_smoothing': 9.494963086127064e-10}. Best is trial 0 with value: 0.688634487717305.\u001b[0m\n",
            "\u001b[32m[I 2022-11-27 10:25:29,495]\u001b[0m Trial 56 finished with value: 0.688634487717305 and parameters: {'scalers': 'robust', 'var_smoothing': 7.77172582435738e-10}. Best is trial 0 with value: 0.688634487717305.\u001b[0m\n",
            "\u001b[32m[I 2022-11-27 10:25:29,562]\u001b[0m Trial 57 finished with value: 0.688634487717305 and parameters: {'scalers': 'robust', 'var_smoothing': 8.40353561411811e-10}. Best is trial 0 with value: 0.688634487717305.\u001b[0m\n",
            "\u001b[32m[I 2022-11-27 10:25:29,624]\u001b[0m Trial 58 finished with value: 0.688634487717305 and parameters: {'scalers': 'robust', 'var_smoothing': 7.093294999996829e-10}. Best is trial 0 with value: 0.688634487717305.\u001b[0m\n",
            "\u001b[32m[I 2022-11-27 10:25:29,689]\u001b[0m Trial 59 finished with value: 0.688634487717305 and parameters: {'scalers': 'robust', 'var_smoothing': 8.734171756628585e-10}. Best is trial 0 with value: 0.688634487717305.\u001b[0m\n",
            "\u001b[32m[I 2022-11-27 10:25:29,728]\u001b[0m Trial 60 finished with value: 0.688634487717305 and parameters: {'scalers': 'minmax', 'var_smoothing': 1.2791372610621543e-09}. Best is trial 0 with value: 0.688634487717305.\u001b[0m\n",
            "\u001b[32m[I 2022-11-27 10:25:29,767]\u001b[0m Trial 61 finished with value: 0.688634487717305 and parameters: {'scalers': 'standard', 'var_smoothing': 6.316861000092228e-10}. Best is trial 0 with value: 0.688634487717305.\u001b[0m\n",
            "\u001b[32m[I 2022-11-27 10:25:29,806]\u001b[0m Trial 62 finished with value: 0.688634487717305 and parameters: {'scalers': 'standard', 'var_smoothing': 6.177346144363684e-10}. Best is trial 0 with value: 0.688634487717305.\u001b[0m\n",
            "\u001b[32m[I 2022-11-27 10:25:29,845]\u001b[0m Trial 63 finished with value: 0.688634487717305 and parameters: {'scalers': 'standard', 'var_smoothing': 1.3442462504604712e-09}. Best is trial 0 with value: 0.688634487717305.\u001b[0m\n",
            "\u001b[32m[I 2022-11-27 10:25:29,885]\u001b[0m Trial 64 finished with value: 0.688634487717305 and parameters: {'scalers': 'standard', 'var_smoothing': 1.480342851226284e-09}. Best is trial 0 with value: 0.688634487717305.\u001b[0m\n",
            "\u001b[32m[I 2022-11-27 10:25:29,925]\u001b[0m Trial 65 finished with value: 0.688634487717305 and parameters: {'scalers': 'standard', 'var_smoothing': 1.6429871537611152e-09}. Best is trial 0 with value: 0.688634487717305.\u001b[0m\n",
            "\u001b[32m[I 2022-11-27 10:25:29,971]\u001b[0m Trial 66 finished with value: 0.688634487717305 and parameters: {'scalers': 'standard', 'var_smoothing': 1.492595374775144e-09}. Best is trial 0 with value: 0.688634487717305.\u001b[0m\n",
            "\u001b[32m[I 2022-11-27 10:25:30,013]\u001b[0m Trial 67 finished with value: 0.688634487717305 and parameters: {'scalers': 'standard', 'var_smoothing': 1.3893051540581567e-09}. Best is trial 0 with value: 0.688634487717305.\u001b[0m\n",
            "\u001b[32m[I 2022-11-27 10:25:30,053]\u001b[0m Trial 68 finished with value: 0.688634487717305 and parameters: {'scalers': 'standard', 'var_smoothing': 1.4513382389996573e-09}. Best is trial 0 with value: 0.688634487717305.\u001b[0m\n",
            "\u001b[32m[I 2022-11-27 10:25:30,095]\u001b[0m Trial 69 finished with value: 0.688634487717305 and parameters: {'scalers': 'standard', 'var_smoothing': 1.537328177603912e-09}. Best is trial 0 with value: 0.688634487717305.\u001b[0m\n",
            "\u001b[32m[I 2022-11-27 10:25:30,143]\u001b[0m Trial 70 finished with value: 0.688634487717305 and parameters: {'scalers': 'standard', 'var_smoothing': 1.6868562491285743e-09}. Best is trial 0 with value: 0.688634487717305.\u001b[0m\n",
            "\u001b[32m[I 2022-11-27 10:25:30,181]\u001b[0m Trial 71 finished with value: 0.688634487717305 and parameters: {'scalers': 'minmax', 'var_smoothing': 1.1527073070649304e-09}. Best is trial 0 with value: 0.688634487717305.\u001b[0m\n",
            "\u001b[32m[I 2022-11-27 10:25:30,223]\u001b[0m Trial 72 finished with value: 0.688634487717305 and parameters: {'scalers': 'minmax', 'var_smoothing': 1.9015064761164458e-09}. Best is trial 0 with value: 0.688634487717305.\u001b[0m\n",
            "\u001b[32m[I 2022-11-27 10:25:30,260]\u001b[0m Trial 73 finished with value: 0.688634487717305 and parameters: {'scalers': 'minmax', 'var_smoothing': 1.906781730574827e-09}. Best is trial 0 with value: 0.688634487717305.\u001b[0m\n",
            "\u001b[32m[I 2022-11-27 10:25:30,324]\u001b[0m Trial 74 finished with value: 0.688634487717305 and parameters: {'scalers': 'robust', 'var_smoothing': 1.7692431139987524e-09}. Best is trial 0 with value: 0.688634487717305.\u001b[0m\n",
            "\u001b[32m[I 2022-11-27 10:25:30,385]\u001b[0m Trial 75 finished with value: 0.688634487717305 and parameters: {'scalers': 'robust', 'var_smoothing': 1.792075772486021e-09}. Best is trial 0 with value: 0.688634487717305.\u001b[0m\n",
            "\u001b[32m[I 2022-11-27 10:25:30,447]\u001b[0m Trial 76 finished with value: 0.688634487717305 and parameters: {'scalers': 'robust', 'var_smoothing': 1.9816135807661045e-09}. Best is trial 0 with value: 0.688634487717305.\u001b[0m\n",
            "\u001b[32m[I 2022-11-27 10:25:30,510]\u001b[0m Trial 77 finished with value: 0.688634487717305 and parameters: {'scalers': 'robust', 'var_smoothing': 1.0365556396339277e-09}. Best is trial 0 with value: 0.688634487717305.\u001b[0m\n",
            "\u001b[32m[I 2022-11-27 10:25:30,578]\u001b[0m Trial 78 finished with value: 0.688634487717305 and parameters: {'scalers': 'robust', 'var_smoothing': 1.008422654529632e-09}. Best is trial 0 with value: 0.688634487717305.\u001b[0m\n",
            "\u001b[32m[I 2022-11-27 10:25:30,641]\u001b[0m Trial 79 finished with value: 0.688634487717305 and parameters: {'scalers': 'robust', 'var_smoothing': 8.973876393879931e-10}. Best is trial 0 with value: 0.688634487717305.\u001b[0m\n",
            "\u001b[32m[I 2022-11-27 10:25:30,706]\u001b[0m Trial 80 finished with value: 0.688634487717305 and parameters: {'scalers': 'robust', 'var_smoothing': 7.720476723038605e-10}. Best is trial 0 with value: 0.688634487717305.\u001b[0m\n",
            "\u001b[32m[I 2022-11-27 10:25:30,768]\u001b[0m Trial 81 finished with value: 0.688634487717305 and parameters: {'scalers': 'robust', 'var_smoothing': 8.080568459854603e-10}. Best is trial 0 with value: 0.688634487717305.\u001b[0m\n",
            "\u001b[32m[I 2022-11-27 10:25:30,830]\u001b[0m Trial 82 finished with value: 0.688634487717305 and parameters: {'scalers': 'robust', 'var_smoothing': 7.280703772735195e-10}. Best is trial 0 with value: 0.688634487717305.\u001b[0m\n",
            "\u001b[32m[I 2022-11-27 10:25:30,892]\u001b[0m Trial 83 finished with value: 0.688634487717305 and parameters: {'scalers': 'robust', 'var_smoothing': 6.863517571077214e-10}. Best is trial 0 with value: 0.688634487717305.\u001b[0m\n",
            "\u001b[32m[I 2022-11-27 10:25:30,954]\u001b[0m Trial 84 finished with value: 0.688634487717305 and parameters: {'scalers': 'robust', 'var_smoothing': 8.746043458446278e-10}. Best is trial 0 with value: 0.688634487717305.\u001b[0m\n",
            "\u001b[32m[I 2022-11-27 10:25:31,019]\u001b[0m Trial 85 finished with value: 0.688634487717305 and parameters: {'scalers': 'robust', 'var_smoothing': 8.226035553455656e-10}. Best is trial 0 with value: 0.688634487717305.\u001b[0m\n",
            "\u001b[32m[I 2022-11-27 10:25:31,056]\u001b[0m Trial 86 finished with value: 0.688634487717305 and parameters: {'scalers': 'minmax', 'var_smoothing': 6.78560422104032e-10}. Best is trial 0 with value: 0.688634487717305.\u001b[0m\n",
            "\u001b[32m[I 2022-11-27 10:25:31,094]\u001b[0m Trial 87 finished with value: 0.688634487717305 and parameters: {'scalers': 'minmax', 'var_smoothing': 5.906198022468098e-10}. Best is trial 0 with value: 0.688634487717305.\u001b[0m\n",
            "\u001b[32m[I 2022-11-27 10:25:31,134]\u001b[0m Trial 88 finished with value: 0.688634487717305 and parameters: {'scalers': 'minmax', 'var_smoothing': 5.887149529022756e-10}. Best is trial 0 with value: 0.688634487717305.\u001b[0m\n",
            "\u001b[32m[I 2022-11-27 10:25:31,189]\u001b[0m Trial 89 finished with value: 0.688634487717305 and parameters: {'scalers': 'minmax', 'var_smoothing': 6.465049372903793e-10}. Best is trial 0 with value: 0.688634487717305.\u001b[0m\n",
            "\u001b[32m[I 2022-11-27 10:25:31,235]\u001b[0m Trial 90 finished with value: 0.688634487717305 and parameters: {'scalers': 'standard', 'var_smoothing': 1.2657948140771854e-09}. Best is trial 0 with value: 0.688634487717305.\u001b[0m\n",
            "\u001b[32m[I 2022-11-27 10:25:31,277]\u001b[0m Trial 91 finished with value: 0.688634487717305 and parameters: {'scalers': 'standard', 'var_smoothing': 1.2899526634220362e-09}. Best is trial 0 with value: 0.688634487717305.\u001b[0m\n",
            "\u001b[32m[I 2022-11-27 10:25:31,316]\u001b[0m Trial 92 finished with value: 0.688634487717305 and parameters: {'scalers': 'standard', 'var_smoothing': 1.4741625923430695e-09}. Best is trial 0 with value: 0.688634487717305.\u001b[0m\n",
            "\u001b[32m[I 2022-11-27 10:25:31,355]\u001b[0m Trial 93 finished with value: 0.688634487717305 and parameters: {'scalers': 'standard', 'var_smoothing': 5.529790317349601e-10}. Best is trial 0 with value: 0.688634487717305.\u001b[0m\n",
            "\u001b[32m[I 2022-11-27 10:25:31,392]\u001b[0m Trial 94 finished with value: 0.688634487717305 and parameters: {'scalers': 'standard', 'var_smoothing': 1.3665151245842661e-09}. Best is trial 0 with value: 0.688634487717305.\u001b[0m\n",
            "\u001b[32m[I 2022-11-27 10:25:31,429]\u001b[0m Trial 95 finished with value: 0.688634487717305 and parameters: {'scalers': 'standard', 'var_smoothing': 1.464524107518079e-09}. Best is trial 0 with value: 0.688634487717305.\u001b[0m\n",
            "\u001b[32m[I 2022-11-27 10:25:31,469]\u001b[0m Trial 96 finished with value: 0.688634487717305 and parameters: {'scalers': 'standard', 'var_smoothing': 1.5354280860266138e-09}. Best is trial 0 with value: 0.688634487717305.\u001b[0m\n",
            "\u001b[32m[I 2022-11-27 10:25:31,509]\u001b[0m Trial 97 finished with value: 0.688634487717305 and parameters: {'scalers': 'standard', 'var_smoothing': 1.6167500600425112e-09}. Best is trial 0 with value: 0.688634487717305.\u001b[0m\n",
            "\u001b[32m[I 2022-11-27 10:25:31,546]\u001b[0m Trial 98 finished with value: 0.688634487717305 and parameters: {'scalers': 'standard', 'var_smoothing': 1.6601436547878437e-09}. Best is trial 0 with value: 0.688634487717305.\u001b[0m\n",
            "\u001b[32m[I 2022-11-27 10:25:31,583]\u001b[0m Trial 99 finished with value: 0.688634487717305 and parameters: {'scalers': 'standard', 'var_smoothing': 1.5704301048689618e-09}. Best is trial 0 with value: 0.688634487717305.\u001b[0m\n",
            "\u001b[32m[I 2022-11-27 10:25:31,624]\u001b[0m Trial 100 finished with value: 0.688634487717305 and parameters: {'scalers': 'minmax', 'var_smoothing': 1.501920913090857e-09}. Best is trial 0 with value: 0.688634487717305.\u001b[0m\n",
            "\u001b[32m[I 2022-11-27 10:25:31,662]\u001b[0m Trial 101 finished with value: 0.688634487717305 and parameters: {'scalers': 'standard', 'var_smoothing': 1.3693695629642546e-09}. Best is trial 0 with value: 0.688634487717305.\u001b[0m\n",
            "\u001b[32m[I 2022-11-27 10:25:31,697]\u001b[0m Trial 102 finished with value: 0.688634487717305 and parameters: {'scalers': 'minmax', 'var_smoothing': 1.898031132065442e-09}. Best is trial 0 with value: 0.688634487717305.\u001b[0m\n",
            "\u001b[32m[I 2022-11-27 10:25:31,732]\u001b[0m Trial 103 finished with value: 0.688634487717305 and parameters: {'scalers': 'minmax', 'var_smoothing': 1.7334271926797337e-09}. Best is trial 0 with value: 0.688634487717305.\u001b[0m\n",
            "\u001b[32m[I 2022-11-27 10:25:31,770]\u001b[0m Trial 104 finished with value: 0.688634487717305 and parameters: {'scalers': 'minmax', 'var_smoothing': 1.787625400432581e-09}. Best is trial 0 with value: 0.688634487717305.\u001b[0m\n",
            "\u001b[32m[I 2022-11-27 10:25:31,807]\u001b[0m Trial 105 finished with value: 0.688634487717305 and parameters: {'scalers': 'minmax', 'var_smoothing': 1.9192378047439286e-09}. Best is trial 0 with value: 0.688634487717305.\u001b[0m\n",
            "\u001b[32m[I 2022-11-27 10:25:31,844]\u001b[0m Trial 106 finished with value: 0.688634487717305 and parameters: {'scalers': 'minmax', 'var_smoothing': 1.8288746705848817e-09}. Best is trial 0 with value: 0.688634487717305.\u001b[0m\n",
            "\u001b[32m[I 2022-11-27 10:25:31,886]\u001b[0m Trial 107 finished with value: 0.688634487717305 and parameters: {'scalers': 'minmax', 'var_smoothing': 1.999771888296951e-09}. Best is trial 0 with value: 0.688634487717305.\u001b[0m\n",
            "\u001b[32m[I 2022-11-27 10:25:31,950]\u001b[0m Trial 108 finished with value: 0.688634487717305 and parameters: {'scalers': 'robust', 'var_smoothing': 1.1693139093771105e-09}. Best is trial 0 with value: 0.688634487717305.\u001b[0m\n",
            "\u001b[32m[I 2022-11-27 10:25:32,010]\u001b[0m Trial 109 finished with value: 0.688634487717305 and parameters: {'scalers': 'robust', 'var_smoothing': 1.8580452333629334e-09}. Best is trial 0 with value: 0.688634487717305.\u001b[0m\n",
            "\u001b[32m[I 2022-11-27 10:25:32,079]\u001b[0m Trial 110 finished with value: 0.688634487717305 and parameters: {'scalers': 'robust', 'var_smoothing': 1.1347759085758215e-09}. Best is trial 0 with value: 0.688634487717305.\u001b[0m\n",
            "\u001b[32m[I 2022-11-27 10:25:32,143]\u001b[0m Trial 111 finished with value: 0.688634487717305 and parameters: {'scalers': 'robust', 'var_smoothing': 1.0132676935067117e-09}. Best is trial 0 with value: 0.688634487717305.\u001b[0m\n",
            "\u001b[32m[I 2022-11-27 10:25:32,214]\u001b[0m Trial 112 finished with value: 0.688634487717305 and parameters: {'scalers': 'robust', 'var_smoothing': 1.930060444408205e-09}. Best is trial 0 with value: 0.688634487717305.\u001b[0m\n",
            "\u001b[32m[I 2022-11-27 10:25:32,273]\u001b[0m Trial 113 finished with value: 0.688634487717305 and parameters: {'scalers': 'robust', 'var_smoothing': 9.11356330695045e-10}. Best is trial 0 with value: 0.688634487717305.\u001b[0m\n",
            "\u001b[32m[I 2022-11-27 10:25:32,335]\u001b[0m Trial 114 finished with value: 0.688634487717305 and parameters: {'scalers': 'robust', 'var_smoothing': 7.737492197238477e-10}. Best is trial 0 with value: 0.688634487717305.\u001b[0m\n",
            "\u001b[32m[I 2022-11-27 10:25:32,403]\u001b[0m Trial 115 finished with value: 0.688634487717305 and parameters: {'scalers': 'robust', 'var_smoothing': 7.352992040966779e-10}. Best is trial 0 with value: 0.688634487717305.\u001b[0m\n",
            "\u001b[32m[I 2022-11-27 10:25:32,464]\u001b[0m Trial 116 finished with value: 0.688634487717305 and parameters: {'scalers': 'robust', 'var_smoothing': 8.114828456373338e-10}. Best is trial 0 with value: 0.688634487717305.\u001b[0m\n",
            "\u001b[32m[I 2022-11-27 10:25:32,528]\u001b[0m Trial 117 finished with value: 0.688634487717305 and parameters: {'scalers': 'robust', 'var_smoothing': 7.132246759999535e-10}. Best is trial 0 with value: 0.688634487717305.\u001b[0m\n",
            "\u001b[32m[I 2022-11-27 10:25:32,591]\u001b[0m Trial 118 finished with value: 0.688634487717305 and parameters: {'scalers': 'robust', 'var_smoothing': 8.68183166465323e-10}. Best is trial 0 with value: 0.688634487717305.\u001b[0m\n",
            "\u001b[32m[I 2022-11-27 10:25:32,654]\u001b[0m Trial 119 finished with value: 0.688634487717305 and parameters: {'scalers': 'robust', 'var_smoothing': 6.684569890815244e-10}. Best is trial 0 with value: 0.688634487717305.\u001b[0m\n",
            "\u001b[32m[I 2022-11-27 10:25:32,725]\u001b[0m Trial 120 finished with value: 0.688634487717305 and parameters: {'scalers': 'robust', 'var_smoothing': 6.888862216175515e-10}. Best is trial 0 with value: 0.688634487717305.\u001b[0m\n",
            "\u001b[32m[I 2022-11-27 10:25:32,788]\u001b[0m Trial 121 finished with value: 0.688634487717305 and parameters: {'scalers': 'robust', 'var_smoothing': 8.078728840434017e-10}. Best is trial 0 with value: 0.688634487717305.\u001b[0m\n",
            "\u001b[32m[I 2022-11-27 10:25:32,848]\u001b[0m Trial 122 finished with value: 0.688634487717305 and parameters: {'scalers': 'robust', 'var_smoothing': 8.684074212087943e-10}. Best is trial 0 with value: 0.688634487717305.\u001b[0m\n",
            "\u001b[32m[I 2022-11-27 10:25:32,886]\u001b[0m Trial 123 finished with value: 0.688634487717305 and parameters: {'scalers': 'minmax', 'var_smoothing': 5.785525690195358e-10}. Best is trial 0 with value: 0.688634487717305.\u001b[0m\n",
            "\u001b[32m[I 2022-11-27 10:25:32,922]\u001b[0m Trial 124 finished with value: 0.688634487717305 and parameters: {'scalers': 'minmax', 'var_smoothing': 5.873765447799066e-10}. Best is trial 0 with value: 0.688634487717305.\u001b[0m\n",
            "\u001b[32m[I 2022-11-27 10:25:32,963]\u001b[0m Trial 125 finished with value: 0.688634487717305 and parameters: {'scalers': 'minmax', 'var_smoothing': 6.541719530530726e-10}. Best is trial 0 with value: 0.688634487717305.\u001b[0m\n",
            "\u001b[32m[I 2022-11-27 10:25:33,001]\u001b[0m Trial 126 finished with value: 0.688634487717305 and parameters: {'scalers': 'minmax', 'var_smoothing': 5.072570995545952e-10}. Best is trial 0 with value: 0.688634487717305.\u001b[0m\n",
            "\u001b[32m[I 2022-11-27 10:25:33,038]\u001b[0m Trial 127 finished with value: 0.688634487717305 and parameters: {'scalers': 'minmax', 'var_smoothing': 1.2823789577228483e-09}. Best is trial 0 with value: 0.688634487717305.\u001b[0m\n",
            "\u001b[32m[I 2022-11-27 10:25:33,081]\u001b[0m Trial 128 finished with value: 0.688634487717305 and parameters: {'scalers': 'minmax', 'var_smoothing': 5.669497418683468e-10}. Best is trial 0 with value: 0.688634487717305.\u001b[0m\n",
            "\u001b[32m[I 2022-11-27 10:25:33,124]\u001b[0m Trial 129 finished with value: 0.688634487717305 and parameters: {'scalers': 'minmax', 'var_smoothing': 6.426809209849366e-10}. Best is trial 0 with value: 0.688634487717305.\u001b[0m\n",
            "\u001b[32m[I 2022-11-27 10:25:33,163]\u001b[0m Trial 130 finished with value: 0.688634487717305 and parameters: {'scalers': 'standard', 'var_smoothing': 1.3283720090816818e-09}. Best is trial 0 with value: 0.688634487717305.\u001b[0m\n",
            "\u001b[32m[I 2022-11-27 10:25:33,211]\u001b[0m Trial 131 finished with value: 0.688634487717305 and parameters: {'scalers': 'standard', 'var_smoothing': 5.578680574831137e-10}. Best is trial 0 with value: 0.688634487717305.\u001b[0m\n",
            "\u001b[32m[I 2022-11-27 10:25:33,250]\u001b[0m Trial 132 finished with value: 0.688634487717305 and parameters: {'scalers': 'standard', 'var_smoothing': 1.434271722371681e-09}. Best is trial 0 with value: 0.688634487717305.\u001b[0m\n",
            "\u001b[32m[I 2022-11-27 10:25:33,291]\u001b[0m Trial 133 finished with value: 0.688634487717305 and parameters: {'scalers': 'standard', 'var_smoothing': 1.2486929038409255e-09}. Best is trial 0 with value: 0.688634487717305.\u001b[0m\n",
            "\u001b[32m[I 2022-11-27 10:25:33,332]\u001b[0m Trial 134 finished with value: 0.688634487717305 and parameters: {'scalers': 'standard', 'var_smoothing': 1.3856246000588279e-09}. Best is trial 0 with value: 0.688634487717305.\u001b[0m\n",
            "\u001b[32m[I 2022-11-27 10:25:33,373]\u001b[0m Trial 135 finished with value: 0.688634487717305 and parameters: {'scalers': 'standard', 'var_smoothing': 5.380362744436256e-10}. Best is trial 0 with value: 0.688634487717305.\u001b[0m\n",
            "\u001b[32m[I 2022-11-27 10:25:33,412]\u001b[0m Trial 136 finished with value: 0.688634487717305 and parameters: {'scalers': 'standard', 'var_smoothing': 1.560523543771092e-09}. Best is trial 0 with value: 0.688634487717305.\u001b[0m\n",
            "\u001b[32m[I 2022-11-27 10:25:33,451]\u001b[0m Trial 137 finished with value: 0.688634487717305 and parameters: {'scalers': 'standard', 'var_smoothing': 1.5907451180363935e-09}. Best is trial 0 with value: 0.688634487717305.\u001b[0m\n",
            "\u001b[32m[I 2022-11-27 10:25:33,489]\u001b[0m Trial 138 finished with value: 0.688634487717305 and parameters: {'scalers': 'standard', 'var_smoothing': 1.4709443195991916e-09}. Best is trial 0 with value: 0.688634487717305.\u001b[0m\n",
            "\u001b[32m[I 2022-11-27 10:25:33,527]\u001b[0m Trial 139 finished with value: 0.688634487717305 and parameters: {'scalers': 'standard', 'var_smoothing': 1.5107744857366541e-09}. Best is trial 0 with value: 0.688634487717305.\u001b[0m\n",
            "\u001b[32m[I 2022-11-27 10:25:33,566]\u001b[0m Trial 140 finished with value: 0.688634487717305 and parameters: {'scalers': 'standard', 'var_smoothing': 1.3570654010888662e-09}. Best is trial 0 with value: 0.688634487717305.\u001b[0m\n",
            "\u001b[32m[I 2022-11-27 10:25:33,603]\u001b[0m Trial 141 finished with value: 0.688634487717305 and parameters: {'scalers': 'standard', 'var_smoothing': 1.618230833690954e-09}. Best is trial 0 with value: 0.688634487717305.\u001b[0m\n",
            "\u001b[32m[I 2022-11-27 10:25:33,645]\u001b[0m Trial 142 finished with value: 0.688634487717305 and parameters: {'scalers': 'standard', 'var_smoothing': 1.671026145238343e-09}. Best is trial 0 with value: 0.688634487717305.\u001b[0m\n",
            "\u001b[32m[I 2022-11-27 10:25:33,684]\u001b[0m Trial 143 finished with value: 0.688634487717305 and parameters: {'scalers': 'standard', 'var_smoothing': 1.7375746055953254e-09}. Best is trial 0 with value: 0.688634487717305.\u001b[0m\n",
            "\u001b[32m[I 2022-11-27 10:25:33,724]\u001b[0m Trial 144 finished with value: 0.688634487717305 and parameters: {'scalers': 'standard', 'var_smoothing': 1.7212323026313244e-09}. Best is trial 0 with value: 0.688634487717305.\u001b[0m\n",
            "\u001b[32m[I 2022-11-27 10:25:33,759]\u001b[0m Trial 145 finished with value: 0.688634487717305 and parameters: {'scalers': 'minmax', 'var_smoothing': 1.456469816035802e-09}. Best is trial 0 with value: 0.688634487717305.\u001b[0m\n",
            "\u001b[32m[I 2022-11-27 10:25:33,797]\u001b[0m Trial 146 finished with value: 0.688634487717305 and parameters: {'scalers': 'standard', 'var_smoothing': 1.8163815671655375e-09}. Best is trial 0 with value: 0.688634487717305.\u001b[0m\n",
            "\u001b[32m[I 2022-11-27 10:25:33,833]\u001b[0m Trial 147 finished with value: 0.688634487717305 and parameters: {'scalers': 'minmax', 'var_smoothing': 1.8666472857345564e-09}. Best is trial 0 with value: 0.688634487717305.\u001b[0m\n",
            "\u001b[32m[I 2022-11-27 10:25:33,871]\u001b[0m Trial 148 finished with value: 0.688634487717305 and parameters: {'scalers': 'minmax', 'var_smoothing': 1.9355590313709397e-09}. Best is trial 0 with value: 0.688634487717305.\u001b[0m\n",
            "\u001b[32m[I 2022-11-27 10:25:34,020]\u001b[0m Trial 149 finished with value: 0.688634487717305 and parameters: {'scalers': 'minmax', 'var_smoothing': 1.5322262783417787e-09}. Best is trial 0 with value: 0.688634487717305.\u001b[0m\n",
            "\u001b[32m[I 2022-11-27 10:25:34,058]\u001b[0m Trial 150 finished with value: 0.688634487717305 and parameters: {'scalers': 'minmax', 'var_smoothing': 1.8332164164925069e-09}. Best is trial 0 with value: 0.688634487717305.\u001b[0m\n",
            "\u001b[32m[I 2022-11-27 10:25:34,096]\u001b[0m Trial 151 finished with value: 0.688634487717305 and parameters: {'scalers': 'minmax', 'var_smoothing': 1.156353177764134e-09}. Best is trial 0 with value: 0.688634487717305.\u001b[0m\n",
            "\u001b[32m[I 2022-11-27 10:25:34,134]\u001b[0m Trial 152 finished with value: 0.688634487717305 and parameters: {'scalers': 'minmax', 'var_smoothing': 1.8587448863225e-09}. Best is trial 0 with value: 0.688634487717305.\u001b[0m\n",
            "\u001b[32m[I 2022-11-27 10:25:34,169]\u001b[0m Trial 153 finished with value: 0.688634487717305 and parameters: {'scalers': 'minmax', 'var_smoothing': 1.7736637345820968e-09}. Best is trial 0 with value: 0.688634487717305.\u001b[0m\n",
            "\u001b[32m[I 2022-11-27 10:25:34,212]\u001b[0m Trial 154 finished with value: 0.688634487717305 and parameters: {'scalers': 'minmax', 'var_smoothing': 1.9389894256596695e-09}. Best is trial 0 with value: 0.688634487717305.\u001b[0m\n",
            "\u001b[32m[I 2022-11-27 10:25:34,248]\u001b[0m Trial 155 finished with value: 0.688634487717305 and parameters: {'scalers': 'minmax', 'var_smoothing': 1.9817380035176244e-09}. Best is trial 0 with value: 0.688634487717305.\u001b[0m\n",
            "\u001b[32m[I 2022-11-27 10:25:34,309]\u001b[0m Trial 156 finished with value: 0.688634487717305 and parameters: {'scalers': 'robust', 'var_smoothing': 1.9278291846843085e-09}. Best is trial 0 with value: 0.688634487717305.\u001b[0m\n",
            "\u001b[32m[I 2022-11-27 10:25:34,346]\u001b[0m Trial 157 finished with value: 0.688634487717305 and parameters: {'scalers': 'minmax', 'var_smoothing': 1.892792047077918e-09}. Best is trial 0 with value: 0.688634487717305.\u001b[0m\n",
            "\u001b[32m[I 2022-11-27 10:25:34,408]\u001b[0m Trial 158 finished with value: 0.688634487717305 and parameters: {'scalers': 'robust', 'var_smoothing': 1.1023377705890934e-09}. Best is trial 0 with value: 0.688634487717305.\u001b[0m\n",
            "\u001b[32m[I 2022-11-27 10:25:34,445]\u001b[0m Trial 159 finished with value: 0.688634487717305 and parameters: {'scalers': 'minmax', 'var_smoothing': 1.046374069808449e-09}. Best is trial 0 with value: 0.688634487717305.\u001b[0m\n",
            "\u001b[32m[I 2022-11-27 10:25:34,509]\u001b[0m Trial 160 finished with value: 0.688634487717305 and parameters: {'scalers': 'robust', 'var_smoothing': 7.538274555740363e-10}. Best is trial 0 with value: 0.688634487717305.\u001b[0m\n",
            "\u001b[32m[I 2022-11-27 10:25:34,587]\u001b[0m Trial 161 finished with value: 0.688634487717305 and parameters: {'scalers': 'robust', 'var_smoothing': 1.857163131730482e-09}. Best is trial 0 with value: 0.688634487717305.\u001b[0m\n",
            "\u001b[32m[I 2022-11-27 10:25:34,661]\u001b[0m Trial 162 finished with value: 0.688634487717305 and parameters: {'scalers': 'robust', 'var_smoothing': 7.355703221582795e-10}. Best is trial 0 with value: 0.688634487717305.\u001b[0m\n",
            "\u001b[32m[I 2022-11-27 10:25:34,724]\u001b[0m Trial 163 finished with value: 0.688634487717305 and parameters: {'scalers': 'robust', 'var_smoothing': 9.370183391623113e-10}. Best is trial 0 with value: 0.688634487717305.\u001b[0m\n",
            "\u001b[32m[I 2022-11-27 10:25:34,789]\u001b[0m Trial 164 finished with value: 0.688634487717305 and parameters: {'scalers': 'robust', 'var_smoothing': 7.040621895278301e-10}. Best is trial 0 with value: 0.688634487717305.\u001b[0m\n",
            "\u001b[32m[I 2022-11-27 10:25:34,851]\u001b[0m Trial 165 finished with value: 0.688634487717305 and parameters: {'scalers': 'robust', 'var_smoothing': 1.9994178994942914e-09}. Best is trial 0 with value: 0.688634487717305.\u001b[0m\n",
            "\u001b[32m[I 2022-11-27 10:25:34,914]\u001b[0m Trial 166 finished with value: 0.688634487717305 and parameters: {'scalers': 'robust', 'var_smoothing': 8.05895300728411e-10}. Best is trial 0 with value: 0.688634487717305.\u001b[0m\n",
            "\u001b[32m[I 2022-11-27 10:25:34,977]\u001b[0m Trial 167 finished with value: 0.688634487717305 and parameters: {'scalers': 'robust', 'var_smoothing': 7.915752053962511e-10}. Best is trial 0 with value: 0.688634487717305.\u001b[0m\n",
            "\u001b[32m[I 2022-11-27 10:25:35,039]\u001b[0m Trial 168 finished with value: 0.688634487717305 and parameters: {'scalers': 'robust', 'var_smoothing': 9.025687400538566e-10}. Best is trial 0 with value: 0.688634487717305.\u001b[0m\n",
            "\u001b[32m[I 2022-11-27 10:25:35,103]\u001b[0m Trial 169 finished with value: 0.688634487717305 and parameters: {'scalers': 'robust', 'var_smoothing': 9.829643141900045e-10}. Best is trial 0 with value: 0.688634487717305.\u001b[0m\n",
            "\u001b[32m[I 2022-11-27 10:25:35,166]\u001b[0m Trial 170 finished with value: 0.688634487717305 and parameters: {'scalers': 'robust', 'var_smoothing': 8.81345408442584e-10}. Best is trial 0 with value: 0.688634487717305.\u001b[0m\n",
            "\u001b[32m[I 2022-11-27 10:25:35,241]\u001b[0m Trial 171 finished with value: 0.688634487717305 and parameters: {'scalers': 'robust', 'var_smoothing': 8.468978095653126e-10}. Best is trial 0 with value: 0.688634487717305.\u001b[0m\n",
            "\u001b[32m[I 2022-11-27 10:25:35,303]\u001b[0m Trial 172 finished with value: 0.688634487717305 and parameters: {'scalers': 'robust', 'var_smoothing': 6.717314152419307e-10}. Best is trial 0 with value: 0.688634487717305.\u001b[0m\n",
            "\u001b[32m[I 2022-11-27 10:25:35,368]\u001b[0m Trial 173 finished with value: 0.688634487717305 and parameters: {'scalers': 'robust', 'var_smoothing': 7.581940407545542e-10}. Best is trial 0 with value: 0.688634487717305.\u001b[0m\n",
            "\u001b[32m[I 2022-11-27 10:25:35,429]\u001b[0m Trial 174 finished with value: 0.688634487717305 and parameters: {'scalers': 'robust', 'var_smoothing': 5.917561660255697e-10}. Best is trial 0 with value: 0.688634487717305.\u001b[0m\n",
            "\u001b[32m[I 2022-11-27 10:25:35,494]\u001b[0m Trial 175 finished with value: 0.688634487717305 and parameters: {'scalers': 'robust', 'var_smoothing': 5.095068909328564e-10}. Best is trial 0 with value: 0.688634487717305.\u001b[0m\n",
            "\u001b[32m[I 2022-11-27 10:25:35,556]\u001b[0m Trial 176 finished with value: 0.688634487717305 and parameters: {'scalers': 'robust', 'var_smoothing': 5.690347482124952e-10}. Best is trial 0 with value: 0.688634487717305.\u001b[0m\n",
            "\u001b[32m[I 2022-11-27 10:25:35,620]\u001b[0m Trial 177 finished with value: 0.688634487717305 and parameters: {'scalers': 'robust', 'var_smoothing': 6.701778376479886e-10}. Best is trial 0 with value: 0.688634487717305.\u001b[0m\n",
            "\u001b[32m[I 2022-11-27 10:25:35,658]\u001b[0m Trial 178 finished with value: 0.688634487717305 and parameters: {'scalers': 'minmax', 'var_smoothing': 6.311507210417712e-10}. Best is trial 0 with value: 0.688634487717305.\u001b[0m\n",
            "\u001b[32m[I 2022-11-27 10:25:35,720]\u001b[0m Trial 179 finished with value: 0.688634487717305 and parameters: {'scalers': 'robust', 'var_smoothing': 7.136415000408167e-10}. Best is trial 0 with value: 0.688634487717305.\u001b[0m\n"
          ]
        }
      ],
      "source": [
        "gnb_sampler = TPESampler(seed=42) # create a seed for the sampler for reproducibility\n",
        "gnb_study = optuna.create_study(direction=\"maximize\", sampler=gnb_sampler)\n",
        "gnb_study.optimize(gnb_objective_f1, n_trials=180)"
      ]
    },
    {
      "cell_type": "code",
      "execution_count": 180,
      "metadata": {
        "colab": {
          "base_uri": "https://localhost:8080/",
          "height": 542
        },
        "id": "S_s4pyxybEtU",
        "outputId": "20c6cacf-1e58-4a5e-ead9-a0316d863ee5"
      },
      "outputs": [
        {
          "data": {
            "text/html": [
              "<html>\n",
              "<head><meta charset=\"utf-8\" /></head>\n",
              "<body>\n",
              "    <div>            <script src=\"https://cdnjs.cloudflare.com/ajax/libs/mathjax/2.7.5/MathJax.js?config=TeX-AMS-MML_SVG\"></script><script type=\"text/javascript\">if (window.MathJax) {MathJax.Hub.Config({SVG: {font: \"STIX-Web\"}});}</script>                <script type=\"text/javascript\">window.PlotlyConfig = {MathJaxConfig: 'local'};</script>\n",
              "        <script src=\"https://cdn.plot.ly/plotly-2.8.3.min.js\"></script>                <div id=\"d091fd37-be10-4e99-bb69-e679b5d90376\" class=\"plotly-graph-div\" style=\"height:525px; width:100%;\"></div>            <script type=\"text/javascript\">                                    window.PLOTLYENV=window.PLOTLYENV || {};                                    if (document.getElementById(\"d091fd37-be10-4e99-bb69-e679b5d90376\")) {                    Plotly.newPlot(                        \"d091fd37-be10-4e99-bb69-e679b5d90376\",                        [{\"mode\":\"markers\",\"name\":\"Objective Value\",\"x\":[0,1,2,3,4,5,6,7,8,9,10,11,12,13,14,15,16,17,18,19,20,21,22,23,24,25,26,27,28,29,30,31,32,33,34,35,36,37,38,39,40,41,42,43,44,45,46,47,48,49,50,51,52,53,54,55,56,57,58,59,60,61,62,63,64,65,66,67,68,69,70,71,72,73,74,75,76,77,78,79,80,81,82,83,84,85,86,87,88,89,90,91,92,93,94,95,96,97,98,99,100,101,102,103,104,105,106,107,108,109,110,111,112,113,114,115,116,117,118,119,120,121,122,123,124,125,126,127,128,129,130,131,132,133,134,135,136,137,138,139,140,141,142,143,144,145,146,147,148,149,150,151,152,153,154,155,156,157,158,159,160,161,162,163,164,165,166,167,168,169,170,171,172,173,174,175,176,177,178,179],\"y\":[0.688634487717305,0.688634487717305,0.688634487717305,0.688634487717305,0.688634487717305,0.688634487717305,0.688634487717305,0.688634487717305,0.688634487717305,0.688634487717305,0.688634487717305,0.688634487717305,0.688634487717305,0.688634487717305,0.688634487717305,0.688634487717305,0.688634487717305,0.688634487717305,0.688634487717305,0.688634487717305,0.688634487717305,0.688634487717305,0.688634487717305,0.688634487717305,0.688634487717305,0.688634487717305,0.688634487717305,0.688634487717305,0.688634487717305,0.688634487717305,0.688634487717305,0.688634487717305,0.688634487717305,0.688634487717305,0.688634487717305,0.688634487717305,0.688634487717305,0.688634487717305,0.688634487717305,0.688634487717305,0.688634487717305,0.688634487717305,0.688634487717305,0.688634487717305,0.688634487717305,0.688634487717305,0.688634487717305,0.688634487717305,0.688634487717305,0.688634487717305,0.688634487717305,0.688634487717305,0.688634487717305,0.688634487717305,0.688634487717305,0.688634487717305,0.688634487717305,0.688634487717305,0.688634487717305,0.688634487717305,0.688634487717305,0.688634487717305,0.688634487717305,0.688634487717305,0.688634487717305,0.688634487717305,0.688634487717305,0.688634487717305,0.688634487717305,0.688634487717305,0.688634487717305,0.688634487717305,0.688634487717305,0.688634487717305,0.688634487717305,0.688634487717305,0.688634487717305,0.688634487717305,0.688634487717305,0.688634487717305,0.688634487717305,0.688634487717305,0.688634487717305,0.688634487717305,0.688634487717305,0.688634487717305,0.688634487717305,0.688634487717305,0.688634487717305,0.688634487717305,0.688634487717305,0.688634487717305,0.688634487717305,0.688634487717305,0.688634487717305,0.688634487717305,0.688634487717305,0.688634487717305,0.688634487717305,0.688634487717305,0.688634487717305,0.688634487717305,0.688634487717305,0.688634487717305,0.688634487717305,0.688634487717305,0.688634487717305,0.688634487717305,0.688634487717305,0.688634487717305,0.688634487717305,0.688634487717305,0.688634487717305,0.688634487717305,0.688634487717305,0.688634487717305,0.688634487717305,0.688634487717305,0.688634487717305,0.688634487717305,0.688634487717305,0.688634487717305,0.688634487717305,0.688634487717305,0.688634487717305,0.688634487717305,0.688634487717305,0.688634487717305,0.688634487717305,0.688634487717305,0.688634487717305,0.688634487717305,0.688634487717305,0.688634487717305,0.688634487717305,0.688634487717305,0.688634487717305,0.688634487717305,0.688634487717305,0.688634487717305,0.688634487717305,0.688634487717305,0.688634487717305,0.688634487717305,0.688634487717305,0.688634487717305,0.688634487717305,0.688634487717305,0.688634487717305,0.688634487717305,0.688634487717305,0.688634487717305,0.688634487717305,0.688634487717305,0.688634487717305,0.688634487717305,0.688634487717305,0.688634487717305,0.688634487717305,0.688634487717305,0.688634487717305,0.688634487717305,0.688634487717305,0.688634487717305,0.688634487717305,0.688634487717305,0.688634487717305,0.688634487717305,0.688634487717305,0.688634487717305,0.688634487717305,0.688634487717305,0.688634487717305,0.688634487717305,0.688634487717305,0.688634487717305,0.688634487717305,0.688634487717305,0.688634487717305,0.688634487717305],\"type\":\"scatter\"},{\"name\":\"Best Value\",\"x\":[0,1,2,3,4,5,6,7,8,9,10,11,12,13,14,15,16,17,18,19,20,21,22,23,24,25,26,27,28,29,30,31,32,33,34,35,36,37,38,39,40,41,42,43,44,45,46,47,48,49,50,51,52,53,54,55,56,57,58,59,60,61,62,63,64,65,66,67,68,69,70,71,72,73,74,75,76,77,78,79,80,81,82,83,84,85,86,87,88,89,90,91,92,93,94,95,96,97,98,99,100,101,102,103,104,105,106,107,108,109,110,111,112,113,114,115,116,117,118,119,120,121,122,123,124,125,126,127,128,129,130,131,132,133,134,135,136,137,138,139,140,141,142,143,144,145,146,147,148,149,150,151,152,153,154,155,156,157,158,159,160,161,162,163,164,165,166,167,168,169,170,171,172,173,174,175,176,177,178,179],\"y\":[0.688634487717305,0.688634487717305,0.688634487717305,0.688634487717305,0.688634487717305,0.688634487717305,0.688634487717305,0.688634487717305,0.688634487717305,0.688634487717305,0.688634487717305,0.688634487717305,0.688634487717305,0.688634487717305,0.688634487717305,0.688634487717305,0.688634487717305,0.688634487717305,0.688634487717305,0.688634487717305,0.688634487717305,0.688634487717305,0.688634487717305,0.688634487717305,0.688634487717305,0.688634487717305,0.688634487717305,0.688634487717305,0.688634487717305,0.688634487717305,0.688634487717305,0.688634487717305,0.688634487717305,0.688634487717305,0.688634487717305,0.688634487717305,0.688634487717305,0.688634487717305,0.688634487717305,0.688634487717305,0.688634487717305,0.688634487717305,0.688634487717305,0.688634487717305,0.688634487717305,0.688634487717305,0.688634487717305,0.688634487717305,0.688634487717305,0.688634487717305,0.688634487717305,0.688634487717305,0.688634487717305,0.688634487717305,0.688634487717305,0.688634487717305,0.688634487717305,0.688634487717305,0.688634487717305,0.688634487717305,0.688634487717305,0.688634487717305,0.688634487717305,0.688634487717305,0.688634487717305,0.688634487717305,0.688634487717305,0.688634487717305,0.688634487717305,0.688634487717305,0.688634487717305,0.688634487717305,0.688634487717305,0.688634487717305,0.688634487717305,0.688634487717305,0.688634487717305,0.688634487717305,0.688634487717305,0.688634487717305,0.688634487717305,0.688634487717305,0.688634487717305,0.688634487717305,0.688634487717305,0.688634487717305,0.688634487717305,0.688634487717305,0.688634487717305,0.688634487717305,0.688634487717305,0.688634487717305,0.688634487717305,0.688634487717305,0.688634487717305,0.688634487717305,0.688634487717305,0.688634487717305,0.688634487717305,0.688634487717305,0.688634487717305,0.688634487717305,0.688634487717305,0.688634487717305,0.688634487717305,0.688634487717305,0.688634487717305,0.688634487717305,0.688634487717305,0.688634487717305,0.688634487717305,0.688634487717305,0.688634487717305,0.688634487717305,0.688634487717305,0.688634487717305,0.688634487717305,0.688634487717305,0.688634487717305,0.688634487717305,0.688634487717305,0.688634487717305,0.688634487717305,0.688634487717305,0.688634487717305,0.688634487717305,0.688634487717305,0.688634487717305,0.688634487717305,0.688634487717305,0.688634487717305,0.688634487717305,0.688634487717305,0.688634487717305,0.688634487717305,0.688634487717305,0.688634487717305,0.688634487717305,0.688634487717305,0.688634487717305,0.688634487717305,0.688634487717305,0.688634487717305,0.688634487717305,0.688634487717305,0.688634487717305,0.688634487717305,0.688634487717305,0.688634487717305,0.688634487717305,0.688634487717305,0.688634487717305,0.688634487717305,0.688634487717305,0.688634487717305,0.688634487717305,0.688634487717305,0.688634487717305,0.688634487717305,0.688634487717305,0.688634487717305,0.688634487717305,0.688634487717305,0.688634487717305,0.688634487717305,0.688634487717305,0.688634487717305,0.688634487717305,0.688634487717305,0.688634487717305,0.688634487717305,0.688634487717305,0.688634487717305,0.688634487717305,0.688634487717305,0.688634487717305,0.688634487717305,0.688634487717305,0.688634487717305,0.688634487717305],\"type\":\"scatter\"}],                        {\"title\":{\"text\":\"Optimization History Plot\"},\"xaxis\":{\"title\":{\"text\":\"Trial\"}},\"yaxis\":{\"title\":{\"text\":\"Objective Value\"}},\"template\":{\"data\":{\"bar\":[{\"error_x\":{\"color\":\"#2a3f5f\"},\"error_y\":{\"color\":\"#2a3f5f\"},\"marker\":{\"line\":{\"color\":\"#E5ECF6\",\"width\":0.5},\"pattern\":{\"fillmode\":\"overlay\",\"size\":10,\"solidity\":0.2}},\"type\":\"bar\"}],\"barpolar\":[{\"marker\":{\"line\":{\"color\":\"#E5ECF6\",\"width\":0.5},\"pattern\":{\"fillmode\":\"overlay\",\"size\":10,\"solidity\":0.2}},\"type\":\"barpolar\"}],\"carpet\":[{\"aaxis\":{\"endlinecolor\":\"#2a3f5f\",\"gridcolor\":\"white\",\"linecolor\":\"white\",\"minorgridcolor\":\"white\",\"startlinecolor\":\"#2a3f5f\"},\"baxis\":{\"endlinecolor\":\"#2a3f5f\",\"gridcolor\":\"white\",\"linecolor\":\"white\",\"minorgridcolor\":\"white\",\"startlinecolor\":\"#2a3f5f\"},\"type\":\"carpet\"}],\"choropleth\":[{\"colorbar\":{\"outlinewidth\":0,\"ticks\":\"\"},\"type\":\"choropleth\"}],\"contour\":[{\"colorbar\":{\"outlinewidth\":0,\"ticks\":\"\"},\"colorscale\":[[0.0,\"#0d0887\"],[0.1111111111111111,\"#46039f\"],[0.2222222222222222,\"#7201a8\"],[0.3333333333333333,\"#9c179e\"],[0.4444444444444444,\"#bd3786\"],[0.5555555555555556,\"#d8576b\"],[0.6666666666666666,\"#ed7953\"],[0.7777777777777778,\"#fb9f3a\"],[0.8888888888888888,\"#fdca26\"],[1.0,\"#f0f921\"]],\"type\":\"contour\"}],\"contourcarpet\":[{\"colorbar\":{\"outlinewidth\":0,\"ticks\":\"\"},\"type\":\"contourcarpet\"}],\"heatmap\":[{\"colorbar\":{\"outlinewidth\":0,\"ticks\":\"\"},\"colorscale\":[[0.0,\"#0d0887\"],[0.1111111111111111,\"#46039f\"],[0.2222222222222222,\"#7201a8\"],[0.3333333333333333,\"#9c179e\"],[0.4444444444444444,\"#bd3786\"],[0.5555555555555556,\"#d8576b\"],[0.6666666666666666,\"#ed7953\"],[0.7777777777777778,\"#fb9f3a\"],[0.8888888888888888,\"#fdca26\"],[1.0,\"#f0f921\"]],\"type\":\"heatmap\"}],\"heatmapgl\":[{\"colorbar\":{\"outlinewidth\":0,\"ticks\":\"\"},\"colorscale\":[[0.0,\"#0d0887\"],[0.1111111111111111,\"#46039f\"],[0.2222222222222222,\"#7201a8\"],[0.3333333333333333,\"#9c179e\"],[0.4444444444444444,\"#bd3786\"],[0.5555555555555556,\"#d8576b\"],[0.6666666666666666,\"#ed7953\"],[0.7777777777777778,\"#fb9f3a\"],[0.8888888888888888,\"#fdca26\"],[1.0,\"#f0f921\"]],\"type\":\"heatmapgl\"}],\"histogram\":[{\"marker\":{\"pattern\":{\"fillmode\":\"overlay\",\"size\":10,\"solidity\":0.2}},\"type\":\"histogram\"}],\"histogram2d\":[{\"colorbar\":{\"outlinewidth\":0,\"ticks\":\"\"},\"colorscale\":[[0.0,\"#0d0887\"],[0.1111111111111111,\"#46039f\"],[0.2222222222222222,\"#7201a8\"],[0.3333333333333333,\"#9c179e\"],[0.4444444444444444,\"#bd3786\"],[0.5555555555555556,\"#d8576b\"],[0.6666666666666666,\"#ed7953\"],[0.7777777777777778,\"#fb9f3a\"],[0.8888888888888888,\"#fdca26\"],[1.0,\"#f0f921\"]],\"type\":\"histogram2d\"}],\"histogram2dcontour\":[{\"colorbar\":{\"outlinewidth\":0,\"ticks\":\"\"},\"colorscale\":[[0.0,\"#0d0887\"],[0.1111111111111111,\"#46039f\"],[0.2222222222222222,\"#7201a8\"],[0.3333333333333333,\"#9c179e\"],[0.4444444444444444,\"#bd3786\"],[0.5555555555555556,\"#d8576b\"],[0.6666666666666666,\"#ed7953\"],[0.7777777777777778,\"#fb9f3a\"],[0.8888888888888888,\"#fdca26\"],[1.0,\"#f0f921\"]],\"type\":\"histogram2dcontour\"}],\"mesh3d\":[{\"colorbar\":{\"outlinewidth\":0,\"ticks\":\"\"},\"type\":\"mesh3d\"}],\"parcoords\":[{\"line\":{\"colorbar\":{\"outlinewidth\":0,\"ticks\":\"\"}},\"type\":\"parcoords\"}],\"pie\":[{\"automargin\":true,\"type\":\"pie\"}],\"scatter\":[{\"marker\":{\"colorbar\":{\"outlinewidth\":0,\"ticks\":\"\"}},\"type\":\"scatter\"}],\"scatter3d\":[{\"line\":{\"colorbar\":{\"outlinewidth\":0,\"ticks\":\"\"}},\"marker\":{\"colorbar\":{\"outlinewidth\":0,\"ticks\":\"\"}},\"type\":\"scatter3d\"}],\"scattercarpet\":[{\"marker\":{\"colorbar\":{\"outlinewidth\":0,\"ticks\":\"\"}},\"type\":\"scattercarpet\"}],\"scattergeo\":[{\"marker\":{\"colorbar\":{\"outlinewidth\":0,\"ticks\":\"\"}},\"type\":\"scattergeo\"}],\"scattergl\":[{\"marker\":{\"colorbar\":{\"outlinewidth\":0,\"ticks\":\"\"}},\"type\":\"scattergl\"}],\"scattermapbox\":[{\"marker\":{\"colorbar\":{\"outlinewidth\":0,\"ticks\":\"\"}},\"type\":\"scattermapbox\"}],\"scatterpolar\":[{\"marker\":{\"colorbar\":{\"outlinewidth\":0,\"ticks\":\"\"}},\"type\":\"scatterpolar\"}],\"scatterpolargl\":[{\"marker\":{\"colorbar\":{\"outlinewidth\":0,\"ticks\":\"\"}},\"type\":\"scatterpolargl\"}],\"scatterternary\":[{\"marker\":{\"colorbar\":{\"outlinewidth\":0,\"ticks\":\"\"}},\"type\":\"scatterternary\"}],\"surface\":[{\"colorbar\":{\"outlinewidth\":0,\"ticks\":\"\"},\"colorscale\":[[0.0,\"#0d0887\"],[0.1111111111111111,\"#46039f\"],[0.2222222222222222,\"#7201a8\"],[0.3333333333333333,\"#9c179e\"],[0.4444444444444444,\"#bd3786\"],[0.5555555555555556,\"#d8576b\"],[0.6666666666666666,\"#ed7953\"],[0.7777777777777778,\"#fb9f3a\"],[0.8888888888888888,\"#fdca26\"],[1.0,\"#f0f921\"]],\"type\":\"surface\"}],\"table\":[{\"cells\":{\"fill\":{\"color\":\"#EBF0F8\"},\"line\":{\"color\":\"white\"}},\"header\":{\"fill\":{\"color\":\"#C8D4E3\"},\"line\":{\"color\":\"white\"}},\"type\":\"table\"}]},\"layout\":{\"annotationdefaults\":{\"arrowcolor\":\"#2a3f5f\",\"arrowhead\":0,\"arrowwidth\":1},\"autotypenumbers\":\"strict\",\"coloraxis\":{\"colorbar\":{\"outlinewidth\":0,\"ticks\":\"\"}},\"colorscale\":{\"diverging\":[[0,\"#8e0152\"],[0.1,\"#c51b7d\"],[0.2,\"#de77ae\"],[0.3,\"#f1b6da\"],[0.4,\"#fde0ef\"],[0.5,\"#f7f7f7\"],[0.6,\"#e6f5d0\"],[0.7,\"#b8e186\"],[0.8,\"#7fbc41\"],[0.9,\"#4d9221\"],[1,\"#276419\"]],\"sequential\":[[0.0,\"#0d0887\"],[0.1111111111111111,\"#46039f\"],[0.2222222222222222,\"#7201a8\"],[0.3333333333333333,\"#9c179e\"],[0.4444444444444444,\"#bd3786\"],[0.5555555555555556,\"#d8576b\"],[0.6666666666666666,\"#ed7953\"],[0.7777777777777778,\"#fb9f3a\"],[0.8888888888888888,\"#fdca26\"],[1.0,\"#f0f921\"]],\"sequentialminus\":[[0.0,\"#0d0887\"],[0.1111111111111111,\"#46039f\"],[0.2222222222222222,\"#7201a8\"],[0.3333333333333333,\"#9c179e\"],[0.4444444444444444,\"#bd3786\"],[0.5555555555555556,\"#d8576b\"],[0.6666666666666666,\"#ed7953\"],[0.7777777777777778,\"#fb9f3a\"],[0.8888888888888888,\"#fdca26\"],[1.0,\"#f0f921\"]]},\"colorway\":[\"#636efa\",\"#EF553B\",\"#00cc96\",\"#ab63fa\",\"#FFA15A\",\"#19d3f3\",\"#FF6692\",\"#B6E880\",\"#FF97FF\",\"#FECB52\"],\"font\":{\"color\":\"#2a3f5f\"},\"geo\":{\"bgcolor\":\"white\",\"lakecolor\":\"white\",\"landcolor\":\"#E5ECF6\",\"showlakes\":true,\"showland\":true,\"subunitcolor\":\"white\"},\"hoverlabel\":{\"align\":\"left\"},\"hovermode\":\"closest\",\"mapbox\":{\"style\":\"light\"},\"paper_bgcolor\":\"white\",\"plot_bgcolor\":\"#E5ECF6\",\"polar\":{\"angularaxis\":{\"gridcolor\":\"white\",\"linecolor\":\"white\",\"ticks\":\"\"},\"bgcolor\":\"#E5ECF6\",\"radialaxis\":{\"gridcolor\":\"white\",\"linecolor\":\"white\",\"ticks\":\"\"}},\"scene\":{\"xaxis\":{\"backgroundcolor\":\"#E5ECF6\",\"gridcolor\":\"white\",\"gridwidth\":2,\"linecolor\":\"white\",\"showbackground\":true,\"ticks\":\"\",\"zerolinecolor\":\"white\"},\"yaxis\":{\"backgroundcolor\":\"#E5ECF6\",\"gridcolor\":\"white\",\"gridwidth\":2,\"linecolor\":\"white\",\"showbackground\":true,\"ticks\":\"\",\"zerolinecolor\":\"white\"},\"zaxis\":{\"backgroundcolor\":\"#E5ECF6\",\"gridcolor\":\"white\",\"gridwidth\":2,\"linecolor\":\"white\",\"showbackground\":true,\"ticks\":\"\",\"zerolinecolor\":\"white\"}},\"shapedefaults\":{\"line\":{\"color\":\"#2a3f5f\"}},\"ternary\":{\"aaxis\":{\"gridcolor\":\"white\",\"linecolor\":\"white\",\"ticks\":\"\"},\"baxis\":{\"gridcolor\":\"white\",\"linecolor\":\"white\",\"ticks\":\"\"},\"bgcolor\":\"#E5ECF6\",\"caxis\":{\"gridcolor\":\"white\",\"linecolor\":\"white\",\"ticks\":\"\"}},\"title\":{\"x\":0.05},\"xaxis\":{\"automargin\":true,\"gridcolor\":\"white\",\"linecolor\":\"white\",\"ticks\":\"\",\"title\":{\"standoff\":15},\"zerolinecolor\":\"white\",\"zerolinewidth\":2},\"yaxis\":{\"automargin\":true,\"gridcolor\":\"white\",\"linecolor\":\"white\",\"ticks\":\"\",\"title\":{\"standoff\":15},\"zerolinecolor\":\"white\",\"zerolinewidth\":2}}}},                        {\"responsive\": true}                    ).then(function(){\n",
              "                            \n",
              "var gd = document.getElementById('d091fd37-be10-4e99-bb69-e679b5d90376');\n",
              "var x = new MutationObserver(function (mutations, observer) {{\n",
              "        var display = window.getComputedStyle(gd).display;\n",
              "        if (!display || display === 'none') {{\n",
              "            console.log([gd, 'removed!']);\n",
              "            Plotly.purge(gd);\n",
              "            observer.disconnect();\n",
              "        }}\n",
              "}});\n",
              "\n",
              "// Listen for the removal of the full notebook cells\n",
              "var notebookContainer = gd.closest('#notebook-container');\n",
              "if (notebookContainer) {{\n",
              "    x.observe(notebookContainer, {childList: true});\n",
              "}}\n",
              "\n",
              "// Listen for the clearing of the current output cell\n",
              "var outputEl = gd.closest('.output');\n",
              "if (outputEl) {{\n",
              "    x.observe(outputEl, {childList: true});\n",
              "}}\n",
              "\n",
              "                        })                };                            </script>        </div>\n",
              "</body>\n",
              "</html>"
            ]
          },
          "metadata": {},
          "output_type": "display_data"
        }
      ],
      "source": [
        "optuna.visualization.plot_optimization_history(gnb_study)"
      ]
    },
    {
      "cell_type": "code",
      "execution_count": 181,
      "metadata": {
        "colab": {
          "base_uri": "https://localhost:8080/"
        },
        "id": "LTTC3gX2bIOu",
        "outputId": "bbf04496-2101-4b6f-ba0c-2f20c762874f"
      },
      "outputs": [
        {
          "name": "stdout",
          "output_type": "stream",
          "text": [
            "Best parameters after tuning using mean accuracy:\n"
          ]
        },
        {
          "data": {
            "text/plain": [
              "{'scalers': 'standard', 'var_smoothing': 1.397987726295555e-09}"
            ]
          },
          "execution_count": 181,
          "metadata": {},
          "output_type": "execute_result"
        }
      ],
      "source": [
        "print(\"Best parameters after tuning using mean accuracy:\")\n",
        "gnb_study.best_params"
      ]
    },
    {
      "cell_type": "code",
      "execution_count": 182,
      "metadata": {
        "colab": {
          "base_uri": "https://localhost:8080/"
        },
        "id": "v0Hn3awSPmsP",
        "outputId": "6c1ac988-df61-4cca-e1b1-67ddb0ee71ab"
      },
      "outputs": [
        {
          "name": "stdout",
          "output_type": "stream",
          "text": [
            "Συνολικός χρόνος train και test: 0.07065629959106445 seconds\n",
            "Training Set:\n",
            "GNB accuracy:  0.6971428571428571\n",
            "GNB f1:  0.6971428571428571\n",
            "\n",
            "Testing set:\n",
            "GNB accuracy:  0.68\n",
            "GNB f1:  0.6604414261460102\n",
            "\n",
            "GNB Classification Report:\n",
            "              precision    recall  f1-score   support\n",
            "\n",
            "         0.0       0.65      0.52      0.58        21\n",
            "         1.0       0.70      0.79      0.74        29\n",
            "\n",
            "    accuracy                           0.68        50\n",
            "   macro avg       0.67      0.66      0.66        50\n",
            "weighted avg       0.68      0.68      0.67        50\n",
            "\n",
            "\n"
          ]
        }
      ],
      "source": [
        "# Use the best hyperparameters to train the model again\n",
        "best_params = gnb_study.best_params\n",
        "\n",
        "if best_params['scalers'] == \"minmax\":\n",
        "  opt_scaler = MinMaxScaler()\n",
        "elif best_params['scalers'] == \"standard\":\n",
        "  opt_scaler = StandardScaler()\n",
        "else:\n",
        "  opt_scaler = RobustScaler()\n",
        "\n",
        "del best_params['scalers']\n",
        "\n",
        "# Creation of gnb classifier with optimized parameters\n",
        "gnb_clf_opt = GaussianNB(**best_params)\n",
        "gnb_pipeline = make_pipeline(opt_scaler, gnb_clf_opt)\n",
        "\n",
        "# Kαταγραφή χρόνου train και test\n",
        "start_time = time.time()\n",
        "\n",
        "# Model training \n",
        "strtfdKFold = StratifiedKFold(n_splits=10)\n",
        "gnb_pipeline.fit(x_train, y_train)\n",
        "gnb_accuracy_train = cross_val_score(gnb_pipeline, x_train, y_train, scoring='accuracy' ,cv = strtfdKFold, n_jobs=1)\n",
        "gnb_f1_train = cross_val_score(gnb_pipeline, x_train, y_train, scoring='f1_macro', cv = strtfdKFold, n_jobs=1)\n",
        "\n",
        "# Model Testing\n",
        "gnb_acc_test = gnb_pipeline.score(x_test, y_test)\n",
        "gnb_predictions = gnb_pipeline.predict(x_test)\n",
        "gnb_f1_test = f1_score(y_test, gnb_predictions, average='macro')\n",
        "\n",
        "# Time's up\n",
        "print(\"Συνολικός χρόνος train και test: %s seconds\" % (time.time() - start_time))\n",
        "\n",
        "print(\"Training Set:\")\n",
        "print(\"GNB accuracy: \", gnb_accuracy_train.mean())\n",
        "print(\"GNB f1: \", gnb_accuracy_train.mean())\n",
        "\n",
        "print(\"\\nTesting set:\")\n",
        "print(\"GNB accuracy: \", gnb_acc_test)\n",
        "print(\"GNB f1: \", gnb_f1_test)\n",
        "print('\\nGNB Classification Report:\\n' + classification_report(y_test, gnb_predictions)+'\\n')\n",
        "\n",
        "# Save the results for the optimization using F1 metric\n",
        "gnb_accuracy_F1 = gnb_acc_test\n",
        "gnb_f1_F1 = gnb_f1_test"
      ]
    },
    {
      "cell_type": "markdown",
      "metadata": {
        "id": "djs3Em4sOnOD"
      },
      "source": [
        "### K Nearest Neighbors (KNN)"
      ]
    },
    {
      "cell_type": "markdown",
      "metadata": {
        "id": "kiERzkomZuf3"
      },
      "source": [
        "**Hyperparameter optimization with grid search (using Optuna)**\n",
        "\n",
        "Στη συνέχεια θα προσπαθήσουμε να βελτιστοποίησουμε τις υπερπαραμέτρους του ταξινομητή μας χρησιμοποιώντας τη βιβλιοθήκη Optuna. Μέσω αυτής θα κάνουμε GridSearch και CV σε 3 κύριες υπερπαραμέτρους του kNN Classifier, τον αριθμό n_neighbors, τα weights και τα metrics.\n",
        "Χρησιμοποιούμε ακόμα Pipelines για scaling και classification και δοκιμαζουμε τρεις διαφορετικούς scalers για να βρούμε τον καλύτερο."
      ]
    },
    {
      "cell_type": "markdown",
      "metadata": {
        "id": "hzY8If8wXfmb"
      },
      "source": [
        "**Βελτιστοποίηση βάσει του accuracy score.**\n",
        "\n",
        "---"
      ]
    },
    {
      "cell_type": "code",
      "execution_count": 183,
      "metadata": {
        "id": "QHKikTAlgPcY"
      },
      "outputs": [],
      "source": [
        "# Hyperparameter Optimization using Optuna\n",
        "def kNN_objective(trial):\n",
        "\n",
        "  # Hyperparameters setting\n",
        "  scalers = trial.suggest_categorical(\"scalers\", ['minmax', 'standard', 'robust'])\n",
        "\n",
        "  if scalers == \"minmax\":\n",
        "        scaler = MinMaxScaler()\n",
        "  elif scalers == \"standard\":\n",
        "        scaler = StandardScaler()\n",
        "  else:\n",
        "        scaler = RobustScaler()\n",
        "        \n",
        "  n_neighbors = trial.suggest_int('n_neighbors', 1, 30)\n",
        "  weights = trial.suggest_categorical('weights', ['uniform', 'distance'])\n",
        "  metric = trial.suggest_categorical(\"metric\", ['euclidean', 'manhattan', 'minkowski'])\n",
        "  # leaf_size = trial.suggest_int('leaf_size', 1, 30)\n",
        "\n",
        "  # Pipeline Creation for data scaling and classification\n",
        "  kNN = neighbors.KNeighborsClassifier(n_neighbors=n_neighbors, \n",
        "                                       weights=weights, \n",
        "                                       metric=metric)\n",
        "  # Normalization + Model Creation\n",
        "  kNN_pipeline = make_pipeline(scaler, kNN)\n",
        "\n",
        "  # Model training with cv\n",
        "  score = cross_val_score(kNN_pipeline, x_train, y_train, scoring='accuracy', cv = 10, n_jobs = 1)\n",
        "  # score = score.mean()\n",
        "  return score.mean()"
      ]
    },
    {
      "cell_type": "code",
      "execution_count": 184,
      "metadata": {
        "colab": {
          "base_uri": "https://localhost:8080/"
        },
        "id": "Tq7VJxmytAhD",
        "outputId": "341feb80-3555-49f7-ce01-06a7f2b1e49a"
      },
      "outputs": [
        {
          "name": "stderr",
          "output_type": "stream",
          "text": [
            "\u001b[32m[I 2022-11-27 10:25:35,895]\u001b[0m A new study created in memory with name: no-name-3c6d0646-53fe-46d3-84d7-f0ba6dbc6286\u001b[0m\n",
            "\u001b[32m[I 2022-11-27 10:25:35,930]\u001b[0m Trial 0 finished with value: 0.6709523809523811 and parameters: {'scalers': 'standard', 'n_neighbors': 18, 'weights': 'uniform', 'metric': 'manhattan'}. Best is trial 0 with value: 0.6709523809523811.\u001b[0m\n",
            "\u001b[32m[I 2022-11-27 10:25:35,987]\u001b[0m Trial 1 finished with value: 0.5571428571428572 and parameters: {'scalers': 'robust', 'n_neighbors': 25, 'weights': 'uniform', 'metric': 'minkowski'}. Best is trial 0 with value: 0.6709523809523811.\u001b[0m\n",
            "\u001b[32m[I 2022-11-27 10:25:36,039]\u001b[0m Trial 2 finished with value: 0.7623809523809524 and parameters: {'scalers': 'robust', 'n_neighbors': 5, 'weights': 'distance', 'metric': 'manhattan'}. Best is trial 2 with value: 0.7623809523809524.\u001b[0m\n",
            "\u001b[32m[I 2022-11-27 10:25:36,071]\u001b[0m Trial 3 finished with value: 0.6285714285714286 and parameters: {'scalers': 'standard', 'n_neighbors': 19, 'weights': 'uniform', 'metric': 'manhattan'}. Best is trial 2 with value: 0.7623809523809524.\u001b[0m\n",
            "\u001b[32m[I 2022-11-27 10:25:36,126]\u001b[0m Trial 4 finished with value: 0.7976190476190476 and parameters: {'scalers': 'robust', 'n_neighbors': 14, 'weights': 'distance', 'metric': 'manhattan'}. Best is trial 4 with value: 0.7976190476190476.\u001b[0m\n",
            "\u001b[32m[I 2022-11-27 10:25:36,154]\u001b[0m Trial 5 finished with value: 0.8185714285714285 and parameters: {'scalers': 'minmax', 'n_neighbors': 17, 'weights': 'distance', 'metric': 'manhattan'}. Best is trial 5 with value: 0.8185714285714285.\u001b[0m\n",
            "\u001b[32m[I 2022-11-27 10:25:36,184]\u001b[0m Trial 6 finished with value: 0.7557142857142857 and parameters: {'scalers': 'standard', 'n_neighbors': 6, 'weights': 'distance', 'metric': 'minkowski'}. Best is trial 5 with value: 0.8185714285714285.\u001b[0m\n",
            "\u001b[32m[I 2022-11-27 10:25:36,240]\u001b[0m Trial 7 finished with value: 0.7047619047619047 and parameters: {'scalers': 'robust', 'n_neighbors': 5, 'weights': 'uniform', 'metric': 'euclidean'}. Best is trial 5 with value: 0.8185714285714285.\u001b[0m\n",
            "\u001b[32m[I 2022-11-27 10:25:36,279]\u001b[0m Trial 8 finished with value: 0.6980952380952381 and parameters: {'scalers': 'standard', 'n_neighbors': 22, 'weights': 'uniform', 'metric': 'minkowski'}. Best is trial 5 with value: 0.8185714285714285.\u001b[0m\n",
            "\u001b[32m[I 2022-11-27 10:25:36,305]\u001b[0m Trial 9 finished with value: 0.7838095238095237 and parameters: {'scalers': 'minmax', 'n_neighbors': 10, 'weights': 'distance', 'metric': 'manhattan'}. Best is trial 5 with value: 0.8185714285714285.\u001b[0m\n",
            "\u001b[32m[I 2022-11-27 10:25:36,335]\u001b[0m Trial 10 finished with value: 0.7838095238095237 and parameters: {'scalers': 'minmax', 'n_neighbors': 26, 'weights': 'distance', 'metric': 'euclidean'}. Best is trial 5 with value: 0.8185714285714285.\u001b[0m\n",
            "\u001b[32m[I 2022-11-27 10:25:36,365]\u001b[0m Trial 11 finished with value: 0.7914285714285714 and parameters: {'scalers': 'minmax', 'n_neighbors': 12, 'weights': 'distance', 'metric': 'manhattan'}. Best is trial 5 with value: 0.8185714285714285.\u001b[0m\n",
            "\u001b[32m[I 2022-11-27 10:25:36,423]\u001b[0m Trial 12 finished with value: 0.7976190476190476 and parameters: {'scalers': 'robust', 'n_neighbors': 14, 'weights': 'distance', 'metric': 'manhattan'}. Best is trial 5 with value: 0.8185714285714285.\u001b[0m\n",
            "\u001b[32m[I 2022-11-27 10:25:36,462]\u001b[0m Trial 13 finished with value: 0.819047619047619 and parameters: {'scalers': 'minmax', 'n_neighbors': 16, 'weights': 'distance', 'metric': 'manhattan'}. Best is trial 13 with value: 0.819047619047619.\u001b[0m\n",
            "\u001b[32m[I 2022-11-27 10:25:36,498]\u001b[0m Trial 14 finished with value: 0.8047619047619048 and parameters: {'scalers': 'minmax', 'n_neighbors': 30, 'weights': 'distance', 'metric': 'manhattan'}. Best is trial 13 with value: 0.819047619047619.\u001b[0m\n",
            "\u001b[32m[I 2022-11-27 10:25:36,535]\u001b[0m Trial 15 finished with value: 0.749047619047619 and parameters: {'scalers': 'minmax', 'n_neighbors': 1, 'weights': 'distance', 'metric': 'euclidean'}. Best is trial 13 with value: 0.819047619047619.\u001b[0m\n",
            "\u001b[32m[I 2022-11-27 10:25:36,569]\u001b[0m Trial 16 finished with value: 0.8047619047619048 and parameters: {'scalers': 'minmax', 'n_neighbors': 19, 'weights': 'distance', 'metric': 'manhattan'}. Best is trial 13 with value: 0.819047619047619.\u001b[0m\n",
            "\u001b[32m[I 2022-11-27 10:25:36,604]\u001b[0m Trial 17 finished with value: 0.7838095238095237 and parameters: {'scalers': 'minmax', 'n_neighbors': 10, 'weights': 'distance', 'metric': 'manhattan'}. Best is trial 13 with value: 0.819047619047619.\u001b[0m\n",
            "\u001b[32m[I 2022-11-27 10:25:36,636]\u001b[0m Trial 18 finished with value: 0.8119047619047619 and parameters: {'scalers': 'minmax', 'n_neighbors': 17, 'weights': 'distance', 'metric': 'euclidean'}. Best is trial 13 with value: 0.819047619047619.\u001b[0m\n",
            "\u001b[32m[I 2022-11-27 10:25:36,669]\u001b[0m Trial 19 finished with value: 0.7838095238095237 and parameters: {'scalers': 'minmax', 'n_neighbors': 22, 'weights': 'distance', 'metric': 'minkowski'}. Best is trial 13 with value: 0.819047619047619.\u001b[0m\n",
            "\u001b[32m[I 2022-11-27 10:25:36,698]\u001b[0m Trial 20 finished with value: 0.8052380952380951 and parameters: {'scalers': 'minmax', 'n_neighbors': 22, 'weights': 'distance', 'metric': 'manhattan'}. Best is trial 13 with value: 0.819047619047619.\u001b[0m\n",
            "\u001b[32m[I 2022-11-27 10:25:36,729]\u001b[0m Trial 21 finished with value: 0.8185714285714287 and parameters: {'scalers': 'minmax', 'n_neighbors': 16, 'weights': 'distance', 'metric': 'euclidean'}. Best is trial 13 with value: 0.819047619047619.\u001b[0m\n",
            "\u001b[32m[I 2022-11-27 10:25:36,760]\u001b[0m Trial 22 finished with value: 0.8185714285714287 and parameters: {'scalers': 'minmax', 'n_neighbors': 15, 'weights': 'distance', 'metric': 'euclidean'}. Best is trial 13 with value: 0.819047619047619.\u001b[0m\n",
            "\u001b[32m[I 2022-11-27 10:25:36,796]\u001b[0m Trial 23 finished with value: 0.797142857142857 and parameters: {'scalers': 'minmax', 'n_neighbors': 14, 'weights': 'distance', 'metric': 'euclidean'}. Best is trial 13 with value: 0.819047619047619.\u001b[0m\n",
            "\u001b[32m[I 2022-11-27 10:25:36,826]\u001b[0m Trial 24 finished with value: 0.7909523809523809 and parameters: {'scalers': 'minmax', 'n_neighbors': 10, 'weights': 'distance', 'metric': 'euclidean'}. Best is trial 13 with value: 0.819047619047619.\u001b[0m\n",
            "\u001b[32m[I 2022-11-27 10:25:36,858]\u001b[0m Trial 25 finished with value: 0.8185714285714287 and parameters: {'scalers': 'minmax', 'n_neighbors': 15, 'weights': 'distance', 'metric': 'euclidean'}. Best is trial 13 with value: 0.819047619047619.\u001b[0m\n",
            "\u001b[32m[I 2022-11-27 10:25:36,892]\u001b[0m Trial 26 finished with value: 0.6904761904761905 and parameters: {'scalers': 'minmax', 'n_neighbors': 12, 'weights': 'uniform', 'metric': 'euclidean'}. Best is trial 13 with value: 0.819047619047619.\u001b[0m\n",
            "\u001b[32m[I 2022-11-27 10:25:36,923]\u001b[0m Trial 27 finished with value: 0.8047619047619048 and parameters: {'scalers': 'minmax', 'n_neighbors': 20, 'weights': 'distance', 'metric': 'euclidean'}. Best is trial 13 with value: 0.819047619047619.\u001b[0m\n",
            "\u001b[32m[I 2022-11-27 10:25:36,954]\u001b[0m Trial 28 finished with value: 0.7842857142857143 and parameters: {'scalers': 'minmax', 'n_neighbors': 8, 'weights': 'distance', 'metric': 'euclidean'}. Best is trial 13 with value: 0.819047619047619.\u001b[0m\n",
            "\u001b[32m[I 2022-11-27 10:25:36,991]\u001b[0m Trial 29 finished with value: 0.6695238095238095 and parameters: {'scalers': 'standard', 'n_neighbors': 15, 'weights': 'uniform', 'metric': 'euclidean'}. Best is trial 13 with value: 0.819047619047619.\u001b[0m\n",
            "\u001b[32m[I 2022-11-27 10:25:37,025]\u001b[0m Trial 30 finished with value: 0.7904761904761904 and parameters: {'scalers': 'standard', 'n_neighbors': 13, 'weights': 'distance', 'metric': 'euclidean'}. Best is trial 13 with value: 0.819047619047619.\u001b[0m\n",
            "\u001b[32m[I 2022-11-27 10:25:37,058]\u001b[0m Trial 31 finished with value: 0.8185714285714287 and parameters: {'scalers': 'minmax', 'n_neighbors': 16, 'weights': 'distance', 'metric': 'euclidean'}. Best is trial 13 with value: 0.819047619047619.\u001b[0m\n",
            "\u001b[32m[I 2022-11-27 10:25:37,102]\u001b[0m Trial 32 finished with value: 0.8119047619047619 and parameters: {'scalers': 'minmax', 'n_neighbors': 17, 'weights': 'distance', 'metric': 'euclidean'}. Best is trial 13 with value: 0.819047619047619.\u001b[0m\n",
            "\u001b[32m[I 2022-11-27 10:25:37,136]\u001b[0m Trial 33 finished with value: 0.8185714285714287 and parameters: {'scalers': 'minmax', 'n_neighbors': 16, 'weights': 'distance', 'metric': 'euclidean'}. Best is trial 13 with value: 0.819047619047619.\u001b[0m\n",
            "\u001b[32m[I 2022-11-27 10:25:37,201]\u001b[0m Trial 34 finished with value: 0.5776190476190476 and parameters: {'scalers': 'robust', 'n_neighbors': 20, 'weights': 'uniform', 'metric': 'minkowski'}. Best is trial 13 with value: 0.819047619047619.\u001b[0m\n",
            "\u001b[32m[I 2022-11-27 10:25:37,235]\u001b[0m Trial 35 finished with value: 0.7766666666666666 and parameters: {'scalers': 'minmax', 'n_neighbors': 24, 'weights': 'distance', 'metric': 'euclidean'}. Best is trial 13 with value: 0.819047619047619.\u001b[0m\n",
            "\u001b[32m[I 2022-11-27 10:25:37,271]\u001b[0m Trial 36 finished with value: 0.8119047619047619 and parameters: {'scalers': 'minmax', 'n_neighbors': 17, 'weights': 'distance', 'metric': 'euclidean'}. Best is trial 13 with value: 0.819047619047619.\u001b[0m\n",
            "\u001b[32m[I 2022-11-27 10:25:37,332]\u001b[0m Trial 37 finished with value: 0.7976190476190476 and parameters: {'scalers': 'robust', 'n_neighbors': 12, 'weights': 'distance', 'metric': 'minkowski'}. Best is trial 13 with value: 0.819047619047619.\u001b[0m\n",
            "\u001b[32m[I 2022-11-27 10:25:37,370]\u001b[0m Trial 38 finished with value: 0.6685714285714286 and parameters: {'scalers': 'standard', 'n_neighbors': 19, 'weights': 'uniform', 'metric': 'euclidean'}. Best is trial 13 with value: 0.819047619047619.\u001b[0m\n",
            "\u001b[32m[I 2022-11-27 10:25:37,404]\u001b[0m Trial 39 finished with value: 0.7909523809523809 and parameters: {'scalers': 'minmax', 'n_neighbors': 9, 'weights': 'distance', 'metric': 'euclidean'}. Best is trial 13 with value: 0.819047619047619.\u001b[0m\n",
            "\u001b[32m[I 2022-11-27 10:25:37,438]\u001b[0m Trial 40 finished with value: 0.819047619047619 and parameters: {'scalers': 'minmax', 'n_neighbors': 15, 'weights': 'distance', 'metric': 'manhattan'}. Best is trial 13 with value: 0.819047619047619.\u001b[0m\n",
            "\u001b[32m[I 2022-11-27 10:25:37,471]\u001b[0m Trial 41 finished with value: 0.819047619047619 and parameters: {'scalers': 'minmax', 'n_neighbors': 16, 'weights': 'distance', 'metric': 'manhattan'}. Best is trial 13 with value: 0.819047619047619.\u001b[0m\n",
            "\u001b[32m[I 2022-11-27 10:25:37,503]\u001b[0m Trial 42 finished with value: 0.8114285714285714 and parameters: {'scalers': 'minmax', 'n_neighbors': 18, 'weights': 'distance', 'metric': 'manhattan'}. Best is trial 13 with value: 0.819047619047619.\u001b[0m\n",
            "\u001b[32m[I 2022-11-27 10:25:37,534]\u001b[0m Trial 43 finished with value: 0.819047619047619 and parameters: {'scalers': 'minmax', 'n_neighbors': 16, 'weights': 'distance', 'metric': 'manhattan'}. Best is trial 13 with value: 0.819047619047619.\u001b[0m\n",
            "\u001b[32m[I 2022-11-27 10:25:37,566]\u001b[0m Trial 44 finished with value: 0.790952380952381 and parameters: {'scalers': 'minmax', 'n_neighbors': 13, 'weights': 'distance', 'metric': 'manhattan'}. Best is trial 13 with value: 0.819047619047619.\u001b[0m\n",
            "\u001b[32m[I 2022-11-27 10:25:37,623]\u001b[0m Trial 45 finished with value: 0.7976190476190476 and parameters: {'scalers': 'robust', 'n_neighbors': 14, 'weights': 'distance', 'metric': 'manhattan'}. Best is trial 13 with value: 0.819047619047619.\u001b[0m\n",
            "\u001b[32m[I 2022-11-27 10:25:37,659]\u001b[0m Trial 46 finished with value: 0.6561904761904762 and parameters: {'scalers': 'minmax', 'n_neighbors': 21, 'weights': 'uniform', 'metric': 'manhattan'}. Best is trial 13 with value: 0.819047619047619.\u001b[0m\n",
            "\u001b[32m[I 2022-11-27 10:25:37,702]\u001b[0m Trial 47 finished with value: 0.7914285714285714 and parameters: {'scalers': 'standard', 'n_neighbors': 18, 'weights': 'distance', 'metric': 'manhattan'}. Best is trial 13 with value: 0.819047619047619.\u001b[0m\n",
            "\u001b[32m[I 2022-11-27 10:25:37,736]\u001b[0m Trial 48 finished with value: 0.790952380952381 and parameters: {'scalers': 'minmax', 'n_neighbors': 13, 'weights': 'distance', 'metric': 'manhattan'}. Best is trial 13 with value: 0.819047619047619.\u001b[0m\n",
            "\u001b[32m[I 2022-11-27 10:25:37,769]\u001b[0m Trial 49 finished with value: 0.8052380952380952 and parameters: {'scalers': 'minmax', 'n_neighbors': 11, 'weights': 'distance', 'metric': 'manhattan'}. Best is trial 13 with value: 0.819047619047619.\u001b[0m\n",
            "\u001b[32m[I 2022-11-27 10:25:37,828]\u001b[0m Trial 50 finished with value: 0.77 and parameters: {'scalers': 'robust', 'n_neighbors': 16, 'weights': 'distance', 'metric': 'manhattan'}. Best is trial 13 with value: 0.819047619047619.\u001b[0m\n",
            "\u001b[32m[I 2022-11-27 10:25:37,861]\u001b[0m Trial 51 finished with value: 0.819047619047619 and parameters: {'scalers': 'minmax', 'n_neighbors': 15, 'weights': 'distance', 'metric': 'manhattan'}. Best is trial 13 with value: 0.819047619047619.\u001b[0m\n",
            "\u001b[32m[I 2022-11-27 10:25:37,892]\u001b[0m Trial 52 finished with value: 0.8114285714285714 and parameters: {'scalers': 'minmax', 'n_neighbors': 18, 'weights': 'distance', 'metric': 'manhattan'}. Best is trial 13 with value: 0.819047619047619.\u001b[0m\n",
            "\u001b[32m[I 2022-11-27 10:25:37,924]\u001b[0m Trial 53 finished with value: 0.819047619047619 and parameters: {'scalers': 'minmax', 'n_neighbors': 15, 'weights': 'distance', 'metric': 'manhattan'}. Best is trial 13 with value: 0.819047619047619.\u001b[0m\n",
            "\u001b[32m[I 2022-11-27 10:25:37,959]\u001b[0m Trial 54 finished with value: 0.7909523809523809 and parameters: {'scalers': 'minmax', 'n_neighbors': 14, 'weights': 'distance', 'metric': 'manhattan'}. Best is trial 13 with value: 0.819047619047619.\u001b[0m\n",
            "\u001b[32m[I 2022-11-27 10:25:37,989]\u001b[0m Trial 55 finished with value: 0.798095238095238 and parameters: {'scalers': 'minmax', 'n_neighbors': 20, 'weights': 'distance', 'metric': 'manhattan'}. Best is trial 13 with value: 0.819047619047619.\u001b[0m\n",
            "\u001b[32m[I 2022-11-27 10:25:38,022]\u001b[0m Trial 56 finished with value: 0.8185714285714285 and parameters: {'scalers': 'minmax', 'n_neighbors': 17, 'weights': 'distance', 'metric': 'manhattan'}. Best is trial 13 with value: 0.819047619047619.\u001b[0m\n",
            "\u001b[32m[I 2022-11-27 10:25:38,055]\u001b[0m Trial 57 finished with value: 0.8052380952380952 and parameters: {'scalers': 'minmax', 'n_neighbors': 11, 'weights': 'distance', 'metric': 'manhattan'}. Best is trial 13 with value: 0.819047619047619.\u001b[0m\n",
            "\u001b[32m[I 2022-11-27 10:25:38,088]\u001b[0m Trial 58 finished with value: 0.8047619047619048 and parameters: {'scalers': 'minmax', 'n_neighbors': 19, 'weights': 'distance', 'metric': 'manhattan'}. Best is trial 13 with value: 0.819047619047619.\u001b[0m\n",
            "\u001b[32m[I 2022-11-27 10:25:38,123]\u001b[0m Trial 59 finished with value: 0.7628571428571428 and parameters: {'scalers': 'minmax', 'n_neighbors': 2, 'weights': 'uniform', 'metric': 'manhattan'}. Best is trial 13 with value: 0.819047619047619.\u001b[0m\n",
            "\u001b[32m[I 2022-11-27 10:25:38,156]\u001b[0m Trial 60 finished with value: 0.819047619047619 and parameters: {'scalers': 'minmax', 'n_neighbors': 15, 'weights': 'distance', 'metric': 'manhattan'}. Best is trial 13 with value: 0.819047619047619.\u001b[0m\n",
            "\u001b[32m[I 2022-11-27 10:25:38,191]\u001b[0m Trial 61 finished with value: 0.819047619047619 and parameters: {'scalers': 'minmax', 'n_neighbors': 15, 'weights': 'distance', 'metric': 'manhattan'}. Best is trial 13 with value: 0.819047619047619.\u001b[0m\n",
            "\u001b[32m[I 2022-11-27 10:25:38,226]\u001b[0m Trial 62 finished with value: 0.819047619047619 and parameters: {'scalers': 'minmax', 'n_neighbors': 15, 'weights': 'distance', 'metric': 'manhattan'}. Best is trial 13 with value: 0.819047619047619.\u001b[0m\n",
            "\u001b[32m[I 2022-11-27 10:25:38,260]\u001b[0m Trial 63 finished with value: 0.790952380952381 and parameters: {'scalers': 'minmax', 'n_neighbors': 13, 'weights': 'distance', 'metric': 'manhattan'}. Best is trial 13 with value: 0.819047619047619.\u001b[0m\n",
            "\u001b[32m[I 2022-11-27 10:25:38,301]\u001b[0m Trial 64 finished with value: 0.819047619047619 and parameters: {'scalers': 'minmax', 'n_neighbors': 15, 'weights': 'distance', 'metric': 'manhattan'}. Best is trial 13 with value: 0.819047619047619.\u001b[0m\n",
            "\u001b[32m[I 2022-11-27 10:25:38,334]\u001b[0m Trial 65 finished with value: 0.8185714285714285 and parameters: {'scalers': 'minmax', 'n_neighbors': 17, 'weights': 'distance', 'metric': 'manhattan'}. Best is trial 13 with value: 0.819047619047619.\u001b[0m\n",
            "\u001b[32m[I 2022-11-27 10:25:38,370]\u001b[0m Trial 66 finished with value: 0.8119047619047619 and parameters: {'scalers': 'standard', 'n_neighbors': 14, 'weights': 'distance', 'metric': 'manhattan'}. Best is trial 13 with value: 0.819047619047619.\u001b[0m\n",
            "\u001b[32m[I 2022-11-27 10:25:38,402]\u001b[0m Trial 67 finished with value: 0.819047619047619 and parameters: {'scalers': 'minmax', 'n_neighbors': 15, 'weights': 'distance', 'metric': 'manhattan'}. Best is trial 13 with value: 0.819047619047619.\u001b[0m\n",
            "\u001b[32m[I 2022-11-27 10:25:38,434]\u001b[0m Trial 68 finished with value: 0.797142857142857 and parameters: {'scalers': 'minmax', 'n_neighbors': 11, 'weights': 'distance', 'metric': 'minkowski'}. Best is trial 13 with value: 0.819047619047619.\u001b[0m\n",
            "\u001b[32m[I 2022-11-27 10:25:38,468]\u001b[0m Trial 69 finished with value: 0.819047619047619 and parameters: {'scalers': 'minmax', 'n_neighbors': 16, 'weights': 'distance', 'metric': 'manhattan'}. Best is trial 13 with value: 0.819047619047619.\u001b[0m\n",
            "\u001b[32m[I 2022-11-27 10:25:38,501]\u001b[0m Trial 70 finished with value: 0.7833333333333334 and parameters: {'scalers': 'minmax', 'n_neighbors': 8, 'weights': 'distance', 'metric': 'manhattan'}. Best is trial 13 with value: 0.819047619047619.\u001b[0m\n",
            "\u001b[32m[I 2022-11-27 10:25:38,535]\u001b[0m Trial 71 finished with value: 0.790952380952381 and parameters: {'scalers': 'minmax', 'n_neighbors': 13, 'weights': 'distance', 'metric': 'manhattan'}. Best is trial 13 with value: 0.819047619047619.\u001b[0m\n",
            "\u001b[32m[I 2022-11-27 10:25:38,569]\u001b[0m Trial 72 finished with value: 0.819047619047619 and parameters: {'scalers': 'minmax', 'n_neighbors': 15, 'weights': 'distance', 'metric': 'manhattan'}. Best is trial 13 with value: 0.819047619047619.\u001b[0m\n",
            "\u001b[32m[I 2022-11-27 10:25:38,603]\u001b[0m Trial 73 finished with value: 0.7914285714285714 and parameters: {'scalers': 'minmax', 'n_neighbors': 12, 'weights': 'distance', 'metric': 'manhattan'}. Best is trial 13 with value: 0.819047619047619.\u001b[0m\n",
            "\u001b[32m[I 2022-11-27 10:25:38,645]\u001b[0m Trial 74 finished with value: 0.7909523809523809 and parameters: {'scalers': 'minmax', 'n_neighbors': 14, 'weights': 'distance', 'metric': 'manhattan'}. Best is trial 13 with value: 0.819047619047619.\u001b[0m\n",
            "\u001b[32m[I 2022-11-27 10:25:38,703]\u001b[0m Trial 75 finished with value: 0.7695238095238095 and parameters: {'scalers': 'robust', 'n_neighbors': 18, 'weights': 'distance', 'metric': 'manhattan'}. Best is trial 13 with value: 0.819047619047619.\u001b[0m\n",
            "\u001b[32m[I 2022-11-27 10:25:38,737]\u001b[0m Trial 76 finished with value: 0.819047619047619 and parameters: {'scalers': 'minmax', 'n_neighbors': 16, 'weights': 'distance', 'metric': 'manhattan'}. Best is trial 13 with value: 0.819047619047619.\u001b[0m\n",
            "\u001b[32m[I 2022-11-27 10:25:38,777]\u001b[0m Trial 77 finished with value: 0.7119047619047619 and parameters: {'scalers': 'minmax', 'n_neighbors': 15, 'weights': 'uniform', 'metric': 'minkowski'}. Best is trial 13 with value: 0.819047619047619.\u001b[0m\n",
            "\u001b[32m[I 2022-11-27 10:25:38,810]\u001b[0m Trial 78 finished with value: 0.8185714285714285 and parameters: {'scalers': 'minmax', 'n_neighbors': 17, 'weights': 'distance', 'metric': 'manhattan'}. Best is trial 13 with value: 0.819047619047619.\u001b[0m\n",
            "\u001b[32m[I 2022-11-27 10:25:38,844]\u001b[0m Trial 79 finished with value: 0.8119047619047619 and parameters: {'scalers': 'standard', 'n_neighbors': 12, 'weights': 'distance', 'metric': 'manhattan'}. Best is trial 13 with value: 0.819047619047619.\u001b[0m\n",
            "\u001b[32m[I 2022-11-27 10:25:38,878]\u001b[0m Trial 80 finished with value: 0.819047619047619 and parameters: {'scalers': 'minmax', 'n_neighbors': 16, 'weights': 'distance', 'metric': 'manhattan'}. Best is trial 13 with value: 0.819047619047619.\u001b[0m\n",
            "\u001b[32m[I 2022-11-27 10:25:38,911]\u001b[0m Trial 81 finished with value: 0.8052380952380952 and parameters: {'scalers': 'minmax', 'n_neighbors': 29, 'weights': 'distance', 'metric': 'manhattan'}. Best is trial 13 with value: 0.819047619047619.\u001b[0m\n",
            "\u001b[32m[I 2022-11-27 10:25:38,946]\u001b[0m Trial 82 finished with value: 0.8047619047619048 and parameters: {'scalers': 'minmax', 'n_neighbors': 19, 'weights': 'distance', 'metric': 'manhattan'}. Best is trial 13 with value: 0.819047619047619.\u001b[0m\n",
            "\u001b[32m[I 2022-11-27 10:25:38,981]\u001b[0m Trial 83 finished with value: 0.7909523809523809 and parameters: {'scalers': 'minmax', 'n_neighbors': 14, 'weights': 'distance', 'metric': 'manhattan'}. Best is trial 13 with value: 0.819047619047619.\u001b[0m\n",
            "\u001b[32m[I 2022-11-27 10:25:39,015]\u001b[0m Trial 84 finished with value: 0.819047619047619 and parameters: {'scalers': 'minmax', 'n_neighbors': 16, 'weights': 'distance', 'metric': 'manhattan'}. Best is trial 13 with value: 0.819047619047619.\u001b[0m\n",
            "\u001b[32m[I 2022-11-27 10:25:39,048]\u001b[0m Trial 85 finished with value: 0.8114285714285714 and parameters: {'scalers': 'minmax', 'n_neighbors': 18, 'weights': 'distance', 'metric': 'manhattan'}. Best is trial 13 with value: 0.819047619047619.\u001b[0m\n",
            "\u001b[32m[I 2022-11-27 10:25:39,082]\u001b[0m Trial 86 finished with value: 0.819047619047619 and parameters: {'scalers': 'minmax', 'n_neighbors': 15, 'weights': 'distance', 'metric': 'manhattan'}. Best is trial 13 with value: 0.819047619047619.\u001b[0m\n",
            "\u001b[32m[I 2022-11-27 10:25:39,115]\u001b[0m Trial 87 finished with value: 0.819047619047619 and parameters: {'scalers': 'minmax', 'n_neighbors': 16, 'weights': 'distance', 'metric': 'manhattan'}. Best is trial 13 with value: 0.819047619047619.\u001b[0m\n",
            "\u001b[32m[I 2022-11-27 10:25:39,150]\u001b[0m Trial 88 finished with value: 0.8185714285714285 and parameters: {'scalers': 'minmax', 'n_neighbors': 17, 'weights': 'distance', 'metric': 'manhattan'}. Best is trial 13 with value: 0.819047619047619.\u001b[0m\n",
            "\u001b[32m[I 2022-11-27 10:25:39,187]\u001b[0m Trial 89 finished with value: 0.719047619047619 and parameters: {'scalers': 'minmax', 'n_neighbors': 16, 'weights': 'uniform', 'metric': 'minkowski'}. Best is trial 13 with value: 0.819047619047619.\u001b[0m\n",
            "\u001b[32m[I 2022-11-27 10:25:39,259]\u001b[0m Trial 90 finished with value: 0.7976190476190476 and parameters: {'scalers': 'robust', 'n_neighbors': 14, 'weights': 'distance', 'metric': 'manhattan'}. Best is trial 13 with value: 0.819047619047619.\u001b[0m\n",
            "\u001b[32m[I 2022-11-27 10:25:39,294]\u001b[0m Trial 91 finished with value: 0.819047619047619 and parameters: {'scalers': 'minmax', 'n_neighbors': 15, 'weights': 'distance', 'metric': 'manhattan'}. Best is trial 13 with value: 0.819047619047619.\u001b[0m\n",
            "\u001b[32m[I 2022-11-27 10:25:39,335]\u001b[0m Trial 92 finished with value: 0.790952380952381 and parameters: {'scalers': 'minmax', 'n_neighbors': 13, 'weights': 'distance', 'metric': 'manhattan'}. Best is trial 13 with value: 0.819047619047619.\u001b[0m\n",
            "\u001b[32m[I 2022-11-27 10:25:39,369]\u001b[0m Trial 93 finished with value: 0.8114285714285714 and parameters: {'scalers': 'minmax', 'n_neighbors': 18, 'weights': 'distance', 'metric': 'manhattan'}. Best is trial 13 with value: 0.819047619047619.\u001b[0m\n",
            "\u001b[32m[I 2022-11-27 10:25:39,402]\u001b[0m Trial 94 finished with value: 0.819047619047619 and parameters: {'scalers': 'minmax', 'n_neighbors': 16, 'weights': 'distance', 'metric': 'manhattan'}. Best is trial 13 with value: 0.819047619047619.\u001b[0m\n",
            "\u001b[32m[I 2022-11-27 10:25:39,436]\u001b[0m Trial 95 finished with value: 0.819047619047619 and parameters: {'scalers': 'minmax', 'n_neighbors': 15, 'weights': 'distance', 'metric': 'manhattan'}. Best is trial 13 with value: 0.819047619047619.\u001b[0m\n",
            "\u001b[32m[I 2022-11-27 10:25:39,471]\u001b[0m Trial 96 finished with value: 0.819047619047619 and parameters: {'scalers': 'minmax', 'n_neighbors': 16, 'weights': 'distance', 'metric': 'manhattan'}. Best is trial 13 with value: 0.819047619047619.\u001b[0m\n",
            "\u001b[32m[I 2022-11-27 10:25:39,506]\u001b[0m Trial 97 finished with value: 0.8185714285714285 and parameters: {'scalers': 'minmax', 'n_neighbors': 17, 'weights': 'distance', 'metric': 'manhattan'}. Best is trial 13 with value: 0.819047619047619.\u001b[0m\n",
            "\u001b[32m[I 2022-11-27 10:25:39,549]\u001b[0m Trial 98 finished with value: 0.7838095238095237 and parameters: {'scalers': 'standard', 'n_neighbors': 19, 'weights': 'distance', 'metric': 'manhattan'}. Best is trial 13 with value: 0.819047619047619.\u001b[0m\n",
            "\u001b[32m[I 2022-11-27 10:25:39,585]\u001b[0m Trial 99 finished with value: 0.7909523809523809 and parameters: {'scalers': 'minmax', 'n_neighbors': 14, 'weights': 'distance', 'metric': 'manhattan'}. Best is trial 13 with value: 0.819047619047619.\u001b[0m\n",
            "\u001b[32m[I 2022-11-27 10:25:39,626]\u001b[0m Trial 100 finished with value: 0.7909523809523809 and parameters: {'scalers': 'minmax', 'n_neighbors': 21, 'weights': 'distance', 'metric': 'manhattan'}. Best is trial 13 with value: 0.819047619047619.\u001b[0m\n",
            "\u001b[32m[I 2022-11-27 10:25:39,661]\u001b[0m Trial 101 finished with value: 0.819047619047619 and parameters: {'scalers': 'minmax', 'n_neighbors': 15, 'weights': 'distance', 'metric': 'manhattan'}. Best is trial 13 with value: 0.819047619047619.\u001b[0m\n",
            "\u001b[32m[I 2022-11-27 10:25:39,697]\u001b[0m Trial 102 finished with value: 0.819047619047619 and parameters: {'scalers': 'minmax', 'n_neighbors': 15, 'weights': 'distance', 'metric': 'manhattan'}. Best is trial 13 with value: 0.819047619047619.\u001b[0m\n",
            "\u001b[32m[I 2022-11-27 10:25:39,732]\u001b[0m Trial 103 finished with value: 0.819047619047619 and parameters: {'scalers': 'minmax', 'n_neighbors': 15, 'weights': 'distance', 'metric': 'manhattan'}. Best is trial 13 with value: 0.819047619047619.\u001b[0m\n",
            "\u001b[32m[I 2022-11-27 10:25:39,767]\u001b[0m Trial 104 finished with value: 0.790952380952381 and parameters: {'scalers': 'minmax', 'n_neighbors': 13, 'weights': 'distance', 'metric': 'manhattan'}. Best is trial 13 with value: 0.819047619047619.\u001b[0m\n",
            "\u001b[32m[I 2022-11-27 10:25:39,800]\u001b[0m Trial 105 finished with value: 0.819047619047619 and parameters: {'scalers': 'minmax', 'n_neighbors': 16, 'weights': 'distance', 'metric': 'manhattan'}. Best is trial 13 with value: 0.819047619047619.\u001b[0m\n",
            "\u001b[32m[I 2022-11-27 10:25:39,836]\u001b[0m Trial 106 finished with value: 0.7909523809523809 and parameters: {'scalers': 'minmax', 'n_neighbors': 14, 'weights': 'distance', 'metric': 'manhattan'}. Best is trial 13 with value: 0.819047619047619.\u001b[0m\n",
            "\u001b[32m[I 2022-11-27 10:25:39,876]\u001b[0m Trial 107 finished with value: 0.6704761904761904 and parameters: {'scalers': 'minmax', 'n_neighbors': 17, 'weights': 'uniform', 'metric': 'manhattan'}. Best is trial 13 with value: 0.819047619047619.\u001b[0m\n",
            "\u001b[32m[I 2022-11-27 10:25:39,942]\u001b[0m Trial 108 finished with value: 0.798095238095238 and parameters: {'scalers': 'robust', 'n_neighbors': 13, 'weights': 'distance', 'metric': 'manhattan'}. Best is trial 13 with value: 0.819047619047619.\u001b[0m\n",
            "\u001b[32m[I 2022-11-27 10:25:39,978]\u001b[0m Trial 109 finished with value: 0.8047619047619048 and parameters: {'scalers': 'minmax', 'n_neighbors': 18, 'weights': 'distance', 'metric': 'minkowski'}. Best is trial 13 with value: 0.819047619047619.\u001b[0m\n",
            "\u001b[32m[I 2022-11-27 10:25:40,013]\u001b[0m Trial 110 finished with value: 0.819047619047619 and parameters: {'scalers': 'minmax', 'n_neighbors': 16, 'weights': 'distance', 'metric': 'manhattan'}. Best is trial 13 with value: 0.819047619047619.\u001b[0m\n",
            "\u001b[32m[I 2022-11-27 10:25:40,049]\u001b[0m Trial 111 finished with value: 0.819047619047619 and parameters: {'scalers': 'minmax', 'n_neighbors': 16, 'weights': 'distance', 'metric': 'manhattan'}. Best is trial 13 with value: 0.819047619047619.\u001b[0m\n",
            "\u001b[32m[I 2022-11-27 10:25:40,083]\u001b[0m Trial 112 finished with value: 0.819047619047619 and parameters: {'scalers': 'minmax', 'n_neighbors': 16, 'weights': 'distance', 'metric': 'manhattan'}. Best is trial 13 with value: 0.819047619047619.\u001b[0m\n",
            "\u001b[32m[I 2022-11-27 10:25:40,116]\u001b[0m Trial 113 finished with value: 0.7909523809523809 and parameters: {'scalers': 'minmax', 'n_neighbors': 14, 'weights': 'distance', 'metric': 'manhattan'}. Best is trial 13 with value: 0.819047619047619.\u001b[0m\n",
            "\u001b[32m[I 2022-11-27 10:25:40,149]\u001b[0m Trial 114 finished with value: 0.8185714285714285 and parameters: {'scalers': 'minmax', 'n_neighbors': 17, 'weights': 'distance', 'metric': 'manhattan'}. Best is trial 13 with value: 0.819047619047619.\u001b[0m\n",
            "\u001b[32m[I 2022-11-27 10:25:40,183]\u001b[0m Trial 115 finished with value: 0.8185714285714285 and parameters: {'scalers': 'minmax', 'n_neighbors': 17, 'weights': 'distance', 'metric': 'manhattan'}. Best is trial 13 with value: 0.819047619047619.\u001b[0m\n",
            "\u001b[32m[I 2022-11-27 10:25:40,216]\u001b[0m Trial 116 finished with value: 0.7914285714285714 and parameters: {'scalers': 'minmax', 'n_neighbors': 12, 'weights': 'distance', 'metric': 'manhattan'}. Best is trial 13 with value: 0.819047619047619.\u001b[0m\n",
            "\u001b[32m[I 2022-11-27 10:25:40,251]\u001b[0m Trial 117 finished with value: 0.819047619047619 and parameters: {'scalers': 'minmax', 'n_neighbors': 16, 'weights': 'distance', 'metric': 'manhattan'}. Best is trial 13 with value: 0.819047619047619.\u001b[0m\n",
            "\u001b[32m[I 2022-11-27 10:25:40,287]\u001b[0m Trial 118 finished with value: 0.832857142857143 and parameters: {'scalers': 'standard', 'n_neighbors': 15, 'weights': 'distance', 'metric': 'manhattan'}. Best is trial 118 with value: 0.832857142857143.\u001b[0m\n",
            "\u001b[32m[I 2022-11-27 10:25:40,323]\u001b[0m Trial 119 finished with value: 0.8119047619047619 and parameters: {'scalers': 'standard', 'n_neighbors': 14, 'weights': 'distance', 'metric': 'manhattan'}. Best is trial 118 with value: 0.832857142857143.\u001b[0m\n",
            "\u001b[32m[I 2022-11-27 10:25:40,365]\u001b[0m Trial 120 finished with value: 0.832857142857143 and parameters: {'scalers': 'standard', 'n_neighbors': 15, 'weights': 'distance', 'metric': 'manhattan'}. Best is trial 118 with value: 0.832857142857143.\u001b[0m\n",
            "\u001b[32m[I 2022-11-27 10:25:40,401]\u001b[0m Trial 121 finished with value: 0.832857142857143 and parameters: {'scalers': 'standard', 'n_neighbors': 15, 'weights': 'distance', 'metric': 'manhattan'}. Best is trial 118 with value: 0.832857142857143.\u001b[0m\n",
            "\u001b[32m[I 2022-11-27 10:25:40,438]\u001b[0m Trial 122 finished with value: 0.832857142857143 and parameters: {'scalers': 'standard', 'n_neighbors': 15, 'weights': 'distance', 'metric': 'manhattan'}. Best is trial 118 with value: 0.832857142857143.\u001b[0m\n",
            "\u001b[32m[I 2022-11-27 10:25:40,478]\u001b[0m Trial 123 finished with value: 0.832857142857143 and parameters: {'scalers': 'standard', 'n_neighbors': 15, 'weights': 'distance', 'metric': 'manhattan'}. Best is trial 118 with value: 0.832857142857143.\u001b[0m\n",
            "\u001b[32m[I 2022-11-27 10:25:40,516]\u001b[0m Trial 124 finished with value: 0.832857142857143 and parameters: {'scalers': 'standard', 'n_neighbors': 13, 'weights': 'distance', 'metric': 'manhattan'}. Best is trial 118 with value: 0.832857142857143.\u001b[0m\n",
            "\u001b[32m[I 2022-11-27 10:25:40,552]\u001b[0m Trial 125 finished with value: 0.832857142857143 and parameters: {'scalers': 'standard', 'n_neighbors': 13, 'weights': 'distance', 'metric': 'manhattan'}. Best is trial 118 with value: 0.832857142857143.\u001b[0m\n",
            "\u001b[32m[I 2022-11-27 10:25:40,588]\u001b[0m Trial 126 finished with value: 0.8333333333333334 and parameters: {'scalers': 'standard', 'n_neighbors': 11, 'weights': 'distance', 'metric': 'manhattan'}. Best is trial 126 with value: 0.8333333333333334.\u001b[0m\n",
            "\u001b[32m[I 2022-11-27 10:25:40,627]\u001b[0m Trial 127 finished with value: 0.8333333333333334 and parameters: {'scalers': 'standard', 'n_neighbors': 11, 'weights': 'distance', 'metric': 'manhattan'}. Best is trial 126 with value: 0.8333333333333334.\u001b[0m\n",
            "\u001b[32m[I 2022-11-27 10:25:40,666]\u001b[0m Trial 128 finished with value: 0.6785714285714285 and parameters: {'scalers': 'standard', 'n_neighbors': 9, 'weights': 'uniform', 'metric': 'manhattan'}. Best is trial 126 with value: 0.8333333333333334.\u001b[0m\n",
            "\u001b[32m[I 2022-11-27 10:25:40,702]\u001b[0m Trial 129 finished with value: 0.8333333333333334 and parameters: {'scalers': 'standard', 'n_neighbors': 11, 'weights': 'distance', 'metric': 'manhattan'}. Best is trial 126 with value: 0.8333333333333334.\u001b[0m\n",
            "\u001b[32m[I 2022-11-27 10:25:40,744]\u001b[0m Trial 130 finished with value: 0.8119047619047619 and parameters: {'scalers': 'standard', 'n_neighbors': 10, 'weights': 'distance', 'metric': 'manhattan'}. Best is trial 126 with value: 0.8333333333333334.\u001b[0m\n",
            "\u001b[32m[I 2022-11-27 10:25:40,779]\u001b[0m Trial 131 finished with value: 0.8333333333333334 and parameters: {'scalers': 'standard', 'n_neighbors': 11, 'weights': 'distance', 'metric': 'manhattan'}. Best is trial 126 with value: 0.8333333333333334.\u001b[0m\n",
            "\u001b[32m[I 2022-11-27 10:25:40,815]\u001b[0m Trial 132 finished with value: 0.8333333333333334 and parameters: {'scalers': 'standard', 'n_neighbors': 11, 'weights': 'distance', 'metric': 'manhattan'}. Best is trial 126 with value: 0.8333333333333334.\u001b[0m\n",
            "\u001b[32m[I 2022-11-27 10:25:40,851]\u001b[0m Trial 133 finished with value: 0.8333333333333334 and parameters: {'scalers': 'standard', 'n_neighbors': 11, 'weights': 'distance', 'metric': 'manhattan'}. Best is trial 126 with value: 0.8333333333333334.\u001b[0m\n",
            "\u001b[32m[I 2022-11-27 10:25:40,888]\u001b[0m Trial 134 finished with value: 0.8333333333333334 and parameters: {'scalers': 'standard', 'n_neighbors': 11, 'weights': 'distance', 'metric': 'manhattan'}. Best is trial 126 with value: 0.8333333333333334.\u001b[0m\n",
            "\u001b[32m[I 2022-11-27 10:25:40,925]\u001b[0m Trial 135 finished with value: 0.8333333333333334 and parameters: {'scalers': 'standard', 'n_neighbors': 11, 'weights': 'distance', 'metric': 'manhattan'}. Best is trial 126 with value: 0.8333333333333334.\u001b[0m\n",
            "\u001b[32m[I 2022-11-27 10:25:40,963]\u001b[0m Trial 136 finished with value: 0.7766666666666666 and parameters: {'scalers': 'standard', 'n_neighbors': 11, 'weights': 'distance', 'metric': 'minkowski'}. Best is trial 126 with value: 0.8333333333333334.\u001b[0m\n",
            "\u001b[32m[I 2022-11-27 10:25:40,999]\u001b[0m Trial 137 finished with value: 0.8333333333333334 and parameters: {'scalers': 'standard', 'n_neighbors': 11, 'weights': 'distance', 'metric': 'manhattan'}. Best is trial 126 with value: 0.8333333333333334.\u001b[0m\n",
            "\u001b[32m[I 2022-11-27 10:25:41,033]\u001b[0m Trial 138 finished with value: 0.8123809523809523 and parameters: {'scalers': 'standard', 'n_neighbors': 9, 'weights': 'distance', 'metric': 'manhattan'}. Best is trial 126 with value: 0.8333333333333334.\u001b[0m\n",
            "\u001b[32m[I 2022-11-27 10:25:41,071]\u001b[0m Trial 139 finished with value: 0.8333333333333334 and parameters: {'scalers': 'standard', 'n_neighbors': 11, 'weights': 'distance', 'metric': 'manhattan'}. Best is trial 126 with value: 0.8333333333333334.\u001b[0m\n",
            "\u001b[32m[I 2022-11-27 10:25:41,107]\u001b[0m Trial 140 finished with value: 0.8333333333333334 and parameters: {'scalers': 'standard', 'n_neighbors': 11, 'weights': 'distance', 'metric': 'manhattan'}. Best is trial 126 with value: 0.8333333333333334.\u001b[0m\n",
            "\u001b[32m[I 2022-11-27 10:25:41,143]\u001b[0m Trial 141 finished with value: 0.8119047619047619 and parameters: {'scalers': 'standard', 'n_neighbors': 10, 'weights': 'distance', 'metric': 'manhattan'}. Best is trial 126 with value: 0.8333333333333334.\u001b[0m\n",
            "\u001b[32m[I 2022-11-27 10:25:41,179]\u001b[0m Trial 142 finished with value: 0.8333333333333334 and parameters: {'scalers': 'standard', 'n_neighbors': 11, 'weights': 'distance', 'metric': 'manhattan'}. Best is trial 126 with value: 0.8333333333333334.\u001b[0m\n",
            "\u001b[32m[I 2022-11-27 10:25:41,215]\u001b[0m Trial 143 finished with value: 0.8333333333333334 and parameters: {'scalers': 'standard', 'n_neighbors': 11, 'weights': 'distance', 'metric': 'manhattan'}. Best is trial 126 with value: 0.8333333333333334.\u001b[0m\n",
            "\u001b[32m[I 2022-11-27 10:25:41,251]\u001b[0m Trial 144 finished with value: 0.8333333333333334 and parameters: {'scalers': 'standard', 'n_neighbors': 11, 'weights': 'distance', 'metric': 'manhattan'}. Best is trial 126 with value: 0.8333333333333334.\u001b[0m\n",
            "\u001b[32m[I 2022-11-27 10:25:41,287]\u001b[0m Trial 145 finished with value: 0.8333333333333334 and parameters: {'scalers': 'standard', 'n_neighbors': 11, 'weights': 'distance', 'metric': 'manhattan'}. Best is trial 126 with value: 0.8333333333333334.\u001b[0m\n",
            "\u001b[32m[I 2022-11-27 10:25:41,323]\u001b[0m Trial 146 finished with value: 0.8333333333333334 and parameters: {'scalers': 'standard', 'n_neighbors': 11, 'weights': 'distance', 'metric': 'manhattan'}. Best is trial 126 with value: 0.8333333333333334.\u001b[0m\n",
            "\u001b[32m[I 2022-11-27 10:25:41,369]\u001b[0m Trial 147 finished with value: 0.8123809523809523 and parameters: {'scalers': 'standard', 'n_neighbors': 9, 'weights': 'distance', 'metric': 'manhattan'}. Best is trial 126 with value: 0.8333333333333334.\u001b[0m\n",
            "\u001b[32m[I 2022-11-27 10:25:41,405]\u001b[0m Trial 148 finished with value: 0.8119047619047619 and parameters: {'scalers': 'standard', 'n_neighbors': 10, 'weights': 'distance', 'metric': 'manhattan'}. Best is trial 126 with value: 0.8333333333333334.\u001b[0m\n",
            "\u001b[32m[I 2022-11-27 10:25:41,442]\u001b[0m Trial 149 finished with value: 0.811904761904762 and parameters: {'scalers': 'standard', 'n_neighbors': 8, 'weights': 'distance', 'metric': 'manhattan'}. Best is trial 126 with value: 0.8333333333333334.\u001b[0m\n",
            "\u001b[32m[I 2022-11-27 10:25:41,479]\u001b[0m Trial 150 finished with value: 0.8333333333333334 and parameters: {'scalers': 'standard', 'n_neighbors': 11, 'weights': 'distance', 'metric': 'manhattan'}. Best is trial 126 with value: 0.8333333333333334.\u001b[0m\n",
            "\u001b[32m[I 2022-11-27 10:25:41,516]\u001b[0m Trial 151 finished with value: 0.8333333333333334 and parameters: {'scalers': 'standard', 'n_neighbors': 11, 'weights': 'distance', 'metric': 'manhattan'}. Best is trial 126 with value: 0.8333333333333334.\u001b[0m\n",
            "\u001b[32m[I 2022-11-27 10:25:41,555]\u001b[0m Trial 152 finished with value: 0.8119047619047619 and parameters: {'scalers': 'standard', 'n_neighbors': 12, 'weights': 'distance', 'metric': 'manhattan'}. Best is trial 126 with value: 0.8333333333333334.\u001b[0m\n",
            "\u001b[32m[I 2022-11-27 10:25:41,593]\u001b[0m Trial 153 finished with value: 0.8119047619047619 and parameters: {'scalers': 'standard', 'n_neighbors': 10, 'weights': 'distance', 'metric': 'manhattan'}. Best is trial 126 with value: 0.8333333333333334.\u001b[0m\n",
            "\u001b[32m[I 2022-11-27 10:25:41,631]\u001b[0m Trial 154 finished with value: 0.8333333333333334 and parameters: {'scalers': 'standard', 'n_neighbors': 11, 'weights': 'distance', 'metric': 'manhattan'}. Best is trial 126 with value: 0.8333333333333334.\u001b[0m\n",
            "\u001b[32m[I 2022-11-27 10:25:41,668]\u001b[0m Trial 155 finished with value: 0.8119047619047619 and parameters: {'scalers': 'standard', 'n_neighbors': 10, 'weights': 'distance', 'metric': 'manhattan'}. Best is trial 126 with value: 0.8333333333333334.\u001b[0m\n",
            "\u001b[32m[I 2022-11-27 10:25:41,704]\u001b[0m Trial 156 finished with value: 0.8119047619047619 and parameters: {'scalers': 'standard', 'n_neighbors': 12, 'weights': 'distance', 'metric': 'manhattan'}. Best is trial 126 with value: 0.8333333333333334.\u001b[0m\n",
            "\u001b[32m[I 2022-11-27 10:25:41,745]\u001b[0m Trial 157 finished with value: 0.7061904761904761 and parameters: {'scalers': 'standard', 'n_neighbors': 11, 'weights': 'uniform', 'metric': 'manhattan'}. Best is trial 126 with value: 0.8333333333333334.\u001b[0m\n",
            "\u001b[32m[I 2022-11-27 10:25:41,784]\u001b[0m Trial 158 finished with value: 0.7766666666666666 and parameters: {'scalers': 'standard', 'n_neighbors': 11, 'weights': 'distance', 'metric': 'euclidean'}. Best is trial 126 with value: 0.8333333333333334.\u001b[0m\n",
            "\u001b[32m[I 2022-11-27 10:25:41,820]\u001b[0m Trial 159 finished with value: 0.8123809523809523 and parameters: {'scalers': 'standard', 'n_neighbors': 9, 'weights': 'distance', 'metric': 'manhattan'}. Best is trial 126 with value: 0.8333333333333334.\u001b[0m\n",
            "\u001b[32m[I 2022-11-27 10:25:41,856]\u001b[0m Trial 160 finished with value: 0.7695238095238095 and parameters: {'scalers': 'standard', 'n_neighbors': 7, 'weights': 'distance', 'metric': 'minkowski'}. Best is trial 126 with value: 0.8333333333333334.\u001b[0m\n",
            "\u001b[32m[I 2022-11-27 10:25:41,893]\u001b[0m Trial 161 finished with value: 0.8333333333333334 and parameters: {'scalers': 'standard', 'n_neighbors': 11, 'weights': 'distance', 'metric': 'manhattan'}. Best is trial 126 with value: 0.8333333333333334.\u001b[0m\n",
            "\u001b[32m[I 2022-11-27 10:25:41,930]\u001b[0m Trial 162 finished with value: 0.8119047619047619 and parameters: {'scalers': 'standard', 'n_neighbors': 12, 'weights': 'distance', 'metric': 'manhattan'}. Best is trial 126 with value: 0.8333333333333334.\u001b[0m\n",
            "\u001b[32m[I 2022-11-27 10:25:41,971]\u001b[0m Trial 163 finished with value: 0.8119047619047619 and parameters: {'scalers': 'standard', 'n_neighbors': 10, 'weights': 'distance', 'metric': 'manhattan'}. Best is trial 126 with value: 0.8333333333333334.\u001b[0m\n",
            "\u001b[32m[I 2022-11-27 10:25:42,013]\u001b[0m Trial 164 finished with value: 0.8333333333333334 and parameters: {'scalers': 'standard', 'n_neighbors': 11, 'weights': 'distance', 'metric': 'manhattan'}. Best is trial 126 with value: 0.8333333333333334.\u001b[0m\n",
            "\u001b[32m[I 2022-11-27 10:25:42,049]\u001b[0m Trial 165 finished with value: 0.8119047619047619 and parameters: {'scalers': 'standard', 'n_neighbors': 12, 'weights': 'distance', 'metric': 'manhattan'}. Best is trial 126 with value: 0.8333333333333334.\u001b[0m\n",
            "\u001b[32m[I 2022-11-27 10:25:42,085]\u001b[0m Trial 166 finished with value: 0.8333333333333334 and parameters: {'scalers': 'standard', 'n_neighbors': 11, 'weights': 'distance', 'metric': 'manhattan'}. Best is trial 126 with value: 0.8333333333333334.\u001b[0m\n",
            "\u001b[32m[I 2022-11-27 10:25:42,122]\u001b[0m Trial 167 finished with value: 0.8119047619047619 and parameters: {'scalers': 'standard', 'n_neighbors': 10, 'weights': 'distance', 'metric': 'manhattan'}. Best is trial 126 with value: 0.8333333333333334.\u001b[0m\n",
            "\u001b[32m[I 2022-11-27 10:25:42,160]\u001b[0m Trial 168 finished with value: 0.8119047619047619 and parameters: {'scalers': 'standard', 'n_neighbors': 12, 'weights': 'distance', 'metric': 'manhattan'}. Best is trial 126 with value: 0.8333333333333334.\u001b[0m\n",
            "\u001b[32m[I 2022-11-27 10:25:42,201]\u001b[0m Trial 169 finished with value: 0.8123809523809523 and parameters: {'scalers': 'standard', 'n_neighbors': 9, 'weights': 'distance', 'metric': 'manhattan'}. Best is trial 126 with value: 0.8333333333333334.\u001b[0m\n",
            "\u001b[32m[I 2022-11-27 10:25:42,240]\u001b[0m Trial 170 finished with value: 0.8333333333333334 and parameters: {'scalers': 'standard', 'n_neighbors': 11, 'weights': 'distance', 'metric': 'manhattan'}. Best is trial 126 with value: 0.8333333333333334.\u001b[0m\n",
            "\u001b[32m[I 2022-11-27 10:25:42,277]\u001b[0m Trial 171 finished with value: 0.8333333333333334 and parameters: {'scalers': 'standard', 'n_neighbors': 11, 'weights': 'distance', 'metric': 'manhattan'}. Best is trial 126 with value: 0.8333333333333334.\u001b[0m\n",
            "\u001b[32m[I 2022-11-27 10:25:42,315]\u001b[0m Trial 172 finished with value: 0.8119047619047619 and parameters: {'scalers': 'standard', 'n_neighbors': 12, 'weights': 'distance', 'metric': 'manhattan'}. Best is trial 126 with value: 0.8333333333333334.\u001b[0m\n",
            "\u001b[32m[I 2022-11-27 10:25:42,352]\u001b[0m Trial 173 finished with value: 0.8119047619047619 and parameters: {'scalers': 'standard', 'n_neighbors': 10, 'weights': 'distance', 'metric': 'manhattan'}. Best is trial 126 with value: 0.8333333333333334.\u001b[0m\n",
            "\u001b[32m[I 2022-11-27 10:25:42,398]\u001b[0m Trial 174 finished with value: 0.8333333333333334 and parameters: {'scalers': 'standard', 'n_neighbors': 11, 'weights': 'distance', 'metric': 'manhattan'}. Best is trial 126 with value: 0.8333333333333334.\u001b[0m\n",
            "\u001b[32m[I 2022-11-27 10:25:42,435]\u001b[0m Trial 175 finished with value: 0.8119047619047619 and parameters: {'scalers': 'standard', 'n_neighbors': 10, 'weights': 'distance', 'metric': 'manhattan'}. Best is trial 126 with value: 0.8333333333333334.\u001b[0m\n",
            "\u001b[32m[I 2022-11-27 10:25:42,478]\u001b[0m Trial 176 finished with value: 0.8047619047619048 and parameters: {'scalers': 'standard', 'n_neighbors': 4, 'weights': 'distance', 'metric': 'manhattan'}. Best is trial 126 with value: 0.8333333333333334.\u001b[0m\n",
            "\u001b[32m[I 2022-11-27 10:25:42,514]\u001b[0m Trial 177 finished with value: 0.8119047619047619 and parameters: {'scalers': 'standard', 'n_neighbors': 12, 'weights': 'distance', 'metric': 'manhattan'}. Best is trial 126 with value: 0.8333333333333334.\u001b[0m\n",
            "\u001b[32m[I 2022-11-27 10:25:42,554]\u001b[0m Trial 178 finished with value: 0.8333333333333334 and parameters: {'scalers': 'standard', 'n_neighbors': 11, 'weights': 'distance', 'metric': 'manhattan'}. Best is trial 126 with value: 0.8333333333333334.\u001b[0m\n",
            "\u001b[32m[I 2022-11-27 10:25:42,599]\u001b[0m Trial 179 finished with value: 0.8119047619047619 and parameters: {'scalers': 'standard', 'n_neighbors': 10, 'weights': 'distance', 'metric': 'manhattan'}. Best is trial 126 with value: 0.8333333333333334.\u001b[0m\n",
            "\u001b[32m[I 2022-11-27 10:25:42,638]\u001b[0m Trial 180 finished with value: 0.811904761904762 and parameters: {'scalers': 'standard', 'n_neighbors': 8, 'weights': 'distance', 'metric': 'manhattan'}. Best is trial 126 with value: 0.8333333333333334.\u001b[0m\n",
            "\u001b[32m[I 2022-11-27 10:25:42,676]\u001b[0m Trial 181 finished with value: 0.8333333333333334 and parameters: {'scalers': 'standard', 'n_neighbors': 11, 'weights': 'distance', 'metric': 'manhattan'}. Best is trial 126 with value: 0.8333333333333334.\u001b[0m\n",
            "\u001b[32m[I 2022-11-27 10:25:42,714]\u001b[0m Trial 182 finished with value: 0.8119047619047619 and parameters: {'scalers': 'standard', 'n_neighbors': 12, 'weights': 'distance', 'metric': 'manhattan'}. Best is trial 126 with value: 0.8333333333333334.\u001b[0m\n",
            "\u001b[32m[I 2022-11-27 10:25:42,751]\u001b[0m Trial 183 finished with value: 0.8333333333333334 and parameters: {'scalers': 'standard', 'n_neighbors': 11, 'weights': 'distance', 'metric': 'manhattan'}. Best is trial 126 with value: 0.8333333333333334.\u001b[0m\n",
            "\u001b[32m[I 2022-11-27 10:25:42,788]\u001b[0m Trial 184 finished with value: 0.8123809523809523 and parameters: {'scalers': 'standard', 'n_neighbors': 9, 'weights': 'distance', 'metric': 'manhattan'}. Best is trial 126 with value: 0.8333333333333334.\u001b[0m\n",
            "\u001b[32m[I 2022-11-27 10:25:42,826]\u001b[0m Trial 185 finished with value: 0.8333333333333334 and parameters: {'scalers': 'standard', 'n_neighbors': 11, 'weights': 'distance', 'metric': 'manhattan'}. Best is trial 126 with value: 0.8333333333333334.\u001b[0m\n",
            "\u001b[32m[I 2022-11-27 10:25:42,864]\u001b[0m Trial 186 finished with value: 0.8119047619047619 and parameters: {'scalers': 'standard', 'n_neighbors': 10, 'weights': 'distance', 'metric': 'manhattan'}. Best is trial 126 with value: 0.8333333333333334.\u001b[0m\n",
            "\u001b[32m[I 2022-11-27 10:25:42,903]\u001b[0m Trial 187 finished with value: 0.8119047619047619 and parameters: {'scalers': 'standard', 'n_neighbors': 12, 'weights': 'distance', 'metric': 'manhattan'}. Best is trial 126 with value: 0.8333333333333334.\u001b[0m\n",
            "\u001b[32m[I 2022-11-27 10:25:42,941]\u001b[0m Trial 188 finished with value: 0.7061904761904761 and parameters: {'scalers': 'standard', 'n_neighbors': 11, 'weights': 'uniform', 'metric': 'manhattan'}. Best is trial 126 with value: 0.8333333333333334.\u001b[0m\n",
            "\u001b[32m[I 2022-11-27 10:25:42,977]\u001b[0m Trial 189 finished with value: 0.7695238095238095 and parameters: {'scalers': 'standard', 'n_neighbors': 12, 'weights': 'distance', 'metric': 'euclidean'}. Best is trial 126 with value: 0.8333333333333334.\u001b[0m\n",
            "\u001b[32m[I 2022-11-27 10:25:43,013]\u001b[0m Trial 190 finished with value: 0.8119047619047619 and parameters: {'scalers': 'standard', 'n_neighbors': 10, 'weights': 'distance', 'metric': 'manhattan'}. Best is trial 126 with value: 0.8333333333333334.\u001b[0m\n",
            "\u001b[32m[I 2022-11-27 10:25:43,049]\u001b[0m Trial 191 finished with value: 0.8333333333333334 and parameters: {'scalers': 'standard', 'n_neighbors': 11, 'weights': 'distance', 'metric': 'manhattan'}. Best is trial 126 with value: 0.8333333333333334.\u001b[0m\n",
            "\u001b[32m[I 2022-11-27 10:25:43,087]\u001b[0m Trial 192 finished with value: 0.8333333333333334 and parameters: {'scalers': 'standard', 'n_neighbors': 11, 'weights': 'distance', 'metric': 'manhattan'}. Best is trial 126 with value: 0.8333333333333334.\u001b[0m\n",
            "\u001b[32m[I 2022-11-27 10:25:43,126]\u001b[0m Trial 193 finished with value: 0.8119047619047619 and parameters: {'scalers': 'standard', 'n_neighbors': 10, 'weights': 'distance', 'metric': 'manhattan'}. Best is trial 126 with value: 0.8333333333333334.\u001b[0m\n",
            "\u001b[32m[I 2022-11-27 10:25:43,164]\u001b[0m Trial 194 finished with value: 0.8119047619047619 and parameters: {'scalers': 'standard', 'n_neighbors': 12, 'weights': 'distance', 'metric': 'manhattan'}. Best is trial 126 with value: 0.8333333333333334.\u001b[0m\n",
            "\u001b[32m[I 2022-11-27 10:25:43,203]\u001b[0m Trial 195 finished with value: 0.8333333333333334 and parameters: {'scalers': 'standard', 'n_neighbors': 11, 'weights': 'distance', 'metric': 'manhattan'}. Best is trial 126 with value: 0.8333333333333334.\u001b[0m\n",
            "\u001b[32m[I 2022-11-27 10:25:43,246]\u001b[0m Trial 196 finished with value: 0.8123809523809523 and parameters: {'scalers': 'standard', 'n_neighbors': 9, 'weights': 'distance', 'metric': 'manhattan'}. Best is trial 126 with value: 0.8333333333333334.\u001b[0m\n",
            "\u001b[32m[I 2022-11-27 10:25:43,286]\u001b[0m Trial 197 finished with value: 0.7904761904761904 and parameters: {'scalers': 'standard', 'n_neighbors': 13, 'weights': 'distance', 'metric': 'minkowski'}. Best is trial 126 with value: 0.8333333333333334.\u001b[0m\n",
            "\u001b[32m[I 2022-11-27 10:25:43,322]\u001b[0m Trial 198 finished with value: 0.8333333333333334 and parameters: {'scalers': 'standard', 'n_neighbors': 11, 'weights': 'distance', 'metric': 'manhattan'}. Best is trial 126 with value: 0.8333333333333334.\u001b[0m\n",
            "\u001b[32m[I 2022-11-27 10:25:43,358]\u001b[0m Trial 199 finished with value: 0.8119047619047619 and parameters: {'scalers': 'standard', 'n_neighbors': 10, 'weights': 'distance', 'metric': 'manhattan'}. Best is trial 126 with value: 0.8333333333333334.\u001b[0m\n",
            "\u001b[32m[I 2022-11-27 10:25:43,402]\u001b[0m Trial 200 finished with value: 0.8333333333333334 and parameters: {'scalers': 'standard', 'n_neighbors': 11, 'weights': 'distance', 'metric': 'manhattan'}. Best is trial 126 with value: 0.8333333333333334.\u001b[0m\n",
            "\u001b[32m[I 2022-11-27 10:25:43,440]\u001b[0m Trial 201 finished with value: 0.8119047619047619 and parameters: {'scalers': 'standard', 'n_neighbors': 12, 'weights': 'distance', 'metric': 'manhattan'}. Best is trial 126 with value: 0.8333333333333334.\u001b[0m\n",
            "\u001b[32m[I 2022-11-27 10:25:43,480]\u001b[0m Trial 202 finished with value: 0.8333333333333334 and parameters: {'scalers': 'standard', 'n_neighbors': 11, 'weights': 'distance', 'metric': 'manhattan'}. Best is trial 126 with value: 0.8333333333333334.\u001b[0m\n",
            "\u001b[32m[I 2022-11-27 10:25:43,517]\u001b[0m Trial 203 finished with value: 0.8119047619047619 and parameters: {'scalers': 'standard', 'n_neighbors': 10, 'weights': 'distance', 'metric': 'manhattan'}. Best is trial 126 with value: 0.8333333333333334.\u001b[0m\n",
            "\u001b[32m[I 2022-11-27 10:25:43,555]\u001b[0m Trial 204 finished with value: 0.8333333333333334 and parameters: {'scalers': 'standard', 'n_neighbors': 11, 'weights': 'distance', 'metric': 'manhattan'}. Best is trial 126 with value: 0.8333333333333334.\u001b[0m\n",
            "\u001b[32m[I 2022-11-27 10:25:43,592]\u001b[0m Trial 205 finished with value: 0.8119047619047619 and parameters: {'scalers': 'standard', 'n_neighbors': 12, 'weights': 'distance', 'metric': 'manhattan'}. Best is trial 126 with value: 0.8333333333333334.\u001b[0m\n",
            "\u001b[32m[I 2022-11-27 10:25:43,654]\u001b[0m Trial 206 finished with value: 0.7976190476190476 and parameters: {'scalers': 'robust', 'n_neighbors': 11, 'weights': 'distance', 'metric': 'manhattan'}. Best is trial 126 with value: 0.8333333333333334.\u001b[0m\n",
            "\u001b[32m[I 2022-11-27 10:25:43,691]\u001b[0m Trial 207 finished with value: 0.8119047619047619 and parameters: {'scalers': 'standard', 'n_neighbors': 12, 'weights': 'distance', 'metric': 'manhattan'}. Best is trial 126 with value: 0.8333333333333334.\u001b[0m\n",
            "\u001b[32m[I 2022-11-27 10:25:43,731]\u001b[0m Trial 208 finished with value: 0.8119047619047619 and parameters: {'scalers': 'standard', 'n_neighbors': 10, 'weights': 'distance', 'metric': 'manhattan'}. Best is trial 126 with value: 0.8333333333333334.\u001b[0m\n",
            "\u001b[32m[I 2022-11-27 10:25:43,768]\u001b[0m Trial 209 finished with value: 0.832857142857143 and parameters: {'scalers': 'standard', 'n_neighbors': 13, 'weights': 'distance', 'metric': 'manhattan'}. Best is trial 126 with value: 0.8333333333333334.\u001b[0m\n",
            "\u001b[32m[I 2022-11-27 10:25:43,805]\u001b[0m Trial 210 finished with value: 0.8333333333333334 and parameters: {'scalers': 'standard', 'n_neighbors': 11, 'weights': 'distance', 'metric': 'manhattan'}. Best is trial 126 with value: 0.8333333333333334.\u001b[0m\n",
            "\u001b[32m[I 2022-11-27 10:25:43,857]\u001b[0m Trial 211 finished with value: 0.8333333333333334 and parameters: {'scalers': 'standard', 'n_neighbors': 11, 'weights': 'distance', 'metric': 'manhattan'}. Best is trial 126 with value: 0.8333333333333334.\u001b[0m\n",
            "\u001b[32m[I 2022-11-27 10:25:43,896]\u001b[0m Trial 212 finished with value: 0.8119047619047619 and parameters: {'scalers': 'standard', 'n_neighbors': 10, 'weights': 'distance', 'metric': 'manhattan'}. Best is trial 126 with value: 0.8333333333333334.\u001b[0m\n",
            "\u001b[32m[I 2022-11-27 10:25:43,933]\u001b[0m Trial 213 finished with value: 0.8333333333333334 and parameters: {'scalers': 'standard', 'n_neighbors': 11, 'weights': 'distance', 'metric': 'manhattan'}. Best is trial 126 with value: 0.8333333333333334.\u001b[0m\n",
            "\u001b[32m[I 2022-11-27 10:25:43,973]\u001b[0m Trial 214 finished with value: 0.8333333333333334 and parameters: {'scalers': 'standard', 'n_neighbors': 11, 'weights': 'distance', 'metric': 'manhattan'}. Best is trial 126 with value: 0.8333333333333334.\u001b[0m\n",
            "\u001b[32m[I 2022-11-27 10:25:44,010]\u001b[0m Trial 215 finished with value: 0.8119047619047619 and parameters: {'scalers': 'standard', 'n_neighbors': 12, 'weights': 'distance', 'metric': 'manhattan'}. Best is trial 126 with value: 0.8333333333333334.\u001b[0m\n",
            "\u001b[32m[I 2022-11-27 10:25:44,048]\u001b[0m Trial 216 finished with value: 0.8333333333333334 and parameters: {'scalers': 'standard', 'n_neighbors': 11, 'weights': 'distance', 'metric': 'manhattan'}. Best is trial 126 with value: 0.8333333333333334.\u001b[0m\n",
            "\u001b[32m[I 2022-11-27 10:25:44,089]\u001b[0m Trial 217 finished with value: 0.8123809523809523 and parameters: {'scalers': 'standard', 'n_neighbors': 9, 'weights': 'distance', 'metric': 'manhattan'}. Best is trial 126 with value: 0.8333333333333334.\u001b[0m\n",
            "\u001b[32m[I 2022-11-27 10:25:44,127]\u001b[0m Trial 218 finished with value: 0.8119047619047619 and parameters: {'scalers': 'standard', 'n_neighbors': 12, 'weights': 'distance', 'metric': 'manhattan'}. Best is trial 126 with value: 0.8333333333333334.\u001b[0m\n",
            "\u001b[32m[I 2022-11-27 10:25:44,168]\u001b[0m Trial 219 finished with value: 0.6995238095238094 and parameters: {'scalers': 'standard', 'n_neighbors': 10, 'weights': 'uniform', 'metric': 'manhattan'}. Best is trial 126 with value: 0.8333333333333334.\u001b[0m\n",
            "\u001b[32m[I 2022-11-27 10:25:44,207]\u001b[0m Trial 220 finished with value: 0.8119047619047619 and parameters: {'scalers': 'standard', 'n_neighbors': 10, 'weights': 'distance', 'metric': 'manhattan'}. Best is trial 126 with value: 0.8333333333333334.\u001b[0m\n",
            "\u001b[32m[I 2022-11-27 10:25:44,245]\u001b[0m Trial 221 finished with value: 0.8333333333333334 and parameters: {'scalers': 'standard', 'n_neighbors': 11, 'weights': 'distance', 'metric': 'manhattan'}. Best is trial 126 with value: 0.8333333333333334.\u001b[0m\n",
            "\u001b[32m[I 2022-11-27 10:25:44,282]\u001b[0m Trial 222 finished with value: 0.8333333333333334 and parameters: {'scalers': 'standard', 'n_neighbors': 11, 'weights': 'distance', 'metric': 'manhattan'}. Best is trial 126 with value: 0.8333333333333334.\u001b[0m\n",
            "\u001b[32m[I 2022-11-27 10:25:44,320]\u001b[0m Trial 223 finished with value: 0.8119047619047619 and parameters: {'scalers': 'standard', 'n_neighbors': 12, 'weights': 'distance', 'metric': 'manhattan'}. Best is trial 126 with value: 0.8333333333333334.\u001b[0m\n",
            "\u001b[32m[I 2022-11-27 10:25:44,357]\u001b[0m Trial 224 finished with value: 0.8333333333333334 and parameters: {'scalers': 'standard', 'n_neighbors': 11, 'weights': 'distance', 'metric': 'manhattan'}. Best is trial 126 with value: 0.8333333333333334.\u001b[0m\n",
            "\u001b[32m[I 2022-11-27 10:25:44,395]\u001b[0m Trial 225 finished with value: 0.8119047619047619 and parameters: {'scalers': 'standard', 'n_neighbors': 10, 'weights': 'distance', 'metric': 'manhattan'}. Best is trial 126 with value: 0.8333333333333334.\u001b[0m\n",
            "\u001b[32m[I 2022-11-27 10:25:44,447]\u001b[0m Trial 226 finished with value: 0.8333333333333334 and parameters: {'scalers': 'standard', 'n_neighbors': 11, 'weights': 'distance', 'metric': 'manhattan'}. Best is trial 126 with value: 0.8333333333333334.\u001b[0m\n",
            "\u001b[32m[I 2022-11-27 10:25:44,487]\u001b[0m Trial 227 finished with value: 0.8119047619047619 and parameters: {'scalers': 'standard', 'n_neighbors': 12, 'weights': 'distance', 'metric': 'manhattan'}. Best is trial 126 with value: 0.8333333333333334.\u001b[0m\n",
            "\u001b[32m[I 2022-11-27 10:25:44,528]\u001b[0m Trial 228 finished with value: 0.8333333333333334 and parameters: {'scalers': 'standard', 'n_neighbors': 11, 'weights': 'distance', 'metric': 'manhattan'}. Best is trial 126 with value: 0.8333333333333334.\u001b[0m\n",
            "\u001b[32m[I 2022-11-27 10:25:44,568]\u001b[0m Trial 229 finished with value: 0.7695238095238095 and parameters: {'scalers': 'standard', 'n_neighbors': 12, 'weights': 'distance', 'metric': 'euclidean'}. Best is trial 126 with value: 0.8333333333333334.\u001b[0m\n",
            "\u001b[32m[I 2022-11-27 10:25:44,607]\u001b[0m Trial 230 finished with value: 0.8119047619047619 and parameters: {'scalers': 'standard', 'n_neighbors': 10, 'weights': 'distance', 'metric': 'manhattan'}. Best is trial 126 with value: 0.8333333333333334.\u001b[0m\n",
            "\u001b[32m[I 2022-11-27 10:25:44,645]\u001b[0m Trial 231 finished with value: 0.8333333333333334 and parameters: {'scalers': 'standard', 'n_neighbors': 11, 'weights': 'distance', 'metric': 'manhattan'}. Best is trial 126 with value: 0.8333333333333334.\u001b[0m\n",
            "\u001b[32m[I 2022-11-27 10:25:44,684]\u001b[0m Trial 232 finished with value: 0.8333333333333334 and parameters: {'scalers': 'standard', 'n_neighbors': 11, 'weights': 'distance', 'metric': 'manhattan'}. Best is trial 126 with value: 0.8333333333333334.\u001b[0m\n",
            "\u001b[32m[I 2022-11-27 10:25:44,722]\u001b[0m Trial 233 finished with value: 0.8333333333333334 and parameters: {'scalers': 'standard', 'n_neighbors': 11, 'weights': 'distance', 'metric': 'manhattan'}. Best is trial 126 with value: 0.8333333333333334.\u001b[0m\n",
            "\u001b[32m[I 2022-11-27 10:25:44,764]\u001b[0m Trial 234 finished with value: 0.8333333333333334 and parameters: {'scalers': 'standard', 'n_neighbors': 11, 'weights': 'distance', 'metric': 'manhattan'}. Best is trial 126 with value: 0.8333333333333334.\u001b[0m\n",
            "\u001b[32m[I 2022-11-27 10:25:44,801]\u001b[0m Trial 235 finished with value: 0.8119047619047619 and parameters: {'scalers': 'standard', 'n_neighbors': 10, 'weights': 'distance', 'metric': 'manhattan'}. Best is trial 126 with value: 0.8333333333333334.\u001b[0m\n",
            "\u001b[32m[I 2022-11-27 10:25:44,841]\u001b[0m Trial 236 finished with value: 0.832857142857143 and parameters: {'scalers': 'standard', 'n_neighbors': 13, 'weights': 'distance', 'metric': 'manhattan'}. Best is trial 126 with value: 0.8333333333333334.\u001b[0m\n",
            "\u001b[32m[I 2022-11-27 10:25:44,904]\u001b[0m Trial 237 finished with value: 0.7976190476190476 and parameters: {'scalers': 'robust', 'n_neighbors': 12, 'weights': 'distance', 'metric': 'minkowski'}. Best is trial 126 with value: 0.8333333333333334.\u001b[0m\n",
            "\u001b[32m[I 2022-11-27 10:25:44,942]\u001b[0m Trial 238 finished with value: 0.8333333333333334 and parameters: {'scalers': 'standard', 'n_neighbors': 11, 'weights': 'distance', 'metric': 'manhattan'}. Best is trial 126 with value: 0.8333333333333334.\u001b[0m\n",
            "\u001b[32m[I 2022-11-27 10:25:44,980]\u001b[0m Trial 239 finished with value: 0.8123809523809523 and parameters: {'scalers': 'standard', 'n_neighbors': 9, 'weights': 'distance', 'metric': 'manhattan'}. Best is trial 126 with value: 0.8333333333333334.\u001b[0m\n",
            "\u001b[32m[I 2022-11-27 10:25:45,019]\u001b[0m Trial 240 finished with value: 0.8119047619047619 and parameters: {'scalers': 'standard', 'n_neighbors': 12, 'weights': 'distance', 'metric': 'manhattan'}. Best is trial 126 with value: 0.8333333333333334.\u001b[0m\n",
            "\u001b[32m[I 2022-11-27 10:25:45,068]\u001b[0m Trial 241 finished with value: 0.8333333333333334 and parameters: {'scalers': 'standard', 'n_neighbors': 11, 'weights': 'distance', 'metric': 'manhattan'}. Best is trial 126 with value: 0.8333333333333334.\u001b[0m\n",
            "\u001b[32m[I 2022-11-27 10:25:45,109]\u001b[0m Trial 242 finished with value: 0.8119047619047619 and parameters: {'scalers': 'standard', 'n_neighbors': 10, 'weights': 'distance', 'metric': 'manhattan'}. Best is trial 126 with value: 0.8333333333333334.\u001b[0m\n",
            "\u001b[32m[I 2022-11-27 10:25:45,150]\u001b[0m Trial 243 finished with value: 0.8333333333333334 and parameters: {'scalers': 'standard', 'n_neighbors': 11, 'weights': 'distance', 'metric': 'manhattan'}. Best is trial 126 with value: 0.8333333333333334.\u001b[0m\n",
            "\u001b[32m[I 2022-11-27 10:25:45,190]\u001b[0m Trial 244 finished with value: 0.8119047619047619 and parameters: {'scalers': 'standard', 'n_neighbors': 10, 'weights': 'distance', 'metric': 'manhattan'}. Best is trial 126 with value: 0.8333333333333334.\u001b[0m\n",
            "\u001b[32m[I 2022-11-27 10:25:45,231]\u001b[0m Trial 245 finished with value: 0.8333333333333334 and parameters: {'scalers': 'standard', 'n_neighbors': 11, 'weights': 'distance', 'metric': 'manhattan'}. Best is trial 126 with value: 0.8333333333333334.\u001b[0m\n",
            "\u001b[32m[I 2022-11-27 10:25:45,270]\u001b[0m Trial 246 finished with value: 0.8119047619047619 and parameters: {'scalers': 'standard', 'n_neighbors': 12, 'weights': 'distance', 'metric': 'manhattan'}. Best is trial 126 with value: 0.8333333333333334.\u001b[0m\n",
            "\u001b[32m[I 2022-11-27 10:25:45,308]\u001b[0m Trial 247 finished with value: 0.8333333333333334 and parameters: {'scalers': 'standard', 'n_neighbors': 11, 'weights': 'distance', 'metric': 'manhattan'}. Best is trial 126 with value: 0.8333333333333334.\u001b[0m\n",
            "\u001b[32m[I 2022-11-27 10:25:45,347]\u001b[0m Trial 248 finished with value: 0.8119047619047619 and parameters: {'scalers': 'standard', 'n_neighbors': 12, 'weights': 'distance', 'metric': 'manhattan'}. Best is trial 126 with value: 0.8333333333333334.\u001b[0m\n",
            "\u001b[32m[I 2022-11-27 10:25:45,386]\u001b[0m Trial 249 finished with value: 0.8333333333333334 and parameters: {'scalers': 'standard', 'n_neighbors': 11, 'weights': 'distance', 'metric': 'manhattan'}. Best is trial 126 with value: 0.8333333333333334.\u001b[0m\n",
            "\u001b[32m[I 2022-11-27 10:25:45,427]\u001b[0m Trial 250 finished with value: 0.8119047619047619 and parameters: {'scalers': 'standard', 'n_neighbors': 10, 'weights': 'distance', 'metric': 'manhattan'}. Best is trial 126 with value: 0.8333333333333334.\u001b[0m\n",
            "\u001b[32m[I 2022-11-27 10:25:45,474]\u001b[0m Trial 251 finished with value: 0.8333333333333334 and parameters: {'scalers': 'standard', 'n_neighbors': 11, 'weights': 'distance', 'metric': 'manhattan'}. Best is trial 126 with value: 0.8333333333333334.\u001b[0m\n",
            "\u001b[32m[I 2022-11-27 10:25:45,512]\u001b[0m Trial 252 finished with value: 0.8119047619047619 and parameters: {'scalers': 'standard', 'n_neighbors': 10, 'weights': 'distance', 'metric': 'manhattan'}. Best is trial 126 with value: 0.8333333333333334.\u001b[0m\n",
            "\u001b[32m[I 2022-11-27 10:25:45,555]\u001b[0m Trial 253 finished with value: 0.7061904761904761 and parameters: {'scalers': 'standard', 'n_neighbors': 11, 'weights': 'uniform', 'metric': 'manhattan'}. Best is trial 126 with value: 0.8333333333333334.\u001b[0m\n",
            "\u001b[32m[I 2022-11-27 10:25:45,593]\u001b[0m Trial 254 finished with value: 0.8119047619047619 and parameters: {'scalers': 'standard', 'n_neighbors': 12, 'weights': 'distance', 'metric': 'manhattan'}. Best is trial 126 with value: 0.8333333333333334.\u001b[0m\n",
            "\u001b[32m[I 2022-11-27 10:25:45,631]\u001b[0m Trial 255 finished with value: 0.8333333333333334 and parameters: {'scalers': 'standard', 'n_neighbors': 11, 'weights': 'distance', 'metric': 'manhattan'}. Best is trial 126 with value: 0.8333333333333334.\u001b[0m\n",
            "\u001b[32m[I 2022-11-27 10:25:45,676]\u001b[0m Trial 256 finished with value: 0.8119047619047617 and parameters: {'scalers': 'standard', 'n_neighbors': 25, 'weights': 'distance', 'metric': 'manhattan'}. Best is trial 126 with value: 0.8333333333333334.\u001b[0m\n",
            "\u001b[32m[I 2022-11-27 10:25:45,715]\u001b[0m Trial 257 finished with value: 0.832857142857143 and parameters: {'scalers': 'standard', 'n_neighbors': 13, 'weights': 'distance', 'metric': 'manhattan'}. Best is trial 126 with value: 0.8333333333333334.\u001b[0m\n",
            "\u001b[32m[I 2022-11-27 10:25:45,754]\u001b[0m Trial 258 finished with value: 0.8119047619047619 and parameters: {'scalers': 'standard', 'n_neighbors': 10, 'weights': 'distance', 'metric': 'manhattan'}. Best is trial 126 with value: 0.8333333333333334.\u001b[0m\n",
            "\u001b[32m[I 2022-11-27 10:25:45,792]\u001b[0m Trial 259 finished with value: 0.8119047619047619 and parameters: {'scalers': 'standard', 'n_neighbors': 12, 'weights': 'distance', 'metric': 'manhattan'}. Best is trial 126 with value: 0.8333333333333334.\u001b[0m\n",
            "\u001b[32m[I 2022-11-27 10:25:45,830]\u001b[0m Trial 260 finished with value: 0.8333333333333334 and parameters: {'scalers': 'standard', 'n_neighbors': 11, 'weights': 'distance', 'metric': 'manhattan'}. Best is trial 126 with value: 0.8333333333333334.\u001b[0m\n",
            "\u001b[32m[I 2022-11-27 10:25:45,869]\u001b[0m Trial 261 finished with value: 0.7766666666666666 and parameters: {'scalers': 'standard', 'n_neighbors': 11, 'weights': 'distance', 'metric': 'euclidean'}. Best is trial 126 with value: 0.8333333333333334.\u001b[0m\n",
            "\u001b[32m[I 2022-11-27 10:25:45,937]\u001b[0m Trial 262 finished with value: 0.77 and parameters: {'scalers': 'robust', 'n_neighbors': 9, 'weights': 'distance', 'metric': 'manhattan'}. Best is trial 126 with value: 0.8333333333333334.\u001b[0m\n",
            "\u001b[32m[I 2022-11-27 10:25:45,977]\u001b[0m Trial 263 finished with value: 0.7695238095238095 and parameters: {'scalers': 'standard', 'n_neighbors': 10, 'weights': 'distance', 'metric': 'minkowski'}. Best is trial 126 with value: 0.8333333333333334.\u001b[0m\n",
            "\u001b[32m[I 2022-11-27 10:25:46,015]\u001b[0m Trial 264 finished with value: 0.8119047619047619 and parameters: {'scalers': 'standard', 'n_neighbors': 12, 'weights': 'distance', 'metric': 'manhattan'}. Best is trial 126 with value: 0.8333333333333334.\u001b[0m\n",
            "\u001b[32m[I 2022-11-27 10:25:46,057]\u001b[0m Trial 265 finished with value: 0.804285714285714 and parameters: {'scalers': 'standard', 'n_neighbors': 5, 'weights': 'distance', 'metric': 'manhattan'}. Best is trial 126 with value: 0.8333333333333334.\u001b[0m\n",
            "\u001b[32m[I 2022-11-27 10:25:46,095]\u001b[0m Trial 266 finished with value: 0.8333333333333334 and parameters: {'scalers': 'standard', 'n_neighbors': 11, 'weights': 'distance', 'metric': 'manhattan'}. Best is trial 126 with value: 0.8333333333333334.\u001b[0m\n",
            "\u001b[32m[I 2022-11-27 10:25:46,135]\u001b[0m Trial 267 finished with value: 0.8119047619047619 and parameters: {'scalers': 'standard', 'n_neighbors': 10, 'weights': 'distance', 'metric': 'manhattan'}. Best is trial 126 with value: 0.8333333333333334.\u001b[0m\n",
            "\u001b[32m[I 2022-11-27 10:25:46,177]\u001b[0m Trial 268 finished with value: 0.8333333333333334 and parameters: {'scalers': 'standard', 'n_neighbors': 11, 'weights': 'distance', 'metric': 'manhattan'}. Best is trial 126 with value: 0.8333333333333334.\u001b[0m\n",
            "\u001b[32m[I 2022-11-27 10:25:46,218]\u001b[0m Trial 269 finished with value: 0.832857142857143 and parameters: {'scalers': 'standard', 'n_neighbors': 13, 'weights': 'distance', 'metric': 'manhattan'}. Best is trial 126 with value: 0.8333333333333334.\u001b[0m\n",
            "\u001b[32m[I 2022-11-27 10:25:46,258]\u001b[0m Trial 270 finished with value: 0.8119047619047619 and parameters: {'scalers': 'standard', 'n_neighbors': 10, 'weights': 'distance', 'metric': 'manhattan'}. Best is trial 126 with value: 0.8333333333333334.\u001b[0m\n",
            "\u001b[32m[I 2022-11-27 10:25:46,297]\u001b[0m Trial 271 finished with value: 0.8119047619047619 and parameters: {'scalers': 'standard', 'n_neighbors': 12, 'weights': 'distance', 'metric': 'manhattan'}. Best is trial 126 with value: 0.8333333333333334.\u001b[0m\n",
            "\u001b[32m[I 2022-11-27 10:25:46,340]\u001b[0m Trial 272 finished with value: 0.8333333333333334 and parameters: {'scalers': 'standard', 'n_neighbors': 11, 'weights': 'distance', 'metric': 'manhattan'}. Best is trial 126 with value: 0.8333333333333334.\u001b[0m\n",
            "\u001b[32m[I 2022-11-27 10:25:46,385]\u001b[0m Trial 273 finished with value: 0.7057142857142857 and parameters: {'scalers': 'standard', 'n_neighbors': 12, 'weights': 'uniform', 'metric': 'manhattan'}. Best is trial 126 with value: 0.8333333333333334.\u001b[0m\n",
            "\u001b[32m[I 2022-11-27 10:25:46,423]\u001b[0m Trial 274 finished with value: 0.8333333333333334 and parameters: {'scalers': 'standard', 'n_neighbors': 11, 'weights': 'distance', 'metric': 'manhattan'}. Best is trial 126 with value: 0.8333333333333334.\u001b[0m\n",
            "\u001b[32m[I 2022-11-27 10:25:46,469]\u001b[0m Trial 275 finished with value: 0.8123809523809523 and parameters: {'scalers': 'standard', 'n_neighbors': 9, 'weights': 'distance', 'metric': 'manhattan'}. Best is trial 126 with value: 0.8333333333333334.\u001b[0m\n",
            "\u001b[32m[I 2022-11-27 10:25:46,509]\u001b[0m Trial 276 finished with value: 0.8257142857142856 and parameters: {'scalers': 'standard', 'n_neighbors': 29, 'weights': 'distance', 'metric': 'manhattan'}. Best is trial 126 with value: 0.8333333333333334.\u001b[0m\n",
            "\u001b[32m[I 2022-11-27 10:25:46,549]\u001b[0m Trial 277 finished with value: 0.8119047619047619 and parameters: {'scalers': 'standard', 'n_neighbors': 12, 'weights': 'distance', 'metric': 'manhattan'}. Best is trial 126 with value: 0.8333333333333334.\u001b[0m\n",
            "\u001b[32m[I 2022-11-27 10:25:46,590]\u001b[0m Trial 278 finished with value: 0.8333333333333334 and parameters: {'scalers': 'standard', 'n_neighbors': 11, 'weights': 'distance', 'metric': 'manhattan'}. Best is trial 126 with value: 0.8333333333333334.\u001b[0m\n",
            "\u001b[32m[I 2022-11-27 10:25:46,629]\u001b[0m Trial 279 finished with value: 0.8119047619047619 and parameters: {'scalers': 'standard', 'n_neighbors': 10, 'weights': 'distance', 'metric': 'manhattan'}. Best is trial 126 with value: 0.8333333333333334.\u001b[0m\n",
            "\u001b[32m[I 2022-11-27 10:25:46,667]\u001b[0m Trial 280 finished with value: 0.8333333333333334 and parameters: {'scalers': 'standard', 'n_neighbors': 11, 'weights': 'distance', 'metric': 'manhattan'}. Best is trial 126 with value: 0.8333333333333334.\u001b[0m\n",
            "\u001b[32m[I 2022-11-27 10:25:46,708]\u001b[0m Trial 281 finished with value: 0.8119047619047619 and parameters: {'scalers': 'standard', 'n_neighbors': 12, 'weights': 'distance', 'metric': 'manhattan'}. Best is trial 126 with value: 0.8333333333333334.\u001b[0m\n",
            "\u001b[32m[I 2022-11-27 10:25:46,752]\u001b[0m Trial 282 finished with value: 0.8333333333333334 and parameters: {'scalers': 'standard', 'n_neighbors': 11, 'weights': 'distance', 'metric': 'manhattan'}. Best is trial 126 with value: 0.8333333333333334.\u001b[0m\n",
            "\u001b[32m[I 2022-11-27 10:25:46,796]\u001b[0m Trial 283 finished with value: 0.8119047619047619 and parameters: {'scalers': 'standard', 'n_neighbors': 10, 'weights': 'distance', 'metric': 'manhattan'}. Best is trial 126 with value: 0.8333333333333334.\u001b[0m\n",
            "\u001b[32m[I 2022-11-27 10:25:46,840]\u001b[0m Trial 284 finished with value: 0.7766666666666666 and parameters: {'scalers': 'standard', 'n_neighbors': 11, 'weights': 'distance', 'metric': 'euclidean'}. Best is trial 126 with value: 0.8333333333333334.\u001b[0m\n",
            "\u001b[32m[I 2022-11-27 10:25:46,907]\u001b[0m Trial 285 finished with value: 0.798095238095238 and parameters: {'scalers': 'robust', 'n_neighbors': 13, 'weights': 'distance', 'metric': 'manhattan'}. Best is trial 126 with value: 0.8333333333333334.\u001b[0m\n",
            "\u001b[32m[I 2022-11-27 10:25:46,949]\u001b[0m Trial 286 finished with value: 0.8119047619047619 and parameters: {'scalers': 'standard', 'n_neighbors': 12, 'weights': 'distance', 'metric': 'manhattan'}. Best is trial 126 with value: 0.8333333333333334.\u001b[0m\n",
            "\u001b[32m[I 2022-11-27 10:25:46,989]\u001b[0m Trial 287 finished with value: 0.8123809523809523 and parameters: {'scalers': 'standard', 'n_neighbors': 9, 'weights': 'distance', 'metric': 'manhattan'}. Best is trial 126 with value: 0.8333333333333334.\u001b[0m\n",
            "\u001b[32m[I 2022-11-27 10:25:47,030]\u001b[0m Trial 288 finished with value: 0.7695238095238095 and parameters: {'scalers': 'standard', 'n_neighbors': 10, 'weights': 'distance', 'metric': 'minkowski'}. Best is trial 126 with value: 0.8333333333333334.\u001b[0m\n",
            "\u001b[32m[I 2022-11-27 10:25:47,072]\u001b[0m Trial 289 finished with value: 0.8119047619047619 and parameters: {'scalers': 'standard', 'n_neighbors': 12, 'weights': 'distance', 'metric': 'manhattan'}. Best is trial 126 with value: 0.8333333333333334.\u001b[0m\n",
            "\u001b[32m[I 2022-11-27 10:25:47,112]\u001b[0m Trial 290 finished with value: 0.8333333333333334 and parameters: {'scalers': 'standard', 'n_neighbors': 11, 'weights': 'distance', 'metric': 'manhattan'}. Best is trial 126 with value: 0.8333333333333334.\u001b[0m\n",
            "\u001b[32m[I 2022-11-27 10:25:47,152]\u001b[0m Trial 291 finished with value: 0.8119047619047619 and parameters: {'scalers': 'standard', 'n_neighbors': 10, 'weights': 'distance', 'metric': 'manhattan'}. Best is trial 126 with value: 0.8333333333333334.\u001b[0m\n",
            "\u001b[32m[I 2022-11-27 10:25:47,194]\u001b[0m Trial 292 finished with value: 0.8333333333333334 and parameters: {'scalers': 'standard', 'n_neighbors': 11, 'weights': 'distance', 'metric': 'manhattan'}. Best is trial 126 with value: 0.8333333333333334.\u001b[0m\n",
            "\u001b[32m[I 2022-11-27 10:25:47,236]\u001b[0m Trial 293 finished with value: 0.8119047619047619 and parameters: {'scalers': 'standard', 'n_neighbors': 10, 'weights': 'distance', 'metric': 'manhattan'}. Best is trial 126 with value: 0.8333333333333334.\u001b[0m\n",
            "\u001b[32m[I 2022-11-27 10:25:47,280]\u001b[0m Trial 294 finished with value: 0.8333333333333334 and parameters: {'scalers': 'standard', 'n_neighbors': 11, 'weights': 'distance', 'metric': 'manhattan'}. Best is trial 126 with value: 0.8333333333333334.\u001b[0m\n",
            "\u001b[32m[I 2022-11-27 10:25:47,324]\u001b[0m Trial 295 finished with value: 0.7838095238095237 and parameters: {'scalers': 'standard', 'n_neighbors': 1, 'weights': 'uniform', 'metric': 'manhattan'}. Best is trial 126 with value: 0.8333333333333334.\u001b[0m\n",
            "\u001b[32m[I 2022-11-27 10:25:47,364]\u001b[0m Trial 296 finished with value: 0.8119047619047619 and parameters: {'scalers': 'standard', 'n_neighbors': 12, 'weights': 'distance', 'metric': 'manhattan'}. Best is trial 126 with value: 0.8333333333333334.\u001b[0m\n",
            "\u001b[32m[I 2022-11-27 10:25:47,405]\u001b[0m Trial 297 finished with value: 0.8333333333333334 and parameters: {'scalers': 'standard', 'n_neighbors': 11, 'weights': 'distance', 'metric': 'manhattan'}. Best is trial 126 with value: 0.8333333333333334.\u001b[0m\n",
            "\u001b[32m[I 2022-11-27 10:25:47,445]\u001b[0m Trial 298 finished with value: 0.8333333333333334 and parameters: {'scalers': 'standard', 'n_neighbors': 11, 'weights': 'distance', 'metric': 'manhattan'}. Best is trial 126 with value: 0.8333333333333334.\u001b[0m\n",
            "\u001b[32m[I 2022-11-27 10:25:47,499]\u001b[0m Trial 299 finished with value: 0.8119047619047619 and parameters: {'scalers': 'standard', 'n_neighbors': 12, 'weights': 'distance', 'metric': 'manhattan'}. Best is trial 126 with value: 0.8333333333333334.\u001b[0m\n",
            "\u001b[32m[I 2022-11-27 10:25:47,539]\u001b[0m Trial 300 finished with value: 0.832857142857143 and parameters: {'scalers': 'standard', 'n_neighbors': 13, 'weights': 'distance', 'metric': 'manhattan'}. Best is trial 126 with value: 0.8333333333333334.\u001b[0m\n",
            "\u001b[32m[I 2022-11-27 10:25:47,579]\u001b[0m Trial 301 finished with value: 0.8119047619047619 and parameters: {'scalers': 'standard', 'n_neighbors': 10, 'weights': 'distance', 'metric': 'manhattan'}. Best is trial 126 with value: 0.8333333333333334.\u001b[0m\n",
            "\u001b[32m[I 2022-11-27 10:25:47,617]\u001b[0m Trial 302 finished with value: 0.8333333333333334 and parameters: {'scalers': 'standard', 'n_neighbors': 11, 'weights': 'distance', 'metric': 'manhattan'}. Best is trial 126 with value: 0.8333333333333334.\u001b[0m\n",
            "\u001b[32m[I 2022-11-27 10:25:47,657]\u001b[0m Trial 303 finished with value: 0.8119047619047619 and parameters: {'scalers': 'standard', 'n_neighbors': 12, 'weights': 'distance', 'metric': 'manhattan'}. Best is trial 126 with value: 0.8333333333333334.\u001b[0m\n",
            "\u001b[32m[I 2022-11-27 10:25:47,700]\u001b[0m Trial 304 finished with value: 0.8119047619047619 and parameters: {'scalers': 'standard', 'n_neighbors': 10, 'weights': 'distance', 'metric': 'manhattan'}. Best is trial 126 with value: 0.8333333333333334.\u001b[0m\n",
            "\u001b[32m[I 2022-11-27 10:25:47,740]\u001b[0m Trial 305 finished with value: 0.8333333333333334 and parameters: {'scalers': 'standard', 'n_neighbors': 11, 'weights': 'distance', 'metric': 'manhattan'}. Best is trial 126 with value: 0.8333333333333334.\u001b[0m\n",
            "\u001b[32m[I 2022-11-27 10:25:47,803]\u001b[0m Trial 306 finished with value: 0.7628571428571429 and parameters: {'scalers': 'robust', 'n_neighbors': 9, 'weights': 'distance', 'metric': 'euclidean'}. Best is trial 126 with value: 0.8333333333333334.\u001b[0m\n",
            "\u001b[32m[I 2022-11-27 10:25:47,842]\u001b[0m Trial 307 finished with value: 0.798095238095238 and parameters: {'scalers': 'standard', 'n_neighbors': 6, 'weights': 'distance', 'metric': 'manhattan'}. Best is trial 126 with value: 0.8333333333333334.\u001b[0m\n",
            "\u001b[32m[I 2022-11-27 10:25:47,883]\u001b[0m Trial 308 finished with value: 0.8333333333333334 and parameters: {'scalers': 'standard', 'n_neighbors': 11, 'weights': 'distance', 'metric': 'manhattan'}. Best is trial 126 with value: 0.8333333333333334.\u001b[0m\n",
            "\u001b[32m[I 2022-11-27 10:25:47,924]\u001b[0m Trial 309 finished with value: 0.8119047619047619 and parameters: {'scalers': 'standard', 'n_neighbors': 10, 'weights': 'distance', 'metric': 'manhattan'}. Best is trial 126 with value: 0.8333333333333334.\u001b[0m\n",
            "\u001b[32m[I 2022-11-27 10:25:47,967]\u001b[0m Trial 310 finished with value: 0.8119047619047619 and parameters: {'scalers': 'standard', 'n_neighbors': 12, 'weights': 'distance', 'metric': 'manhattan'}. Best is trial 126 with value: 0.8333333333333334.\u001b[0m\n",
            "\u001b[32m[I 2022-11-27 10:25:48,007]\u001b[0m Trial 311 finished with value: 0.8047619047619048 and parameters: {'scalers': 'standard', 'n_neighbors': 3, 'weights': 'distance', 'metric': 'manhattan'}. Best is trial 126 with value: 0.8333333333333334.\u001b[0m\n",
            "\u001b[32m[I 2022-11-27 10:25:48,050]\u001b[0m Trial 312 finished with value: 0.7061904761904761 and parameters: {'scalers': 'standard', 'n_neighbors': 11, 'weights': 'uniform', 'metric': 'manhattan'}. Best is trial 126 with value: 0.8333333333333334.\u001b[0m\n",
            "\u001b[32m[I 2022-11-27 10:25:48,092]\u001b[0m Trial 313 finished with value: 0.7766666666666666 and parameters: {'scalers': 'standard', 'n_neighbors': 11, 'weights': 'distance', 'metric': 'minkowski'}. Best is trial 126 with value: 0.8333333333333334.\u001b[0m\n",
            "\u001b[32m[I 2022-11-27 10:25:48,132]\u001b[0m Trial 314 finished with value: 0.8119047619047619 and parameters: {'scalers': 'standard', 'n_neighbors': 12, 'weights': 'distance', 'metric': 'manhattan'}. Best is trial 126 with value: 0.8333333333333334.\u001b[0m\n",
            "\u001b[32m[I 2022-11-27 10:25:48,172]\u001b[0m Trial 315 finished with value: 0.8119047619047619 and parameters: {'scalers': 'standard', 'n_neighbors': 10, 'weights': 'distance', 'metric': 'manhattan'}. Best is trial 126 with value: 0.8333333333333334.\u001b[0m\n",
            "\u001b[32m[I 2022-11-27 10:25:48,214]\u001b[0m Trial 316 finished with value: 0.832857142857143 and parameters: {'scalers': 'standard', 'n_neighbors': 13, 'weights': 'distance', 'metric': 'manhattan'}. Best is trial 126 with value: 0.8333333333333334.\u001b[0m\n",
            "\u001b[32m[I 2022-11-27 10:25:48,261]\u001b[0m Trial 317 finished with value: 0.811904761904762 and parameters: {'scalers': 'standard', 'n_neighbors': 8, 'weights': 'distance', 'metric': 'manhattan'}. Best is trial 126 with value: 0.8333333333333334.\u001b[0m\n",
            "\u001b[32m[I 2022-11-27 10:25:48,305]\u001b[0m Trial 318 finished with value: 0.8119047619047619 and parameters: {'scalers': 'standard', 'n_neighbors': 10, 'weights': 'distance', 'metric': 'manhattan'}. Best is trial 126 with value: 0.8333333333333334.\u001b[0m\n",
            "\u001b[32m[I 2022-11-27 10:25:48,345]\u001b[0m Trial 319 finished with value: 0.8333333333333334 and parameters: {'scalers': 'standard', 'n_neighbors': 11, 'weights': 'distance', 'metric': 'manhattan'}. Best is trial 126 with value: 0.8333333333333334.\u001b[0m\n",
            "\u001b[32m[I 2022-11-27 10:25:48,385]\u001b[0m Trial 320 finished with value: 0.8119047619047619 and parameters: {'scalers': 'standard', 'n_neighbors': 12, 'weights': 'distance', 'metric': 'manhattan'}. Best is trial 126 with value: 0.8333333333333334.\u001b[0m\n",
            "\u001b[32m[I 2022-11-27 10:25:48,424]\u001b[0m Trial 321 finished with value: 0.8333333333333334 and parameters: {'scalers': 'standard', 'n_neighbors': 11, 'weights': 'distance', 'metric': 'manhattan'}. Best is trial 126 with value: 0.8333333333333334.\u001b[0m\n",
            "\u001b[32m[I 2022-11-27 10:25:48,466]\u001b[0m Trial 322 finished with value: 0.8119047619047619 and parameters: {'scalers': 'standard', 'n_neighbors': 12, 'weights': 'distance', 'metric': 'manhattan'}. Best is trial 126 with value: 0.8333333333333334.\u001b[0m\n",
            "\u001b[32m[I 2022-11-27 10:25:48,515]\u001b[0m Trial 323 finished with value: 0.8123809523809523 and parameters: {'scalers': 'standard', 'n_neighbors': 9, 'weights': 'distance', 'metric': 'manhattan'}. Best is trial 126 with value: 0.8333333333333334.\u001b[0m\n",
            "\u001b[32m[I 2022-11-27 10:25:48,557]\u001b[0m Trial 324 finished with value: 0.8333333333333334 and parameters: {'scalers': 'standard', 'n_neighbors': 11, 'weights': 'distance', 'metric': 'manhattan'}. Best is trial 126 with value: 0.8333333333333334.\u001b[0m\n",
            "\u001b[32m[I 2022-11-27 10:25:48,597]\u001b[0m Trial 325 finished with value: 0.8333333333333334 and parameters: {'scalers': 'standard', 'n_neighbors': 11, 'weights': 'distance', 'metric': 'manhattan'}. Best is trial 126 with value: 0.8333333333333334.\u001b[0m\n",
            "\u001b[32m[I 2022-11-27 10:25:48,638]\u001b[0m Trial 326 finished with value: 0.8119047619047619 and parameters: {'scalers': 'standard', 'n_neighbors': 10, 'weights': 'distance', 'metric': 'manhattan'}. Best is trial 126 with value: 0.8333333333333334.\u001b[0m\n",
            "\u001b[32m[I 2022-11-27 10:25:48,710]\u001b[0m Trial 327 finished with value: 0.798095238095238 and parameters: {'scalers': 'robust', 'n_neighbors': 13, 'weights': 'distance', 'metric': 'manhattan'}. Best is trial 126 with value: 0.8333333333333334.\u001b[0m\n",
            "\u001b[32m[I 2022-11-27 10:25:48,751]\u001b[0m Trial 328 finished with value: 0.8119047619047619 and parameters: {'scalers': 'standard', 'n_neighbors': 10, 'weights': 'distance', 'metric': 'manhattan'}. Best is trial 126 with value: 0.8333333333333334.\u001b[0m\n",
            "\u001b[32m[I 2022-11-27 10:25:48,793]\u001b[0m Trial 329 finished with value: 0.8119047619047619 and parameters: {'scalers': 'standard', 'n_neighbors': 12, 'weights': 'distance', 'metric': 'manhattan'}. Best is trial 126 with value: 0.8333333333333334.\u001b[0m\n",
            "\u001b[32m[I 2022-11-27 10:25:48,838]\u001b[0m Trial 330 finished with value: 0.7695238095238095 and parameters: {'scalers': 'standard', 'n_neighbors': 10, 'weights': 'distance', 'metric': 'minkowski'}. Best is trial 126 with value: 0.8333333333333334.\u001b[0m\n",
            "\u001b[32m[I 2022-11-27 10:25:48,879]\u001b[0m Trial 331 finished with value: 0.8333333333333334 and parameters: {'scalers': 'standard', 'n_neighbors': 11, 'weights': 'distance', 'metric': 'manhattan'}. Best is trial 126 with value: 0.8333333333333334.\u001b[0m\n",
            "\u001b[32m[I 2022-11-27 10:25:48,924]\u001b[0m Trial 332 finished with value: 0.6847619047619048 and parameters: {'scalers': 'standard', 'n_neighbors': 12, 'weights': 'uniform', 'metric': 'euclidean'}. Best is trial 126 with value: 0.8333333333333334.\u001b[0m\n",
            "\u001b[32m[I 2022-11-27 10:25:48,969]\u001b[0m Trial 333 finished with value: 0.8123809523809523 and parameters: {'scalers': 'standard', 'n_neighbors': 9, 'weights': 'distance', 'metric': 'manhattan'}. Best is trial 126 with value: 0.8333333333333334.\u001b[0m\n",
            "\u001b[32m[I 2022-11-27 10:25:49,013]\u001b[0m Trial 334 finished with value: 0.8333333333333334 and parameters: {'scalers': 'standard', 'n_neighbors': 11, 'weights': 'distance', 'metric': 'manhattan'}. Best is trial 126 with value: 0.8333333333333334.\u001b[0m\n",
            "\u001b[32m[I 2022-11-27 10:25:49,055]\u001b[0m Trial 335 finished with value: 0.8119047619047619 and parameters: {'scalers': 'standard', 'n_neighbors': 12, 'weights': 'distance', 'metric': 'manhattan'}. Best is trial 126 with value: 0.8333333333333334.\u001b[0m\n",
            "\u001b[32m[I 2022-11-27 10:25:49,097]\u001b[0m Trial 336 finished with value: 0.8333333333333334 and parameters: {'scalers': 'standard', 'n_neighbors': 11, 'weights': 'distance', 'metric': 'manhattan'}. Best is trial 126 with value: 0.8333333333333334.\u001b[0m\n",
            "\u001b[32m[I 2022-11-27 10:25:49,140]\u001b[0m Trial 337 finished with value: 0.8119047619047619 and parameters: {'scalers': 'standard', 'n_neighbors': 10, 'weights': 'distance', 'metric': 'manhattan'}. Best is trial 126 with value: 0.8333333333333334.\u001b[0m\n",
            "\u001b[32m[I 2022-11-27 10:25:49,181]\u001b[0m Trial 338 finished with value: 0.8333333333333334 and parameters: {'scalers': 'standard', 'n_neighbors': 11, 'weights': 'distance', 'metric': 'manhattan'}. Best is trial 126 with value: 0.8333333333333334.\u001b[0m\n",
            "\u001b[32m[I 2022-11-27 10:25:49,225]\u001b[0m Trial 339 finished with value: 0.8333333333333334 and parameters: {'scalers': 'standard', 'n_neighbors': 11, 'weights': 'distance', 'metric': 'manhattan'}. Best is trial 126 with value: 0.8333333333333334.\u001b[0m\n",
            "\u001b[32m[I 2022-11-27 10:25:49,266]\u001b[0m Trial 340 finished with value: 0.8119047619047619 and parameters: {'scalers': 'standard', 'n_neighbors': 10, 'weights': 'distance', 'metric': 'manhattan'}. Best is trial 126 with value: 0.8333333333333334.\u001b[0m\n",
            "\u001b[32m[I 2022-11-27 10:25:49,306]\u001b[0m Trial 341 finished with value: 0.8119047619047619 and parameters: {'scalers': 'standard', 'n_neighbors': 12, 'weights': 'distance', 'metric': 'manhattan'}. Best is trial 126 with value: 0.8333333333333334.\u001b[0m\n",
            "\u001b[32m[I 2022-11-27 10:25:49,347]\u001b[0m Trial 342 finished with value: 0.8119047619047619 and parameters: {'scalers': 'standard', 'n_neighbors': 12, 'weights': 'distance', 'metric': 'manhattan'}. Best is trial 126 with value: 0.8333333333333334.\u001b[0m\n",
            "\u001b[32m[I 2022-11-27 10:25:49,388]\u001b[0m Trial 343 finished with value: 0.8333333333333334 and parameters: {'scalers': 'standard', 'n_neighbors': 11, 'weights': 'distance', 'metric': 'manhattan'}. Best is trial 126 with value: 0.8333333333333334.\u001b[0m\n",
            "\u001b[32m[I 2022-11-27 10:25:49,429]\u001b[0m Trial 344 finished with value: 0.832857142857143 and parameters: {'scalers': 'standard', 'n_neighbors': 13, 'weights': 'distance', 'metric': 'manhattan'}. Best is trial 126 with value: 0.8333333333333334.\u001b[0m\n",
            "\u001b[32m[I 2022-11-27 10:25:49,470]\u001b[0m Trial 345 finished with value: 0.8119047619047619 and parameters: {'scalers': 'standard', 'n_neighbors': 10, 'weights': 'distance', 'metric': 'manhattan'}. Best is trial 126 with value: 0.8333333333333334.\u001b[0m\n",
            "\u001b[32m[I 2022-11-27 10:25:49,512]\u001b[0m Trial 346 finished with value: 0.8333333333333334 and parameters: {'scalers': 'standard', 'n_neighbors': 11, 'weights': 'distance', 'metric': 'manhattan'}. Best is trial 126 with value: 0.8333333333333334.\u001b[0m\n",
            "\u001b[32m[I 2022-11-27 10:25:49,561]\u001b[0m Trial 347 finished with value: 0.8123809523809523 and parameters: {'scalers': 'standard', 'n_neighbors': 9, 'weights': 'distance', 'metric': 'manhattan'}. Best is trial 126 with value: 0.8333333333333334.\u001b[0m\n",
            "\u001b[32m[I 2022-11-27 10:25:49,616]\u001b[0m Trial 348 finished with value: 0.8333333333333334 and parameters: {'scalers': 'standard', 'n_neighbors': 11, 'weights': 'distance', 'metric': 'manhattan'}. Best is trial 126 with value: 0.8333333333333334.\u001b[0m\n",
            "\u001b[32m[I 2022-11-27 10:25:49,681]\u001b[0m Trial 349 finished with value: 0.8047619047619048 and parameters: {'scalers': 'robust', 'n_neighbors': 12, 'weights': 'distance', 'metric': 'manhattan'}. Best is trial 126 with value: 0.8333333333333334.\u001b[0m\n",
            "\u001b[32m[I 2022-11-27 10:25:49,723]\u001b[0m Trial 350 finished with value: 0.8333333333333334 and parameters: {'scalers': 'standard', 'n_neighbors': 11, 'weights': 'distance', 'metric': 'manhattan'}. Best is trial 126 with value: 0.8333333333333334.\u001b[0m\n",
            "\u001b[32m[I 2022-11-27 10:25:49,769]\u001b[0m Trial 351 finished with value: 0.6919047619047619 and parameters: {'scalers': 'standard', 'n_neighbors': 10, 'weights': 'uniform', 'metric': 'euclidean'}. Best is trial 126 with value: 0.8333333333333334.\u001b[0m\n",
            "\u001b[32m[I 2022-11-27 10:25:49,810]\u001b[0m Trial 352 finished with value: 0.8333333333333334 and parameters: {'scalers': 'standard', 'n_neighbors': 11, 'weights': 'distance', 'metric': 'manhattan'}. Best is trial 126 with value: 0.8333333333333334.\u001b[0m\n",
            "\u001b[32m[I 2022-11-27 10:25:49,853]\u001b[0m Trial 353 finished with value: 0.8119047619047619 and parameters: {'scalers': 'standard', 'n_neighbors': 10, 'weights': 'distance', 'metric': 'manhattan'}. Best is trial 126 with value: 0.8333333333333334.\u001b[0m\n",
            "\u001b[32m[I 2022-11-27 10:25:49,895]\u001b[0m Trial 354 finished with value: 0.8119047619047619 and parameters: {'scalers': 'standard', 'n_neighbors': 12, 'weights': 'distance', 'metric': 'manhattan'}. Best is trial 126 with value: 0.8333333333333334.\u001b[0m\n",
            "\u001b[32m[I 2022-11-27 10:25:49,939]\u001b[0m Trial 355 finished with value: 0.8333333333333334 and parameters: {'scalers': 'standard', 'n_neighbors': 11, 'weights': 'distance', 'metric': 'manhattan'}. Best is trial 126 with value: 0.8333333333333334.\u001b[0m\n",
            "\u001b[32m[I 2022-11-27 10:25:49,981]\u001b[0m Trial 356 finished with value: 0.7904761904761904 and parameters: {'scalers': 'standard', 'n_neighbors': 13, 'weights': 'distance', 'metric': 'minkowski'}. Best is trial 126 with value: 0.8333333333333334.\u001b[0m\n",
            "\u001b[32m[I 2022-11-27 10:25:50,022]\u001b[0m Trial 357 finished with value: 0.8119047619047619 and parameters: {'scalers': 'standard', 'n_neighbors': 12, 'weights': 'distance', 'metric': 'manhattan'}. Best is trial 126 with value: 0.8333333333333334.\u001b[0m\n",
            "\u001b[32m[I 2022-11-27 10:25:50,064]\u001b[0m Trial 358 finished with value: 0.8119047619047619 and parameters: {'scalers': 'standard', 'n_neighbors': 10, 'weights': 'distance', 'metric': 'manhattan'}. Best is trial 126 with value: 0.8333333333333334.\u001b[0m\n",
            "\u001b[32m[I 2022-11-27 10:25:50,106]\u001b[0m Trial 359 finished with value: 0.8333333333333334 and parameters: {'scalers': 'standard', 'n_neighbors': 11, 'weights': 'distance', 'metric': 'manhattan'}. Best is trial 126 with value: 0.8333333333333334.\u001b[0m\n",
            "\u001b[32m[I 2022-11-27 10:25:50,148]\u001b[0m Trial 360 finished with value: 0.819047619047619 and parameters: {'scalers': 'standard', 'n_neighbors': 27, 'weights': 'distance', 'metric': 'manhattan'}. Best is trial 126 with value: 0.8333333333333334.\u001b[0m\n",
            "\u001b[32m[I 2022-11-27 10:25:50,192]\u001b[0m Trial 361 finished with value: 0.8119047619047619 and parameters: {'scalers': 'standard', 'n_neighbors': 10, 'weights': 'distance', 'metric': 'manhattan'}. Best is trial 126 with value: 0.8333333333333334.\u001b[0m\n",
            "\u001b[32m[I 2022-11-27 10:25:50,234]\u001b[0m Trial 362 finished with value: 0.8333333333333334 and parameters: {'scalers': 'standard', 'n_neighbors': 11, 'weights': 'distance', 'metric': 'manhattan'}. Best is trial 126 with value: 0.8333333333333334.\u001b[0m\n",
            "\u001b[32m[I 2022-11-27 10:25:50,275]\u001b[0m Trial 363 finished with value: 0.8123809523809523 and parameters: {'scalers': 'standard', 'n_neighbors': 9, 'weights': 'distance', 'metric': 'manhattan'}. Best is trial 126 with value: 0.8333333333333334.\u001b[0m\n",
            "\u001b[32m[I 2022-11-27 10:25:50,317]\u001b[0m Trial 364 finished with value: 0.8119047619047619 and parameters: {'scalers': 'standard', 'n_neighbors': 12, 'weights': 'distance', 'metric': 'manhattan'}. Best is trial 126 with value: 0.8333333333333334.\u001b[0m\n",
            "\u001b[32m[I 2022-11-27 10:25:50,360]\u001b[0m Trial 365 finished with value: 0.8119047619047619 and parameters: {'scalers': 'standard', 'n_neighbors': 10, 'weights': 'distance', 'metric': 'manhattan'}. Best is trial 126 with value: 0.8333333333333334.\u001b[0m\n",
            "\u001b[32m[I 2022-11-27 10:25:50,401]\u001b[0m Trial 366 finished with value: 0.8114285714285714 and parameters: {'scalers': 'standard', 'n_neighbors': 23, 'weights': 'distance', 'metric': 'manhattan'}. Best is trial 126 with value: 0.8333333333333334.\u001b[0m\n",
            "\u001b[32m[I 2022-11-27 10:25:50,443]\u001b[0m Trial 367 finished with value: 0.8333333333333334 and parameters: {'scalers': 'standard', 'n_neighbors': 11, 'weights': 'distance', 'metric': 'manhattan'}. Best is trial 126 with value: 0.8333333333333334.\u001b[0m\n",
            "\u001b[32m[I 2022-11-27 10:25:50,484]\u001b[0m Trial 368 finished with value: 0.832857142857143 and parameters: {'scalers': 'standard', 'n_neighbors': 13, 'weights': 'distance', 'metric': 'manhattan'}. Best is trial 126 with value: 0.8333333333333334.\u001b[0m\n",
            "\u001b[32m[I 2022-11-27 10:25:50,532]\u001b[0m Trial 369 finished with value: 0.8119047619047619 and parameters: {'scalers': 'standard', 'n_neighbors': 12, 'weights': 'distance', 'metric': 'manhattan'}. Best is trial 126 with value: 0.8333333333333334.\u001b[0m\n",
            "\u001b[32m[I 2022-11-27 10:25:50,611]\u001b[0m Trial 370 finished with value: 0.6057142857142856 and parameters: {'scalers': 'robust', 'n_neighbors': 11, 'weights': 'uniform', 'metric': 'manhattan'}. Best is trial 126 with value: 0.8333333333333334.\u001b[0m\n",
            "\u001b[32m[I 2022-11-27 10:25:50,654]\u001b[0m Trial 371 finished with value: 0.8333333333333334 and parameters: {'scalers': 'standard', 'n_neighbors': 11, 'weights': 'distance', 'metric': 'manhattan'}. Best is trial 126 with value: 0.8333333333333334.\u001b[0m\n",
            "\u001b[32m[I 2022-11-27 10:25:50,696]\u001b[0m Trial 372 finished with value: 0.8123809523809523 and parameters: {'scalers': 'standard', 'n_neighbors': 9, 'weights': 'distance', 'metric': 'manhattan'}. Best is trial 126 with value: 0.8333333333333334.\u001b[0m\n",
            "\u001b[32m[I 2022-11-27 10:25:50,742]\u001b[0m Trial 373 finished with value: 0.8119047619047619 and parameters: {'scalers': 'standard', 'n_neighbors': 10, 'weights': 'distance', 'metric': 'manhattan'}. Best is trial 126 with value: 0.8333333333333334.\u001b[0m\n",
            "\u001b[32m[I 2022-11-27 10:25:50,784]\u001b[0m Trial 374 finished with value: 0.8119047619047619 and parameters: {'scalers': 'standard', 'n_neighbors': 12, 'weights': 'distance', 'metric': 'manhattan'}. Best is trial 126 with value: 0.8333333333333334.\u001b[0m\n",
            "\u001b[32m[I 2022-11-27 10:25:50,826]\u001b[0m Trial 375 finished with value: 0.8333333333333334 and parameters: {'scalers': 'standard', 'n_neighbors': 11, 'weights': 'distance', 'metric': 'manhattan'}. Best is trial 126 with value: 0.8333333333333334.\u001b[0m\n",
            "\u001b[32m[I 2022-11-27 10:25:50,869]\u001b[0m Trial 376 finished with value: 0.7695238095238095 and parameters: {'scalers': 'standard', 'n_neighbors': 12, 'weights': 'distance', 'metric': 'euclidean'}. Best is trial 126 with value: 0.8333333333333334.\u001b[0m\n",
            "\u001b[32m[I 2022-11-27 10:25:50,912]\u001b[0m Trial 377 finished with value: 0.8119047619047619 and parameters: {'scalers': 'standard', 'n_neighbors': 10, 'weights': 'distance', 'metric': 'manhattan'}. Best is trial 126 with value: 0.8333333333333334.\u001b[0m\n",
            "\u001b[32m[I 2022-11-27 10:25:50,959]\u001b[0m Trial 378 finished with value: 0.7766666666666666 and parameters: {'scalers': 'standard', 'n_neighbors': 11, 'weights': 'distance', 'metric': 'minkowski'}. Best is trial 126 with value: 0.8333333333333334.\u001b[0m\n",
            "\u001b[32m[I 2022-11-27 10:25:51,001]\u001b[0m Trial 379 finished with value: 0.8119047619047619 and parameters: {'scalers': 'standard', 'n_neighbors': 10, 'weights': 'distance', 'metric': 'manhattan'}. Best is trial 126 with value: 0.8333333333333334.\u001b[0m\n",
            "\u001b[32m[I 2022-11-27 10:25:51,044]\u001b[0m Trial 380 finished with value: 0.8333333333333334 and parameters: {'scalers': 'standard', 'n_neighbors': 11, 'weights': 'distance', 'metric': 'manhattan'}. Best is trial 126 with value: 0.8333333333333334.\u001b[0m\n",
            "\u001b[32m[I 2022-11-27 10:25:51,088]\u001b[0m Trial 381 finished with value: 0.8119047619047619 and parameters: {'scalers': 'standard', 'n_neighbors': 12, 'weights': 'distance', 'metric': 'manhattan'}. Best is trial 126 with value: 0.8333333333333334.\u001b[0m\n",
            "\u001b[32m[I 2022-11-27 10:25:51,131]\u001b[0m Trial 382 finished with value: 0.8333333333333334 and parameters: {'scalers': 'standard', 'n_neighbors': 11, 'weights': 'distance', 'metric': 'manhattan'}. Best is trial 126 with value: 0.8333333333333334.\u001b[0m\n",
            "\u001b[32m[I 2022-11-27 10:25:51,174]\u001b[0m Trial 383 finished with value: 0.832857142857143 and parameters: {'scalers': 'standard', 'n_neighbors': 13, 'weights': 'distance', 'metric': 'manhattan'}. Best is trial 126 with value: 0.8333333333333334.\u001b[0m\n",
            "\u001b[32m[I 2022-11-27 10:25:51,217]\u001b[0m Trial 384 finished with value: 0.8123809523809523 and parameters: {'scalers': 'standard', 'n_neighbors': 9, 'weights': 'distance', 'metric': 'manhattan'}. Best is trial 126 with value: 0.8333333333333334.\u001b[0m\n",
            "\u001b[32m[I 2022-11-27 10:25:51,260]\u001b[0m Trial 385 finished with value: 0.8119047619047619 and parameters: {'scalers': 'standard', 'n_neighbors': 10, 'weights': 'distance', 'metric': 'manhattan'}. Best is trial 126 with value: 0.8333333333333334.\u001b[0m\n",
            "\u001b[32m[I 2022-11-27 10:25:51,303]\u001b[0m Trial 386 finished with value: 0.8119047619047619 and parameters: {'scalers': 'standard', 'n_neighbors': 12, 'weights': 'distance', 'metric': 'manhattan'}. Best is trial 126 with value: 0.8333333333333334.\u001b[0m\n",
            "\u001b[32m[I 2022-11-27 10:25:51,348]\u001b[0m Trial 387 finished with value: 0.8333333333333334 and parameters: {'scalers': 'standard', 'n_neighbors': 11, 'weights': 'distance', 'metric': 'manhattan'}. Best is trial 126 with value: 0.8333333333333334.\u001b[0m\n",
            "\u001b[32m[I 2022-11-27 10:25:51,391]\u001b[0m Trial 388 finished with value: 0.8333333333333334 and parameters: {'scalers': 'standard', 'n_neighbors': 11, 'weights': 'distance', 'metric': 'manhattan'}. Best is trial 126 with value: 0.8333333333333334.\u001b[0m\n",
            "\u001b[32m[I 2022-11-27 10:25:51,434]\u001b[0m Trial 389 finished with value: 0.811904761904762 and parameters: {'scalers': 'standard', 'n_neighbors': 8, 'weights': 'distance', 'metric': 'manhattan'}. Best is trial 126 with value: 0.8333333333333334.\u001b[0m\n",
            "\u001b[32m[I 2022-11-27 10:25:51,479]\u001b[0m Trial 390 finished with value: 0.8333333333333334 and parameters: {'scalers': 'standard', 'n_neighbors': 11, 'weights': 'distance', 'metric': 'manhattan'}. Best is trial 126 with value: 0.8333333333333334.\u001b[0m\n",
            "\u001b[32m[I 2022-11-27 10:25:51,555]\u001b[0m Trial 391 finished with value: 0.5723809523809523 and parameters: {'scalers': 'robust', 'n_neighbors': 10, 'weights': 'uniform', 'metric': 'manhattan'}. Best is trial 126 with value: 0.8333333333333334.\u001b[0m\n",
            "\u001b[32m[I 2022-11-27 10:25:51,606]\u001b[0m Trial 392 finished with value: 0.8119047619047619 and parameters: {'scalers': 'standard', 'n_neighbors': 12, 'weights': 'distance', 'metric': 'manhattan'}. Best is trial 126 with value: 0.8333333333333334.\u001b[0m\n",
            "\u001b[32m[I 2022-11-27 10:25:51,648]\u001b[0m Trial 393 finished with value: 0.8333333333333334 and parameters: {'scalers': 'standard', 'n_neighbors': 11, 'weights': 'distance', 'metric': 'manhattan'}. Best is trial 126 with value: 0.8333333333333334.\u001b[0m\n",
            "\u001b[32m[I 2022-11-27 10:25:51,691]\u001b[0m Trial 394 finished with value: 0.8119047619047619 and parameters: {'scalers': 'standard', 'n_neighbors': 10, 'weights': 'distance', 'metric': 'manhattan'}. Best is trial 126 with value: 0.8333333333333334.\u001b[0m\n",
            "\u001b[32m[I 2022-11-27 10:25:51,742]\u001b[0m Trial 395 finished with value: 0.8119047619047619 and parameters: {'scalers': 'standard', 'n_neighbors': 12, 'weights': 'distance', 'metric': 'manhattan'}. Best is trial 126 with value: 0.8333333333333334.\u001b[0m\n",
            "\u001b[32m[I 2022-11-27 10:25:51,785]\u001b[0m Trial 396 finished with value: 0.7904761904761904 and parameters: {'scalers': 'standard', 'n_neighbors': 13, 'weights': 'distance', 'metric': 'euclidean'}. Best is trial 126 with value: 0.8333333333333334.\u001b[0m\n",
            "\u001b[32m[I 2022-11-27 10:25:51,833]\u001b[0m Trial 397 finished with value: 0.8119047619047619 and parameters: {'scalers': 'standard', 'n_neighbors': 10, 'weights': 'distance', 'metric': 'manhattan'}. Best is trial 126 with value: 0.8333333333333334.\u001b[0m\n",
            "\u001b[32m[I 2022-11-27 10:25:51,877]\u001b[0m Trial 398 finished with value: 0.8333333333333334 and parameters: {'scalers': 'standard', 'n_neighbors': 11, 'weights': 'distance', 'metric': 'manhattan'}. Best is trial 126 with value: 0.8333333333333334.\u001b[0m\n",
            "\u001b[32m[I 2022-11-27 10:25:51,921]\u001b[0m Trial 399 finished with value: 0.8119047619047619 and parameters: {'scalers': 'standard', 'n_neighbors': 12, 'weights': 'distance', 'metric': 'manhattan'}. Best is trial 126 with value: 0.8333333333333334.\u001b[0m\n",
            "\u001b[32m[I 2022-11-27 10:25:51,966]\u001b[0m Trial 400 finished with value: 0.8333333333333334 and parameters: {'scalers': 'standard', 'n_neighbors': 11, 'weights': 'distance', 'metric': 'manhattan'}. Best is trial 126 with value: 0.8333333333333334.\u001b[0m\n",
            "\u001b[32m[I 2022-11-27 10:25:52,011]\u001b[0m Trial 401 finished with value: 0.7628571428571429 and parameters: {'scalers': 'standard', 'n_neighbors': 9, 'weights': 'distance', 'metric': 'minkowski'}. Best is trial 126 with value: 0.8333333333333334.\u001b[0m\n",
            "\u001b[32m[I 2022-11-27 10:25:52,054]\u001b[0m Trial 402 finished with value: 0.8119047619047619 and parameters: {'scalers': 'standard', 'n_neighbors': 12, 'weights': 'distance', 'metric': 'manhattan'}. Best is trial 126 with value: 0.8333333333333334.\u001b[0m\n",
            "\u001b[32m[I 2022-11-27 10:25:52,096]\u001b[0m Trial 403 finished with value: 0.8333333333333334 and parameters: {'scalers': 'standard', 'n_neighbors': 11, 'weights': 'distance', 'metric': 'manhattan'}. Best is trial 126 with value: 0.8333333333333334.\u001b[0m\n",
            "\u001b[32m[I 2022-11-27 10:25:52,140]\u001b[0m Trial 404 finished with value: 0.8333333333333334 and parameters: {'scalers': 'standard', 'n_neighbors': 11, 'weights': 'distance', 'metric': 'manhattan'}. Best is trial 126 with value: 0.8333333333333334.\u001b[0m\n",
            "\u001b[32m[I 2022-11-27 10:25:52,182]\u001b[0m Trial 405 finished with value: 0.8119047619047619 and parameters: {'scalers': 'standard', 'n_neighbors': 10, 'weights': 'distance', 'metric': 'manhattan'}. Best is trial 126 with value: 0.8333333333333334.\u001b[0m\n",
            "\u001b[32m[I 2022-11-27 10:25:52,226]\u001b[0m Trial 406 finished with value: 0.832857142857143 and parameters: {'scalers': 'standard', 'n_neighbors': 13, 'weights': 'distance', 'metric': 'manhattan'}. Best is trial 126 with value: 0.8333333333333334.\u001b[0m\n",
            "\u001b[32m[I 2022-11-27 10:25:52,271]\u001b[0m Trial 407 finished with value: 0.8333333333333334 and parameters: {'scalers': 'standard', 'n_neighbors': 11, 'weights': 'distance', 'metric': 'manhattan'}. Best is trial 126 with value: 0.8333333333333334.\u001b[0m\n",
            "\u001b[32m[I 2022-11-27 10:25:52,313]\u001b[0m Trial 408 finished with value: 0.8119047619047619 and parameters: {'scalers': 'standard', 'n_neighbors': 12, 'weights': 'distance', 'metric': 'manhattan'}. Best is trial 126 with value: 0.8333333333333334.\u001b[0m\n",
            "\u001b[32m[I 2022-11-27 10:25:52,357]\u001b[0m Trial 409 finished with value: 0.8119047619047619 and parameters: {'scalers': 'standard', 'n_neighbors': 10, 'weights': 'distance', 'metric': 'manhattan'}. Best is trial 126 with value: 0.8333333333333334.\u001b[0m\n",
            "\u001b[32m[I 2022-11-27 10:25:52,400]\u001b[0m Trial 410 finished with value: 0.8047619047619048 and parameters: {'scalers': 'standard', 'n_neighbors': 7, 'weights': 'distance', 'metric': 'manhattan'}. Best is trial 126 with value: 0.8333333333333334.\u001b[0m\n",
            "\u001b[32m[I 2022-11-27 10:25:52,443]\u001b[0m Trial 411 finished with value: 0.8119047619047619 and parameters: {'scalers': 'standard', 'n_neighbors': 10, 'weights': 'distance', 'metric': 'manhattan'}. Best is trial 126 with value: 0.8333333333333334.\u001b[0m\n",
            "\u001b[32m[I 2022-11-27 10:25:52,487]\u001b[0m Trial 412 finished with value: 0.8333333333333334 and parameters: {'scalers': 'standard', 'n_neighbors': 11, 'weights': 'distance', 'metric': 'manhattan'}. Best is trial 126 with value: 0.8333333333333334.\u001b[0m\n",
            "\u001b[32m[I 2022-11-27 10:25:52,558]\u001b[0m Trial 413 finished with value: 0.6352380952380952 and parameters: {'scalers': 'robust', 'n_neighbors': 12, 'weights': 'uniform', 'metric': 'manhattan'}. Best is trial 126 with value: 0.8333333333333334.\u001b[0m\n",
            "\u001b[32m[I 2022-11-27 10:25:52,609]\u001b[0m Trial 414 finished with value: 0.8333333333333334 and parameters: {'scalers': 'standard', 'n_neighbors': 11, 'weights': 'distance', 'metric': 'manhattan'}. Best is trial 126 with value: 0.8333333333333334.\u001b[0m\n",
            "\u001b[32m[I 2022-11-27 10:25:52,663]\u001b[0m Trial 415 finished with value: 0.8119047619047619 and parameters: {'scalers': 'standard', 'n_neighbors': 10, 'weights': 'distance', 'metric': 'manhattan'}. Best is trial 126 with value: 0.8333333333333334.\u001b[0m\n",
            "\u001b[32m[I 2022-11-27 10:25:52,708]\u001b[0m Trial 416 finished with value: 0.8333333333333334 and parameters: {'scalers': 'standard', 'n_neighbors': 11, 'weights': 'distance', 'metric': 'manhattan'}. Best is trial 126 with value: 0.8333333333333334.\u001b[0m\n",
            "\u001b[32m[I 2022-11-27 10:25:52,752]\u001b[0m Trial 417 finished with value: 0.8119047619047619 and parameters: {'scalers': 'standard', 'n_neighbors': 12, 'weights': 'distance', 'metric': 'manhattan'}. Best is trial 126 with value: 0.8333333333333334.\u001b[0m\n",
            "\u001b[32m[I 2022-11-27 10:25:52,797]\u001b[0m Trial 418 finished with value: 0.7695238095238095 and parameters: {'scalers': 'standard', 'n_neighbors': 10, 'weights': 'distance', 'metric': 'euclidean'}. Best is trial 126 with value: 0.8333333333333334.\u001b[0m\n",
            "\u001b[32m[I 2022-11-27 10:25:52,841]\u001b[0m Trial 419 finished with value: 0.8333333333333334 and parameters: {'scalers': 'standard', 'n_neighbors': 11, 'weights': 'distance', 'metric': 'manhattan'}. Best is trial 126 with value: 0.8333333333333334.\u001b[0m\n",
            "\u001b[32m[I 2022-11-27 10:25:52,886]\u001b[0m Trial 420 finished with value: 0.8119047619047619 and parameters: {'scalers': 'standard', 'n_neighbors': 12, 'weights': 'distance', 'metric': 'manhattan'}. Best is trial 126 with value: 0.8333333333333334.\u001b[0m\n",
            "\u001b[32m[I 2022-11-27 10:25:52,935]\u001b[0m Trial 421 finished with value: 0.8123809523809523 and parameters: {'scalers': 'standard', 'n_neighbors': 9, 'weights': 'distance', 'metric': 'manhattan'}. Best is trial 126 with value: 0.8333333333333334.\u001b[0m\n",
            "\u001b[32m[I 2022-11-27 10:25:52,980]\u001b[0m Trial 422 finished with value: 0.8119047619047619 and parameters: {'scalers': 'standard', 'n_neighbors': 10, 'weights': 'distance', 'metric': 'manhattan'}. Best is trial 126 with value: 0.8333333333333334.\u001b[0m\n",
            "\u001b[32m[I 2022-11-27 10:25:53,021]\u001b[0m Trial 423 finished with value: 0.8333333333333334 and parameters: {'scalers': 'standard', 'n_neighbors': 11, 'weights': 'distance', 'metric': 'manhattan'}. Best is trial 126 with value: 0.8333333333333334.\u001b[0m\n",
            "\u001b[32m[I 2022-11-27 10:25:53,065]\u001b[0m Trial 424 finished with value: 0.7904761904761904 and parameters: {'scalers': 'standard', 'n_neighbors': 13, 'weights': 'distance', 'metric': 'minkowski'}. Best is trial 126 with value: 0.8333333333333334.\u001b[0m\n",
            "\u001b[32m[I 2022-11-27 10:25:53,108]\u001b[0m Trial 425 finished with value: 0.8119047619047619 and parameters: {'scalers': 'standard', 'n_neighbors': 12, 'weights': 'distance', 'metric': 'manhattan'}. Best is trial 126 with value: 0.8333333333333334.\u001b[0m\n",
            "\u001b[32m[I 2022-11-27 10:25:53,152]\u001b[0m Trial 426 finished with value: 0.8333333333333334 and parameters: {'scalers': 'standard', 'n_neighbors': 11, 'weights': 'distance', 'metric': 'manhattan'}. Best is trial 126 with value: 0.8333333333333334.\u001b[0m\n",
            "\u001b[32m[I 2022-11-27 10:25:53,195]\u001b[0m Trial 427 finished with value: 0.8119047619047619 and parameters: {'scalers': 'standard', 'n_neighbors': 12, 'weights': 'distance', 'metric': 'manhattan'}. Best is trial 126 with value: 0.8333333333333334.\u001b[0m\n",
            "\u001b[32m[I 2022-11-27 10:25:53,239]\u001b[0m Trial 428 finished with value: 0.8123809523809523 and parameters: {'scalers': 'standard', 'n_neighbors': 9, 'weights': 'distance', 'metric': 'manhattan'}. Best is trial 126 with value: 0.8333333333333334.\u001b[0m\n",
            "\u001b[32m[I 2022-11-27 10:25:53,287]\u001b[0m Trial 429 finished with value: 0.6995238095238094 and parameters: {'scalers': 'standard', 'n_neighbors': 10, 'weights': 'uniform', 'metric': 'manhattan'}. Best is trial 126 with value: 0.8333333333333334.\u001b[0m\n",
            "\u001b[32m[I 2022-11-27 10:25:53,331]\u001b[0m Trial 430 finished with value: 0.8333333333333334 and parameters: {'scalers': 'standard', 'n_neighbors': 11, 'weights': 'distance', 'metric': 'manhattan'}. Best is trial 126 with value: 0.8333333333333334.\u001b[0m\n",
            "\u001b[32m[I 2022-11-27 10:25:53,375]\u001b[0m Trial 431 finished with value: 0.8333333333333334 and parameters: {'scalers': 'standard', 'n_neighbors': 11, 'weights': 'distance', 'metric': 'manhattan'}. Best is trial 126 with value: 0.8333333333333334.\u001b[0m\n",
            "\u001b[32m[I 2022-11-27 10:25:53,420]\u001b[0m Trial 432 finished with value: 0.8119047619047619 and parameters: {'scalers': 'standard', 'n_neighbors': 10, 'weights': 'distance', 'metric': 'manhattan'}. Best is trial 126 with value: 0.8333333333333334.\u001b[0m\n",
            "\u001b[32m[I 2022-11-27 10:25:53,467]\u001b[0m Trial 433 finished with value: 0.8333333333333334 and parameters: {'scalers': 'standard', 'n_neighbors': 11, 'weights': 'distance', 'metric': 'manhattan'}. Best is trial 126 with value: 0.8333333333333334.\u001b[0m\n",
            "\u001b[32m[I 2022-11-27 10:25:53,511]\u001b[0m Trial 434 finished with value: 0.8119047619047619 and parameters: {'scalers': 'standard', 'n_neighbors': 12, 'weights': 'distance', 'metric': 'manhattan'}. Best is trial 126 with value: 0.8333333333333334.\u001b[0m\n",
            "\u001b[32m[I 2022-11-27 10:25:53,588]\u001b[0m Trial 435 finished with value: 0.7976190476190476 and parameters: {'scalers': 'robust', 'n_neighbors': 11, 'weights': 'distance', 'metric': 'manhattan'}. Best is trial 126 with value: 0.8333333333333334.\u001b[0m\n",
            "\u001b[32m[I 2022-11-27 10:25:53,646]\u001b[0m Trial 436 finished with value: 0.8119047619047619 and parameters: {'scalers': 'standard', 'n_neighbors': 12, 'weights': 'distance', 'metric': 'manhattan'}. Best is trial 126 with value: 0.8333333333333334.\u001b[0m\n",
            "\u001b[32m[I 2022-11-27 10:25:53,698]\u001b[0m Trial 437 finished with value: 0.8333333333333334 and parameters: {'scalers': 'standard', 'n_neighbors': 11, 'weights': 'distance', 'metric': 'manhattan'}. Best is trial 126 with value: 0.8333333333333334.\u001b[0m\n",
            "\u001b[32m[I 2022-11-27 10:25:53,750]\u001b[0m Trial 438 finished with value: 0.8119047619047619 and parameters: {'scalers': 'standard', 'n_neighbors': 10, 'weights': 'distance', 'metric': 'manhattan'}. Best is trial 126 with value: 0.8333333333333334.\u001b[0m\n",
            "\u001b[32m[I 2022-11-27 10:25:53,796]\u001b[0m Trial 439 finished with value: 0.8119047619047619 and parameters: {'scalers': 'standard', 'n_neighbors': 10, 'weights': 'distance', 'metric': 'manhattan'}. Best is trial 126 with value: 0.8333333333333334.\u001b[0m\n",
            "\u001b[32m[I 2022-11-27 10:25:53,844]\u001b[0m Trial 440 finished with value: 0.832857142857143 and parameters: {'scalers': 'standard', 'n_neighbors': 13, 'weights': 'distance', 'metric': 'manhattan'}. Best is trial 126 with value: 0.8333333333333334.\u001b[0m\n",
            "\u001b[32m[I 2022-11-27 10:25:53,890]\u001b[0m Trial 441 finished with value: 0.7976190476190476 and parameters: {'scalers': 'standard', 'n_neighbors': 21, 'weights': 'distance', 'metric': 'manhattan'}. Best is trial 126 with value: 0.8333333333333334.\u001b[0m\n",
            "\u001b[32m[I 2022-11-27 10:25:53,938]\u001b[0m Trial 442 finished with value: 0.8119047619047619 and parameters: {'scalers': 'standard', 'n_neighbors': 12, 'weights': 'distance', 'metric': 'manhattan'}. Best is trial 126 with value: 0.8333333333333334.\u001b[0m\n",
            "\u001b[32m[I 2022-11-27 10:25:53,982]\u001b[0m Trial 443 finished with value: 0.8333333333333334 and parameters: {'scalers': 'standard', 'n_neighbors': 11, 'weights': 'distance', 'metric': 'manhattan'}. Best is trial 126 with value: 0.8333333333333334.\u001b[0m\n",
            "\u001b[32m[I 2022-11-27 10:25:54,025]\u001b[0m Trial 444 finished with value: 0.7628571428571429 and parameters: {'scalers': 'standard', 'n_neighbors': 9, 'weights': 'distance', 'metric': 'euclidean'}. Best is trial 126 with value: 0.8333333333333334.\u001b[0m\n",
            "\u001b[32m[I 2022-11-27 10:25:54,069]\u001b[0m Trial 445 finished with value: 0.8333333333333334 and parameters: {'scalers': 'standard', 'n_neighbors': 11, 'weights': 'distance', 'metric': 'manhattan'}. Best is trial 126 with value: 0.8333333333333334.\u001b[0m\n",
            "\u001b[32m[I 2022-11-27 10:25:54,115]\u001b[0m Trial 446 finished with value: 0.7695238095238095 and parameters: {'scalers': 'standard', 'n_neighbors': 10, 'weights': 'distance', 'metric': 'minkowski'}. Best is trial 126 with value: 0.8333333333333334.\u001b[0m\n",
            "\u001b[32m[I 2022-11-27 10:25:54,159]\u001b[0m Trial 447 finished with value: 0.8119047619047619 and parameters: {'scalers': 'standard', 'n_neighbors': 12, 'weights': 'distance', 'metric': 'manhattan'}. Best is trial 126 with value: 0.8333333333333334.\u001b[0m\n",
            "\u001b[32m[I 2022-11-27 10:25:54,204]\u001b[0m Trial 448 finished with value: 0.8333333333333334 and parameters: {'scalers': 'standard', 'n_neighbors': 11, 'weights': 'distance', 'metric': 'manhattan'}. Best is trial 126 with value: 0.8333333333333334.\u001b[0m\n",
            "\u001b[32m[I 2022-11-27 10:25:54,249]\u001b[0m Trial 449 finished with value: 0.8119047619047619 and parameters: {'scalers': 'standard', 'n_neighbors': 12, 'weights': 'distance', 'metric': 'manhattan'}. Best is trial 126 with value: 0.8333333333333334.\u001b[0m\n",
            "\u001b[32m[I 2022-11-27 10:25:54,297]\u001b[0m Trial 450 finished with value: 0.7061904761904761 and parameters: {'scalers': 'standard', 'n_neighbors': 11, 'weights': 'uniform', 'metric': 'manhattan'}. Best is trial 126 with value: 0.8333333333333334.\u001b[0m\n",
            "\u001b[32m[I 2022-11-27 10:25:54,343]\u001b[0m Trial 451 finished with value: 0.8119047619047619 and parameters: {'scalers': 'standard', 'n_neighbors': 10, 'weights': 'distance', 'metric': 'manhattan'}. Best is trial 126 with value: 0.8333333333333334.\u001b[0m\n",
            "\u001b[32m[I 2022-11-27 10:25:54,388]\u001b[0m Trial 452 finished with value: 0.8333333333333334 and parameters: {'scalers': 'standard', 'n_neighbors': 11, 'weights': 'distance', 'metric': 'manhattan'}. Best is trial 126 with value: 0.8333333333333334.\u001b[0m\n",
            "\u001b[32m[I 2022-11-27 10:25:54,434]\u001b[0m Trial 453 finished with value: 0.832857142857143 and parameters: {'scalers': 'standard', 'n_neighbors': 13, 'weights': 'distance', 'metric': 'manhattan'}. Best is trial 126 with value: 0.8333333333333334.\u001b[0m\n",
            "\u001b[32m[I 2022-11-27 10:25:54,488]\u001b[0m Trial 454 finished with value: 0.8333333333333334 and parameters: {'scalers': 'standard', 'n_neighbors': 11, 'weights': 'distance', 'metric': 'manhattan'}. Best is trial 126 with value: 0.8333333333333334.\u001b[0m\n",
            "\u001b[32m[I 2022-11-27 10:25:54,535]\u001b[0m Trial 455 finished with value: 0.8119047619047619 and parameters: {'scalers': 'standard', 'n_neighbors': 12, 'weights': 'distance', 'metric': 'manhattan'}. Best is trial 126 with value: 0.8333333333333334.\u001b[0m\n",
            "\u001b[32m[I 2022-11-27 10:25:54,603]\u001b[0m Trial 456 finished with value: 0.7557142857142858 and parameters: {'scalers': 'robust', 'n_neighbors': 10, 'weights': 'distance', 'metric': 'manhattan'}. Best is trial 126 with value: 0.8333333333333334.\u001b[0m\n",
            "\u001b[32m[I 2022-11-27 10:25:54,654]\u001b[0m Trial 457 finished with value: 0.8119047619047619 and parameters: {'scalers': 'standard', 'n_neighbors': 10, 'weights': 'distance', 'metric': 'manhattan'}. Best is trial 126 with value: 0.8333333333333334.\u001b[0m\n",
            "\u001b[32m[I 2022-11-27 10:25:54,698]\u001b[0m Trial 458 finished with value: 0.8333333333333334 and parameters: {'scalers': 'standard', 'n_neighbors': 11, 'weights': 'distance', 'metric': 'manhattan'}. Best is trial 126 with value: 0.8333333333333334.\u001b[0m\n",
            "\u001b[32m[I 2022-11-27 10:25:54,744]\u001b[0m Trial 459 finished with value: 0.832857142857143 and parameters: {'scalers': 'standard', 'n_neighbors': 13, 'weights': 'distance', 'metric': 'manhattan'}. Best is trial 126 with value: 0.8333333333333334.\u001b[0m\n",
            "\u001b[32m[I 2022-11-27 10:25:54,788]\u001b[0m Trial 460 finished with value: 0.8119047619047619 and parameters: {'scalers': 'standard', 'n_neighbors': 12, 'weights': 'distance', 'metric': 'manhattan'}. Best is trial 126 with value: 0.8333333333333334.\u001b[0m\n",
            "\u001b[32m[I 2022-11-27 10:25:54,832]\u001b[0m Trial 461 finished with value: 0.8123809523809523 and parameters: {'scalers': 'standard', 'n_neighbors': 9, 'weights': 'distance', 'metric': 'manhattan'}. Best is trial 126 with value: 0.8333333333333334.\u001b[0m\n",
            "\u001b[32m[I 2022-11-27 10:25:54,877]\u001b[0m Trial 462 finished with value: 0.8333333333333334 and parameters: {'scalers': 'standard', 'n_neighbors': 11, 'weights': 'distance', 'metric': 'manhattan'}. Best is trial 126 with value: 0.8333333333333334.\u001b[0m\n",
            "\u001b[32m[I 2022-11-27 10:25:54,922]\u001b[0m Trial 463 finished with value: 0.7695238095238095 and parameters: {'scalers': 'standard', 'n_neighbors': 10, 'weights': 'distance', 'metric': 'euclidean'}. Best is trial 126 with value: 0.8333333333333334.\u001b[0m\n",
            "\u001b[32m[I 2022-11-27 10:25:54,974]\u001b[0m Trial 464 finished with value: 0.8119047619047619 and parameters: {'scalers': 'standard', 'n_neighbors': 12, 'weights': 'distance', 'metric': 'manhattan'}. Best is trial 126 with value: 0.8333333333333334.\u001b[0m\n",
            "\u001b[32m[I 2022-11-27 10:25:55,019]\u001b[0m Trial 465 finished with value: 0.8333333333333334 and parameters: {'scalers': 'standard', 'n_neighbors': 11, 'weights': 'distance', 'metric': 'manhattan'}. Best is trial 126 with value: 0.8333333333333334.\u001b[0m\n",
            "\u001b[32m[I 2022-11-27 10:25:55,066]\u001b[0m Trial 466 finished with value: 0.6995238095238094 and parameters: {'scalers': 'standard', 'n_neighbors': 10, 'weights': 'uniform', 'metric': 'manhattan'}. Best is trial 126 with value: 0.8333333333333334.\u001b[0m\n",
            "\u001b[32m[I 2022-11-27 10:25:55,112]\u001b[0m Trial 467 finished with value: 0.8333333333333334 and parameters: {'scalers': 'standard', 'n_neighbors': 11, 'weights': 'distance', 'metric': 'manhattan'}. Best is trial 126 with value: 0.8333333333333334.\u001b[0m\n",
            "\u001b[32m[I 2022-11-27 10:25:55,155]\u001b[0m Trial 468 finished with value: 0.8119047619047619 and parameters: {'scalers': 'standard', 'n_neighbors': 12, 'weights': 'distance', 'metric': 'manhattan'}. Best is trial 126 with value: 0.8333333333333334.\u001b[0m\n",
            "\u001b[32m[I 2022-11-27 10:25:55,199]\u001b[0m Trial 469 finished with value: 0.7766666666666666 and parameters: {'scalers': 'standard', 'n_neighbors': 11, 'weights': 'distance', 'metric': 'minkowski'}. Best is trial 126 with value: 0.8333333333333334.\u001b[0m\n",
            "\u001b[32m[I 2022-11-27 10:25:55,245]\u001b[0m Trial 470 finished with value: 0.8123809523809523 and parameters: {'scalers': 'standard', 'n_neighbors': 9, 'weights': 'distance', 'metric': 'manhattan'}. Best is trial 126 with value: 0.8333333333333334.\u001b[0m\n",
            "\u001b[32m[I 2022-11-27 10:25:55,288]\u001b[0m Trial 471 finished with value: 0.8119047619047619 and parameters: {'scalers': 'standard', 'n_neighbors': 10, 'weights': 'distance', 'metric': 'manhattan'}. Best is trial 126 with value: 0.8333333333333334.\u001b[0m\n",
            "\u001b[32m[I 2022-11-27 10:25:55,333]\u001b[0m Trial 472 finished with value: 0.8119047619047619 and parameters: {'scalers': 'standard', 'n_neighbors': 12, 'weights': 'distance', 'metric': 'manhattan'}. Best is trial 126 with value: 0.8333333333333334.\u001b[0m\n",
            "\u001b[32m[I 2022-11-27 10:25:55,378]\u001b[0m Trial 473 finished with value: 0.8333333333333334 and parameters: {'scalers': 'standard', 'n_neighbors': 11, 'weights': 'distance', 'metric': 'manhattan'}. Best is trial 126 with value: 0.8333333333333334.\u001b[0m\n",
            "\u001b[32m[I 2022-11-27 10:25:55,424]\u001b[0m Trial 474 finished with value: 0.8333333333333334 and parameters: {'scalers': 'standard', 'n_neighbors': 11, 'weights': 'distance', 'metric': 'manhattan'}. Best is trial 126 with value: 0.8333333333333334.\u001b[0m\n",
            "\u001b[32m[I 2022-11-27 10:25:55,470]\u001b[0m Trial 475 finished with value: 0.832857142857143 and parameters: {'scalers': 'standard', 'n_neighbors': 13, 'weights': 'distance', 'metric': 'manhattan'}. Best is trial 126 with value: 0.8333333333333334.\u001b[0m\n",
            "\u001b[32m[I 2022-11-27 10:25:55,515]\u001b[0m Trial 476 finished with value: 0.8119047619047619 and parameters: {'scalers': 'standard', 'n_neighbors': 14, 'weights': 'distance', 'metric': 'manhattan'}. Best is trial 126 with value: 0.8333333333333334.\u001b[0m\n",
            "\u001b[32m[I 2022-11-27 10:25:55,564]\u001b[0m Trial 477 finished with value: 0.8047619047619048 and parameters: {'scalers': 'standard', 'n_neighbors': 4, 'weights': 'distance', 'metric': 'manhattan'}. Best is trial 126 with value: 0.8333333333333334.\u001b[0m\n",
            "\u001b[32m[I 2022-11-27 10:25:55,634]\u001b[0m Trial 478 finished with value: 0.8047619047619048 and parameters: {'scalers': 'robust', 'n_neighbors': 12, 'weights': 'distance', 'metric': 'manhattan'}. Best is trial 126 with value: 0.8333333333333334.\u001b[0m\n",
            "\u001b[32m[I 2022-11-27 10:25:55,690]\u001b[0m Trial 479 finished with value: 0.8119047619047619 and parameters: {'scalers': 'standard', 'n_neighbors': 10, 'weights': 'distance', 'metric': 'manhattan'}. Best is trial 126 with value: 0.8333333333333334.\u001b[0m\n",
            "\u001b[32m[I 2022-11-27 10:25:55,750]\u001b[0m Trial 480 finished with value: 0.8119047619047619 and parameters: {'scalers': 'standard', 'n_neighbors': 12, 'weights': 'distance', 'metric': 'manhattan'}. Best is trial 126 with value: 0.8333333333333334.\u001b[0m\n",
            "\u001b[32m[I 2022-11-27 10:25:55,796]\u001b[0m Trial 481 finished with value: 0.8333333333333334 and parameters: {'scalers': 'standard', 'n_neighbors': 11, 'weights': 'distance', 'metric': 'manhattan'}. Best is trial 126 with value: 0.8333333333333334.\u001b[0m\n",
            "\u001b[32m[I 2022-11-27 10:25:55,842]\u001b[0m Trial 482 finished with value: 0.8333333333333334 and parameters: {'scalers': 'standard', 'n_neighbors': 11, 'weights': 'distance', 'metric': 'manhattan'}. Best is trial 126 with value: 0.8333333333333334.\u001b[0m\n",
            "\u001b[32m[I 2022-11-27 10:25:55,903]\u001b[0m Trial 483 finished with value: 0.8119047619047619 and parameters: {'scalers': 'standard', 'n_neighbors': 10, 'weights': 'distance', 'metric': 'manhattan'}. Best is trial 126 with value: 0.8333333333333334.\u001b[0m\n",
            "\u001b[32m[I 2022-11-27 10:25:55,951]\u001b[0m Trial 484 finished with value: 0.8119047619047619 and parameters: {'scalers': 'standard', 'n_neighbors': 12, 'weights': 'distance', 'metric': 'manhattan'}. Best is trial 126 with value: 0.8333333333333334.\u001b[0m\n",
            "\u001b[32m[I 2022-11-27 10:25:55,999]\u001b[0m Trial 485 finished with value: 0.8333333333333334 and parameters: {'scalers': 'standard', 'n_neighbors': 11, 'weights': 'distance', 'metric': 'manhattan'}. Best is trial 126 with value: 0.8333333333333334.\u001b[0m\n",
            "\u001b[32m[I 2022-11-27 10:25:56,045]\u001b[0m Trial 486 finished with value: 0.8333333333333334 and parameters: {'scalers': 'standard', 'n_neighbors': 11, 'weights': 'distance', 'metric': 'manhattan'}. Best is trial 126 with value: 0.8333333333333334.\u001b[0m\n",
            "\u001b[32m[I 2022-11-27 10:25:56,094]\u001b[0m Trial 487 finished with value: 0.6857142857142857 and parameters: {'scalers': 'standard', 'n_neighbors': 8, 'weights': 'uniform', 'metric': 'manhattan'}. Best is trial 126 with value: 0.8333333333333334.\u001b[0m\n",
            "\u001b[32m[I 2022-11-27 10:25:56,140]\u001b[0m Trial 488 finished with value: 0.7695238095238095 and parameters: {'scalers': 'standard', 'n_neighbors': 10, 'weights': 'distance', 'metric': 'euclidean'}. Best is trial 126 with value: 0.8333333333333334.\u001b[0m\n",
            "\u001b[32m[I 2022-11-27 10:25:56,186]\u001b[0m Trial 489 finished with value: 0.7628571428571429 and parameters: {'scalers': 'standard', 'n_neighbors': 9, 'weights': 'distance', 'metric': 'minkowski'}. Best is trial 126 with value: 0.8333333333333334.\u001b[0m\n",
            "\u001b[32m[I 2022-11-27 10:25:56,231]\u001b[0m Trial 490 finished with value: 0.8119047619047619 and parameters: {'scalers': 'standard', 'n_neighbors': 10, 'weights': 'distance', 'metric': 'manhattan'}. Best is trial 126 with value: 0.8333333333333334.\u001b[0m\n",
            "\u001b[32m[I 2022-11-27 10:25:56,277]\u001b[0m Trial 491 finished with value: 0.832857142857143 and parameters: {'scalers': 'standard', 'n_neighbors': 13, 'weights': 'distance', 'metric': 'manhattan'}. Best is trial 126 with value: 0.8333333333333334.\u001b[0m\n",
            "\u001b[32m[I 2022-11-27 10:25:56,324]\u001b[0m Trial 492 finished with value: 0.8333333333333334 and parameters: {'scalers': 'standard', 'n_neighbors': 11, 'weights': 'distance', 'metric': 'manhattan'}. Best is trial 126 with value: 0.8333333333333334.\u001b[0m\n",
            "\u001b[32m[I 2022-11-27 10:25:56,370]\u001b[0m Trial 493 finished with value: 0.8119047619047619 and parameters: {'scalers': 'standard', 'n_neighbors': 12, 'weights': 'distance', 'metric': 'manhattan'}. Best is trial 126 with value: 0.8333333333333334.\u001b[0m\n",
            "\u001b[32m[I 2022-11-27 10:25:56,416]\u001b[0m Trial 494 finished with value: 0.8333333333333334 and parameters: {'scalers': 'standard', 'n_neighbors': 11, 'weights': 'distance', 'metric': 'manhattan'}. Best is trial 126 with value: 0.8333333333333334.\u001b[0m\n",
            "\u001b[32m[I 2022-11-27 10:25:56,467]\u001b[0m Trial 495 finished with value: 0.8119047619047619 and parameters: {'scalers': 'standard', 'n_neighbors': 10, 'weights': 'distance', 'metric': 'manhattan'}. Best is trial 126 with value: 0.8333333333333334.\u001b[0m\n",
            "\u001b[32m[I 2022-11-27 10:25:56,514]\u001b[0m Trial 496 finished with value: 0.8119047619047619 and parameters: {'scalers': 'standard', 'n_neighbors': 12, 'weights': 'distance', 'metric': 'manhattan'}. Best is trial 126 with value: 0.8333333333333334.\u001b[0m\n",
            "\u001b[32m[I 2022-11-27 10:25:56,563]\u001b[0m Trial 497 finished with value: 0.8333333333333334 and parameters: {'scalers': 'standard', 'n_neighbors': 11, 'weights': 'distance', 'metric': 'manhattan'}. Best is trial 126 with value: 0.8333333333333334.\u001b[0m\n",
            "\u001b[32m[I 2022-11-27 10:25:56,618]\u001b[0m Trial 498 finished with value: 0.8333333333333334 and parameters: {'scalers': 'standard', 'n_neighbors': 11, 'weights': 'distance', 'metric': 'manhattan'}. Best is trial 126 with value: 0.8333333333333334.\u001b[0m\n",
            "\u001b[32m[I 2022-11-27 10:25:56,694]\u001b[0m Trial 499 finished with value: 0.8047619047619048 and parameters: {'scalers': 'robust', 'n_neighbors': 12, 'weights': 'distance', 'metric': 'manhattan'}. Best is trial 126 with value: 0.8333333333333334.\u001b[0m\n"
          ]
        }
      ],
      "source": [
        "kNN_sampler = TPESampler(seed=42) # create a seed for the sampler for reproducibility\n",
        "kNN_study = optuna.create_study(direction=\"maximize\", sampler=kNN_sampler)\n",
        "kNN_study.optimize(kNN_objective, n_trials=500)"
      ]
    },
    {
      "cell_type": "code",
      "execution_count": 185,
      "metadata": {
        "colab": {
          "base_uri": "https://localhost:8080/",
          "height": 542
        },
        "id": "Ic12PVeO2bRb",
        "outputId": "aaba2378-e6c8-46ec-ea49-44db24fd1731"
      },
      "outputs": [
        {
          "data": {
            "text/html": [
              "<html>\n",
              "<head><meta charset=\"utf-8\" /></head>\n",
              "<body>\n",
              "    <div>            <script src=\"https://cdnjs.cloudflare.com/ajax/libs/mathjax/2.7.5/MathJax.js?config=TeX-AMS-MML_SVG\"></script><script type=\"text/javascript\">if (window.MathJax) {MathJax.Hub.Config({SVG: {font: \"STIX-Web\"}});}</script>                <script type=\"text/javascript\">window.PlotlyConfig = {MathJaxConfig: 'local'};</script>\n",
              "        <script src=\"https://cdn.plot.ly/plotly-2.8.3.min.js\"></script>                <div id=\"15626a51-eb70-4dfe-960e-61afec2c94fa\" class=\"plotly-graph-div\" style=\"height:525px; width:100%;\"></div>            <script type=\"text/javascript\">                                    window.PLOTLYENV=window.PLOTLYENV || {};                                    if (document.getElementById(\"15626a51-eb70-4dfe-960e-61afec2c94fa\")) {                    Plotly.newPlot(                        \"15626a51-eb70-4dfe-960e-61afec2c94fa\",                        [{\"mode\":\"markers\",\"name\":\"Objective Value\",\"x\":[0,1,2,3,4,5,6,7,8,9,10,11,12,13,14,15,16,17,18,19,20,21,22,23,24,25,26,27,28,29,30,31,32,33,34,35,36,37,38,39,40,41,42,43,44,45,46,47,48,49,50,51,52,53,54,55,56,57,58,59,60,61,62,63,64,65,66,67,68,69,70,71,72,73,74,75,76,77,78,79,80,81,82,83,84,85,86,87,88,89,90,91,92,93,94,95,96,97,98,99,100,101,102,103,104,105,106,107,108,109,110,111,112,113,114,115,116,117,118,119,120,121,122,123,124,125,126,127,128,129,130,131,132,133,134,135,136,137,138,139,140,141,142,143,144,145,146,147,148,149,150,151,152,153,154,155,156,157,158,159,160,161,162,163,164,165,166,167,168,169,170,171,172,173,174,175,176,177,178,179,180,181,182,183,184,185,186,187,188,189,190,191,192,193,194,195,196,197,198,199,200,201,202,203,204,205,206,207,208,209,210,211,212,213,214,215,216,217,218,219,220,221,222,223,224,225,226,227,228,229,230,231,232,233,234,235,236,237,238,239,240,241,242,243,244,245,246,247,248,249,250,251,252,253,254,255,256,257,258,259,260,261,262,263,264,265,266,267,268,269,270,271,272,273,274,275,276,277,278,279,280,281,282,283,284,285,286,287,288,289,290,291,292,293,294,295,296,297,298,299,300,301,302,303,304,305,306,307,308,309,310,311,312,313,314,315,316,317,318,319,320,321,322,323,324,325,326,327,328,329,330,331,332,333,334,335,336,337,338,339,340,341,342,343,344,345,346,347,348,349,350,351,352,353,354,355,356,357,358,359,360,361,362,363,364,365,366,367,368,369,370,371,372,373,374,375,376,377,378,379,380,381,382,383,384,385,386,387,388,389,390,391,392,393,394,395,396,397,398,399,400,401,402,403,404,405,406,407,408,409,410,411,412,413,414,415,416,417,418,419,420,421,422,423,424,425,426,427,428,429,430,431,432,433,434,435,436,437,438,439,440,441,442,443,444,445,446,447,448,449,450,451,452,453,454,455,456,457,458,459,460,461,462,463,464,465,466,467,468,469,470,471,472,473,474,475,476,477,478,479,480,481,482,483,484,485,486,487,488,489,490,491,492,493,494,495,496,497,498,499],\"y\":[0.6709523809523811,0.5571428571428572,0.7623809523809524,0.6285714285714286,0.7976190476190476,0.8185714285714285,0.7557142857142857,0.7047619047619047,0.6980952380952381,0.7838095238095237,0.7838095238095237,0.7914285714285714,0.7976190476190476,0.819047619047619,0.8047619047619048,0.749047619047619,0.8047619047619048,0.7838095238095237,0.8119047619047619,0.7838095238095237,0.8052380952380951,0.8185714285714287,0.8185714285714287,0.797142857142857,0.7909523809523809,0.8185714285714287,0.6904761904761905,0.8047619047619048,0.7842857142857143,0.6695238095238095,0.7904761904761904,0.8185714285714287,0.8119047619047619,0.8185714285714287,0.5776190476190476,0.7766666666666666,0.8119047619047619,0.7976190476190476,0.6685714285714286,0.7909523809523809,0.819047619047619,0.819047619047619,0.8114285714285714,0.819047619047619,0.790952380952381,0.7976190476190476,0.6561904761904762,0.7914285714285714,0.790952380952381,0.8052380952380952,0.77,0.819047619047619,0.8114285714285714,0.819047619047619,0.7909523809523809,0.798095238095238,0.8185714285714285,0.8052380952380952,0.8047619047619048,0.7628571428571428,0.819047619047619,0.819047619047619,0.819047619047619,0.790952380952381,0.819047619047619,0.8185714285714285,0.8119047619047619,0.819047619047619,0.797142857142857,0.819047619047619,0.7833333333333334,0.790952380952381,0.819047619047619,0.7914285714285714,0.7909523809523809,0.7695238095238095,0.819047619047619,0.7119047619047619,0.8185714285714285,0.8119047619047619,0.819047619047619,0.8052380952380952,0.8047619047619048,0.7909523809523809,0.819047619047619,0.8114285714285714,0.819047619047619,0.819047619047619,0.8185714285714285,0.719047619047619,0.7976190476190476,0.819047619047619,0.790952380952381,0.8114285714285714,0.819047619047619,0.819047619047619,0.819047619047619,0.8185714285714285,0.7838095238095237,0.7909523809523809,0.7909523809523809,0.819047619047619,0.819047619047619,0.819047619047619,0.790952380952381,0.819047619047619,0.7909523809523809,0.6704761904761904,0.798095238095238,0.8047619047619048,0.819047619047619,0.819047619047619,0.819047619047619,0.7909523809523809,0.8185714285714285,0.8185714285714285,0.7914285714285714,0.819047619047619,0.832857142857143,0.8119047619047619,0.832857142857143,0.832857142857143,0.832857142857143,0.832857142857143,0.832857142857143,0.832857142857143,0.8333333333333334,0.8333333333333334,0.6785714285714285,0.8333333333333334,0.8119047619047619,0.8333333333333334,0.8333333333333334,0.8333333333333334,0.8333333333333334,0.8333333333333334,0.7766666666666666,0.8333333333333334,0.8123809523809523,0.8333333333333334,0.8333333333333334,0.8119047619047619,0.8333333333333334,0.8333333333333334,0.8333333333333334,0.8333333333333334,0.8333333333333334,0.8123809523809523,0.8119047619047619,0.811904761904762,0.8333333333333334,0.8333333333333334,0.8119047619047619,0.8119047619047619,0.8333333333333334,0.8119047619047619,0.8119047619047619,0.7061904761904761,0.7766666666666666,0.8123809523809523,0.7695238095238095,0.8333333333333334,0.8119047619047619,0.8119047619047619,0.8333333333333334,0.8119047619047619,0.8333333333333334,0.8119047619047619,0.8119047619047619,0.8123809523809523,0.8333333333333334,0.8333333333333334,0.8119047619047619,0.8119047619047619,0.8333333333333334,0.8119047619047619,0.8047619047619048,0.8119047619047619,0.8333333333333334,0.8119047619047619,0.811904761904762,0.8333333333333334,0.8119047619047619,0.8333333333333334,0.8123809523809523,0.8333333333333334,0.8119047619047619,0.8119047619047619,0.7061904761904761,0.7695238095238095,0.8119047619047619,0.8333333333333334,0.8333333333333334,0.8119047619047619,0.8119047619047619,0.8333333333333334,0.8123809523809523,0.7904761904761904,0.8333333333333334,0.8119047619047619,0.8333333333333334,0.8119047619047619,0.8333333333333334,0.8119047619047619,0.8333333333333334,0.8119047619047619,0.7976190476190476,0.8119047619047619,0.8119047619047619,0.832857142857143,0.8333333333333334,0.8333333333333334,0.8119047619047619,0.8333333333333334,0.8333333333333334,0.8119047619047619,0.8333333333333334,0.8123809523809523,0.8119047619047619,0.6995238095238094,0.8119047619047619,0.8333333333333334,0.8333333333333334,0.8119047619047619,0.8333333333333334,0.8119047619047619,0.8333333333333334,0.8119047619047619,0.8333333333333334,0.7695238095238095,0.8119047619047619,0.8333333333333334,0.8333333333333334,0.8333333333333334,0.8333333333333334,0.8119047619047619,0.832857142857143,0.7976190476190476,0.8333333333333334,0.8123809523809523,0.8119047619047619,0.8333333333333334,0.8119047619047619,0.8333333333333334,0.8119047619047619,0.8333333333333334,0.8119047619047619,0.8333333333333334,0.8119047619047619,0.8333333333333334,0.8119047619047619,0.8333333333333334,0.8119047619047619,0.7061904761904761,0.8119047619047619,0.8333333333333334,0.8119047619047617,0.832857142857143,0.8119047619047619,0.8119047619047619,0.8333333333333334,0.7766666666666666,0.77,0.7695238095238095,0.8119047619047619,0.804285714285714,0.8333333333333334,0.8119047619047619,0.8333333333333334,0.832857142857143,0.8119047619047619,0.8119047619047619,0.8333333333333334,0.7057142857142857,0.8333333333333334,0.8123809523809523,0.8257142857142856,0.8119047619047619,0.8333333333333334,0.8119047619047619,0.8333333333333334,0.8119047619047619,0.8333333333333334,0.8119047619047619,0.7766666666666666,0.798095238095238,0.8119047619047619,0.8123809523809523,0.7695238095238095,0.8119047619047619,0.8333333333333334,0.8119047619047619,0.8333333333333334,0.8119047619047619,0.8333333333333334,0.7838095238095237,0.8119047619047619,0.8333333333333334,0.8333333333333334,0.8119047619047619,0.832857142857143,0.8119047619047619,0.8333333333333334,0.8119047619047619,0.8119047619047619,0.8333333333333334,0.7628571428571429,0.798095238095238,0.8333333333333334,0.8119047619047619,0.8119047619047619,0.8047619047619048,0.7061904761904761,0.7766666666666666,0.8119047619047619,0.8119047619047619,0.832857142857143,0.811904761904762,0.8119047619047619,0.8333333333333334,0.8119047619047619,0.8333333333333334,0.8119047619047619,0.8123809523809523,0.8333333333333334,0.8333333333333334,0.8119047619047619,0.798095238095238,0.8119047619047619,0.8119047619047619,0.7695238095238095,0.8333333333333334,0.6847619047619048,0.8123809523809523,0.8333333333333334,0.8119047619047619,0.8333333333333334,0.8119047619047619,0.8333333333333334,0.8333333333333334,0.8119047619047619,0.8119047619047619,0.8119047619047619,0.8333333333333334,0.832857142857143,0.8119047619047619,0.8333333333333334,0.8123809523809523,0.8333333333333334,0.8047619047619048,0.8333333333333334,0.6919047619047619,0.8333333333333334,0.8119047619047619,0.8119047619047619,0.8333333333333334,0.7904761904761904,0.8119047619047619,0.8119047619047619,0.8333333333333334,0.819047619047619,0.8119047619047619,0.8333333333333334,0.8123809523809523,0.8119047619047619,0.8119047619047619,0.8114285714285714,0.8333333333333334,0.832857142857143,0.8119047619047619,0.6057142857142856,0.8333333333333334,0.8123809523809523,0.8119047619047619,0.8119047619047619,0.8333333333333334,0.7695238095238095,0.8119047619047619,0.7766666666666666,0.8119047619047619,0.8333333333333334,0.8119047619047619,0.8333333333333334,0.832857142857143,0.8123809523809523,0.8119047619047619,0.8119047619047619,0.8333333333333334,0.8333333333333334,0.811904761904762,0.8333333333333334,0.5723809523809523,0.8119047619047619,0.8333333333333334,0.8119047619047619,0.8119047619047619,0.7904761904761904,0.8119047619047619,0.8333333333333334,0.8119047619047619,0.8333333333333334,0.7628571428571429,0.8119047619047619,0.8333333333333334,0.8333333333333334,0.8119047619047619,0.832857142857143,0.8333333333333334,0.8119047619047619,0.8119047619047619,0.8047619047619048,0.8119047619047619,0.8333333333333334,0.6352380952380952,0.8333333333333334,0.8119047619047619,0.8333333333333334,0.8119047619047619,0.7695238095238095,0.8333333333333334,0.8119047619047619,0.8123809523809523,0.8119047619047619,0.8333333333333334,0.7904761904761904,0.8119047619047619,0.8333333333333334,0.8119047619047619,0.8123809523809523,0.6995238095238094,0.8333333333333334,0.8333333333333334,0.8119047619047619,0.8333333333333334,0.8119047619047619,0.7976190476190476,0.8119047619047619,0.8333333333333334,0.8119047619047619,0.8119047619047619,0.832857142857143,0.7976190476190476,0.8119047619047619,0.8333333333333334,0.7628571428571429,0.8333333333333334,0.7695238095238095,0.8119047619047619,0.8333333333333334,0.8119047619047619,0.7061904761904761,0.8119047619047619,0.8333333333333334,0.832857142857143,0.8333333333333334,0.8119047619047619,0.7557142857142858,0.8119047619047619,0.8333333333333334,0.832857142857143,0.8119047619047619,0.8123809523809523,0.8333333333333334,0.7695238095238095,0.8119047619047619,0.8333333333333334,0.6995238095238094,0.8333333333333334,0.8119047619047619,0.7766666666666666,0.8123809523809523,0.8119047619047619,0.8119047619047619,0.8333333333333334,0.8333333333333334,0.832857142857143,0.8119047619047619,0.8047619047619048,0.8047619047619048,0.8119047619047619,0.8119047619047619,0.8333333333333334,0.8333333333333334,0.8119047619047619,0.8119047619047619,0.8333333333333334,0.8333333333333334,0.6857142857142857,0.7695238095238095,0.7628571428571429,0.8119047619047619,0.832857142857143,0.8333333333333334,0.8119047619047619,0.8333333333333334,0.8119047619047619,0.8119047619047619,0.8333333333333334,0.8333333333333334,0.8047619047619048],\"type\":\"scatter\"},{\"name\":\"Best Value\",\"x\":[0,1,2,3,4,5,6,7,8,9,10,11,12,13,14,15,16,17,18,19,20,21,22,23,24,25,26,27,28,29,30,31,32,33,34,35,36,37,38,39,40,41,42,43,44,45,46,47,48,49,50,51,52,53,54,55,56,57,58,59,60,61,62,63,64,65,66,67,68,69,70,71,72,73,74,75,76,77,78,79,80,81,82,83,84,85,86,87,88,89,90,91,92,93,94,95,96,97,98,99,100,101,102,103,104,105,106,107,108,109,110,111,112,113,114,115,116,117,118,119,120,121,122,123,124,125,126,127,128,129,130,131,132,133,134,135,136,137,138,139,140,141,142,143,144,145,146,147,148,149,150,151,152,153,154,155,156,157,158,159,160,161,162,163,164,165,166,167,168,169,170,171,172,173,174,175,176,177,178,179,180,181,182,183,184,185,186,187,188,189,190,191,192,193,194,195,196,197,198,199,200,201,202,203,204,205,206,207,208,209,210,211,212,213,214,215,216,217,218,219,220,221,222,223,224,225,226,227,228,229,230,231,232,233,234,235,236,237,238,239,240,241,242,243,244,245,246,247,248,249,250,251,252,253,254,255,256,257,258,259,260,261,262,263,264,265,266,267,268,269,270,271,272,273,274,275,276,277,278,279,280,281,282,283,284,285,286,287,288,289,290,291,292,293,294,295,296,297,298,299,300,301,302,303,304,305,306,307,308,309,310,311,312,313,314,315,316,317,318,319,320,321,322,323,324,325,326,327,328,329,330,331,332,333,334,335,336,337,338,339,340,341,342,343,344,345,346,347,348,349,350,351,352,353,354,355,356,357,358,359,360,361,362,363,364,365,366,367,368,369,370,371,372,373,374,375,376,377,378,379,380,381,382,383,384,385,386,387,388,389,390,391,392,393,394,395,396,397,398,399,400,401,402,403,404,405,406,407,408,409,410,411,412,413,414,415,416,417,418,419,420,421,422,423,424,425,426,427,428,429,430,431,432,433,434,435,436,437,438,439,440,441,442,443,444,445,446,447,448,449,450,451,452,453,454,455,456,457,458,459,460,461,462,463,464,465,466,467,468,469,470,471,472,473,474,475,476,477,478,479,480,481,482,483,484,485,486,487,488,489,490,491,492,493,494,495,496,497,498,499],\"y\":[0.6709523809523811,0.6709523809523811,0.7623809523809524,0.7623809523809524,0.7976190476190476,0.8185714285714285,0.8185714285714285,0.8185714285714285,0.8185714285714285,0.8185714285714285,0.8185714285714285,0.8185714285714285,0.8185714285714285,0.819047619047619,0.819047619047619,0.819047619047619,0.819047619047619,0.819047619047619,0.819047619047619,0.819047619047619,0.819047619047619,0.819047619047619,0.819047619047619,0.819047619047619,0.819047619047619,0.819047619047619,0.819047619047619,0.819047619047619,0.819047619047619,0.819047619047619,0.819047619047619,0.819047619047619,0.819047619047619,0.819047619047619,0.819047619047619,0.819047619047619,0.819047619047619,0.819047619047619,0.819047619047619,0.819047619047619,0.819047619047619,0.819047619047619,0.819047619047619,0.819047619047619,0.819047619047619,0.819047619047619,0.819047619047619,0.819047619047619,0.819047619047619,0.819047619047619,0.819047619047619,0.819047619047619,0.819047619047619,0.819047619047619,0.819047619047619,0.819047619047619,0.819047619047619,0.819047619047619,0.819047619047619,0.819047619047619,0.819047619047619,0.819047619047619,0.819047619047619,0.819047619047619,0.819047619047619,0.819047619047619,0.819047619047619,0.819047619047619,0.819047619047619,0.819047619047619,0.819047619047619,0.819047619047619,0.819047619047619,0.819047619047619,0.819047619047619,0.819047619047619,0.819047619047619,0.819047619047619,0.819047619047619,0.819047619047619,0.819047619047619,0.819047619047619,0.819047619047619,0.819047619047619,0.819047619047619,0.819047619047619,0.819047619047619,0.819047619047619,0.819047619047619,0.819047619047619,0.819047619047619,0.819047619047619,0.819047619047619,0.819047619047619,0.819047619047619,0.819047619047619,0.819047619047619,0.819047619047619,0.819047619047619,0.819047619047619,0.819047619047619,0.819047619047619,0.819047619047619,0.819047619047619,0.819047619047619,0.819047619047619,0.819047619047619,0.819047619047619,0.819047619047619,0.819047619047619,0.819047619047619,0.819047619047619,0.819047619047619,0.819047619047619,0.819047619047619,0.819047619047619,0.819047619047619,0.819047619047619,0.832857142857143,0.832857142857143,0.832857142857143,0.832857142857143,0.832857142857143,0.832857142857143,0.832857142857143,0.832857142857143,0.8333333333333334,0.8333333333333334,0.8333333333333334,0.8333333333333334,0.8333333333333334,0.8333333333333334,0.8333333333333334,0.8333333333333334,0.8333333333333334,0.8333333333333334,0.8333333333333334,0.8333333333333334,0.8333333333333334,0.8333333333333334,0.8333333333333334,0.8333333333333334,0.8333333333333334,0.8333333333333334,0.8333333333333334,0.8333333333333334,0.8333333333333334,0.8333333333333334,0.8333333333333334,0.8333333333333334,0.8333333333333334,0.8333333333333334,0.8333333333333334,0.8333333333333334,0.8333333333333334,0.8333333333333334,0.8333333333333334,0.8333333333333334,0.8333333333333334,0.8333333333333334,0.8333333333333334,0.8333333333333334,0.8333333333333334,0.8333333333333334,0.8333333333333334,0.8333333333333334,0.8333333333333334,0.8333333333333334,0.8333333333333334,0.8333333333333334,0.8333333333333334,0.8333333333333334,0.8333333333333334,0.8333333333333334,0.8333333333333334,0.8333333333333334,0.8333333333333334,0.8333333333333334,0.8333333333333334,0.8333333333333334,0.8333333333333334,0.8333333333333334,0.8333333333333334,0.8333333333333334,0.8333333333333334,0.8333333333333334,0.8333333333333334,0.8333333333333334,0.8333333333333334,0.8333333333333334,0.8333333333333334,0.8333333333333334,0.8333333333333334,0.8333333333333334,0.8333333333333334,0.8333333333333334,0.8333333333333334,0.8333333333333334,0.8333333333333334,0.8333333333333334,0.8333333333333334,0.8333333333333334,0.8333333333333334,0.8333333333333334,0.8333333333333334,0.8333333333333334,0.8333333333333334,0.8333333333333334,0.8333333333333334,0.8333333333333334,0.8333333333333334,0.8333333333333334,0.8333333333333334,0.8333333333333334,0.8333333333333334,0.8333333333333334,0.8333333333333334,0.8333333333333334,0.8333333333333334,0.8333333333333334,0.8333333333333334,0.8333333333333334,0.8333333333333334,0.8333333333333334,0.8333333333333334,0.8333333333333334,0.8333333333333334,0.8333333333333334,0.8333333333333334,0.8333333333333334,0.8333333333333334,0.8333333333333334,0.8333333333333334,0.8333333333333334,0.8333333333333334,0.8333333333333334,0.8333333333333334,0.8333333333333334,0.8333333333333334,0.8333333333333334,0.8333333333333334,0.8333333333333334,0.8333333333333334,0.8333333333333334,0.8333333333333334,0.8333333333333334,0.8333333333333334,0.8333333333333334,0.8333333333333334,0.8333333333333334,0.8333333333333334,0.8333333333333334,0.8333333333333334,0.8333333333333334,0.8333333333333334,0.8333333333333334,0.8333333333333334,0.8333333333333334,0.8333333333333334,0.8333333333333334,0.8333333333333334,0.8333333333333334,0.8333333333333334,0.8333333333333334,0.8333333333333334,0.8333333333333334,0.8333333333333334,0.8333333333333334,0.8333333333333334,0.8333333333333334,0.8333333333333334,0.8333333333333334,0.8333333333333334,0.8333333333333334,0.8333333333333334,0.8333333333333334,0.8333333333333334,0.8333333333333334,0.8333333333333334,0.8333333333333334,0.8333333333333334,0.8333333333333334,0.8333333333333334,0.8333333333333334,0.8333333333333334,0.8333333333333334,0.8333333333333334,0.8333333333333334,0.8333333333333334,0.8333333333333334,0.8333333333333334,0.8333333333333334,0.8333333333333334,0.8333333333333334,0.8333333333333334,0.8333333333333334,0.8333333333333334,0.8333333333333334,0.8333333333333334,0.8333333333333334,0.8333333333333334,0.8333333333333334,0.8333333333333334,0.8333333333333334,0.8333333333333334,0.8333333333333334,0.8333333333333334,0.8333333333333334,0.8333333333333334,0.8333333333333334,0.8333333333333334,0.8333333333333334,0.8333333333333334,0.8333333333333334,0.8333333333333334,0.8333333333333334,0.8333333333333334,0.8333333333333334,0.8333333333333334,0.8333333333333334,0.8333333333333334,0.8333333333333334,0.8333333333333334,0.8333333333333334,0.8333333333333334,0.8333333333333334,0.8333333333333334,0.8333333333333334,0.8333333333333334,0.8333333333333334,0.8333333333333334,0.8333333333333334,0.8333333333333334,0.8333333333333334,0.8333333333333334,0.8333333333333334,0.8333333333333334,0.8333333333333334,0.8333333333333334,0.8333333333333334,0.8333333333333334,0.8333333333333334,0.8333333333333334,0.8333333333333334,0.8333333333333334,0.8333333333333334,0.8333333333333334,0.8333333333333334,0.8333333333333334,0.8333333333333334,0.8333333333333334,0.8333333333333334,0.8333333333333334,0.8333333333333334,0.8333333333333334,0.8333333333333334,0.8333333333333334,0.8333333333333334,0.8333333333333334,0.8333333333333334,0.8333333333333334,0.8333333333333334,0.8333333333333334,0.8333333333333334,0.8333333333333334,0.8333333333333334,0.8333333333333334,0.8333333333333334,0.8333333333333334,0.8333333333333334,0.8333333333333334,0.8333333333333334,0.8333333333333334,0.8333333333333334,0.8333333333333334,0.8333333333333334,0.8333333333333334,0.8333333333333334,0.8333333333333334,0.8333333333333334,0.8333333333333334,0.8333333333333334,0.8333333333333334,0.8333333333333334,0.8333333333333334,0.8333333333333334,0.8333333333333334,0.8333333333333334,0.8333333333333334,0.8333333333333334,0.8333333333333334,0.8333333333333334,0.8333333333333334,0.8333333333333334,0.8333333333333334,0.8333333333333334,0.8333333333333334,0.8333333333333334,0.8333333333333334,0.8333333333333334,0.8333333333333334,0.8333333333333334,0.8333333333333334,0.8333333333333334,0.8333333333333334,0.8333333333333334,0.8333333333333334,0.8333333333333334,0.8333333333333334,0.8333333333333334,0.8333333333333334,0.8333333333333334,0.8333333333333334,0.8333333333333334,0.8333333333333334,0.8333333333333334,0.8333333333333334,0.8333333333333334,0.8333333333333334,0.8333333333333334,0.8333333333333334,0.8333333333333334,0.8333333333333334,0.8333333333333334,0.8333333333333334,0.8333333333333334,0.8333333333333334,0.8333333333333334,0.8333333333333334,0.8333333333333334,0.8333333333333334,0.8333333333333334,0.8333333333333334,0.8333333333333334,0.8333333333333334,0.8333333333333334,0.8333333333333334,0.8333333333333334,0.8333333333333334,0.8333333333333334,0.8333333333333334,0.8333333333333334,0.8333333333333334,0.8333333333333334,0.8333333333333334,0.8333333333333334,0.8333333333333334,0.8333333333333334,0.8333333333333334,0.8333333333333334,0.8333333333333334,0.8333333333333334,0.8333333333333334,0.8333333333333334,0.8333333333333334,0.8333333333333334,0.8333333333333334,0.8333333333333334,0.8333333333333334,0.8333333333333334,0.8333333333333334,0.8333333333333334,0.8333333333333334,0.8333333333333334,0.8333333333333334,0.8333333333333334,0.8333333333333334,0.8333333333333334,0.8333333333333334,0.8333333333333334,0.8333333333333334,0.8333333333333334,0.8333333333333334,0.8333333333333334,0.8333333333333334,0.8333333333333334,0.8333333333333334,0.8333333333333334,0.8333333333333334,0.8333333333333334,0.8333333333333334,0.8333333333333334,0.8333333333333334,0.8333333333333334,0.8333333333333334,0.8333333333333334,0.8333333333333334,0.8333333333333334,0.8333333333333334,0.8333333333333334,0.8333333333333334,0.8333333333333334,0.8333333333333334,0.8333333333333334,0.8333333333333334,0.8333333333333334,0.8333333333333334,0.8333333333333334,0.8333333333333334,0.8333333333333334],\"type\":\"scatter\"}],                        {\"title\":{\"text\":\"Optimization History Plot\"},\"xaxis\":{\"title\":{\"text\":\"Trial\"}},\"yaxis\":{\"title\":{\"text\":\"Objective Value\"}},\"template\":{\"data\":{\"bar\":[{\"error_x\":{\"color\":\"#2a3f5f\"},\"error_y\":{\"color\":\"#2a3f5f\"},\"marker\":{\"line\":{\"color\":\"#E5ECF6\",\"width\":0.5},\"pattern\":{\"fillmode\":\"overlay\",\"size\":10,\"solidity\":0.2}},\"type\":\"bar\"}],\"barpolar\":[{\"marker\":{\"line\":{\"color\":\"#E5ECF6\",\"width\":0.5},\"pattern\":{\"fillmode\":\"overlay\",\"size\":10,\"solidity\":0.2}},\"type\":\"barpolar\"}],\"carpet\":[{\"aaxis\":{\"endlinecolor\":\"#2a3f5f\",\"gridcolor\":\"white\",\"linecolor\":\"white\",\"minorgridcolor\":\"white\",\"startlinecolor\":\"#2a3f5f\"},\"baxis\":{\"endlinecolor\":\"#2a3f5f\",\"gridcolor\":\"white\",\"linecolor\":\"white\",\"minorgridcolor\":\"white\",\"startlinecolor\":\"#2a3f5f\"},\"type\":\"carpet\"}],\"choropleth\":[{\"colorbar\":{\"outlinewidth\":0,\"ticks\":\"\"},\"type\":\"choropleth\"}],\"contour\":[{\"colorbar\":{\"outlinewidth\":0,\"ticks\":\"\"},\"colorscale\":[[0.0,\"#0d0887\"],[0.1111111111111111,\"#46039f\"],[0.2222222222222222,\"#7201a8\"],[0.3333333333333333,\"#9c179e\"],[0.4444444444444444,\"#bd3786\"],[0.5555555555555556,\"#d8576b\"],[0.6666666666666666,\"#ed7953\"],[0.7777777777777778,\"#fb9f3a\"],[0.8888888888888888,\"#fdca26\"],[1.0,\"#f0f921\"]],\"type\":\"contour\"}],\"contourcarpet\":[{\"colorbar\":{\"outlinewidth\":0,\"ticks\":\"\"},\"type\":\"contourcarpet\"}],\"heatmap\":[{\"colorbar\":{\"outlinewidth\":0,\"ticks\":\"\"},\"colorscale\":[[0.0,\"#0d0887\"],[0.1111111111111111,\"#46039f\"],[0.2222222222222222,\"#7201a8\"],[0.3333333333333333,\"#9c179e\"],[0.4444444444444444,\"#bd3786\"],[0.5555555555555556,\"#d8576b\"],[0.6666666666666666,\"#ed7953\"],[0.7777777777777778,\"#fb9f3a\"],[0.8888888888888888,\"#fdca26\"],[1.0,\"#f0f921\"]],\"type\":\"heatmap\"}],\"heatmapgl\":[{\"colorbar\":{\"outlinewidth\":0,\"ticks\":\"\"},\"colorscale\":[[0.0,\"#0d0887\"],[0.1111111111111111,\"#46039f\"],[0.2222222222222222,\"#7201a8\"],[0.3333333333333333,\"#9c179e\"],[0.4444444444444444,\"#bd3786\"],[0.5555555555555556,\"#d8576b\"],[0.6666666666666666,\"#ed7953\"],[0.7777777777777778,\"#fb9f3a\"],[0.8888888888888888,\"#fdca26\"],[1.0,\"#f0f921\"]],\"type\":\"heatmapgl\"}],\"histogram\":[{\"marker\":{\"pattern\":{\"fillmode\":\"overlay\",\"size\":10,\"solidity\":0.2}},\"type\":\"histogram\"}],\"histogram2d\":[{\"colorbar\":{\"outlinewidth\":0,\"ticks\":\"\"},\"colorscale\":[[0.0,\"#0d0887\"],[0.1111111111111111,\"#46039f\"],[0.2222222222222222,\"#7201a8\"],[0.3333333333333333,\"#9c179e\"],[0.4444444444444444,\"#bd3786\"],[0.5555555555555556,\"#d8576b\"],[0.6666666666666666,\"#ed7953\"],[0.7777777777777778,\"#fb9f3a\"],[0.8888888888888888,\"#fdca26\"],[1.0,\"#f0f921\"]],\"type\":\"histogram2d\"}],\"histogram2dcontour\":[{\"colorbar\":{\"outlinewidth\":0,\"ticks\":\"\"},\"colorscale\":[[0.0,\"#0d0887\"],[0.1111111111111111,\"#46039f\"],[0.2222222222222222,\"#7201a8\"],[0.3333333333333333,\"#9c179e\"],[0.4444444444444444,\"#bd3786\"],[0.5555555555555556,\"#d8576b\"],[0.6666666666666666,\"#ed7953\"],[0.7777777777777778,\"#fb9f3a\"],[0.8888888888888888,\"#fdca26\"],[1.0,\"#f0f921\"]],\"type\":\"histogram2dcontour\"}],\"mesh3d\":[{\"colorbar\":{\"outlinewidth\":0,\"ticks\":\"\"},\"type\":\"mesh3d\"}],\"parcoords\":[{\"line\":{\"colorbar\":{\"outlinewidth\":0,\"ticks\":\"\"}},\"type\":\"parcoords\"}],\"pie\":[{\"automargin\":true,\"type\":\"pie\"}],\"scatter\":[{\"marker\":{\"colorbar\":{\"outlinewidth\":0,\"ticks\":\"\"}},\"type\":\"scatter\"}],\"scatter3d\":[{\"line\":{\"colorbar\":{\"outlinewidth\":0,\"ticks\":\"\"}},\"marker\":{\"colorbar\":{\"outlinewidth\":0,\"ticks\":\"\"}},\"type\":\"scatter3d\"}],\"scattercarpet\":[{\"marker\":{\"colorbar\":{\"outlinewidth\":0,\"ticks\":\"\"}},\"type\":\"scattercarpet\"}],\"scattergeo\":[{\"marker\":{\"colorbar\":{\"outlinewidth\":0,\"ticks\":\"\"}},\"type\":\"scattergeo\"}],\"scattergl\":[{\"marker\":{\"colorbar\":{\"outlinewidth\":0,\"ticks\":\"\"}},\"type\":\"scattergl\"}],\"scattermapbox\":[{\"marker\":{\"colorbar\":{\"outlinewidth\":0,\"ticks\":\"\"}},\"type\":\"scattermapbox\"}],\"scatterpolar\":[{\"marker\":{\"colorbar\":{\"outlinewidth\":0,\"ticks\":\"\"}},\"type\":\"scatterpolar\"}],\"scatterpolargl\":[{\"marker\":{\"colorbar\":{\"outlinewidth\":0,\"ticks\":\"\"}},\"type\":\"scatterpolargl\"}],\"scatterternary\":[{\"marker\":{\"colorbar\":{\"outlinewidth\":0,\"ticks\":\"\"}},\"type\":\"scatterternary\"}],\"surface\":[{\"colorbar\":{\"outlinewidth\":0,\"ticks\":\"\"},\"colorscale\":[[0.0,\"#0d0887\"],[0.1111111111111111,\"#46039f\"],[0.2222222222222222,\"#7201a8\"],[0.3333333333333333,\"#9c179e\"],[0.4444444444444444,\"#bd3786\"],[0.5555555555555556,\"#d8576b\"],[0.6666666666666666,\"#ed7953\"],[0.7777777777777778,\"#fb9f3a\"],[0.8888888888888888,\"#fdca26\"],[1.0,\"#f0f921\"]],\"type\":\"surface\"}],\"table\":[{\"cells\":{\"fill\":{\"color\":\"#EBF0F8\"},\"line\":{\"color\":\"white\"}},\"header\":{\"fill\":{\"color\":\"#C8D4E3\"},\"line\":{\"color\":\"white\"}},\"type\":\"table\"}]},\"layout\":{\"annotationdefaults\":{\"arrowcolor\":\"#2a3f5f\",\"arrowhead\":0,\"arrowwidth\":1},\"autotypenumbers\":\"strict\",\"coloraxis\":{\"colorbar\":{\"outlinewidth\":0,\"ticks\":\"\"}},\"colorscale\":{\"diverging\":[[0,\"#8e0152\"],[0.1,\"#c51b7d\"],[0.2,\"#de77ae\"],[0.3,\"#f1b6da\"],[0.4,\"#fde0ef\"],[0.5,\"#f7f7f7\"],[0.6,\"#e6f5d0\"],[0.7,\"#b8e186\"],[0.8,\"#7fbc41\"],[0.9,\"#4d9221\"],[1,\"#276419\"]],\"sequential\":[[0.0,\"#0d0887\"],[0.1111111111111111,\"#46039f\"],[0.2222222222222222,\"#7201a8\"],[0.3333333333333333,\"#9c179e\"],[0.4444444444444444,\"#bd3786\"],[0.5555555555555556,\"#d8576b\"],[0.6666666666666666,\"#ed7953\"],[0.7777777777777778,\"#fb9f3a\"],[0.8888888888888888,\"#fdca26\"],[1.0,\"#f0f921\"]],\"sequentialminus\":[[0.0,\"#0d0887\"],[0.1111111111111111,\"#46039f\"],[0.2222222222222222,\"#7201a8\"],[0.3333333333333333,\"#9c179e\"],[0.4444444444444444,\"#bd3786\"],[0.5555555555555556,\"#d8576b\"],[0.6666666666666666,\"#ed7953\"],[0.7777777777777778,\"#fb9f3a\"],[0.8888888888888888,\"#fdca26\"],[1.0,\"#f0f921\"]]},\"colorway\":[\"#636efa\",\"#EF553B\",\"#00cc96\",\"#ab63fa\",\"#FFA15A\",\"#19d3f3\",\"#FF6692\",\"#B6E880\",\"#FF97FF\",\"#FECB52\"],\"font\":{\"color\":\"#2a3f5f\"},\"geo\":{\"bgcolor\":\"white\",\"lakecolor\":\"white\",\"landcolor\":\"#E5ECF6\",\"showlakes\":true,\"showland\":true,\"subunitcolor\":\"white\"},\"hoverlabel\":{\"align\":\"left\"},\"hovermode\":\"closest\",\"mapbox\":{\"style\":\"light\"},\"paper_bgcolor\":\"white\",\"plot_bgcolor\":\"#E5ECF6\",\"polar\":{\"angularaxis\":{\"gridcolor\":\"white\",\"linecolor\":\"white\",\"ticks\":\"\"},\"bgcolor\":\"#E5ECF6\",\"radialaxis\":{\"gridcolor\":\"white\",\"linecolor\":\"white\",\"ticks\":\"\"}},\"scene\":{\"xaxis\":{\"backgroundcolor\":\"#E5ECF6\",\"gridcolor\":\"white\",\"gridwidth\":2,\"linecolor\":\"white\",\"showbackground\":true,\"ticks\":\"\",\"zerolinecolor\":\"white\"},\"yaxis\":{\"backgroundcolor\":\"#E5ECF6\",\"gridcolor\":\"white\",\"gridwidth\":2,\"linecolor\":\"white\",\"showbackground\":true,\"ticks\":\"\",\"zerolinecolor\":\"white\"},\"zaxis\":{\"backgroundcolor\":\"#E5ECF6\",\"gridcolor\":\"white\",\"gridwidth\":2,\"linecolor\":\"white\",\"showbackground\":true,\"ticks\":\"\",\"zerolinecolor\":\"white\"}},\"shapedefaults\":{\"line\":{\"color\":\"#2a3f5f\"}},\"ternary\":{\"aaxis\":{\"gridcolor\":\"white\",\"linecolor\":\"white\",\"ticks\":\"\"},\"baxis\":{\"gridcolor\":\"white\",\"linecolor\":\"white\",\"ticks\":\"\"},\"bgcolor\":\"#E5ECF6\",\"caxis\":{\"gridcolor\":\"white\",\"linecolor\":\"white\",\"ticks\":\"\"}},\"title\":{\"x\":0.05},\"xaxis\":{\"automargin\":true,\"gridcolor\":\"white\",\"linecolor\":\"white\",\"ticks\":\"\",\"title\":{\"standoff\":15},\"zerolinecolor\":\"white\",\"zerolinewidth\":2},\"yaxis\":{\"automargin\":true,\"gridcolor\":\"white\",\"linecolor\":\"white\",\"ticks\":\"\",\"title\":{\"standoff\":15},\"zerolinecolor\":\"white\",\"zerolinewidth\":2}}}},                        {\"responsive\": true}                    ).then(function(){\n",
              "                            \n",
              "var gd = document.getElementById('15626a51-eb70-4dfe-960e-61afec2c94fa');\n",
              "var x = new MutationObserver(function (mutations, observer) {{\n",
              "        var display = window.getComputedStyle(gd).display;\n",
              "        if (!display || display === 'none') {{\n",
              "            console.log([gd, 'removed!']);\n",
              "            Plotly.purge(gd);\n",
              "            observer.disconnect();\n",
              "        }}\n",
              "}});\n",
              "\n",
              "// Listen for the removal of the full notebook cells\n",
              "var notebookContainer = gd.closest('#notebook-container');\n",
              "if (notebookContainer) {{\n",
              "    x.observe(notebookContainer, {childList: true});\n",
              "}}\n",
              "\n",
              "// Listen for the clearing of the current output cell\n",
              "var outputEl = gd.closest('.output');\n",
              "if (outputEl) {{\n",
              "    x.observe(outputEl, {childList: true});\n",
              "}}\n",
              "\n",
              "                        })                };                            </script>        </div>\n",
              "</body>\n",
              "</html>"
            ]
          },
          "metadata": {},
          "output_type": "display_data"
        }
      ],
      "source": [
        "optuna.visualization.plot_optimization_history(kNN_study)"
      ]
    },
    {
      "cell_type": "code",
      "execution_count": 186,
      "metadata": {
        "colab": {
          "base_uri": "https://localhost:8080/",
          "height": 542
        },
        "id": "pfcjOD_H1-uJ",
        "outputId": "967feeee-e3c0-410f-9464-4f6703767e8e"
      },
      "outputs": [
        {
          "data": {
            "text/html": [
              "<html>\n",
              "<head><meta charset=\"utf-8\" /></head>\n",
              "<body>\n",
              "    <div>            <script src=\"https://cdnjs.cloudflare.com/ajax/libs/mathjax/2.7.5/MathJax.js?config=TeX-AMS-MML_SVG\"></script><script type=\"text/javascript\">if (window.MathJax) {MathJax.Hub.Config({SVG: {font: \"STIX-Web\"}});}</script>                <script type=\"text/javascript\">window.PlotlyConfig = {MathJaxConfig: 'local'};</script>\n",
              "        <script src=\"https://cdn.plot.ly/plotly-2.8.3.min.js\"></script>                <div id=\"d3c61cea-0b60-4837-96b4-7178ec623101\" class=\"plotly-graph-div\" style=\"height:525px; width:100%;\"></div>            <script type=\"text/javascript\">                                    window.PLOTLYENV=window.PLOTLYENV || {};                                    if (document.getElementById(\"d3c61cea-0b60-4837-96b4-7178ec623101\")) {                    Plotly.newPlot(                        \"d3c61cea-0b60-4837-96b4-7178ec623101\",                        [{\"cliponaxis\":false,\"hovertemplate\":[\"metric (CategoricalDistribution): 0.02057556696210186<extra></extra>\",\"n_neighbors (IntDistribution): 0.043474782500744304<extra></extra>\",\"scalers (CategoricalDistribution): 0.06728477802206473<extra></extra>\",\"weights (CategoricalDistribution): 0.8686648725150892<extra></extra>\"],\"marker\":{\"color\":\"rgb(66,146,198)\"},\"orientation\":\"h\",\"text\":[\"0.02\",\"0.04\",\"0.07\",\"0.87\"],\"textposition\":\"outside\",\"x\":[0.02057556696210186,0.043474782500744304,0.06728477802206473,0.8686648725150892],\"y\":[\"metric\",\"n_neighbors\",\"scalers\",\"weights\"],\"type\":\"bar\"}],                        {\"showlegend\":false,\"title\":{\"text\":\"Hyperparameter Importances\"},\"xaxis\":{\"title\":{\"text\":\"Importance for Objective Value\"}},\"yaxis\":{\"title\":{\"text\":\"Hyperparameter\"}},\"template\":{\"data\":{\"bar\":[{\"error_x\":{\"color\":\"#2a3f5f\"},\"error_y\":{\"color\":\"#2a3f5f\"},\"marker\":{\"line\":{\"color\":\"#E5ECF6\",\"width\":0.5},\"pattern\":{\"fillmode\":\"overlay\",\"size\":10,\"solidity\":0.2}},\"type\":\"bar\"}],\"barpolar\":[{\"marker\":{\"line\":{\"color\":\"#E5ECF6\",\"width\":0.5},\"pattern\":{\"fillmode\":\"overlay\",\"size\":10,\"solidity\":0.2}},\"type\":\"barpolar\"}],\"carpet\":[{\"aaxis\":{\"endlinecolor\":\"#2a3f5f\",\"gridcolor\":\"white\",\"linecolor\":\"white\",\"minorgridcolor\":\"white\",\"startlinecolor\":\"#2a3f5f\"},\"baxis\":{\"endlinecolor\":\"#2a3f5f\",\"gridcolor\":\"white\",\"linecolor\":\"white\",\"minorgridcolor\":\"white\",\"startlinecolor\":\"#2a3f5f\"},\"type\":\"carpet\"}],\"choropleth\":[{\"colorbar\":{\"outlinewidth\":0,\"ticks\":\"\"},\"type\":\"choropleth\"}],\"contour\":[{\"colorbar\":{\"outlinewidth\":0,\"ticks\":\"\"},\"colorscale\":[[0.0,\"#0d0887\"],[0.1111111111111111,\"#46039f\"],[0.2222222222222222,\"#7201a8\"],[0.3333333333333333,\"#9c179e\"],[0.4444444444444444,\"#bd3786\"],[0.5555555555555556,\"#d8576b\"],[0.6666666666666666,\"#ed7953\"],[0.7777777777777778,\"#fb9f3a\"],[0.8888888888888888,\"#fdca26\"],[1.0,\"#f0f921\"]],\"type\":\"contour\"}],\"contourcarpet\":[{\"colorbar\":{\"outlinewidth\":0,\"ticks\":\"\"},\"type\":\"contourcarpet\"}],\"heatmap\":[{\"colorbar\":{\"outlinewidth\":0,\"ticks\":\"\"},\"colorscale\":[[0.0,\"#0d0887\"],[0.1111111111111111,\"#46039f\"],[0.2222222222222222,\"#7201a8\"],[0.3333333333333333,\"#9c179e\"],[0.4444444444444444,\"#bd3786\"],[0.5555555555555556,\"#d8576b\"],[0.6666666666666666,\"#ed7953\"],[0.7777777777777778,\"#fb9f3a\"],[0.8888888888888888,\"#fdca26\"],[1.0,\"#f0f921\"]],\"type\":\"heatmap\"}],\"heatmapgl\":[{\"colorbar\":{\"outlinewidth\":0,\"ticks\":\"\"},\"colorscale\":[[0.0,\"#0d0887\"],[0.1111111111111111,\"#46039f\"],[0.2222222222222222,\"#7201a8\"],[0.3333333333333333,\"#9c179e\"],[0.4444444444444444,\"#bd3786\"],[0.5555555555555556,\"#d8576b\"],[0.6666666666666666,\"#ed7953\"],[0.7777777777777778,\"#fb9f3a\"],[0.8888888888888888,\"#fdca26\"],[1.0,\"#f0f921\"]],\"type\":\"heatmapgl\"}],\"histogram\":[{\"marker\":{\"pattern\":{\"fillmode\":\"overlay\",\"size\":10,\"solidity\":0.2}},\"type\":\"histogram\"}],\"histogram2d\":[{\"colorbar\":{\"outlinewidth\":0,\"ticks\":\"\"},\"colorscale\":[[0.0,\"#0d0887\"],[0.1111111111111111,\"#46039f\"],[0.2222222222222222,\"#7201a8\"],[0.3333333333333333,\"#9c179e\"],[0.4444444444444444,\"#bd3786\"],[0.5555555555555556,\"#d8576b\"],[0.6666666666666666,\"#ed7953\"],[0.7777777777777778,\"#fb9f3a\"],[0.8888888888888888,\"#fdca26\"],[1.0,\"#f0f921\"]],\"type\":\"histogram2d\"}],\"histogram2dcontour\":[{\"colorbar\":{\"outlinewidth\":0,\"ticks\":\"\"},\"colorscale\":[[0.0,\"#0d0887\"],[0.1111111111111111,\"#46039f\"],[0.2222222222222222,\"#7201a8\"],[0.3333333333333333,\"#9c179e\"],[0.4444444444444444,\"#bd3786\"],[0.5555555555555556,\"#d8576b\"],[0.6666666666666666,\"#ed7953\"],[0.7777777777777778,\"#fb9f3a\"],[0.8888888888888888,\"#fdca26\"],[1.0,\"#f0f921\"]],\"type\":\"histogram2dcontour\"}],\"mesh3d\":[{\"colorbar\":{\"outlinewidth\":0,\"ticks\":\"\"},\"type\":\"mesh3d\"}],\"parcoords\":[{\"line\":{\"colorbar\":{\"outlinewidth\":0,\"ticks\":\"\"}},\"type\":\"parcoords\"}],\"pie\":[{\"automargin\":true,\"type\":\"pie\"}],\"scatter\":[{\"marker\":{\"colorbar\":{\"outlinewidth\":0,\"ticks\":\"\"}},\"type\":\"scatter\"}],\"scatter3d\":[{\"line\":{\"colorbar\":{\"outlinewidth\":0,\"ticks\":\"\"}},\"marker\":{\"colorbar\":{\"outlinewidth\":0,\"ticks\":\"\"}},\"type\":\"scatter3d\"}],\"scattercarpet\":[{\"marker\":{\"colorbar\":{\"outlinewidth\":0,\"ticks\":\"\"}},\"type\":\"scattercarpet\"}],\"scattergeo\":[{\"marker\":{\"colorbar\":{\"outlinewidth\":0,\"ticks\":\"\"}},\"type\":\"scattergeo\"}],\"scattergl\":[{\"marker\":{\"colorbar\":{\"outlinewidth\":0,\"ticks\":\"\"}},\"type\":\"scattergl\"}],\"scattermapbox\":[{\"marker\":{\"colorbar\":{\"outlinewidth\":0,\"ticks\":\"\"}},\"type\":\"scattermapbox\"}],\"scatterpolar\":[{\"marker\":{\"colorbar\":{\"outlinewidth\":0,\"ticks\":\"\"}},\"type\":\"scatterpolar\"}],\"scatterpolargl\":[{\"marker\":{\"colorbar\":{\"outlinewidth\":0,\"ticks\":\"\"}},\"type\":\"scatterpolargl\"}],\"scatterternary\":[{\"marker\":{\"colorbar\":{\"outlinewidth\":0,\"ticks\":\"\"}},\"type\":\"scatterternary\"}],\"surface\":[{\"colorbar\":{\"outlinewidth\":0,\"ticks\":\"\"},\"colorscale\":[[0.0,\"#0d0887\"],[0.1111111111111111,\"#46039f\"],[0.2222222222222222,\"#7201a8\"],[0.3333333333333333,\"#9c179e\"],[0.4444444444444444,\"#bd3786\"],[0.5555555555555556,\"#d8576b\"],[0.6666666666666666,\"#ed7953\"],[0.7777777777777778,\"#fb9f3a\"],[0.8888888888888888,\"#fdca26\"],[1.0,\"#f0f921\"]],\"type\":\"surface\"}],\"table\":[{\"cells\":{\"fill\":{\"color\":\"#EBF0F8\"},\"line\":{\"color\":\"white\"}},\"header\":{\"fill\":{\"color\":\"#C8D4E3\"},\"line\":{\"color\":\"white\"}},\"type\":\"table\"}]},\"layout\":{\"annotationdefaults\":{\"arrowcolor\":\"#2a3f5f\",\"arrowhead\":0,\"arrowwidth\":1},\"autotypenumbers\":\"strict\",\"coloraxis\":{\"colorbar\":{\"outlinewidth\":0,\"ticks\":\"\"}},\"colorscale\":{\"diverging\":[[0,\"#8e0152\"],[0.1,\"#c51b7d\"],[0.2,\"#de77ae\"],[0.3,\"#f1b6da\"],[0.4,\"#fde0ef\"],[0.5,\"#f7f7f7\"],[0.6,\"#e6f5d0\"],[0.7,\"#b8e186\"],[0.8,\"#7fbc41\"],[0.9,\"#4d9221\"],[1,\"#276419\"]],\"sequential\":[[0.0,\"#0d0887\"],[0.1111111111111111,\"#46039f\"],[0.2222222222222222,\"#7201a8\"],[0.3333333333333333,\"#9c179e\"],[0.4444444444444444,\"#bd3786\"],[0.5555555555555556,\"#d8576b\"],[0.6666666666666666,\"#ed7953\"],[0.7777777777777778,\"#fb9f3a\"],[0.8888888888888888,\"#fdca26\"],[1.0,\"#f0f921\"]],\"sequentialminus\":[[0.0,\"#0d0887\"],[0.1111111111111111,\"#46039f\"],[0.2222222222222222,\"#7201a8\"],[0.3333333333333333,\"#9c179e\"],[0.4444444444444444,\"#bd3786\"],[0.5555555555555556,\"#d8576b\"],[0.6666666666666666,\"#ed7953\"],[0.7777777777777778,\"#fb9f3a\"],[0.8888888888888888,\"#fdca26\"],[1.0,\"#f0f921\"]]},\"colorway\":[\"#636efa\",\"#EF553B\",\"#00cc96\",\"#ab63fa\",\"#FFA15A\",\"#19d3f3\",\"#FF6692\",\"#B6E880\",\"#FF97FF\",\"#FECB52\"],\"font\":{\"color\":\"#2a3f5f\"},\"geo\":{\"bgcolor\":\"white\",\"lakecolor\":\"white\",\"landcolor\":\"#E5ECF6\",\"showlakes\":true,\"showland\":true,\"subunitcolor\":\"white\"},\"hoverlabel\":{\"align\":\"left\"},\"hovermode\":\"closest\",\"mapbox\":{\"style\":\"light\"},\"paper_bgcolor\":\"white\",\"plot_bgcolor\":\"#E5ECF6\",\"polar\":{\"angularaxis\":{\"gridcolor\":\"white\",\"linecolor\":\"white\",\"ticks\":\"\"},\"bgcolor\":\"#E5ECF6\",\"radialaxis\":{\"gridcolor\":\"white\",\"linecolor\":\"white\",\"ticks\":\"\"}},\"scene\":{\"xaxis\":{\"backgroundcolor\":\"#E5ECF6\",\"gridcolor\":\"white\",\"gridwidth\":2,\"linecolor\":\"white\",\"showbackground\":true,\"ticks\":\"\",\"zerolinecolor\":\"white\"},\"yaxis\":{\"backgroundcolor\":\"#E5ECF6\",\"gridcolor\":\"white\",\"gridwidth\":2,\"linecolor\":\"white\",\"showbackground\":true,\"ticks\":\"\",\"zerolinecolor\":\"white\"},\"zaxis\":{\"backgroundcolor\":\"#E5ECF6\",\"gridcolor\":\"white\",\"gridwidth\":2,\"linecolor\":\"white\",\"showbackground\":true,\"ticks\":\"\",\"zerolinecolor\":\"white\"}},\"shapedefaults\":{\"line\":{\"color\":\"#2a3f5f\"}},\"ternary\":{\"aaxis\":{\"gridcolor\":\"white\",\"linecolor\":\"white\",\"ticks\":\"\"},\"baxis\":{\"gridcolor\":\"white\",\"linecolor\":\"white\",\"ticks\":\"\"},\"bgcolor\":\"#E5ECF6\",\"caxis\":{\"gridcolor\":\"white\",\"linecolor\":\"white\",\"ticks\":\"\"}},\"title\":{\"x\":0.05},\"xaxis\":{\"automargin\":true,\"gridcolor\":\"white\",\"linecolor\":\"white\",\"ticks\":\"\",\"title\":{\"standoff\":15},\"zerolinecolor\":\"white\",\"zerolinewidth\":2},\"yaxis\":{\"automargin\":true,\"gridcolor\":\"white\",\"linecolor\":\"white\",\"ticks\":\"\",\"title\":{\"standoff\":15},\"zerolinecolor\":\"white\",\"zerolinewidth\":2}}}},                        {\"responsive\": true}                    ).then(function(){\n",
              "                            \n",
              "var gd = document.getElementById('d3c61cea-0b60-4837-96b4-7178ec623101');\n",
              "var x = new MutationObserver(function (mutations, observer) {{\n",
              "        var display = window.getComputedStyle(gd).display;\n",
              "        if (!display || display === 'none') {{\n",
              "            console.log([gd, 'removed!']);\n",
              "            Plotly.purge(gd);\n",
              "            observer.disconnect();\n",
              "        }}\n",
              "}});\n",
              "\n",
              "// Listen for the removal of the full notebook cells\n",
              "var notebookContainer = gd.closest('#notebook-container');\n",
              "if (notebookContainer) {{\n",
              "    x.observe(notebookContainer, {childList: true});\n",
              "}}\n",
              "\n",
              "// Listen for the clearing of the current output cell\n",
              "var outputEl = gd.closest('.output');\n",
              "if (outputEl) {{\n",
              "    x.observe(outputEl, {childList: true});\n",
              "}}\n",
              "\n",
              "                        })                };                            </script>        </div>\n",
              "</body>\n",
              "</html>"
            ]
          },
          "metadata": {},
          "output_type": "display_data"
        }
      ],
      "source": [
        "optuna.visualization.plot_param_importances(kNN_study)"
      ]
    },
    {
      "cell_type": "markdown",
      "metadata": {
        "id": "UBECKDrTPnTy"
      },
      "source": [
        "Διαπιστώνουμε ότι οι παρακάτω παράμετροι είναι οι βέλτιστες στο training set όταν εκπαιδεύουμε βάσει του accuracy."
      ]
    },
    {
      "cell_type": "code",
      "execution_count": 187,
      "metadata": {
        "colab": {
          "base_uri": "https://localhost:8080/"
        },
        "id": "erD38Si02Fe1",
        "outputId": "91bceba2-50c6-43dc-85e6-a6273f36ce7e"
      },
      "outputs": [
        {
          "name": "stdout",
          "output_type": "stream",
          "text": [
            "Best parameters after tuning using mean accuracy:\n"
          ]
        },
        {
          "data": {
            "text/plain": [
              "{'scalers': 'standard',\n",
              " 'n_neighbors': 11,\n",
              " 'weights': 'distance',\n",
              " 'metric': 'manhattan'}"
            ]
          },
          "execution_count": 187,
          "metadata": {},
          "output_type": "execute_result"
        }
      ],
      "source": [
        "print(\"Best parameters after tuning using mean accuracy:\")\n",
        "kNN_study.best_params"
      ]
    },
    {
      "cell_type": "markdown",
      "metadata": {
        "id": "sZIWazwcP0Sn"
      },
      "source": [
        "Θα χρησιμοποιήσουμε στη συνέχεια τις παραπάνω παραμέτρους για να υπολογίσουμε τα accuracy και f1-macro στο test set."
      ]
    },
    {
      "cell_type": "code",
      "execution_count": 188,
      "metadata": {
        "colab": {
          "base_uri": "https://localhost:8080/"
        },
        "id": "e4HdzAI49ND1",
        "outputId": "aa0747bf-f95b-4a03-97a9-da64b47da2f1"
      },
      "outputs": [
        {
          "name": "stdout",
          "output_type": "stream",
          "text": [
            "Συνολικός χρόνος train και test: 0.0587766170501709 seconds\n",
            "Training Set:\n",
            "kNN accuracy:  0.8333333333333334\n",
            "kNN f1:  0.832293956043956\n",
            "\n",
            "Testing set:\n",
            "kNN accuracy:  0.92\n",
            "kNN f1 macro:  0.9178981937602627\n",
            "\n",
            "kNN Classification Report:\n",
            "              precision    recall  f1-score   support\n",
            "\n",
            "         0.0       0.90      0.90      0.90        21\n",
            "         1.0       0.93      0.93      0.93        29\n",
            "\n",
            "    accuracy                           0.92        50\n",
            "   macro avg       0.92      0.92      0.92        50\n",
            "weighted avg       0.92      0.92      0.92        50\n",
            "\n",
            "\n"
          ]
        }
      ],
      "source": [
        "from sklearn.model_selection import StratifiedKFold\n",
        "best_params = kNN_study.best_params\n",
        "\n",
        "if best_params['scalers'] == \"minmax\":\n",
        "  opt_scaler = MinMaxScaler()\n",
        "elif best_params['scalers'] == \"standard\":\n",
        "  opt_scaler = StandardScaler()\n",
        "else:\n",
        "  opt_scaler = RobustScaler()\n",
        "\n",
        "del best_params['scalers']\n",
        "\n",
        "# Creation of knn classifier with optimized parameters\n",
        "kNN_clf_opt = neighbors.KNeighborsClassifier(**best_params)\n",
        "kNN_pipeline = make_pipeline(opt_scaler, kNN_clf_opt)\n",
        "\n",
        "# Kαταγραφή χρόνου train και test\n",
        "start_time = time.time()\n",
        "\n",
        "# Model training \n",
        "strtfdKFold = StratifiedKFold(n_splits=10)\n",
        "kNN_pipeline.fit(x_train, y_train)\n",
        "kNN_scores_acc = cross_val_score(kNN_pipeline, x_train, y_train, scoring='accuracy' ,cv = strtfdKFold, n_jobs=1)\n",
        "kNN_f1_macro_acc = cross_val_score(kNN_pipeline, x_train, y_train, scoring='f1_macro', cv = strtfdKFold, n_jobs=1)\n",
        "\n",
        "# Time's up\n",
        "print(\"Συνολικός χρόνος train και test: %s seconds\" % (time.time() - start_time))\n",
        "\n",
        "print(\"Training Set:\")\n",
        "print(\"kNN accuracy: \", kNN_scores_acc.mean())\n",
        "print(\"kNN f1: \", kNN_f1_macro_acc.mean())\n",
        "\n",
        "kNN_acc_acc = kNN_pipeline.score(x_test, y_test)\n",
        "kNN_preds_acc = kNN_pipeline.predict(x_test)\n",
        "knn_f1_acc = f1_score(y_test, kNN_preds_acc, average='macro')\n",
        "\n",
        "print(\"\\nTesting set:\")\n",
        "print(\"kNN accuracy: \", kNN_acc_acc)\n",
        "print(\"kNN f1 macro: \", knn_f1_acc)\n",
        "print('\\nkNN Classification Report:\\n' + classification_report(y_test, kNN_preds_acc)+'\\n')"
      ]
    },
    {
      "cell_type": "markdown",
      "metadata": {
        "id": "z61GzShKzBdZ"
      },
      "source": [
        "**Βελτιστοποίηση βάσει του f1-macro score.**"
      ]
    },
    {
      "cell_type": "code",
      "execution_count": 189,
      "metadata": {
        "id": "GfhZbG2WhTq5"
      },
      "outputs": [],
      "source": [
        "def kNN_objective(trial):\n",
        "\n",
        "  #Hyperparameters setting\n",
        "  scalers = trial.suggest_categorical(\"scalers\", ['minmax', 'standard', 'robust'])\n",
        "\n",
        "  if scalers == \"minmax\":\n",
        "        scaler = MinMaxScaler()\n",
        "  elif scalers == \"standard\":\n",
        "        scaler = StandardScaler()\n",
        "  else:\n",
        "        scaler = RobustScaler()\n",
        "\n",
        "  n_neighbors = trial.suggest_int('n_neighbors', 1, 30)\n",
        "  weights = trial.suggest_categorical('weights', ['uniform', 'distance'])\n",
        "  metric = trial.suggest_categorical(\"metric\", ['euclidean', 'manhattan', 'minkowski'])\n",
        "  # leaf_size = trial.suggest_int('leaf_size', 1, 30)\n",
        "\n",
        "  #Pipeline Creation for data scaling and classification\n",
        "  knn = neighbors.KNeighborsClassifier(n_neighbors=n_neighbors, \n",
        "                                       weights=weights, \n",
        "                                       metric=metric)\n",
        "  # Normalization + Model Creation\n",
        "  pipeline = make_pipeline(scaler, knn)\n",
        "\n",
        "  #Model training with cv\n",
        "  score = cross_val_score(pipeline, x_train, y_train, scoring='f1_macro', cv=10, n_jobs=1)\n",
        "  score = score.mean()\n",
        "  return score"
      ]
    },
    {
      "cell_type": "code",
      "execution_count": 190,
      "metadata": {
        "colab": {
          "base_uri": "https://localhost:8080/"
        },
        "id": "NjOjF8FgzHNS",
        "outputId": "f546116e-32b2-41c6-9077-f2485e05dbdb"
      },
      "outputs": [
        {
          "name": "stderr",
          "output_type": "stream",
          "text": [
            "\u001b[32m[I 2022-11-27 10:25:58,517]\u001b[0m A new study created in memory with name: no-name-9e3daeb0-9ea1-4c01-8ecb-58381a2694d2\u001b[0m\n",
            "\u001b[32m[I 2022-11-27 10:25:58,560]\u001b[0m Trial 0 finished with value: 0.660348255975191 and parameters: {'scalers': 'standard', 'n_neighbors': 18, 'weights': 'uniform', 'metric': 'manhattan'}. Best is trial 0 with value: 0.660348255975191.\u001b[0m\n",
            "\u001b[32m[I 2022-11-27 10:25:58,634]\u001b[0m Trial 1 finished with value: 0.524051807325801 and parameters: {'scalers': 'robust', 'n_neighbors': 25, 'weights': 'uniform', 'metric': 'minkowski'}. Best is trial 0 with value: 0.660348255975191.\u001b[0m\n",
            "\u001b[32m[I 2022-11-27 10:25:58,692]\u001b[0m Trial 2 finished with value: 0.7557441904500728 and parameters: {'scalers': 'robust', 'n_neighbors': 5, 'weights': 'distance', 'metric': 'manhattan'}. Best is trial 2 with value: 0.7557441904500728.\u001b[0m\n",
            "\u001b[32m[I 2022-11-27 10:25:58,736]\u001b[0m Trial 3 finished with value: 0.6150520652378237 and parameters: {'scalers': 'standard', 'n_neighbors': 19, 'weights': 'uniform', 'metric': 'manhattan'}. Best is trial 2 with value: 0.7557441904500728.\u001b[0m\n",
            "\u001b[32m[I 2022-11-27 10:25:58,795]\u001b[0m Trial 4 finished with value: 0.7879598600573832 and parameters: {'scalers': 'robust', 'n_neighbors': 14, 'weights': 'distance', 'metric': 'manhattan'}. Best is trial 4 with value: 0.7879598600573832.\u001b[0m\n",
            "\u001b[32m[I 2022-11-27 10:25:58,827]\u001b[0m Trial 5 finished with value: 0.8163596207713855 and parameters: {'scalers': 'minmax', 'n_neighbors': 17, 'weights': 'distance', 'metric': 'manhattan'}. Best is trial 5 with value: 0.8163596207713855.\u001b[0m\n",
            "\u001b[32m[I 2022-11-27 10:25:58,862]\u001b[0m Trial 6 finished with value: 0.7518192918192919 and parameters: {'scalers': 'standard', 'n_neighbors': 6, 'weights': 'distance', 'metric': 'minkowski'}. Best is trial 5 with value: 0.8163596207713855.\u001b[0m\n",
            "\u001b[32m[I 2022-11-27 10:25:58,933]\u001b[0m Trial 7 finished with value: 0.7032097069597069 and parameters: {'scalers': 'robust', 'n_neighbors': 5, 'weights': 'uniform', 'metric': 'euclidean'}. Best is trial 5 with value: 0.8163596207713855.\u001b[0m\n",
            "\u001b[32m[I 2022-11-27 10:25:58,979]\u001b[0m Trial 8 finished with value: 0.6912083259877376 and parameters: {'scalers': 'standard', 'n_neighbors': 22, 'weights': 'uniform', 'metric': 'minkowski'}. Best is trial 5 with value: 0.8163596207713855.\u001b[0m\n",
            "\u001b[32m[I 2022-11-27 10:25:59,018]\u001b[0m Trial 9 finished with value: 0.7788958916900094 and parameters: {'scalers': 'minmax', 'n_neighbors': 10, 'weights': 'distance', 'metric': 'manhattan'}. Best is trial 5 with value: 0.8163596207713855.\u001b[0m\n",
            "\u001b[32m[I 2022-11-27 10:25:59,065]\u001b[0m Trial 10 finished with value: 0.7793303755068461 and parameters: {'scalers': 'minmax', 'n_neighbors': 26, 'weights': 'distance', 'metric': 'euclidean'}. Best is trial 5 with value: 0.8163596207713855.\u001b[0m\n",
            "\u001b[32m[I 2022-11-27 10:25:59,108]\u001b[0m Trial 11 finished with value: 0.7885749054866702 and parameters: {'scalers': 'minmax', 'n_neighbors': 12, 'weights': 'distance', 'metric': 'manhattan'}. Best is trial 5 with value: 0.8163596207713855.\u001b[0m\n",
            "\u001b[32m[I 2022-11-27 10:25:59,151]\u001b[0m Trial 12 finished with value: 0.7864117826617827 and parameters: {'scalers': 'minmax', 'n_neighbors': 13, 'weights': 'distance', 'metric': 'manhattan'}. Best is trial 5 with value: 0.8163596207713855.\u001b[0m\n",
            "\u001b[32m[I 2022-11-27 10:25:59,192]\u001b[0m Trial 13 finished with value: 0.7788958916900094 and parameters: {'scalers': 'minmax', 'n_neighbors': 10, 'weights': 'distance', 'metric': 'manhattan'}. Best is trial 5 with value: 0.8163596207713855.\u001b[0m\n",
            "\u001b[32m[I 2022-11-27 10:25:59,233]\u001b[0m Trial 14 finished with value: 0.7984205023562608 and parameters: {'scalers': 'minmax', 'n_neighbors': 30, 'weights': 'distance', 'metric': 'manhattan'}. Best is trial 5 with value: 0.8163596207713855.\u001b[0m\n",
            "\u001b[32m[I 2022-11-27 10:25:59,275]\u001b[0m Trial 15 finished with value: 0.785785684903332 and parameters: {'scalers': 'minmax', 'n_neighbors': 30, 'weights': 'distance', 'metric': 'euclidean'}. Best is trial 5 with value: 0.8163596207713855.\u001b[0m\n",
            "\u001b[32m[I 2022-11-27 10:25:59,315]\u001b[0m Trial 16 finished with value: 0.7984205023562608 and parameters: {'scalers': 'minmax', 'n_neighbors': 30, 'weights': 'distance', 'metric': 'manhattan'}. Best is trial 5 with value: 0.8163596207713855.\u001b[0m\n",
            "\u001b[32m[I 2022-11-27 10:25:59,355]\u001b[0m Trial 17 finished with value: 0.7606758192787605 and parameters: {'scalers': 'minmax', 'n_neighbors': 1, 'weights': 'distance', 'metric': 'manhattan'}. Best is trial 5 with value: 0.8163596207713855.\u001b[0m\n",
            "\u001b[32m[I 2022-11-27 10:25:59,396]\u001b[0m Trial 18 finished with value: 0.8022836966954614 and parameters: {'scalers': 'minmax', 'n_neighbors': 18, 'weights': 'distance', 'metric': 'euclidean'}. Best is trial 5 with value: 0.8163596207713855.\u001b[0m\n",
            "\u001b[32m[I 2022-11-27 10:25:59,435]\u001b[0m Trial 19 finished with value: 0.8093899238016885 and parameters: {'scalers': 'minmax', 'n_neighbors': 19, 'weights': 'distance', 'metric': 'euclidean'}. Best is trial 5 with value: 0.8163596207713855.\u001b[0m\n",
            "\u001b[32m[I 2022-11-27 10:25:59,477]\u001b[0m Trial 20 finished with value: 0.7791485720162191 and parameters: {'scalers': 'minmax', 'n_neighbors': 22, 'weights': 'distance', 'metric': 'euclidean'}. Best is trial 5 with value: 0.8163596207713855.\u001b[0m\n",
            "\u001b[32m[I 2022-11-27 10:25:59,521]\u001b[0m Trial 21 finished with value: 0.8022836966954614 and parameters: {'scalers': 'minmax', 'n_neighbors': 18, 'weights': 'distance', 'metric': 'euclidean'}. Best is trial 5 with value: 0.8163596207713855.\u001b[0m\n",
            "\u001b[32m[I 2022-11-27 10:25:59,565]\u001b[0m Trial 22 finished with value: 0.815776184599714 and parameters: {'scalers': 'minmax', 'n_neighbors': 16, 'weights': 'distance', 'metric': 'euclidean'}. Best is trial 5 with value: 0.8163596207713855.\u001b[0m\n",
            "\u001b[32m[I 2022-11-27 10:25:59,605]\u001b[0m Trial 23 finished with value: 0.815776184599714 and parameters: {'scalers': 'minmax', 'n_neighbors': 16, 'weights': 'distance', 'metric': 'euclidean'}. Best is trial 5 with value: 0.8163596207713855.\u001b[0m\n",
            "\u001b[32m[I 2022-11-27 10:25:59,644]\u001b[0m Trial 24 finished with value: 0.815776184599714 and parameters: {'scalers': 'minmax', 'n_neighbors': 15, 'weights': 'distance', 'metric': 'euclidean'}. Best is trial 5 with value: 0.8163596207713855.\u001b[0m\n",
            "\u001b[32m[I 2022-11-27 10:25:59,682]\u001b[0m Trial 25 finished with value: 0.815776184599714 and parameters: {'scalers': 'minmax', 'n_neighbors': 15, 'weights': 'distance', 'metric': 'euclidean'}. Best is trial 5 with value: 0.8163596207713855.\u001b[0m\n",
            "\u001b[32m[I 2022-11-27 10:25:59,731]\u001b[0m Trial 26 finished with value: 0.6668712986360045 and parameters: {'scalers': 'minmax', 'n_neighbors': 22, 'weights': 'uniform', 'metric': 'euclidean'}. Best is trial 5 with value: 0.8163596207713855.\u001b[0m\n",
            "\u001b[32m[I 2022-11-27 10:25:59,774]\u001b[0m Trial 27 finished with value: 0.7853783063341887 and parameters: {'scalers': 'minmax', 'n_neighbors': 10, 'weights': 'distance', 'metric': 'minkowski'}. Best is trial 5 with value: 0.8163596207713855.\u001b[0m\n",
            "\u001b[32m[I 2022-11-27 10:25:59,814]\u001b[0m Trial 28 finished with value: 0.795145418307183 and parameters: {'scalers': 'standard', 'n_neighbors': 15, 'weights': 'distance', 'metric': 'euclidean'}. Best is trial 5 with value: 0.8163596207713855.\u001b[0m\n",
            "\u001b[32m[I 2022-11-27 10:25:59,883]\u001b[0m Trial 29 finished with value: 0.5537839611369023 and parameters: {'scalers': 'robust', 'n_neighbors': 11, 'weights': 'uniform', 'metric': 'euclidean'}. Best is trial 5 with value: 0.8163596207713855.\u001b[0m\n",
            "\u001b[32m[I 2022-11-27 10:25:59,925]\u001b[0m Trial 30 finished with value: 0.7939274695892342 and parameters: {'scalers': 'standard', 'n_neighbors': 17, 'weights': 'distance', 'metric': 'minkowski'}. Best is trial 5 with value: 0.8163596207713855.\u001b[0m\n",
            "\u001b[32m[I 2022-11-27 10:25:59,966]\u001b[0m Trial 31 finished with value: 0.815776184599714 and parameters: {'scalers': 'minmax', 'n_neighbors': 15, 'weights': 'distance', 'metric': 'euclidean'}. Best is trial 5 with value: 0.8163596207713855.\u001b[0m\n",
            "\u001b[32m[I 2022-11-27 10:26:00,005]\u001b[0m Trial 32 finished with value: 0.7797521187962364 and parameters: {'scalers': 'minmax', 'n_neighbors': 8, 'weights': 'distance', 'metric': 'euclidean'}. Best is trial 5 with value: 0.8163596207713855.\u001b[0m\n",
            "\u001b[32m[I 2022-11-27 10:26:00,045]\u001b[0m Trial 33 finished with value: 0.8017617186734833 and parameters: {'scalers': 'minmax', 'n_neighbors': 20, 'weights': 'distance', 'metric': 'euclidean'}. Best is trial 5 with value: 0.8163596207713855.\u001b[0m\n",
            "\u001b[32m[I 2022-11-27 10:26:00,113]\u001b[0m Trial 34 finished with value: 0.5976643862673274 and parameters: {'scalers': 'robust', 'n_neighbors': 14, 'weights': 'uniform', 'metric': 'euclidean'}. Best is trial 5 with value: 0.8163596207713855.\u001b[0m\n",
            "\u001b[32m[I 2022-11-27 10:26:00,152]\u001b[0m Trial 35 finished with value: 0.7932670270905565 and parameters: {'scalers': 'minmax', 'n_neighbors': 13, 'weights': 'distance', 'metric': 'euclidean'}. Best is trial 5 with value: 0.8163596207713855.\u001b[0m\n",
            "\u001b[32m[I 2022-11-27 10:26:00,191]\u001b[0m Trial 36 finished with value: 0.8017617186734833 and parameters: {'scalers': 'minmax', 'n_neighbors': 20, 'weights': 'distance', 'metric': 'minkowski'}. Best is trial 5 with value: 0.8163596207713855.\u001b[0m\n",
            "\u001b[32m[I 2022-11-27 10:26:00,254]\u001b[0m Trial 37 finished with value: 0.7819806663924311 and parameters: {'scalers': 'robust', 'n_neighbors': 15, 'weights': 'distance', 'metric': 'euclidean'}. Best is trial 5 with value: 0.8163596207713855.\u001b[0m\n",
            "\u001b[32m[I 2022-11-27 10:26:00,298]\u001b[0m Trial 38 finished with value: 0.6513252528345408 and parameters: {'scalers': 'standard', 'n_neighbors': 17, 'weights': 'uniform', 'metric': 'manhattan'}. Best is trial 5 with value: 0.8163596207713855.\u001b[0m\n",
            "\u001b[32m[I 2022-11-27 10:26:00,337]\u001b[0m Trial 39 finished with value: 0.7793303755068461 and parameters: {'scalers': 'minmax', 'n_neighbors': 26, 'weights': 'distance', 'metric': 'euclidean'}. Best is trial 5 with value: 0.8163596207713855.\u001b[0m\n",
            "\u001b[32m[I 2022-11-27 10:26:00,405]\u001b[0m Trial 40 finished with value: 0.5754850962590901 and parameters: {'scalers': 'robust', 'n_neighbors': 16, 'weights': 'uniform', 'metric': 'minkowski'}. Best is trial 5 with value: 0.8163596207713855.\u001b[0m\n",
            "\u001b[32m[I 2022-11-27 10:26:00,446]\u001b[0m Trial 41 finished with value: 0.7932670270905565 and parameters: {'scalers': 'minmax', 'n_neighbors': 14, 'weights': 'distance', 'metric': 'euclidean'}. Best is trial 5 with value: 0.8163596207713855.\u001b[0m\n",
            "\u001b[32m[I 2022-11-27 10:26:00,484]\u001b[0m Trial 42 finished with value: 0.815776184599714 and parameters: {'scalers': 'minmax', 'n_neighbors': 16, 'weights': 'distance', 'metric': 'euclidean'}. Best is trial 5 with value: 0.8163596207713855.\u001b[0m\n",
            "\u001b[32m[I 2022-11-27 10:26:00,523]\u001b[0m Trial 43 finished with value: 0.7797521187962364 and parameters: {'scalers': 'minmax', 'n_neighbors': 8, 'weights': 'distance', 'metric': 'euclidean'}. Best is trial 5 with value: 0.8163596207713855.\u001b[0m\n",
            "\u001b[32m[I 2022-11-27 10:26:00,564]\u001b[0m Trial 44 finished with value: 0.8017617186734833 and parameters: {'scalers': 'minmax', 'n_neighbors': 20, 'weights': 'distance', 'metric': 'euclidean'}. Best is trial 5 with value: 0.8163596207713855.\u001b[0m\n",
            "\u001b[32m[I 2022-11-27 10:26:00,602]\u001b[0m Trial 45 finished with value: 0.7864117826617827 and parameters: {'scalers': 'minmax', 'n_neighbors': 13, 'weights': 'distance', 'metric': 'manhattan'}. Best is trial 5 with value: 0.8163596207713855.\u001b[0m\n",
            "\u001b[32m[I 2022-11-27 10:26:00,642]\u001b[0m Trial 46 finished with value: 0.7939274695892342 and parameters: {'scalers': 'standard', 'n_neighbors': 17, 'weights': 'distance', 'metric': 'euclidean'}. Best is trial 5 with value: 0.8163596207713855.\u001b[0m\n",
            "\u001b[32m[I 2022-11-27 10:26:00,681]\u001b[0m Trial 47 finished with value: 0.8023824786324786 and parameters: {'scalers': 'minmax', 'n_neighbors': 23, 'weights': 'distance', 'metric': 'manhattan'}. Best is trial 5 with value: 0.8163596207713855.\u001b[0m\n",
            "\u001b[32m[I 2022-11-27 10:26:00,718]\u001b[0m Trial 48 finished with value: 0.7932670270905565 and parameters: {'scalers': 'minmax', 'n_neighbors': 11, 'weights': 'distance', 'metric': 'euclidean'}. Best is trial 5 with value: 0.8163596207713855.\u001b[0m\n",
            "\u001b[32m[I 2022-11-27 10:26:00,768]\u001b[0m Trial 49 finished with value: 0.8171886446886447 and parameters: {'scalers': 'minmax', 'n_neighbors': 16, 'weights': 'distance', 'metric': 'manhattan'}. Best is trial 49 with value: 0.8171886446886447.\u001b[0m\n",
            "\u001b[32m[I 2022-11-27 10:26:00,808]\u001b[0m Trial 50 finished with value: 0.8019154456654455 and parameters: {'scalers': 'minmax', 'n_neighbors': 19, 'weights': 'distance', 'metric': 'manhattan'}. Best is trial 49 with value: 0.8171886446886447.\u001b[0m\n",
            "\u001b[32m[I 2022-11-27 10:26:00,847]\u001b[0m Trial 51 finished with value: 0.8168910256410257 and parameters: {'scalers': 'minmax', 'n_neighbors': 15, 'weights': 'distance', 'metric': 'manhattan'}. Best is trial 49 with value: 0.8171886446886447.\u001b[0m\n",
            "\u001b[32m[I 2022-11-27 10:26:00,885]\u001b[0m Trial 52 finished with value: 0.8089557746175394 and parameters: {'scalers': 'minmax', 'n_neighbors': 18, 'weights': 'distance', 'metric': 'manhattan'}. Best is trial 49 with value: 0.8171886446886447.\u001b[0m\n",
            "\u001b[32m[I 2022-11-27 10:26:00,922]\u001b[0m Trial 53 finished with value: 0.8171886446886447 and parameters: {'scalers': 'minmax', 'n_neighbors': 16, 'weights': 'distance', 'metric': 'manhattan'}. Best is trial 49 with value: 0.8171886446886447.\u001b[0m\n",
            "\u001b[32m[I 2022-11-27 10:26:00,962]\u001b[0m Trial 54 finished with value: 0.7864117826617827 and parameters: {'scalers': 'minmax', 'n_neighbors': 13, 'weights': 'distance', 'metric': 'manhattan'}. Best is trial 49 with value: 0.8171886446886447.\u001b[0m\n",
            "\u001b[32m[I 2022-11-27 10:26:01,001]\u001b[0m Trial 55 finished with value: 0.7885749054866702 and parameters: {'scalers': 'minmax', 'n_neighbors': 12, 'weights': 'distance', 'metric': 'manhattan'}. Best is trial 49 with value: 0.8171886446886447.\u001b[0m\n",
            "\u001b[32m[I 2022-11-27 10:26:01,040]\u001b[0m Trial 56 finished with value: 0.8163596207713855 and parameters: {'scalers': 'minmax', 'n_neighbors': 17, 'weights': 'distance', 'metric': 'manhattan'}. Best is trial 49 with value: 0.8171886446886447.\u001b[0m\n",
            "\u001b[32m[I 2022-11-27 10:26:01,079]\u001b[0m Trial 57 finished with value: 0.7875507907125554 and parameters: {'scalers': 'minmax', 'n_neighbors': 21, 'weights': 'distance', 'metric': 'manhattan'}. Best is trial 49 with value: 0.8171886446886447.\u001b[0m\n",
            "\u001b[32m[I 2022-11-27 10:26:01,117]\u001b[0m Trial 58 finished with value: 0.8163596207713855 and parameters: {'scalers': 'minmax', 'n_neighbors': 17, 'weights': 'distance', 'metric': 'manhattan'}. Best is trial 49 with value: 0.8171886446886447.\u001b[0m\n",
            "\u001b[32m[I 2022-11-27 10:26:01,184]\u001b[0m Trial 59 finished with value: 0.5666665021425084 and parameters: {'scalers': 'robust', 'n_neighbors': 18, 'weights': 'uniform', 'metric': 'manhattan'}. Best is trial 49 with value: 0.8171886446886447.\u001b[0m\n",
            "\u001b[32m[I 2022-11-27 10:26:01,222]\u001b[0m Trial 60 finished with value: 0.8088705738705737 and parameters: {'scalers': 'minmax', 'n_neighbors': 24, 'weights': 'distance', 'metric': 'manhattan'}. Best is trial 49 with value: 0.8171886446886447.\u001b[0m\n",
            "\u001b[32m[I 2022-11-27 10:26:01,261]\u001b[0m Trial 61 finished with value: 0.8163596207713855 and parameters: {'scalers': 'minmax', 'n_neighbors': 17, 'weights': 'distance', 'metric': 'manhattan'}. Best is trial 49 with value: 0.8171886446886447.\u001b[0m\n",
            "\u001b[32m[I 2022-11-27 10:26:01,300]\u001b[0m Trial 62 finished with value: 0.8163596207713855 and parameters: {'scalers': 'minmax', 'n_neighbors': 17, 'weights': 'distance', 'metric': 'manhattan'}. Best is trial 49 with value: 0.8171886446886447.\u001b[0m\n",
            "\u001b[32m[I 2022-11-27 10:26:01,340]\u001b[0m Trial 63 finished with value: 0.8019154456654455 and parameters: {'scalers': 'minmax', 'n_neighbors': 19, 'weights': 'distance', 'metric': 'manhattan'}. Best is trial 49 with value: 0.8171886446886447.\u001b[0m\n",
            "\u001b[32m[I 2022-11-27 10:26:01,380]\u001b[0m Trial 64 finished with value: 0.7873227507786331 and parameters: {'scalers': 'minmax', 'n_neighbors': 14, 'weights': 'distance', 'metric': 'manhattan'}. Best is trial 49 with value: 0.8171886446886447.\u001b[0m\n",
            "\u001b[32m[I 2022-11-27 10:26:01,419]\u001b[0m Trial 65 finished with value: 0.8019154456654455 and parameters: {'scalers': 'minmax', 'n_neighbors': 19, 'weights': 'distance', 'metric': 'manhattan'}. Best is trial 49 with value: 0.8171886446886447.\u001b[0m\n",
            "\u001b[32m[I 2022-11-27 10:26:01,460]\u001b[0m Trial 66 finished with value: 0.8091681929181929 and parameters: {'scalers': 'standard', 'n_neighbors': 17, 'weights': 'distance', 'metric': 'manhattan'}. Best is trial 49 with value: 0.8171886446886447.\u001b[0m\n",
            "\u001b[32m[I 2022-11-27 10:26:01,498]\u001b[0m Trial 67 finished with value: 0.7606758192787605 and parameters: {'scalers': 'minmax', 'n_neighbors': 1, 'weights': 'distance', 'metric': 'manhattan'}. Best is trial 49 with value: 0.8171886446886447.\u001b[0m\n",
            "\u001b[32m[I 2022-11-27 10:26:01,537]\u001b[0m Trial 68 finished with value: 0.8171886446886447 and parameters: {'scalers': 'minmax', 'n_neighbors': 16, 'weights': 'distance', 'metric': 'manhattan'}. Best is trial 49 with value: 0.8171886446886447.\u001b[0m\n",
            "\u001b[32m[I 2022-11-27 10:26:01,578]\u001b[0m Trial 69 finished with value: 0.7885749054866702 and parameters: {'scalers': 'minmax', 'n_neighbors': 12, 'weights': 'distance', 'metric': 'manhattan'}. Best is trial 49 with value: 0.8171886446886447.\u001b[0m\n",
            "\u001b[32m[I 2022-11-27 10:26:01,619]\u001b[0m Trial 70 finished with value: 0.7873227507786331 and parameters: {'scalers': 'minmax', 'n_neighbors': 14, 'weights': 'distance', 'metric': 'manhattan'}. Best is trial 49 with value: 0.8171886446886447.\u001b[0m\n",
            "\u001b[32m[I 2022-11-27 10:26:01,670]\u001b[0m Trial 71 finished with value: 0.8171886446886447 and parameters: {'scalers': 'minmax', 'n_neighbors': 16, 'weights': 'distance', 'metric': 'manhattan'}. Best is trial 49 with value: 0.8171886446886447.\u001b[0m\n",
            "\u001b[32m[I 2022-11-27 10:26:01,709]\u001b[0m Trial 72 finished with value: 0.8171886446886447 and parameters: {'scalers': 'minmax', 'n_neighbors': 16, 'weights': 'distance', 'metric': 'manhattan'}. Best is trial 49 with value: 0.8171886446886447.\u001b[0m\n",
            "\u001b[32m[I 2022-11-27 10:26:01,749]\u001b[0m Trial 73 finished with value: 0.8171886446886447 and parameters: {'scalers': 'minmax', 'n_neighbors': 16, 'weights': 'distance', 'metric': 'manhattan'}. Best is trial 49 with value: 0.8171886446886447.\u001b[0m\n",
            "\u001b[32m[I 2022-11-27 10:26:01,794]\u001b[0m Trial 74 finished with value: 0.8171886446886447 and parameters: {'scalers': 'minmax', 'n_neighbors': 16, 'weights': 'distance', 'metric': 'manhattan'}. Best is trial 49 with value: 0.8171886446886447.\u001b[0m\n",
            "\u001b[32m[I 2022-11-27 10:26:01,833]\u001b[0m Trial 75 finished with value: 0.8168910256410257 and parameters: {'scalers': 'minmax', 'n_neighbors': 15, 'weights': 'distance', 'metric': 'manhattan'}. Best is trial 49 with value: 0.8171886446886447.\u001b[0m\n",
            "\u001b[32m[I 2022-11-27 10:26:01,880]\u001b[0m Trial 76 finished with value: 0.694549372196431 and parameters: {'scalers': 'minmax', 'n_neighbors': 16, 'weights': 'uniform', 'metric': 'manhattan'}. Best is trial 49 with value: 0.8171886446886447.\u001b[0m\n",
            "\u001b[32m[I 2022-11-27 10:26:01,923]\u001b[0m Trial 77 finished with value: 0.7873227507786331 and parameters: {'scalers': 'minmax', 'n_neighbors': 14, 'weights': 'distance', 'metric': 'manhattan'}. Best is trial 49 with value: 0.8171886446886447.\u001b[0m\n",
            "\u001b[32m[I 2022-11-27 10:26:01,992]\u001b[0m Trial 78 finished with value: 0.7603422802687507 and parameters: {'scalers': 'robust', 'n_neighbors': 18, 'weights': 'distance', 'metric': 'manhattan'}. Best is trial 49 with value: 0.8171886446886447.\u001b[0m\n",
            "\u001b[32m[I 2022-11-27 10:26:02,035]\u001b[0m Trial 79 finished with value: 0.8095364439482087 and parameters: {'scalers': 'standard', 'n_neighbors': 16, 'weights': 'distance', 'metric': 'manhattan'}. Best is trial 49 with value: 0.8171886446886447.\u001b[0m\n",
            "\u001b[32m[I 2022-11-27 10:26:02,076]\u001b[0m Trial 80 finished with value: 0.8168910256410257 and parameters: {'scalers': 'minmax', 'n_neighbors': 15, 'weights': 'distance', 'metric': 'manhattan'}. Best is trial 49 with value: 0.8171886446886447.\u001b[0m\n",
            "\u001b[32m[I 2022-11-27 10:26:02,116]\u001b[0m Trial 81 finished with value: 0.8168910256410257 and parameters: {'scalers': 'minmax', 'n_neighbors': 15, 'weights': 'distance', 'metric': 'manhattan'}. Best is trial 49 with value: 0.8171886446886447.\u001b[0m\n",
            "\u001b[32m[I 2022-11-27 10:26:02,155]\u001b[0m Trial 82 finished with value: 0.8171886446886447 and parameters: {'scalers': 'minmax', 'n_neighbors': 16, 'weights': 'distance', 'metric': 'manhattan'}. Best is trial 49 with value: 0.8171886446886447.\u001b[0m\n",
            "\u001b[32m[I 2022-11-27 10:26:02,195]\u001b[0m Trial 83 finished with value: 0.7864117826617827 and parameters: {'scalers': 'minmax', 'n_neighbors': 13, 'weights': 'distance', 'metric': 'manhattan'}. Best is trial 49 with value: 0.8171886446886447.\u001b[0m\n",
            "\u001b[32m[I 2022-11-27 10:26:02,235]\u001b[0m Trial 84 finished with value: 0.815776184599714 and parameters: {'scalers': 'minmax', 'n_neighbors': 16, 'weights': 'distance', 'metric': 'minkowski'}. Best is trial 49 with value: 0.8171886446886447.\u001b[0m\n",
            "\u001b[32m[I 2022-11-27 10:26:02,272]\u001b[0m Trial 85 finished with value: 0.8089557746175394 and parameters: {'scalers': 'minmax', 'n_neighbors': 18, 'weights': 'distance', 'metric': 'manhattan'}. Best is trial 49 with value: 0.8171886446886447.\u001b[0m\n",
            "\u001b[32m[I 2022-11-27 10:26:02,312]\u001b[0m Trial 86 finished with value: 0.7873227507786331 and parameters: {'scalers': 'minmax', 'n_neighbors': 14, 'weights': 'distance', 'metric': 'manhattan'}. Best is trial 49 with value: 0.8171886446886447.\u001b[0m\n",
            "\u001b[32m[I 2022-11-27 10:26:02,356]\u001b[0m Trial 87 finished with value: 0.8171886446886447 and parameters: {'scalers': 'minmax', 'n_neighbors': 16, 'weights': 'distance', 'metric': 'manhattan'}. Best is trial 49 with value: 0.8171886446886447.\u001b[0m\n",
            "\u001b[32m[I 2022-11-27 10:26:02,396]\u001b[0m Trial 88 finished with value: 0.6787016170104405 and parameters: {'scalers': 'minmax', 'n_neighbors': 20, 'weights': 'uniform', 'metric': 'manhattan'}. Best is trial 49 with value: 0.8171886446886447.\u001b[0m\n",
            "\u001b[32m[I 2022-11-27 10:26:02,435]\u001b[0m Trial 89 finished with value: 0.8089557746175394 and parameters: {'scalers': 'minmax', 'n_neighbors': 18, 'weights': 'distance', 'metric': 'manhattan'}. Best is trial 49 with value: 0.8171886446886447.\u001b[0m\n",
            "\u001b[32m[I 2022-11-27 10:26:02,476]\u001b[0m Trial 90 finished with value: 0.7885749054866702 and parameters: {'scalers': 'minmax', 'n_neighbors': 12, 'weights': 'distance', 'metric': 'manhattan'}. Best is trial 49 with value: 0.8171886446886447.\u001b[0m\n",
            "\u001b[32m[I 2022-11-27 10:26:02,516]\u001b[0m Trial 91 finished with value: 0.8171886446886447 and parameters: {'scalers': 'minmax', 'n_neighbors': 16, 'weights': 'distance', 'metric': 'manhattan'}. Best is trial 49 with value: 0.8171886446886447.\u001b[0m\n",
            "\u001b[32m[I 2022-11-27 10:26:02,557]\u001b[0m Trial 92 finished with value: 0.8171886446886447 and parameters: {'scalers': 'minmax', 'n_neighbors': 16, 'weights': 'distance', 'metric': 'manhattan'}. Best is trial 49 with value: 0.8171886446886447.\u001b[0m\n",
            "\u001b[32m[I 2022-11-27 10:26:02,600]\u001b[0m Trial 93 finished with value: 0.8171886446886447 and parameters: {'scalers': 'minmax', 'n_neighbors': 16, 'weights': 'distance', 'metric': 'manhattan'}. Best is trial 49 with value: 0.8171886446886447.\u001b[0m\n",
            "\u001b[32m[I 2022-11-27 10:26:02,638]\u001b[0m Trial 94 finished with value: 0.8019154456654455 and parameters: {'scalers': 'minmax', 'n_neighbors': 19, 'weights': 'distance', 'metric': 'manhattan'}. Best is trial 49 with value: 0.8171886446886447.\u001b[0m\n",
            "\u001b[32m[I 2022-11-27 10:26:02,677]\u001b[0m Trial 95 finished with value: 0.7932670270905565 and parameters: {'scalers': 'minmax', 'n_neighbors': 14, 'weights': 'distance', 'metric': 'minkowski'}. Best is trial 49 with value: 0.8171886446886447.\u001b[0m\n",
            "\u001b[32m[I 2022-11-27 10:26:02,740]\u001b[0m Trial 96 finished with value: 0.775622686137392 and parameters: {'scalers': 'robust', 'n_neighbors': 17, 'weights': 'distance', 'metric': 'manhattan'}. Best is trial 49 with value: 0.8171886446886447.\u001b[0m\n",
            "\u001b[32m[I 2022-11-27 10:26:02,785]\u001b[0m Trial 97 finished with value: 0.7864117826617827 and parameters: {'scalers': 'minmax', 'n_neighbors': 13, 'weights': 'distance', 'metric': 'manhattan'}. Best is trial 49 with value: 0.8171886446886447.\u001b[0m\n",
            "\u001b[32m[I 2022-11-27 10:26:02,839]\u001b[0m Trial 98 finished with value: 0.8310565904683551 and parameters: {'scalers': 'standard', 'n_neighbors': 15, 'weights': 'distance', 'metric': 'manhattan'}. Best is trial 98 with value: 0.8310565904683551.\u001b[0m\n",
            "\u001b[32m[I 2022-11-27 10:26:02,884]\u001b[0m Trial 99 finished with value: 0.8310565904683551 and parameters: {'scalers': 'standard', 'n_neighbors': 15, 'weights': 'distance', 'metric': 'manhattan'}. Best is trial 98 with value: 0.8310565904683551.\u001b[0m\n",
            "\u001b[32m[I 2022-11-27 10:26:02,926]\u001b[0m Trial 100 finished with value: 0.8310565904683551 and parameters: {'scalers': 'standard', 'n_neighbors': 15, 'weights': 'distance', 'metric': 'manhattan'}. Best is trial 98 with value: 0.8310565904683551.\u001b[0m\n",
            "\u001b[32m[I 2022-11-27 10:26:02,973]\u001b[0m Trial 101 finished with value: 0.8310565904683551 and parameters: {'scalers': 'standard', 'n_neighbors': 15, 'weights': 'distance', 'metric': 'manhattan'}. Best is trial 98 with value: 0.8310565904683551.\u001b[0m\n",
            "\u001b[32m[I 2022-11-27 10:26:03,015]\u001b[0m Trial 102 finished with value: 0.8310565904683551 and parameters: {'scalers': 'standard', 'n_neighbors': 15, 'weights': 'distance', 'metric': 'manhattan'}. Best is trial 98 with value: 0.8310565904683551.\u001b[0m\n",
            "\u001b[32m[I 2022-11-27 10:26:03,057]\u001b[0m Trial 103 finished with value: 0.8310565904683551 and parameters: {'scalers': 'standard', 'n_neighbors': 15, 'weights': 'distance', 'metric': 'manhattan'}. Best is trial 98 with value: 0.8310565904683551.\u001b[0m\n",
            "\u001b[32m[I 2022-11-27 10:26:03,098]\u001b[0m Trial 104 finished with value: 0.8310565904683551 and parameters: {'scalers': 'standard', 'n_neighbors': 15, 'weights': 'distance', 'metric': 'manhattan'}. Best is trial 98 with value: 0.8310565904683551.\u001b[0m\n",
            "\u001b[32m[I 2022-11-27 10:26:03,141]\u001b[0m Trial 105 finished with value: 0.832293956043956 and parameters: {'scalers': 'standard', 'n_neighbors': 11, 'weights': 'distance', 'metric': 'manhattan'}. Best is trial 105 with value: 0.832293956043956.\u001b[0m\n",
            "\u001b[32m[I 2022-11-27 10:26:03,183]\u001b[0m Trial 106 finished with value: 0.8115201465201466 and parameters: {'scalers': 'standard', 'n_neighbors': 9, 'weights': 'distance', 'metric': 'manhattan'}. Best is trial 105 with value: 0.832293956043956.\u001b[0m\n",
            "\u001b[32m[I 2022-11-27 10:26:03,229]\u001b[0m Trial 107 finished with value: 0.6985425440572499 and parameters: {'scalers': 'standard', 'n_neighbors': 11, 'weights': 'uniform', 'metric': 'manhattan'}. Best is trial 105 with value: 0.832293956043956.\u001b[0m\n",
            "\u001b[32m[I 2022-11-27 10:26:03,269]\u001b[0m Trial 108 finished with value: 0.7959421216038863 and parameters: {'scalers': 'standard', 'n_neighbors': 6, 'weights': 'distance', 'metric': 'manhattan'}. Best is trial 105 with value: 0.832293956043956.\u001b[0m\n",
            "\u001b[32m[I 2022-11-27 10:26:03,311]\u001b[0m Trial 109 finished with value: 0.795145418307183 and parameters: {'scalers': 'standard', 'n_neighbors': 15, 'weights': 'distance', 'metric': 'minkowski'}. Best is trial 105 with value: 0.832293956043956.\u001b[0m\n",
            "\u001b[32m[I 2022-11-27 10:26:03,352]\u001b[0m Trial 110 finished with value: 0.781253207576737 and parameters: {'scalers': 'standard', 'n_neighbors': 2, 'weights': 'distance', 'metric': 'manhattan'}. Best is trial 105 with value: 0.832293956043956.\u001b[0m\n",
            "\u001b[32m[I 2022-11-27 10:26:03,392]\u001b[0m Trial 111 finished with value: 0.8318269230769232 and parameters: {'scalers': 'standard', 'n_neighbors': 13, 'weights': 'distance', 'metric': 'manhattan'}. Best is trial 105 with value: 0.832293956043956.\u001b[0m\n",
            "\u001b[32m[I 2022-11-27 10:26:03,433]\u001b[0m Trial 112 finished with value: 0.8318269230769232 and parameters: {'scalers': 'standard', 'n_neighbors': 13, 'weights': 'distance', 'metric': 'manhattan'}. Best is trial 105 with value: 0.832293956043956.\u001b[0m\n",
            "\u001b[32m[I 2022-11-27 10:26:03,483]\u001b[0m Trial 113 finished with value: 0.8318269230769232 and parameters: {'scalers': 'standard', 'n_neighbors': 13, 'weights': 'distance', 'metric': 'manhattan'}. Best is trial 105 with value: 0.832293956043956.\u001b[0m\n",
            "\u001b[32m[I 2022-11-27 10:26:03,527]\u001b[0m Trial 114 finished with value: 0.8318269230769232 and parameters: {'scalers': 'standard', 'n_neighbors': 13, 'weights': 'distance', 'metric': 'manhattan'}. Best is trial 105 with value: 0.832293956043956.\u001b[0m\n",
            "\u001b[32m[I 2022-11-27 10:26:03,572]\u001b[0m Trial 115 finished with value: 0.8106776556776556 and parameters: {'scalers': 'standard', 'n_neighbors': 10, 'weights': 'distance', 'metric': 'manhattan'}. Best is trial 105 with value: 0.832293956043956.\u001b[0m\n",
            "\u001b[32m[I 2022-11-27 10:26:03,615]\u001b[0m Trial 116 finished with value: 0.8318269230769232 and parameters: {'scalers': 'standard', 'n_neighbors': 13, 'weights': 'distance', 'metric': 'manhattan'}. Best is trial 105 with value: 0.832293956043956.\u001b[0m\n",
            "\u001b[32m[I 2022-11-27 10:26:03,656]\u001b[0m Trial 117 finished with value: 0.8103067765567765 and parameters: {'scalers': 'standard', 'n_neighbors': 12, 'weights': 'distance', 'metric': 'manhattan'}. Best is trial 105 with value: 0.832293956043956.\u001b[0m\n",
            "\u001b[32m[I 2022-11-27 10:26:03,698]\u001b[0m Trial 118 finished with value: 0.8318269230769232 and parameters: {'scalers': 'standard', 'n_neighbors': 13, 'weights': 'distance', 'metric': 'manhattan'}. Best is trial 105 with value: 0.832293956043956.\u001b[0m\n",
            "\u001b[32m[I 2022-11-27 10:26:03,739]\u001b[0m Trial 119 finished with value: 0.832293956043956 and parameters: {'scalers': 'standard', 'n_neighbors': 11, 'weights': 'distance', 'metric': 'manhattan'}. Best is trial 105 with value: 0.832293956043956.\u001b[0m\n",
            "\u001b[32m[I 2022-11-27 10:26:03,781]\u001b[0m Trial 120 finished with value: 0.832293956043956 and parameters: {'scalers': 'standard', 'n_neighbors': 11, 'weights': 'distance', 'metric': 'manhattan'}. Best is trial 105 with value: 0.832293956043956.\u001b[0m\n",
            "\u001b[32m[I 2022-11-27 10:26:03,822]\u001b[0m Trial 121 finished with value: 0.832293956043956 and parameters: {'scalers': 'standard', 'n_neighbors': 11, 'weights': 'distance', 'metric': 'manhattan'}. Best is trial 105 with value: 0.832293956043956.\u001b[0m\n",
            "\u001b[32m[I 2022-11-27 10:26:03,871]\u001b[0m Trial 122 finished with value: 0.832293956043956 and parameters: {'scalers': 'standard', 'n_neighbors': 11, 'weights': 'distance', 'metric': 'manhattan'}. Best is trial 105 with value: 0.832293956043956.\u001b[0m\n",
            "\u001b[32m[I 2022-11-27 10:26:03,914]\u001b[0m Trial 123 finished with value: 0.8115201465201466 and parameters: {'scalers': 'standard', 'n_neighbors': 9, 'weights': 'distance', 'metric': 'manhattan'}. Best is trial 105 with value: 0.832293956043956.\u001b[0m\n",
            "\u001b[32m[I 2022-11-27 10:26:03,959]\u001b[0m Trial 124 finished with value: 0.832293956043956 and parameters: {'scalers': 'standard', 'n_neighbors': 11, 'weights': 'distance', 'metric': 'manhattan'}. Best is trial 105 with value: 0.832293956043956.\u001b[0m\n",
            "\u001b[32m[I 2022-11-27 10:26:04,002]\u001b[0m Trial 125 finished with value: 0.832293956043956 and parameters: {'scalers': 'standard', 'n_neighbors': 11, 'weights': 'distance', 'metric': 'manhattan'}. Best is trial 105 with value: 0.832293956043956.\u001b[0m\n",
            "\u001b[32m[I 2022-11-27 10:26:04,047]\u001b[0m Trial 126 finished with value: 0.832293956043956 and parameters: {'scalers': 'standard', 'n_neighbors': 11, 'weights': 'distance', 'metric': 'manhattan'}. Best is trial 105 with value: 0.832293956043956.\u001b[0m\n",
            "\u001b[32m[I 2022-11-27 10:26:04,091]\u001b[0m Trial 127 finished with value: 0.832293956043956 and parameters: {'scalers': 'standard', 'n_neighbors': 11, 'weights': 'distance', 'metric': 'manhattan'}. Best is trial 105 with value: 0.832293956043956.\u001b[0m\n",
            "\u001b[32m[I 2022-11-27 10:26:04,136]\u001b[0m Trial 128 finished with value: 0.6985425440572499 and parameters: {'scalers': 'standard', 'n_neighbors': 11, 'weights': 'uniform', 'metric': 'manhattan'}. Best is trial 105 with value: 0.832293956043956.\u001b[0m\n",
            "\u001b[32m[I 2022-11-27 10:26:04,179]\u001b[0m Trial 129 finished with value: 0.832293956043956 and parameters: {'scalers': 'standard', 'n_neighbors': 11, 'weights': 'distance', 'metric': 'manhattan'}. Best is trial 105 with value: 0.832293956043956.\u001b[0m\n",
            "\u001b[32m[I 2022-11-27 10:26:04,221]\u001b[0m Trial 130 finished with value: 0.8115201465201466 and parameters: {'scalers': 'standard', 'n_neighbors': 9, 'weights': 'distance', 'metric': 'manhattan'}. Best is trial 105 with value: 0.832293956043956.\u001b[0m\n",
            "\u001b[32m[I 2022-11-27 10:26:04,262]\u001b[0m Trial 131 finished with value: 0.8106776556776556 and parameters: {'scalers': 'standard', 'n_neighbors': 10, 'weights': 'distance', 'metric': 'manhattan'}. Best is trial 105 with value: 0.832293956043956.\u001b[0m\n",
            "\u001b[32m[I 2022-11-27 10:26:04,304]\u001b[0m Trial 132 finished with value: 0.832293956043956 and parameters: {'scalers': 'standard', 'n_neighbors': 11, 'weights': 'distance', 'metric': 'manhattan'}. Best is trial 105 with value: 0.832293956043956.\u001b[0m\n",
            "\u001b[32m[I 2022-11-27 10:26:04,346]\u001b[0m Trial 133 finished with value: 0.832293956043956 and parameters: {'scalers': 'standard', 'n_neighbors': 11, 'weights': 'distance', 'metric': 'manhattan'}. Best is trial 105 with value: 0.832293956043956.\u001b[0m\n",
            "\u001b[32m[I 2022-11-27 10:26:04,387]\u001b[0m Trial 134 finished with value: 0.832293956043956 and parameters: {'scalers': 'standard', 'n_neighbors': 11, 'weights': 'distance', 'metric': 'manhattan'}. Best is trial 105 with value: 0.832293956043956.\u001b[0m\n",
            "\u001b[32m[I 2022-11-27 10:26:04,428]\u001b[0m Trial 135 finished with value: 0.832293956043956 and parameters: {'scalers': 'standard', 'n_neighbors': 11, 'weights': 'distance', 'metric': 'manhattan'}. Best is trial 105 with value: 0.832293956043956.\u001b[0m\n",
            "\u001b[32m[I 2022-11-27 10:26:04,470]\u001b[0m Trial 136 finished with value: 0.832293956043956 and parameters: {'scalers': 'standard', 'n_neighbors': 11, 'weights': 'distance', 'metric': 'manhattan'}. Best is trial 105 with value: 0.832293956043956.\u001b[0m\n",
            "\u001b[32m[I 2022-11-27 10:26:04,515]\u001b[0m Trial 137 finished with value: 0.7655326617826618 and parameters: {'scalers': 'standard', 'n_neighbors': 10, 'weights': 'distance', 'metric': 'minkowski'}. Best is trial 105 with value: 0.832293956043956.\u001b[0m\n",
            "\u001b[32m[I 2022-11-27 10:26:04,557]\u001b[0m Trial 138 finished with value: 0.832293956043956 and parameters: {'scalers': 'standard', 'n_neighbors': 11, 'weights': 'distance', 'metric': 'manhattan'}. Best is trial 105 with value: 0.832293956043956.\u001b[0m\n",
            "\u001b[32m[I 2022-11-27 10:26:04,601]\u001b[0m Trial 139 finished with value: 0.8115201465201466 and parameters: {'scalers': 'standard', 'n_neighbors': 9, 'weights': 'distance', 'metric': 'manhattan'}. Best is trial 105 with value: 0.832293956043956.\u001b[0m\n",
            "\u001b[32m[I 2022-11-27 10:26:04,646]\u001b[0m Trial 140 finished with value: 0.8102827809445456 and parameters: {'scalers': 'standard', 'n_neighbors': 8, 'weights': 'distance', 'metric': 'manhattan'}. Best is trial 105 with value: 0.832293956043956.\u001b[0m\n",
            "\u001b[32m[I 2022-11-27 10:26:04,701]\u001b[0m Trial 141 finished with value: 0.832293956043956 and parameters: {'scalers': 'standard', 'n_neighbors': 11, 'weights': 'distance', 'metric': 'manhattan'}. Best is trial 105 with value: 0.832293956043956.\u001b[0m\n",
            "\u001b[32m[I 2022-11-27 10:26:04,749]\u001b[0m Trial 142 finished with value: 0.8106776556776556 and parameters: {'scalers': 'standard', 'n_neighbors': 10, 'weights': 'distance', 'metric': 'manhattan'}. Best is trial 105 with value: 0.832293956043956.\u001b[0m\n",
            "\u001b[32m[I 2022-11-27 10:26:04,791]\u001b[0m Trial 143 finished with value: 0.8103067765567765 and parameters: {'scalers': 'standard', 'n_neighbors': 12, 'weights': 'distance', 'metric': 'manhattan'}. Best is trial 105 with value: 0.832293956043956.\u001b[0m\n",
            "\u001b[32m[I 2022-11-27 10:26:04,833]\u001b[0m Trial 144 finished with value: 0.832293956043956 and parameters: {'scalers': 'standard', 'n_neighbors': 11, 'weights': 'distance', 'metric': 'manhattan'}. Best is trial 105 with value: 0.832293956043956.\u001b[0m\n",
            "\u001b[32m[I 2022-11-27 10:26:04,883]\u001b[0m Trial 145 finished with value: 0.832293956043956 and parameters: {'scalers': 'standard', 'n_neighbors': 11, 'weights': 'distance', 'metric': 'manhattan'}. Best is trial 105 with value: 0.832293956043956.\u001b[0m\n",
            "\u001b[32m[I 2022-11-27 10:26:04,925]\u001b[0m Trial 146 finished with value: 0.8103067765567765 and parameters: {'scalers': 'standard', 'n_neighbors': 12, 'weights': 'distance', 'metric': 'manhattan'}. Best is trial 105 with value: 0.832293956043956.\u001b[0m\n",
            "\u001b[32m[I 2022-11-27 10:26:04,970]\u001b[0m Trial 147 finished with value: 0.8102827809445456 and parameters: {'scalers': 'standard', 'n_neighbors': 8, 'weights': 'distance', 'metric': 'manhattan'}. Best is trial 105 with value: 0.832293956043956.\u001b[0m\n",
            "\u001b[32m[I 2022-11-27 10:26:05,011]\u001b[0m Trial 148 finished with value: 0.8106776556776556 and parameters: {'scalers': 'standard', 'n_neighbors': 10, 'weights': 'distance', 'metric': 'manhattan'}. Best is trial 105 with value: 0.832293956043956.\u001b[0m\n",
            "\u001b[32m[I 2022-11-27 10:26:05,055]\u001b[0m Trial 149 finished with value: 0.8103067765567765 and parameters: {'scalers': 'standard', 'n_neighbors': 12, 'weights': 'distance', 'metric': 'manhattan'}. Best is trial 105 with value: 0.832293956043956.\u001b[0m\n",
            "\u001b[32m[I 2022-11-27 10:26:05,100]\u001b[0m Trial 150 finished with value: 0.8115201465201466 and parameters: {'scalers': 'standard', 'n_neighbors': 9, 'weights': 'distance', 'metric': 'manhattan'}. Best is trial 105 with value: 0.832293956043956.\u001b[0m\n",
            "\u001b[32m[I 2022-11-27 10:26:05,145]\u001b[0m Trial 151 finished with value: 0.832293956043956 and parameters: {'scalers': 'standard', 'n_neighbors': 11, 'weights': 'distance', 'metric': 'manhattan'}. Best is trial 105 with value: 0.832293956043956.\u001b[0m\n",
            "\u001b[32m[I 2022-11-27 10:26:05,191]\u001b[0m Trial 152 finished with value: 0.832293956043956 and parameters: {'scalers': 'standard', 'n_neighbors': 11, 'weights': 'distance', 'metric': 'manhattan'}. Best is trial 105 with value: 0.832293956043956.\u001b[0m\n",
            "\u001b[32m[I 2022-11-27 10:26:05,239]\u001b[0m Trial 153 finished with value: 0.8106776556776556 and parameters: {'scalers': 'standard', 'n_neighbors': 10, 'weights': 'distance', 'metric': 'manhattan'}. Best is trial 105 with value: 0.832293956043956.\u001b[0m\n",
            "\u001b[32m[I 2022-11-27 10:26:05,282]\u001b[0m Trial 154 finished with value: 0.832293956043956 and parameters: {'scalers': 'standard', 'n_neighbors': 11, 'weights': 'distance', 'metric': 'manhattan'}. Best is trial 105 with value: 0.832293956043956.\u001b[0m\n",
            "\u001b[32m[I 2022-11-27 10:26:05,324]\u001b[0m Trial 155 finished with value: 0.8106776556776556 and parameters: {'scalers': 'standard', 'n_neighbors': 10, 'weights': 'distance', 'metric': 'manhattan'}. Best is trial 105 with value: 0.832293956043956.\u001b[0m\n",
            "\u001b[32m[I 2022-11-27 10:26:05,368]\u001b[0m Trial 156 finished with value: 0.8103067765567765 and parameters: {'scalers': 'standard', 'n_neighbors': 12, 'weights': 'distance', 'metric': 'manhattan'}. Best is trial 105 with value: 0.832293956043956.\u001b[0m\n",
            "\u001b[32m[I 2022-11-27 10:26:05,413]\u001b[0m Trial 157 finished with value: 0.6985425440572499 and parameters: {'scalers': 'standard', 'n_neighbors': 11, 'weights': 'uniform', 'metric': 'manhattan'}. Best is trial 105 with value: 0.832293956043956.\u001b[0m\n",
            "\u001b[32m[I 2022-11-27 10:26:05,454]\u001b[0m Trial 158 finished with value: 0.8103067765567765 and parameters: {'scalers': 'standard', 'n_neighbors': 12, 'weights': 'distance', 'metric': 'manhattan'}. Best is trial 105 with value: 0.832293956043956.\u001b[0m\n",
            "\u001b[32m[I 2022-11-27 10:26:05,496]\u001b[0m Trial 159 finished with value: 0.8115201465201466 and parameters: {'scalers': 'standard', 'n_neighbors': 9, 'weights': 'distance', 'metric': 'manhattan'}. Best is trial 105 with value: 0.832293956043956.\u001b[0m\n",
            "\u001b[32m[I 2022-11-27 10:26:05,541]\u001b[0m Trial 160 finished with value: 0.7741838798456445 and parameters: {'scalers': 'standard', 'n_neighbors': 11, 'weights': 'distance', 'metric': 'minkowski'}. Best is trial 105 with value: 0.832293956043956.\u001b[0m\n",
            "\u001b[32m[I 2022-11-27 10:26:05,584]\u001b[0m Trial 161 finished with value: 0.8106776556776556 and parameters: {'scalers': 'standard', 'n_neighbors': 10, 'weights': 'distance', 'metric': 'manhattan'}. Best is trial 105 with value: 0.832293956043956.\u001b[0m\n",
            "\u001b[32m[I 2022-11-27 10:26:05,645]\u001b[0m Trial 162 finished with value: 0.832293956043956 and parameters: {'scalers': 'standard', 'n_neighbors': 11, 'weights': 'distance', 'metric': 'manhattan'}. Best is trial 105 with value: 0.832293956043956.\u001b[0m\n",
            "\u001b[32m[I 2022-11-27 10:26:05,693]\u001b[0m Trial 163 finished with value: 0.8103067765567765 and parameters: {'scalers': 'standard', 'n_neighbors': 12, 'weights': 'distance', 'metric': 'manhattan'}. Best is trial 105 with value: 0.832293956043956.\u001b[0m\n",
            "\u001b[32m[I 2022-11-27 10:26:05,740]\u001b[0m Trial 164 finished with value: 0.832293956043956 and parameters: {'scalers': 'standard', 'n_neighbors': 11, 'weights': 'distance', 'metric': 'manhattan'}. Best is trial 105 with value: 0.832293956043956.\u001b[0m\n",
            "\u001b[32m[I 2022-11-27 10:26:05,783]\u001b[0m Trial 165 finished with value: 0.8106776556776556 and parameters: {'scalers': 'standard', 'n_neighbors': 10, 'weights': 'distance', 'metric': 'manhattan'}. Best is trial 105 with value: 0.832293956043956.\u001b[0m\n",
            "\u001b[32m[I 2022-11-27 10:26:05,825]\u001b[0m Trial 166 finished with value: 0.8026545758163405 and parameters: {'scalers': 'standard', 'n_neighbors': 7, 'weights': 'distance', 'metric': 'manhattan'}. Best is trial 105 with value: 0.832293956043956.\u001b[0m\n",
            "\u001b[32m[I 2022-11-27 10:26:05,869]\u001b[0m Trial 167 finished with value: 0.8103067765567765 and parameters: {'scalers': 'standard', 'n_neighbors': 12, 'weights': 'distance', 'metric': 'manhattan'}. Best is trial 105 with value: 0.832293956043956.\u001b[0m\n",
            "\u001b[32m[I 2022-11-27 10:26:05,918]\u001b[0m Trial 168 finished with value: 0.8106776556776556 and parameters: {'scalers': 'standard', 'n_neighbors': 10, 'weights': 'distance', 'metric': 'manhattan'}. Best is trial 105 with value: 0.832293956043956.\u001b[0m\n",
            "\u001b[32m[I 2022-11-27 10:26:05,961]\u001b[0m Trial 169 finished with value: 0.832293956043956 and parameters: {'scalers': 'standard', 'n_neighbors': 11, 'weights': 'distance', 'metric': 'manhattan'}. Best is trial 105 with value: 0.832293956043956.\u001b[0m\n",
            "\u001b[32m[I 2022-11-27 10:26:06,006]\u001b[0m Trial 170 finished with value: 0.8103067765567765 and parameters: {'scalers': 'standard', 'n_neighbors': 12, 'weights': 'distance', 'metric': 'manhattan'}. Best is trial 105 with value: 0.832293956043956.\u001b[0m\n",
            "\u001b[32m[I 2022-11-27 10:26:06,049]\u001b[0m Trial 171 finished with value: 0.832293956043956 and parameters: {'scalers': 'standard', 'n_neighbors': 11, 'weights': 'distance', 'metric': 'manhattan'}. Best is trial 105 with value: 0.832293956043956.\u001b[0m\n",
            "\u001b[32m[I 2022-11-27 10:26:06,092]\u001b[0m Trial 172 finished with value: 0.832293956043956 and parameters: {'scalers': 'standard', 'n_neighbors': 11, 'weights': 'distance', 'metric': 'manhattan'}. Best is trial 105 with value: 0.832293956043956.\u001b[0m\n",
            "\u001b[32m[I 2022-11-27 10:26:06,136]\u001b[0m Trial 173 finished with value: 0.8215949083596144 and parameters: {'scalers': 'standard', 'n_neighbors': 29, 'weights': 'distance', 'metric': 'manhattan'}. Best is trial 105 with value: 0.832293956043956.\u001b[0m\n",
            "\u001b[32m[I 2022-11-27 10:26:06,205]\u001b[0m Trial 174 finished with value: 0.7633148224324695 and parameters: {'scalers': 'robust', 'n_neighbors': 9, 'weights': 'distance', 'metric': 'manhattan'}. Best is trial 105 with value: 0.832293956043956.\u001b[0m\n",
            "\u001b[32m[I 2022-11-27 10:26:06,250]\u001b[0m Trial 175 finished with value: 0.8103067765567765 and parameters: {'scalers': 'standard', 'n_neighbors': 12, 'weights': 'distance', 'metric': 'manhattan'}. Best is trial 105 with value: 0.832293956043956.\u001b[0m\n",
            "\u001b[32m[I 2022-11-27 10:26:06,294]\u001b[0m Trial 176 finished with value: 0.8106776556776556 and parameters: {'scalers': 'standard', 'n_neighbors': 10, 'weights': 'distance', 'metric': 'manhattan'}. Best is trial 105 with value: 0.832293956043956.\u001b[0m\n",
            "\u001b[32m[I 2022-11-27 10:26:06,337]\u001b[0m Trial 177 finished with value: 0.832293956043956 and parameters: {'scalers': 'standard', 'n_neighbors': 11, 'weights': 'distance', 'metric': 'manhattan'}. Best is trial 105 with value: 0.832293956043956.\u001b[0m\n",
            "\u001b[32m[I 2022-11-27 10:26:06,380]\u001b[0m Trial 178 finished with value: 0.8106776556776556 and parameters: {'scalers': 'standard', 'n_neighbors': 10, 'weights': 'distance', 'metric': 'manhattan'}. Best is trial 105 with value: 0.832293956043956.\u001b[0m\n",
            "\u001b[32m[I 2022-11-27 10:26:06,423]\u001b[0m Trial 179 finished with value: 0.832293956043956 and parameters: {'scalers': 'standard', 'n_neighbors': 11, 'weights': 'distance', 'metric': 'manhattan'}. Best is trial 105 with value: 0.832293956043956.\u001b[0m\n",
            "\u001b[32m[I 2022-11-27 10:26:06,465]\u001b[0m Trial 180 finished with value: 0.832293956043956 and parameters: {'scalers': 'standard', 'n_neighbors': 11, 'weights': 'distance', 'metric': 'manhattan'}. Best is trial 105 with value: 0.832293956043956.\u001b[0m\n",
            "\u001b[32m[I 2022-11-27 10:26:06,508]\u001b[0m Trial 181 finished with value: 0.832293956043956 and parameters: {'scalers': 'standard', 'n_neighbors': 11, 'weights': 'distance', 'metric': 'manhattan'}. Best is trial 105 with value: 0.832293956043956.\u001b[0m\n",
            "\u001b[32m[I 2022-11-27 10:26:06,558]\u001b[0m Trial 182 finished with value: 0.8103067765567765 and parameters: {'scalers': 'standard', 'n_neighbors': 12, 'weights': 'distance', 'metric': 'manhattan'}. Best is trial 105 with value: 0.832293956043956.\u001b[0m\n",
            "\u001b[32m[I 2022-11-27 10:26:06,601]\u001b[0m Trial 183 finished with value: 0.8115201465201466 and parameters: {'scalers': 'standard', 'n_neighbors': 9, 'weights': 'distance', 'metric': 'manhattan'}. Best is trial 105 with value: 0.832293956043956.\u001b[0m\n",
            "\u001b[32m[I 2022-11-27 10:26:06,644]\u001b[0m Trial 184 finished with value: 0.8106776556776556 and parameters: {'scalers': 'standard', 'n_neighbors': 10, 'weights': 'distance', 'metric': 'manhattan'}. Best is trial 105 with value: 0.832293956043956.\u001b[0m\n",
            "\u001b[32m[I 2022-11-27 10:26:06,688]\u001b[0m Trial 185 finished with value: 0.7019543201896143 and parameters: {'scalers': 'standard', 'n_neighbors': 12, 'weights': 'uniform', 'metric': 'manhattan'}. Best is trial 105 with value: 0.832293956043956.\u001b[0m\n",
            "\u001b[32m[I 2022-11-27 10:26:06,734]\u001b[0m Trial 186 finished with value: 0.832293956043956 and parameters: {'scalers': 'standard', 'n_neighbors': 11, 'weights': 'distance', 'metric': 'manhattan'}. Best is trial 105 with value: 0.832293956043956.\u001b[0m\n",
            "\u001b[32m[I 2022-11-27 10:26:06,778]\u001b[0m Trial 187 finished with value: 0.8106776556776556 and parameters: {'scalers': 'standard', 'n_neighbors': 10, 'weights': 'distance', 'metric': 'manhattan'}. Best is trial 105 with value: 0.832293956043956.\u001b[0m\n",
            "\u001b[32m[I 2022-11-27 10:26:06,822]\u001b[0m Trial 188 finished with value: 0.8103067765567765 and parameters: {'scalers': 'standard', 'n_neighbors': 12, 'weights': 'distance', 'metric': 'manhattan'}. Best is trial 105 with value: 0.832293956043956.\u001b[0m\n",
            "\u001b[32m[I 2022-11-27 10:26:06,866]\u001b[0m Trial 189 finished with value: 0.832293956043956 and parameters: {'scalers': 'standard', 'n_neighbors': 11, 'weights': 'distance', 'metric': 'manhattan'}. Best is trial 105 with value: 0.832293956043956.\u001b[0m\n",
            "\u001b[32m[I 2022-11-27 10:26:06,918]\u001b[0m Trial 190 finished with value: 0.832293956043956 and parameters: {'scalers': 'standard', 'n_neighbors': 11, 'weights': 'distance', 'metric': 'manhattan'}. Best is trial 105 with value: 0.832293956043956.\u001b[0m\n",
            "\u001b[32m[I 2022-11-27 10:26:06,965]\u001b[0m Trial 191 finished with value: 0.832293956043956 and parameters: {'scalers': 'standard', 'n_neighbors': 11, 'weights': 'distance', 'metric': 'manhattan'}. Best is trial 105 with value: 0.832293956043956.\u001b[0m\n",
            "\u001b[32m[I 2022-11-27 10:26:07,007]\u001b[0m Trial 192 finished with value: 0.8106776556776556 and parameters: {'scalers': 'standard', 'n_neighbors': 10, 'weights': 'distance', 'metric': 'manhattan'}. Best is trial 105 with value: 0.832293956043956.\u001b[0m\n",
            "\u001b[32m[I 2022-11-27 10:26:07,052]\u001b[0m Trial 193 finished with value: 0.832293956043956 and parameters: {'scalers': 'standard', 'n_neighbors': 11, 'weights': 'distance', 'metric': 'manhattan'}. Best is trial 105 with value: 0.832293956043956.\u001b[0m\n",
            "\u001b[32m[I 2022-11-27 10:26:07,095]\u001b[0m Trial 194 finished with value: 0.8103067765567765 and parameters: {'scalers': 'standard', 'n_neighbors': 12, 'weights': 'distance', 'metric': 'manhattan'}. Best is trial 105 with value: 0.832293956043956.\u001b[0m\n",
            "\u001b[32m[I 2022-11-27 10:26:07,139]\u001b[0m Trial 195 finished with value: 0.7655326617826618 and parameters: {'scalers': 'standard', 'n_neighbors': 10, 'weights': 'distance', 'metric': 'minkowski'}. Best is trial 105 with value: 0.832293956043956.\u001b[0m\n",
            "\u001b[32m[I 2022-11-27 10:26:07,182]\u001b[0m Trial 196 finished with value: 0.8103067765567765 and parameters: {'scalers': 'standard', 'n_neighbors': 12, 'weights': 'distance', 'metric': 'manhattan'}. Best is trial 105 with value: 0.832293956043956.\u001b[0m\n",
            "\u001b[32m[I 2022-11-27 10:26:07,226]\u001b[0m Trial 197 finished with value: 0.832293956043956 and parameters: {'scalers': 'standard', 'n_neighbors': 11, 'weights': 'distance', 'metric': 'manhattan'}. Best is trial 105 with value: 0.832293956043956.\u001b[0m\n",
            "\u001b[32m[I 2022-11-27 10:26:07,297]\u001b[0m Trial 198 finished with value: 0.7900549205696265 and parameters: {'scalers': 'robust', 'n_neighbors': 13, 'weights': 'distance', 'metric': 'manhattan'}. Best is trial 105 with value: 0.832293956043956.\u001b[0m\n",
            "\u001b[32m[I 2022-11-27 10:26:07,340]\u001b[0m Trial 199 finished with value: 0.8115201465201466 and parameters: {'scalers': 'standard', 'n_neighbors': 9, 'weights': 'distance', 'metric': 'manhattan'}. Best is trial 105 with value: 0.832293956043956.\u001b[0m\n",
            "\u001b[32m[I 2022-11-27 10:26:07,383]\u001b[0m Trial 200 finished with value: 0.832293956043956 and parameters: {'scalers': 'standard', 'n_neighbors': 11, 'weights': 'distance', 'metric': 'manhattan'}. Best is trial 105 with value: 0.832293956043956.\u001b[0m\n",
            "\u001b[32m[I 2022-11-27 10:26:07,426]\u001b[0m Trial 201 finished with value: 0.832293956043956 and parameters: {'scalers': 'standard', 'n_neighbors': 11, 'weights': 'distance', 'metric': 'manhattan'}. Best is trial 105 with value: 0.832293956043956.\u001b[0m\n",
            "\u001b[32m[I 2022-11-27 10:26:07,469]\u001b[0m Trial 202 finished with value: 0.8106776556776556 and parameters: {'scalers': 'standard', 'n_neighbors': 10, 'weights': 'distance', 'metric': 'manhattan'}. Best is trial 105 with value: 0.832293956043956.\u001b[0m\n",
            "\u001b[32m[I 2022-11-27 10:26:07,513]\u001b[0m Trial 203 finished with value: 0.8103067765567765 and parameters: {'scalers': 'standard', 'n_neighbors': 12, 'weights': 'distance', 'metric': 'manhattan'}. Best is trial 105 with value: 0.832293956043956.\u001b[0m\n",
            "\u001b[32m[I 2022-11-27 10:26:07,560]\u001b[0m Trial 204 finished with value: 0.832293956043956 and parameters: {'scalers': 'standard', 'n_neighbors': 11, 'weights': 'distance', 'metric': 'manhattan'}. Best is trial 105 with value: 0.832293956043956.\u001b[0m\n",
            "\u001b[32m[I 2022-11-27 10:26:07,604]\u001b[0m Trial 205 finished with value: 0.8103067765567765 and parameters: {'scalers': 'standard', 'n_neighbors': 12, 'weights': 'distance', 'metric': 'manhattan'}. Best is trial 105 with value: 0.832293956043956.\u001b[0m\n",
            "\u001b[32m[I 2022-11-27 10:26:07,650]\u001b[0m Trial 206 finished with value: 0.832293956043956 and parameters: {'scalers': 'standard', 'n_neighbors': 11, 'weights': 'distance', 'metric': 'manhattan'}. Best is trial 105 with value: 0.832293956043956.\u001b[0m\n",
            "\u001b[32m[I 2022-11-27 10:26:07,699]\u001b[0m Trial 207 finished with value: 0.8106776556776556 and parameters: {'scalers': 'standard', 'n_neighbors': 10, 'weights': 'distance', 'metric': 'manhattan'}. Best is trial 105 with value: 0.832293956043956.\u001b[0m\n",
            "\u001b[32m[I 2022-11-27 10:26:07,754]\u001b[0m Trial 208 finished with value: 0.800261413423178 and parameters: {'scalers': 'standard', 'n_neighbors': 3, 'weights': 'distance', 'metric': 'manhattan'}. Best is trial 105 with value: 0.832293956043956.\u001b[0m\n",
            "\u001b[32m[I 2022-11-27 10:26:07,799]\u001b[0m Trial 209 finished with value: 0.832293956043956 and parameters: {'scalers': 'standard', 'n_neighbors': 11, 'weights': 'distance', 'metric': 'manhattan'}. Best is trial 105 with value: 0.832293956043956.\u001b[0m\n",
            "\u001b[32m[I 2022-11-27 10:26:07,842]\u001b[0m Trial 210 finished with value: 0.8106776556776556 and parameters: {'scalers': 'standard', 'n_neighbors': 10, 'weights': 'distance', 'metric': 'manhattan'}. Best is trial 105 with value: 0.832293956043956.\u001b[0m\n",
            "\u001b[32m[I 2022-11-27 10:26:07,886]\u001b[0m Trial 211 finished with value: 0.832293956043956 and parameters: {'scalers': 'standard', 'n_neighbors': 11, 'weights': 'distance', 'metric': 'manhattan'}. Best is trial 105 with value: 0.832293956043956.\u001b[0m\n",
            "\u001b[32m[I 2022-11-27 10:26:07,941]\u001b[0m Trial 212 finished with value: 0.8103067765567765 and parameters: {'scalers': 'standard', 'n_neighbors': 12, 'weights': 'distance', 'metric': 'manhattan'}. Best is trial 105 with value: 0.832293956043956.\u001b[0m\n",
            "\u001b[32m[I 2022-11-27 10:26:07,985]\u001b[0m Trial 213 finished with value: 0.832293956043956 and parameters: {'scalers': 'standard', 'n_neighbors': 11, 'weights': 'distance', 'metric': 'manhattan'}. Best is trial 105 with value: 0.832293956043956.\u001b[0m\n",
            "\u001b[32m[I 2022-11-27 10:26:08,031]\u001b[0m Trial 214 finished with value: 0.8106776556776556 and parameters: {'scalers': 'standard', 'n_neighbors': 10, 'weights': 'distance', 'metric': 'manhattan'}. Best is trial 105 with value: 0.832293956043956.\u001b[0m\n",
            "\u001b[32m[I 2022-11-27 10:26:08,090]\u001b[0m Trial 215 finished with value: 0.832293956043956 and parameters: {'scalers': 'standard', 'n_neighbors': 11, 'weights': 'distance', 'metric': 'manhattan'}. Best is trial 105 with value: 0.832293956043956.\u001b[0m\n",
            "\u001b[32m[I 2022-11-27 10:26:08,138]\u001b[0m Trial 216 finished with value: 0.656607142857143 and parameters: {'scalers': 'standard', 'n_neighbors': 13, 'weights': 'uniform', 'metric': 'euclidean'}. Best is trial 105 with value: 0.832293956043956.\u001b[0m\n",
            "\u001b[32m[I 2022-11-27 10:26:08,181]\u001b[0m Trial 217 finished with value: 0.8103067765567765 and parameters: {'scalers': 'standard', 'n_neighbors': 12, 'weights': 'distance', 'metric': 'manhattan'}. Best is trial 105 with value: 0.832293956043956.\u001b[0m\n",
            "\u001b[32m[I 2022-11-27 10:26:08,225]\u001b[0m Trial 218 finished with value: 0.832293956043956 and parameters: {'scalers': 'standard', 'n_neighbors': 11, 'weights': 'distance', 'metric': 'manhattan'}. Best is trial 105 with value: 0.832293956043956.\u001b[0m\n",
            "\u001b[32m[I 2022-11-27 10:26:08,269]\u001b[0m Trial 219 finished with value: 0.832293956043956 and parameters: {'scalers': 'standard', 'n_neighbors': 11, 'weights': 'distance', 'metric': 'manhattan'}. Best is trial 105 with value: 0.832293956043956.\u001b[0m\n",
            "\u001b[32m[I 2022-11-27 10:26:08,314]\u001b[0m Trial 220 finished with value: 0.8106776556776556 and parameters: {'scalers': 'standard', 'n_neighbors': 10, 'weights': 'distance', 'metric': 'manhattan'}. Best is trial 105 with value: 0.832293956043956.\u001b[0m\n",
            "\u001b[32m[I 2022-11-27 10:26:08,360]\u001b[0m Trial 221 finished with value: 0.832293956043956 and parameters: {'scalers': 'standard', 'n_neighbors': 11, 'weights': 'distance', 'metric': 'manhattan'}. Best is trial 105 with value: 0.832293956043956.\u001b[0m\n",
            "\u001b[32m[I 2022-11-27 10:26:08,405]\u001b[0m Trial 222 finished with value: 0.8103067765567765 and parameters: {'scalers': 'standard', 'n_neighbors': 12, 'weights': 'distance', 'metric': 'manhattan'}. Best is trial 105 with value: 0.832293956043956.\u001b[0m\n",
            "\u001b[32m[I 2022-11-27 10:26:08,450]\u001b[0m Trial 223 finished with value: 0.832293956043956 and parameters: {'scalers': 'standard', 'n_neighbors': 11, 'weights': 'distance', 'metric': 'manhattan'}. Best is trial 105 with value: 0.832293956043956.\u001b[0m\n",
            "\u001b[32m[I 2022-11-27 10:26:08,494]\u001b[0m Trial 224 finished with value: 0.8115201465201466 and parameters: {'scalers': 'standard', 'n_neighbors': 9, 'weights': 'distance', 'metric': 'manhattan'}. Best is trial 105 with value: 0.832293956043956.\u001b[0m\n",
            "\u001b[32m[I 2022-11-27 10:26:08,539]\u001b[0m Trial 225 finished with value: 0.8106776556776556 and parameters: {'scalers': 'standard', 'n_neighbors': 10, 'weights': 'distance', 'metric': 'manhattan'}. Best is trial 105 with value: 0.832293956043956.\u001b[0m\n",
            "\u001b[32m[I 2022-11-27 10:26:08,584]\u001b[0m Trial 226 finished with value: 0.8103067765567765 and parameters: {'scalers': 'standard', 'n_neighbors': 12, 'weights': 'distance', 'metric': 'manhattan'}. Best is trial 105 with value: 0.832293956043956.\u001b[0m\n",
            "\u001b[32m[I 2022-11-27 10:26:08,630]\u001b[0m Trial 227 finished with value: 0.832293956043956 and parameters: {'scalers': 'standard', 'n_neighbors': 11, 'weights': 'distance', 'metric': 'manhattan'}. Best is trial 105 with value: 0.832293956043956.\u001b[0m\n",
            "\u001b[32m[I 2022-11-27 10:26:08,683]\u001b[0m Trial 228 finished with value: 0.8106776556776556 and parameters: {'scalers': 'standard', 'n_neighbors': 10, 'weights': 'distance', 'metric': 'manhattan'}. Best is trial 105 with value: 0.832293956043956.\u001b[0m\n",
            "\u001b[32m[I 2022-11-27 10:26:08,727]\u001b[0m Trial 229 finished with value: 0.832293956043956 and parameters: {'scalers': 'standard', 'n_neighbors': 11, 'weights': 'distance', 'metric': 'manhattan'}. Best is trial 105 with value: 0.832293956043956.\u001b[0m\n",
            "\u001b[32m[I 2022-11-27 10:26:08,796]\u001b[0m Trial 230 finished with value: 0.7707284219048925 and parameters: {'scalers': 'robust', 'n_neighbors': 10, 'weights': 'distance', 'metric': 'minkowski'}. Best is trial 105 with value: 0.832293956043956.\u001b[0m\n",
            "\u001b[32m[I 2022-11-27 10:26:08,841]\u001b[0m Trial 231 finished with value: 0.832293956043956 and parameters: {'scalers': 'standard', 'n_neighbors': 11, 'weights': 'distance', 'metric': 'manhattan'}. Best is trial 105 with value: 0.832293956043956.\u001b[0m\n",
            "\u001b[32m[I 2022-11-27 10:26:08,886]\u001b[0m Trial 232 finished with value: 0.832293956043956 and parameters: {'scalers': 'standard', 'n_neighbors': 11, 'weights': 'distance', 'metric': 'manhattan'}. Best is trial 105 with value: 0.832293956043956.\u001b[0m\n",
            "\u001b[32m[I 2022-11-27 10:26:08,942]\u001b[0m Trial 233 finished with value: 0.8103067765567765 and parameters: {'scalers': 'standard', 'n_neighbors': 12, 'weights': 'distance', 'metric': 'manhattan'}. Best is trial 105 with value: 0.832293956043956.\u001b[0m\n",
            "\u001b[32m[I 2022-11-27 10:26:08,989]\u001b[0m Trial 234 finished with value: 0.832293956043956 and parameters: {'scalers': 'standard', 'n_neighbors': 11, 'weights': 'distance', 'metric': 'manhattan'}. Best is trial 105 with value: 0.832293956043956.\u001b[0m\n",
            "\u001b[32m[I 2022-11-27 10:26:09,034]\u001b[0m Trial 235 finished with value: 0.832293956043956 and parameters: {'scalers': 'standard', 'n_neighbors': 11, 'weights': 'distance', 'metric': 'manhattan'}. Best is trial 105 with value: 0.832293956043956.\u001b[0m\n",
            "\u001b[32m[I 2022-11-27 10:26:09,078]\u001b[0m Trial 236 finished with value: 0.8103067765567765 and parameters: {'scalers': 'standard', 'n_neighbors': 12, 'weights': 'distance', 'metric': 'manhattan'}. Best is trial 105 with value: 0.832293956043956.\u001b[0m\n",
            "\u001b[32m[I 2022-11-27 10:26:09,123]\u001b[0m Trial 237 finished with value: 0.832293956043956 and parameters: {'scalers': 'standard', 'n_neighbors': 11, 'weights': 'distance', 'metric': 'manhattan'}. Best is trial 105 with value: 0.832293956043956.\u001b[0m\n",
            "\u001b[32m[I 2022-11-27 10:26:09,169]\u001b[0m Trial 238 finished with value: 0.8106776556776556 and parameters: {'scalers': 'standard', 'n_neighbors': 10, 'weights': 'distance', 'metric': 'manhattan'}. Best is trial 105 with value: 0.832293956043956.\u001b[0m\n",
            "\u001b[32m[I 2022-11-27 10:26:09,215]\u001b[0m Trial 239 finished with value: 0.8103067765567765 and parameters: {'scalers': 'standard', 'n_neighbors': 12, 'weights': 'distance', 'metric': 'manhattan'}. Best is trial 105 with value: 0.832293956043956.\u001b[0m\n",
            "\u001b[32m[I 2022-11-27 10:26:09,261]\u001b[0m Trial 240 finished with value: 0.832293956043956 and parameters: {'scalers': 'standard', 'n_neighbors': 11, 'weights': 'distance', 'metric': 'manhattan'}. Best is trial 105 with value: 0.832293956043956.\u001b[0m\n",
            "\u001b[32m[I 2022-11-27 10:26:09,307]\u001b[0m Trial 241 finished with value: 0.8106776556776556 and parameters: {'scalers': 'standard', 'n_neighbors': 10, 'weights': 'distance', 'metric': 'manhattan'}. Best is trial 105 with value: 0.832293956043956.\u001b[0m\n",
            "\u001b[32m[I 2022-11-27 10:26:09,352]\u001b[0m Trial 242 finished with value: 0.832293956043956 and parameters: {'scalers': 'standard', 'n_neighbors': 11, 'weights': 'distance', 'metric': 'manhattan'}. Best is trial 105 with value: 0.832293956043956.\u001b[0m\n",
            "\u001b[32m[I 2022-11-27 10:26:09,397]\u001b[0m Trial 243 finished with value: 0.8103067765567765 and parameters: {'scalers': 'standard', 'n_neighbors': 12, 'weights': 'distance', 'metric': 'manhattan'}. Best is trial 105 with value: 0.832293956043956.\u001b[0m\n",
            "\u001b[32m[I 2022-11-27 10:26:09,443]\u001b[0m Trial 244 finished with value: 0.832293956043956 and parameters: {'scalers': 'standard', 'n_neighbors': 11, 'weights': 'distance', 'metric': 'manhattan'}. Best is trial 105 with value: 0.832293956043956.\u001b[0m\n",
            "\u001b[32m[I 2022-11-27 10:26:09,488]\u001b[0m Trial 245 finished with value: 0.8106776556776556 and parameters: {'scalers': 'standard', 'n_neighbors': 10, 'weights': 'distance', 'metric': 'manhattan'}. Best is trial 105 with value: 0.832293956043956.\u001b[0m\n",
            "\u001b[32m[I 2022-11-27 10:26:09,533]\u001b[0m Trial 246 finished with value: 0.832293956043956 and parameters: {'scalers': 'standard', 'n_neighbors': 11, 'weights': 'distance', 'metric': 'manhattan'}. Best is trial 105 with value: 0.832293956043956.\u001b[0m\n",
            "\u001b[32m[I 2022-11-27 10:26:09,589]\u001b[0m Trial 247 finished with value: 0.8103067765567765 and parameters: {'scalers': 'standard', 'n_neighbors': 12, 'weights': 'distance', 'metric': 'manhattan'}. Best is trial 105 with value: 0.832293956043956.\u001b[0m\n",
            "\u001b[32m[I 2022-11-27 10:26:09,636]\u001b[0m Trial 248 finished with value: 0.832293956043956 and parameters: {'scalers': 'standard', 'n_neighbors': 11, 'weights': 'distance', 'metric': 'manhattan'}. Best is trial 105 with value: 0.832293956043956.\u001b[0m\n",
            "\u001b[32m[I 2022-11-27 10:26:09,682]\u001b[0m Trial 249 finished with value: 0.8115201465201466 and parameters: {'scalers': 'standard', 'n_neighbors': 9, 'weights': 'distance', 'metric': 'manhattan'}. Best is trial 105 with value: 0.832293956043956.\u001b[0m\n",
            "\u001b[32m[I 2022-11-27 10:26:09,731]\u001b[0m Trial 250 finished with value: 0.6954258241758241 and parameters: {'scalers': 'standard', 'n_neighbors': 10, 'weights': 'uniform', 'metric': 'manhattan'}. Best is trial 105 with value: 0.832293956043956.\u001b[0m\n",
            "\u001b[32m[I 2022-11-27 10:26:09,776]\u001b[0m Trial 251 finished with value: 0.8103067765567765 and parameters: {'scalers': 'standard', 'n_neighbors': 12, 'weights': 'distance', 'metric': 'manhattan'}. Best is trial 105 with value: 0.832293956043956.\u001b[0m\n",
            "\u001b[32m[I 2022-11-27 10:26:09,822]\u001b[0m Trial 252 finished with value: 0.7741838798456445 and parameters: {'scalers': 'standard', 'n_neighbors': 11, 'weights': 'distance', 'metric': 'euclidean'}. Best is trial 105 with value: 0.832293956043956.\u001b[0m\n",
            "\u001b[32m[I 2022-11-27 10:26:09,869]\u001b[0m Trial 253 finished with value: 0.8318269230769232 and parameters: {'scalers': 'standard', 'n_neighbors': 13, 'weights': 'distance', 'metric': 'manhattan'}. Best is trial 105 with value: 0.832293956043956.\u001b[0m\n",
            "\u001b[32m[I 2022-11-27 10:26:09,915]\u001b[0m Trial 254 finished with value: 0.8106776556776556 and parameters: {'scalers': 'standard', 'n_neighbors': 10, 'weights': 'distance', 'metric': 'manhattan'}. Best is trial 105 with value: 0.832293956043956.\u001b[0m\n",
            "\u001b[32m[I 2022-11-27 10:26:09,971]\u001b[0m Trial 255 finished with value: 0.832293956043956 and parameters: {'scalers': 'standard', 'n_neighbors': 11, 'weights': 'distance', 'metric': 'manhattan'}. Best is trial 105 with value: 0.832293956043956.\u001b[0m\n",
            "\u001b[32m[I 2022-11-27 10:26:10,016]\u001b[0m Trial 256 finished with value: 0.8103067765567765 and parameters: {'scalers': 'standard', 'n_neighbors': 12, 'weights': 'distance', 'metric': 'manhattan'}. Best is trial 105 with value: 0.832293956043956.\u001b[0m\n",
            "\u001b[32m[I 2022-11-27 10:26:10,063]\u001b[0m Trial 257 finished with value: 0.832293956043956 and parameters: {'scalers': 'standard', 'n_neighbors': 11, 'weights': 'distance', 'metric': 'manhattan'}. Best is trial 105 with value: 0.832293956043956.\u001b[0m\n",
            "\u001b[32m[I 2022-11-27 10:26:10,110]\u001b[0m Trial 258 finished with value: 0.8106776556776556 and parameters: {'scalers': 'standard', 'n_neighbors': 10, 'weights': 'distance', 'metric': 'manhattan'}. Best is trial 105 with value: 0.832293956043956.\u001b[0m\n",
            "\u001b[32m[I 2022-11-27 10:26:10,155]\u001b[0m Trial 259 finished with value: 0.832293956043956 and parameters: {'scalers': 'standard', 'n_neighbors': 11, 'weights': 'distance', 'metric': 'manhattan'}. Best is trial 105 with value: 0.832293956043956.\u001b[0m\n",
            "\u001b[32m[I 2022-11-27 10:26:10,202]\u001b[0m Trial 260 finished with value: 0.8103067765567765 and parameters: {'scalers': 'standard', 'n_neighbors': 12, 'weights': 'distance', 'metric': 'manhattan'}. Best is trial 105 with value: 0.832293956043956.\u001b[0m\n",
            "\u001b[32m[I 2022-11-27 10:26:10,248]\u001b[0m Trial 261 finished with value: 0.832293956043956 and parameters: {'scalers': 'standard', 'n_neighbors': 11, 'weights': 'distance', 'metric': 'manhattan'}. Best is trial 105 with value: 0.832293956043956.\u001b[0m\n",
            "\u001b[32m[I 2022-11-27 10:26:10,318]\u001b[0m Trial 262 finished with value: 0.7713738222561752 and parameters: {'scalers': 'robust', 'n_neighbors': 13, 'weights': 'distance', 'metric': 'minkowski'}. Best is trial 105 with value: 0.832293956043956.\u001b[0m\n",
            "\u001b[32m[I 2022-11-27 10:26:10,365]\u001b[0m Trial 263 finished with value: 0.832293956043956 and parameters: {'scalers': 'standard', 'n_neighbors': 11, 'weights': 'distance', 'metric': 'manhattan'}. Best is trial 105 with value: 0.832293956043956.\u001b[0m\n",
            "\u001b[32m[I 2022-11-27 10:26:10,410]\u001b[0m Trial 264 finished with value: 0.8106776556776556 and parameters: {'scalers': 'standard', 'n_neighbors': 10, 'weights': 'distance', 'metric': 'manhattan'}. Best is trial 105 with value: 0.832293956043956.\u001b[0m\n",
            "\u001b[32m[I 2022-11-27 10:26:10,456]\u001b[0m Trial 265 finished with value: 0.8103067765567765 and parameters: {'scalers': 'standard', 'n_neighbors': 12, 'weights': 'distance', 'metric': 'manhattan'}. Best is trial 105 with value: 0.832293956043956.\u001b[0m\n",
            "\u001b[32m[I 2022-11-27 10:26:10,506]\u001b[0m Trial 266 finished with value: 0.8115201465201466 and parameters: {'scalers': 'standard', 'n_neighbors': 9, 'weights': 'distance', 'metric': 'manhattan'}. Best is trial 105 with value: 0.832293956043956.\u001b[0m\n",
            "\u001b[32m[I 2022-11-27 10:26:10,555]\u001b[0m Trial 267 finished with value: 0.832293956043956 and parameters: {'scalers': 'standard', 'n_neighbors': 11, 'weights': 'distance', 'metric': 'manhattan'}. Best is trial 105 with value: 0.832293956043956.\u001b[0m\n",
            "\u001b[32m[I 2022-11-27 10:26:10,601]\u001b[0m Trial 268 finished with value: 0.8103067765567765 and parameters: {'scalers': 'standard', 'n_neighbors': 12, 'weights': 'distance', 'metric': 'manhattan'}. Best is trial 105 with value: 0.832293956043956.\u001b[0m\n",
            "\u001b[32m[I 2022-11-27 10:26:10,652]\u001b[0m Trial 269 finished with value: 0.8106776556776556 and parameters: {'scalers': 'standard', 'n_neighbors': 10, 'weights': 'distance', 'metric': 'manhattan'}. Best is trial 105 with value: 0.832293956043956.\u001b[0m\n",
            "\u001b[32m[I 2022-11-27 10:26:10,700]\u001b[0m Trial 270 finished with value: 0.832293956043956 and parameters: {'scalers': 'standard', 'n_neighbors': 11, 'weights': 'distance', 'metric': 'manhattan'}. Best is trial 105 with value: 0.832293956043956.\u001b[0m\n",
            "\u001b[32m[I 2022-11-27 10:26:10,746]\u001b[0m Trial 271 finished with value: 0.8103067765567765 and parameters: {'scalers': 'standard', 'n_neighbors': 12, 'weights': 'distance', 'metric': 'manhattan'}. Best is trial 105 with value: 0.832293956043956.\u001b[0m\n",
            "\u001b[32m[I 2022-11-27 10:26:10,792]\u001b[0m Trial 272 finished with value: 0.832293956043956 and parameters: {'scalers': 'standard', 'n_neighbors': 11, 'weights': 'distance', 'metric': 'manhattan'}. Best is trial 105 with value: 0.832293956043956.\u001b[0m\n",
            "\u001b[32m[I 2022-11-27 10:26:10,841]\u001b[0m Trial 273 finished with value: 0.6954258241758241 and parameters: {'scalers': 'standard', 'n_neighbors': 10, 'weights': 'uniform', 'metric': 'manhattan'}. Best is trial 105 with value: 0.832293956043956.\u001b[0m\n",
            "\u001b[32m[I 2022-11-27 10:26:10,889]\u001b[0m Trial 274 finished with value: 0.7674531106148753 and parameters: {'scalers': 'standard', 'n_neighbors': 12, 'weights': 'distance', 'metric': 'euclidean'}. Best is trial 105 with value: 0.832293956043956.\u001b[0m\n",
            "\u001b[32m[I 2022-11-27 10:26:10,940]\u001b[0m Trial 275 finished with value: 0.832293956043956 and parameters: {'scalers': 'standard', 'n_neighbors': 11, 'weights': 'distance', 'metric': 'manhattan'}. Best is trial 105 with value: 0.832293956043956.\u001b[0m\n",
            "\u001b[32m[I 2022-11-27 10:26:10,996]\u001b[0m Trial 276 finished with value: 0.8318269230769232 and parameters: {'scalers': 'standard', 'n_neighbors': 13, 'weights': 'distance', 'metric': 'manhattan'}. Best is trial 105 with value: 0.832293956043956.\u001b[0m\n",
            "\u001b[32m[I 2022-11-27 10:26:11,042]\u001b[0m Trial 277 finished with value: 0.8106776556776556 and parameters: {'scalers': 'standard', 'n_neighbors': 10, 'weights': 'distance', 'metric': 'manhattan'}. Best is trial 105 with value: 0.832293956043956.\u001b[0m\n",
            "\u001b[32m[I 2022-11-27 10:26:11,090]\u001b[0m Trial 278 finished with value: 0.832293956043956 and parameters: {'scalers': 'standard', 'n_neighbors': 11, 'weights': 'distance', 'metric': 'manhattan'}. Best is trial 105 with value: 0.832293956043956.\u001b[0m\n",
            "\u001b[32m[I 2022-11-27 10:26:11,137]\u001b[0m Trial 279 finished with value: 0.832293956043956 and parameters: {'scalers': 'standard', 'n_neighbors': 11, 'weights': 'distance', 'metric': 'manhattan'}. Best is trial 105 with value: 0.832293956043956.\u001b[0m\n",
            "\u001b[32m[I 2022-11-27 10:26:11,182]\u001b[0m Trial 280 finished with value: 0.8106776556776556 and parameters: {'scalers': 'standard', 'n_neighbors': 10, 'weights': 'distance', 'metric': 'manhattan'}. Best is trial 105 with value: 0.832293956043956.\u001b[0m\n",
            "\u001b[32m[I 2022-11-27 10:26:11,230]\u001b[0m Trial 281 finished with value: 0.832293956043956 and parameters: {'scalers': 'standard', 'n_neighbors': 11, 'weights': 'distance', 'metric': 'manhattan'}. Best is trial 105 with value: 0.832293956043956.\u001b[0m\n",
            "\u001b[32m[I 2022-11-27 10:26:11,300]\u001b[0m Trial 282 finished with value: 0.7633148224324695 and parameters: {'scalers': 'robust', 'n_neighbors': 9, 'weights': 'distance', 'metric': 'manhattan'}. Best is trial 105 with value: 0.832293956043956.\u001b[0m\n",
            "\u001b[32m[I 2022-11-27 10:26:11,346]\u001b[0m Trial 283 finished with value: 0.8103067765567765 and parameters: {'scalers': 'standard', 'n_neighbors': 12, 'weights': 'distance', 'metric': 'manhattan'}. Best is trial 105 with value: 0.832293956043956.\u001b[0m\n",
            "\u001b[32m[I 2022-11-27 10:26:11,394]\u001b[0m Trial 284 finished with value: 0.8106776556776556 and parameters: {'scalers': 'standard', 'n_neighbors': 10, 'weights': 'distance', 'metric': 'manhattan'}. Best is trial 105 with value: 0.832293956043956.\u001b[0m\n",
            "\u001b[32m[I 2022-11-27 10:26:11,444]\u001b[0m Trial 285 finished with value: 0.832293956043956 and parameters: {'scalers': 'standard', 'n_neighbors': 11, 'weights': 'distance', 'metric': 'manhattan'}. Best is trial 105 with value: 0.832293956043956.\u001b[0m\n",
            "\u001b[32m[I 2022-11-27 10:26:11,491]\u001b[0m Trial 286 finished with value: 0.832293956043956 and parameters: {'scalers': 'standard', 'n_neighbors': 11, 'weights': 'distance', 'metric': 'manhattan'}. Best is trial 105 with value: 0.832293956043956.\u001b[0m\n",
            "\u001b[32m[I 2022-11-27 10:26:11,541]\u001b[0m Trial 287 finished with value: 0.7674531106148753 and parameters: {'scalers': 'standard', 'n_neighbors': 12, 'weights': 'distance', 'metric': 'minkowski'}. Best is trial 105 with value: 0.832293956043956.\u001b[0m\n",
            "\u001b[32m[I 2022-11-27 10:26:11,588]\u001b[0m Trial 288 finished with value: 0.8022551223286516 and parameters: {'scalers': 'standard', 'n_neighbors': 4, 'weights': 'distance', 'metric': 'manhattan'}. Best is trial 105 with value: 0.832293956043956.\u001b[0m\n",
            "\u001b[32m[I 2022-11-27 10:26:11,635]\u001b[0m Trial 289 finished with value: 0.8318269230769232 and parameters: {'scalers': 'standard', 'n_neighbors': 13, 'weights': 'distance', 'metric': 'manhattan'}. Best is trial 105 with value: 0.832293956043956.\u001b[0m\n",
            "\u001b[32m[I 2022-11-27 10:26:11,687]\u001b[0m Trial 290 finished with value: 0.6954258241758241 and parameters: {'scalers': 'standard', 'n_neighbors': 10, 'weights': 'uniform', 'metric': 'manhattan'}. Best is trial 105 with value: 0.832293956043956.\u001b[0m\n",
            "\u001b[32m[I 2022-11-27 10:26:11,735]\u001b[0m Trial 291 finished with value: 0.8103067765567765 and parameters: {'scalers': 'standard', 'n_neighbors': 12, 'weights': 'distance', 'metric': 'manhattan'}. Best is trial 105 with value: 0.832293956043956.\u001b[0m\n",
            "\u001b[32m[I 2022-11-27 10:26:11,782]\u001b[0m Trial 292 finished with value: 0.8115201465201466 and parameters: {'scalers': 'standard', 'n_neighbors': 9, 'weights': 'distance', 'metric': 'manhattan'}. Best is trial 105 with value: 0.832293956043956.\u001b[0m\n",
            "\u001b[32m[I 2022-11-27 10:26:11,828]\u001b[0m Trial 293 finished with value: 0.832293956043956 and parameters: {'scalers': 'standard', 'n_neighbors': 11, 'weights': 'distance', 'metric': 'manhattan'}. Best is trial 105 with value: 0.832293956043956.\u001b[0m\n",
            "\u001b[32m[I 2022-11-27 10:26:11,879]\u001b[0m Trial 294 finished with value: 0.832293956043956 and parameters: {'scalers': 'standard', 'n_neighbors': 11, 'weights': 'distance', 'metric': 'manhattan'}. Best is trial 105 with value: 0.832293956043956.\u001b[0m\n",
            "\u001b[32m[I 2022-11-27 10:26:11,933]\u001b[0m Trial 295 finished with value: 0.8106776556776556 and parameters: {'scalers': 'standard', 'n_neighbors': 10, 'weights': 'distance', 'metric': 'manhattan'}. Best is trial 105 with value: 0.832293956043956.\u001b[0m\n",
            "\u001b[32m[I 2022-11-27 10:26:11,979]\u001b[0m Trial 296 finished with value: 0.8103067765567765 and parameters: {'scalers': 'standard', 'n_neighbors': 12, 'weights': 'distance', 'metric': 'manhattan'}. Best is trial 105 with value: 0.832293956043956.\u001b[0m\n",
            "\u001b[32m[I 2022-11-27 10:26:12,036]\u001b[0m Trial 297 finished with value: 0.832293956043956 and parameters: {'scalers': 'standard', 'n_neighbors': 11, 'weights': 'distance', 'metric': 'manhattan'}. Best is trial 105 with value: 0.832293956043956.\u001b[0m\n",
            "\u001b[32m[I 2022-11-27 10:26:12,083]\u001b[0m Trial 298 finished with value: 0.8106776556776556 and parameters: {'scalers': 'standard', 'n_neighbors': 10, 'weights': 'distance', 'metric': 'manhattan'}. Best is trial 105 with value: 0.832293956043956.\u001b[0m\n",
            "\u001b[32m[I 2022-11-27 10:26:12,131]\u001b[0m Trial 299 finished with value: 0.7741838798456445 and parameters: {'scalers': 'standard', 'n_neighbors': 11, 'weights': 'distance', 'metric': 'euclidean'}. Best is trial 105 with value: 0.832293956043956.\u001b[0m\n",
            "\u001b[32m[I 2022-11-27 10:26:12,176]\u001b[0m Trial 300 finished with value: 0.8102827809445456 and parameters: {'scalers': 'standard', 'n_neighbors': 8, 'weights': 'distance', 'metric': 'manhattan'}. Best is trial 105 with value: 0.832293956043956.\u001b[0m\n",
            "\u001b[32m[I 2022-11-27 10:26:12,221]\u001b[0m Trial 301 finished with value: 0.8318269230769232 and parameters: {'scalers': 'standard', 'n_neighbors': 13, 'weights': 'distance', 'metric': 'manhattan'}. Best is trial 105 with value: 0.832293956043956.\u001b[0m\n",
            "\u001b[32m[I 2022-11-27 10:26:12,268]\u001b[0m Trial 302 finished with value: 0.832293956043956 and parameters: {'scalers': 'standard', 'n_neighbors': 11, 'weights': 'distance', 'metric': 'manhattan'}. Best is trial 105 with value: 0.832293956043956.\u001b[0m\n",
            "\u001b[32m[I 2022-11-27 10:26:12,339]\u001b[0m Trial 303 finished with value: 0.7972058578676225 and parameters: {'scalers': 'robust', 'n_neighbors': 12, 'weights': 'distance', 'metric': 'manhattan'}. Best is trial 105 with value: 0.832293956043956.\u001b[0m\n",
            "\u001b[32m[I 2022-11-27 10:26:12,385]\u001b[0m Trial 304 finished with value: 0.8115201465201466 and parameters: {'scalers': 'standard', 'n_neighbors': 9, 'weights': 'distance', 'metric': 'manhattan'}. Best is trial 105 with value: 0.832293956043956.\u001b[0m\n",
            "\u001b[32m[I 2022-11-27 10:26:12,430]\u001b[0m Trial 305 finished with value: 0.8106776556776556 and parameters: {'scalers': 'standard', 'n_neighbors': 10, 'weights': 'distance', 'metric': 'manhattan'}. Best is trial 105 with value: 0.832293956043956.\u001b[0m\n",
            "\u001b[32m[I 2022-11-27 10:26:12,476]\u001b[0m Trial 306 finished with value: 0.832293956043956 and parameters: {'scalers': 'standard', 'n_neighbors': 11, 'weights': 'distance', 'metric': 'manhattan'}. Best is trial 105 with value: 0.832293956043956.\u001b[0m\n",
            "\u001b[32m[I 2022-11-27 10:26:12,524]\u001b[0m Trial 307 finished with value: 0.832293956043956 and parameters: {'scalers': 'standard', 'n_neighbors': 11, 'weights': 'distance', 'metric': 'manhattan'}. Best is trial 105 with value: 0.832293956043956.\u001b[0m\n",
            "\u001b[32m[I 2022-11-27 10:26:12,572]\u001b[0m Trial 308 finished with value: 0.8103067765567765 and parameters: {'scalers': 'standard', 'n_neighbors': 12, 'weights': 'distance', 'metric': 'manhattan'}. Best is trial 105 with value: 0.832293956043956.\u001b[0m\n",
            "\u001b[32m[I 2022-11-27 10:26:12,636]\u001b[0m Trial 309 finished with value: 0.832293956043956 and parameters: {'scalers': 'standard', 'n_neighbors': 11, 'weights': 'distance', 'metric': 'manhattan'}. Best is trial 105 with value: 0.832293956043956.\u001b[0m\n",
            "\u001b[32m[I 2022-11-27 10:26:12,691]\u001b[0m Trial 310 finished with value: 0.6875019343401696 and parameters: {'scalers': 'standard', 'n_neighbors': 10, 'weights': 'uniform', 'metric': 'minkowski'}. Best is trial 105 with value: 0.832293956043956.\u001b[0m\n",
            "\u001b[32m[I 2022-11-27 10:26:12,742]\u001b[0m Trial 311 finished with value: 0.8103067765567765 and parameters: {'scalers': 'standard', 'n_neighbors': 12, 'weights': 'distance', 'metric': 'manhattan'}. Best is trial 105 with value: 0.832293956043956.\u001b[0m\n",
            "\u001b[32m[I 2022-11-27 10:26:12,791]\u001b[0m Trial 312 finished with value: 0.832293956043956 and parameters: {'scalers': 'standard', 'n_neighbors': 11, 'weights': 'distance', 'metric': 'manhattan'}. Best is trial 105 with value: 0.832293956043956.\u001b[0m\n",
            "\u001b[32m[I 2022-11-27 10:26:12,837]\u001b[0m Trial 313 finished with value: 0.8106776556776556 and parameters: {'scalers': 'standard', 'n_neighbors': 10, 'weights': 'distance', 'metric': 'manhattan'}. Best is trial 105 with value: 0.832293956043956.\u001b[0m\n",
            "\u001b[32m[I 2022-11-27 10:26:12,884]\u001b[0m Trial 314 finished with value: 0.81627442002442 and parameters: {'scalers': 'standard', 'n_neighbors': 27, 'weights': 'distance', 'metric': 'manhattan'}. Best is trial 105 with value: 0.832293956043956.\u001b[0m\n",
            "\u001b[32m[I 2022-11-27 10:26:12,933]\u001b[0m Trial 315 finished with value: 0.8103067765567765 and parameters: {'scalers': 'standard', 'n_neighbors': 12, 'weights': 'distance', 'metric': 'manhattan'}. Best is trial 105 with value: 0.832293956043956.\u001b[0m\n",
            "\u001b[32m[I 2022-11-27 10:26:12,996]\u001b[0m Trial 316 finished with value: 0.8318269230769232 and parameters: {'scalers': 'standard', 'n_neighbors': 13, 'weights': 'distance', 'metric': 'manhattan'}. Best is trial 105 with value: 0.832293956043956.\u001b[0m\n",
            "\u001b[32m[I 2022-11-27 10:26:13,053]\u001b[0m Trial 317 finished with value: 0.8106776556776556 and parameters: {'scalers': 'standard', 'n_neighbors': 10, 'weights': 'distance', 'metric': 'manhattan'}. Best is trial 105 with value: 0.832293956043956.\u001b[0m\n",
            "\u001b[32m[I 2022-11-27 10:26:13,101]\u001b[0m Trial 318 finished with value: 0.832293956043956 and parameters: {'scalers': 'standard', 'n_neighbors': 11, 'weights': 'distance', 'metric': 'manhattan'}. Best is trial 105 with value: 0.832293956043956.\u001b[0m\n",
            "\u001b[32m[I 2022-11-27 10:26:13,149]\u001b[0m Trial 319 finished with value: 0.7741838798456445 and parameters: {'scalers': 'standard', 'n_neighbors': 11, 'weights': 'distance', 'metric': 'euclidean'}. Best is trial 105 with value: 0.832293956043956.\u001b[0m\n",
            "\u001b[32m[I 2022-11-27 10:26:13,196]\u001b[0m Trial 320 finished with value: 0.8103067765567765 and parameters: {'scalers': 'standard', 'n_neighbors': 12, 'weights': 'distance', 'metric': 'manhattan'}. Best is trial 105 with value: 0.832293956043956.\u001b[0m\n",
            "\u001b[32m[I 2022-11-27 10:26:13,252]\u001b[0m Trial 321 finished with value: 0.8115201465201466 and parameters: {'scalers': 'standard', 'n_neighbors': 9, 'weights': 'distance', 'metric': 'manhattan'}. Best is trial 105 with value: 0.832293956043956.\u001b[0m\n",
            "\u001b[32m[I 2022-11-27 10:26:13,301]\u001b[0m Trial 322 finished with value: 0.8106776556776556 and parameters: {'scalers': 'standard', 'n_neighbors': 10, 'weights': 'distance', 'metric': 'manhattan'}. Best is trial 105 with value: 0.832293956043956.\u001b[0m\n",
            "\u001b[32m[I 2022-11-27 10:26:13,347]\u001b[0m Trial 323 finished with value: 0.832293956043956 and parameters: {'scalers': 'standard', 'n_neighbors': 11, 'weights': 'distance', 'metric': 'manhattan'}. Best is trial 105 with value: 0.832293956043956.\u001b[0m\n",
            "\u001b[32m[I 2022-11-27 10:26:13,393]\u001b[0m Trial 324 finished with value: 0.8103067765567765 and parameters: {'scalers': 'standard', 'n_neighbors': 12, 'weights': 'distance', 'metric': 'manhattan'}. Best is trial 105 with value: 0.832293956043956.\u001b[0m\n",
            "\u001b[32m[I 2022-11-27 10:26:13,464]\u001b[0m Trial 325 finished with value: 0.7493553015611839 and parameters: {'scalers': 'robust', 'n_neighbors': 10, 'weights': 'distance', 'metric': 'manhattan'}. Best is trial 105 with value: 0.832293956043956.\u001b[0m\n",
            "\u001b[32m[I 2022-11-27 10:26:13,510]\u001b[0m Trial 326 finished with value: 0.8103067765567765 and parameters: {'scalers': 'standard', 'n_neighbors': 12, 'weights': 'distance', 'metric': 'manhattan'}. Best is trial 105 with value: 0.832293956043956.\u001b[0m\n",
            "\u001b[32m[I 2022-11-27 10:26:13,558]\u001b[0m Trial 327 finished with value: 0.832293956043956 and parameters: {'scalers': 'standard', 'n_neighbors': 11, 'weights': 'distance', 'metric': 'manhattan'}. Best is trial 105 with value: 0.832293956043956.\u001b[0m\n",
            "\u001b[32m[I 2022-11-27 10:26:13,604]\u001b[0m Trial 328 finished with value: 0.832293956043956 and parameters: {'scalers': 'standard', 'n_neighbors': 11, 'weights': 'distance', 'metric': 'manhattan'}. Best is trial 105 with value: 0.832293956043956.\u001b[0m\n",
            "\u001b[32m[I 2022-11-27 10:26:13,651]\u001b[0m Trial 329 finished with value: 0.8318269230769232 and parameters: {'scalers': 'standard', 'n_neighbors': 13, 'weights': 'distance', 'metric': 'manhattan'}. Best is trial 105 with value: 0.832293956043956.\u001b[0m\n",
            "\u001b[32m[I 2022-11-27 10:26:13,698]\u001b[0m Trial 330 finished with value: 0.7655326617826618 and parameters: {'scalers': 'standard', 'n_neighbors': 10, 'weights': 'distance', 'metric': 'minkowski'}. Best is trial 105 with value: 0.832293956043956.\u001b[0m\n",
            "\u001b[32m[I 2022-11-27 10:26:13,749]\u001b[0m Trial 331 finished with value: 0.6985425440572499 and parameters: {'scalers': 'standard', 'n_neighbors': 11, 'weights': 'uniform', 'metric': 'manhattan'}. Best is trial 105 with value: 0.832293956043956.\u001b[0m\n",
            "\u001b[32m[I 2022-11-27 10:26:13,798]\u001b[0m Trial 332 finished with value: 0.8103067765567765 and parameters: {'scalers': 'standard', 'n_neighbors': 12, 'weights': 'distance', 'metric': 'manhattan'}. Best is trial 105 with value: 0.832293956043956.\u001b[0m\n",
            "\u001b[32m[I 2022-11-27 10:26:13,857]\u001b[0m Trial 333 finished with value: 0.832293956043956 and parameters: {'scalers': 'standard', 'n_neighbors': 11, 'weights': 'distance', 'metric': 'manhattan'}. Best is trial 105 with value: 0.832293956043956.\u001b[0m\n",
            "\u001b[32m[I 2022-11-27 10:26:13,908]\u001b[0m Trial 334 finished with value: 0.8106776556776556 and parameters: {'scalers': 'standard', 'n_neighbors': 10, 'weights': 'distance', 'metric': 'manhattan'}. Best is trial 105 with value: 0.832293956043956.\u001b[0m\n",
            "\u001b[32m[I 2022-11-27 10:26:13,961]\u001b[0m Trial 335 finished with value: 0.832293956043956 and parameters: {'scalers': 'standard', 'n_neighbors': 11, 'weights': 'distance', 'metric': 'manhattan'}. Best is trial 105 with value: 0.832293956043956.\u001b[0m\n",
            "\u001b[32m[I 2022-11-27 10:26:14,013]\u001b[0m Trial 336 finished with value: 0.8115201465201466 and parameters: {'scalers': 'standard', 'n_neighbors': 9, 'weights': 'distance', 'metric': 'manhattan'}. Best is trial 105 with value: 0.832293956043956.\u001b[0m\n",
            "\u001b[32m[I 2022-11-27 10:26:14,071]\u001b[0m Trial 337 finished with value: 0.8103067765567765 and parameters: {'scalers': 'standard', 'n_neighbors': 12, 'weights': 'distance', 'metric': 'manhattan'}. Best is trial 105 with value: 0.832293956043956.\u001b[0m\n",
            "\u001b[32m[I 2022-11-27 10:26:14,120]\u001b[0m Trial 338 finished with value: 0.832293956043956 and parameters: {'scalers': 'standard', 'n_neighbors': 11, 'weights': 'distance', 'metric': 'manhattan'}. Best is trial 105 with value: 0.832293956043956.\u001b[0m\n",
            "\u001b[32m[I 2022-11-27 10:26:14,168]\u001b[0m Trial 339 finished with value: 0.8318269230769232 and parameters: {'scalers': 'standard', 'n_neighbors': 13, 'weights': 'distance', 'metric': 'manhattan'}. Best is trial 105 with value: 0.832293956043956.\u001b[0m\n",
            "\u001b[32m[I 2022-11-27 10:26:14,217]\u001b[0m Trial 340 finished with value: 0.8106776556776556 and parameters: {'scalers': 'standard', 'n_neighbors': 10, 'weights': 'distance', 'metric': 'manhattan'}. Best is trial 105 with value: 0.832293956043956.\u001b[0m\n",
            "\u001b[32m[I 2022-11-27 10:26:14,267]\u001b[0m Trial 341 finished with value: 0.832293956043956 and parameters: {'scalers': 'standard', 'n_neighbors': 11, 'weights': 'distance', 'metric': 'manhattan'}. Best is trial 105 with value: 0.832293956043956.\u001b[0m\n",
            "\u001b[32m[I 2022-11-27 10:26:14,313]\u001b[0m Trial 342 finished with value: 0.8026545758163405 and parameters: {'scalers': 'standard', 'n_neighbors': 7, 'weights': 'distance', 'metric': 'manhattan'}. Best is trial 105 with value: 0.832293956043956.\u001b[0m\n",
            "\u001b[32m[I 2022-11-27 10:26:14,359]\u001b[0m Trial 343 finished with value: 0.7674531106148753 and parameters: {'scalers': 'standard', 'n_neighbors': 12, 'weights': 'distance', 'metric': 'euclidean'}. Best is trial 105 with value: 0.832293956043956.\u001b[0m\n",
            "\u001b[32m[I 2022-11-27 10:26:14,405]\u001b[0m Trial 344 finished with value: 0.8106776556776556 and parameters: {'scalers': 'standard', 'n_neighbors': 10, 'weights': 'distance', 'metric': 'manhattan'}. Best is trial 105 with value: 0.832293956043956.\u001b[0m\n",
            "\u001b[32m[I 2022-11-27 10:26:14,460]\u001b[0m Trial 345 finished with value: 0.832293956043956 and parameters: {'scalers': 'standard', 'n_neighbors': 11, 'weights': 'distance', 'metric': 'manhattan'}. Best is trial 105 with value: 0.832293956043956.\u001b[0m\n",
            "\u001b[32m[I 2022-11-27 10:26:14,535]\u001b[0m Trial 346 finished with value: 0.7972058578676225 and parameters: {'scalers': 'robust', 'n_neighbors': 12, 'weights': 'distance', 'metric': 'manhattan'}. Best is trial 105 with value: 0.832293956043956.\u001b[0m\n",
            "\u001b[32m[I 2022-11-27 10:26:14,585]\u001b[0m Trial 347 finished with value: 0.8106776556776556 and parameters: {'scalers': 'standard', 'n_neighbors': 10, 'weights': 'distance', 'metric': 'manhattan'}. Best is trial 105 with value: 0.832293956043956.\u001b[0m\n",
            "\u001b[32m[I 2022-11-27 10:26:14,630]\u001b[0m Trial 348 finished with value: 0.832293956043956 and parameters: {'scalers': 'standard', 'n_neighbors': 11, 'weights': 'distance', 'metric': 'manhattan'}. Best is trial 105 with value: 0.832293956043956.\u001b[0m\n",
            "\u001b[32m[I 2022-11-27 10:26:14,679]\u001b[0m Trial 349 finished with value: 0.832293956043956 and parameters: {'scalers': 'standard', 'n_neighbors': 11, 'weights': 'distance', 'metric': 'manhattan'}. Best is trial 105 with value: 0.832293956043956.\u001b[0m\n",
            "\u001b[32m[I 2022-11-27 10:26:14,730]\u001b[0m Trial 350 finished with value: 0.7019543201896143 and parameters: {'scalers': 'standard', 'n_neighbors': 12, 'weights': 'uniform', 'metric': 'manhattan'}. Best is trial 105 with value: 0.832293956043956.\u001b[0m\n",
            "\u001b[32m[I 2022-11-27 10:26:14,779]\u001b[0m Trial 351 finished with value: 0.8115201465201466 and parameters: {'scalers': 'standard', 'n_neighbors': 9, 'weights': 'distance', 'metric': 'manhattan'}. Best is trial 105 with value: 0.832293956043956.\u001b[0m\n",
            "\u001b[32m[I 2022-11-27 10:26:14,826]\u001b[0m Trial 352 finished with value: 0.832293956043956 and parameters: {'scalers': 'standard', 'n_neighbors': 11, 'weights': 'distance', 'metric': 'manhattan'}. Best is trial 105 with value: 0.832293956043956.\u001b[0m\n",
            "\u001b[32m[I 2022-11-27 10:26:14,876]\u001b[0m Trial 353 finished with value: 0.7655326617826618 and parameters: {'scalers': 'standard', 'n_neighbors': 10, 'weights': 'distance', 'metric': 'minkowski'}. Best is trial 105 with value: 0.832293956043956.\u001b[0m\n",
            "\u001b[32m[I 2022-11-27 10:26:14,922]\u001b[0m Trial 354 finished with value: 0.832293956043956 and parameters: {'scalers': 'standard', 'n_neighbors': 11, 'weights': 'distance', 'metric': 'manhattan'}. Best is trial 105 with value: 0.832293956043956.\u001b[0m\n",
            "\u001b[32m[I 2022-11-27 10:26:14,971]\u001b[0m Trial 355 finished with value: 0.8103067765567765 and parameters: {'scalers': 'standard', 'n_neighbors': 12, 'weights': 'distance', 'metric': 'manhattan'}. Best is trial 105 with value: 0.832293956043956.\u001b[0m\n",
            "\u001b[32m[I 2022-11-27 10:26:15,018]\u001b[0m Trial 356 finished with value: 0.8318269230769232 and parameters: {'scalers': 'standard', 'n_neighbors': 13, 'weights': 'distance', 'metric': 'manhattan'}. Best is trial 105 with value: 0.832293956043956.\u001b[0m\n",
            "\u001b[32m[I 2022-11-27 10:26:15,082]\u001b[0m Trial 357 finished with value: 0.8106776556776556 and parameters: {'scalers': 'standard', 'n_neighbors': 10, 'weights': 'distance', 'metric': 'manhattan'}. Best is trial 105 with value: 0.832293956043956.\u001b[0m\n",
            "\u001b[32m[I 2022-11-27 10:26:15,130]\u001b[0m Trial 358 finished with value: 0.832293956043956 and parameters: {'scalers': 'standard', 'n_neighbors': 11, 'weights': 'distance', 'metric': 'manhattan'}. Best is trial 105 with value: 0.832293956043956.\u001b[0m\n",
            "\u001b[32m[I 2022-11-27 10:26:15,180]\u001b[0m Trial 359 finished with value: 0.8103067765567765 and parameters: {'scalers': 'standard', 'n_neighbors': 12, 'weights': 'distance', 'metric': 'manhattan'}. Best is trial 105 with value: 0.832293956043956.\u001b[0m\n",
            "\u001b[32m[I 2022-11-27 10:26:15,228]\u001b[0m Trial 360 finished with value: 0.8106776556776556 and parameters: {'scalers': 'standard', 'n_neighbors': 10, 'weights': 'distance', 'metric': 'manhattan'}. Best is trial 105 with value: 0.832293956043956.\u001b[0m\n",
            "\u001b[32m[I 2022-11-27 10:26:15,275]\u001b[0m Trial 361 finished with value: 0.8103067765567765 and parameters: {'scalers': 'standard', 'n_neighbors': 12, 'weights': 'distance', 'metric': 'manhattan'}. Best is trial 105 with value: 0.832293956043956.\u001b[0m\n",
            "\u001b[32m[I 2022-11-27 10:26:15,325]\u001b[0m Trial 362 finished with value: 0.8106776556776556 and parameters: {'scalers': 'standard', 'n_neighbors': 10, 'weights': 'distance', 'metric': 'manhattan'}. Best is trial 105 with value: 0.832293956043956.\u001b[0m\n",
            "\u001b[32m[I 2022-11-27 10:26:15,371]\u001b[0m Trial 363 finished with value: 0.8115201465201466 and parameters: {'scalers': 'standard', 'n_neighbors': 9, 'weights': 'distance', 'metric': 'manhattan'}. Best is trial 105 with value: 0.832293956043956.\u001b[0m\n",
            "\u001b[32m[I 2022-11-27 10:26:15,421]\u001b[0m Trial 364 finished with value: 0.7741838798456445 and parameters: {'scalers': 'standard', 'n_neighbors': 11, 'weights': 'distance', 'metric': 'euclidean'}. Best is trial 105 with value: 0.832293956043956.\u001b[0m\n",
            "\u001b[32m[I 2022-11-27 10:26:15,468]\u001b[0m Trial 365 finished with value: 0.832293956043956 and parameters: {'scalers': 'standard', 'n_neighbors': 11, 'weights': 'distance', 'metric': 'manhattan'}. Best is trial 105 with value: 0.832293956043956.\u001b[0m\n",
            "\u001b[32m[I 2022-11-27 10:26:15,515]\u001b[0m Trial 366 finished with value: 0.8093312324929972 and parameters: {'scalers': 'standard', 'n_neighbors': 23, 'weights': 'distance', 'metric': 'manhattan'}. Best is trial 105 with value: 0.832293956043956.\u001b[0m\n",
            "\u001b[32m[I 2022-11-27 10:26:15,594]\u001b[0m Trial 367 finished with value: 0.7900549205696265 and parameters: {'scalers': 'robust', 'n_neighbors': 13, 'weights': 'distance', 'metric': 'manhattan'}. Best is trial 105 with value: 0.832293956043956.\u001b[0m\n",
            "\u001b[32m[I 2022-11-27 10:26:15,645]\u001b[0m Trial 368 finished with value: 0.7019543201896143 and parameters: {'scalers': 'standard', 'n_neighbors': 12, 'weights': 'uniform', 'metric': 'manhattan'}. Best is trial 105 with value: 0.832293956043956.\u001b[0m\n",
            "\u001b[32m[I 2022-11-27 10:26:15,700]\u001b[0m Trial 369 finished with value: 0.832293956043956 and parameters: {'scalers': 'standard', 'n_neighbors': 11, 'weights': 'distance', 'metric': 'manhattan'}. Best is trial 105 with value: 0.832293956043956.\u001b[0m\n",
            "\u001b[32m[I 2022-11-27 10:26:15,749]\u001b[0m Trial 370 finished with value: 0.8106776556776556 and parameters: {'scalers': 'standard', 'n_neighbors': 10, 'weights': 'distance', 'metric': 'manhattan'}. Best is trial 105 with value: 0.832293956043956.\u001b[0m\n",
            "\u001b[32m[I 2022-11-27 10:26:15,798]\u001b[0m Trial 371 finished with value: 0.8103067765567765 and parameters: {'scalers': 'standard', 'n_neighbors': 12, 'weights': 'distance', 'metric': 'manhattan'}. Best is trial 105 with value: 0.832293956043956.\u001b[0m\n",
            "\u001b[32m[I 2022-11-27 10:26:15,846]\u001b[0m Trial 372 finished with value: 0.8097608029225676 and parameters: {'scalers': 'standard', 'n_neighbors': 14, 'weights': 'distance', 'metric': 'manhattan'}. Best is trial 105 with value: 0.832293956043956.\u001b[0m\n",
            "\u001b[32m[I 2022-11-27 10:26:15,892]\u001b[0m Trial 373 finished with value: 0.832293956043956 and parameters: {'scalers': 'standard', 'n_neighbors': 11, 'weights': 'distance', 'metric': 'manhattan'}. Best is trial 105 with value: 0.832293956043956.\u001b[0m\n",
            "\u001b[32m[I 2022-11-27 10:26:15,943]\u001b[0m Trial 374 finished with value: 0.832293956043956 and parameters: {'scalers': 'standard', 'n_neighbors': 11, 'weights': 'distance', 'metric': 'manhattan'}. Best is trial 105 with value: 0.832293956043956.\u001b[0m\n",
            "\u001b[32m[I 2022-11-27 10:26:15,990]\u001b[0m Trial 375 finished with value: 0.832293956043956 and parameters: {'scalers': 'standard', 'n_neighbors': 11, 'weights': 'distance', 'metric': 'manhattan'}. Best is trial 105 with value: 0.832293956043956.\u001b[0m\n",
            "\u001b[32m[I 2022-11-27 10:26:16,038]\u001b[0m Trial 376 finished with value: 0.7655326617826618 and parameters: {'scalers': 'standard', 'n_neighbors': 10, 'weights': 'distance', 'metric': 'minkowski'}. Best is trial 105 with value: 0.832293956043956.\u001b[0m\n",
            "\u001b[32m[I 2022-11-27 10:26:16,095]\u001b[0m Trial 377 finished with value: 0.832293956043956 and parameters: {'scalers': 'standard', 'n_neighbors': 11, 'weights': 'distance', 'metric': 'manhattan'}. Best is trial 105 with value: 0.832293956043956.\u001b[0m\n",
            "\u001b[32m[I 2022-11-27 10:26:16,145]\u001b[0m Trial 378 finished with value: 0.8103067765567765 and parameters: {'scalers': 'standard', 'n_neighbors': 12, 'weights': 'distance', 'metric': 'manhattan'}. Best is trial 105 with value: 0.832293956043956.\u001b[0m\n",
            "\u001b[32m[I 2022-11-27 10:26:16,193]\u001b[0m Trial 379 finished with value: 0.8115201465201466 and parameters: {'scalers': 'standard', 'n_neighbors': 9, 'weights': 'distance', 'metric': 'manhattan'}. Best is trial 105 with value: 0.832293956043956.\u001b[0m\n",
            "\u001b[32m[I 2022-11-27 10:26:16,243]\u001b[0m Trial 380 finished with value: 0.8106776556776556 and parameters: {'scalers': 'standard', 'n_neighbors': 10, 'weights': 'distance', 'metric': 'manhattan'}. Best is trial 105 with value: 0.832293956043956.\u001b[0m\n",
            "\u001b[32m[I 2022-11-27 10:26:16,291]\u001b[0m Trial 381 finished with value: 0.8103067765567765 and parameters: {'scalers': 'standard', 'n_neighbors': 12, 'weights': 'distance', 'metric': 'manhattan'}. Best is trial 105 with value: 0.832293956043956.\u001b[0m\n",
            "\u001b[32m[I 2022-11-27 10:26:16,340]\u001b[0m Trial 382 finished with value: 0.832293956043956 and parameters: {'scalers': 'standard', 'n_neighbors': 11, 'weights': 'distance', 'metric': 'manhattan'}. Best is trial 105 with value: 0.832293956043956.\u001b[0m\n",
            "\u001b[32m[I 2022-11-27 10:26:16,390]\u001b[0m Trial 383 finished with value: 0.8106776556776556 and parameters: {'scalers': 'standard', 'n_neighbors': 10, 'weights': 'distance', 'metric': 'manhattan'}. Best is trial 105 with value: 0.832293956043956.\u001b[0m\n",
            "\u001b[32m[I 2022-11-27 10:26:16,439]\u001b[0m Trial 384 finished with value: 0.8318269230769232 and parameters: {'scalers': 'standard', 'n_neighbors': 13, 'weights': 'distance', 'metric': 'manhattan'}. Best is trial 105 with value: 0.832293956043956.\u001b[0m\n",
            "\u001b[32m[I 2022-11-27 10:26:16,488]\u001b[0m Trial 385 finished with value: 0.8019494476112122 and parameters: {'scalers': 'standard', 'n_neighbors': 5, 'weights': 'distance', 'metric': 'manhattan'}. Best is trial 105 with value: 0.832293956043956.\u001b[0m\n",
            "\u001b[32m[I 2022-11-27 10:26:16,540]\u001b[0m Trial 386 finished with value: 0.832293956043956 and parameters: {'scalers': 'standard', 'n_neighbors': 11, 'weights': 'distance', 'metric': 'manhattan'}. Best is trial 105 with value: 0.832293956043956.\u001b[0m\n",
            "\u001b[32m[I 2022-11-27 10:26:16,592]\u001b[0m Trial 387 finished with value: 0.7674531106148753 and parameters: {'scalers': 'standard', 'n_neighbors': 12, 'weights': 'distance', 'metric': 'euclidean'}. Best is trial 105 with value: 0.832293956043956.\u001b[0m\n",
            "\u001b[32m[I 2022-11-27 10:26:16,672]\u001b[0m Trial 388 finished with value: 0.7633148224324695 and parameters: {'scalers': 'robust', 'n_neighbors': 9, 'weights': 'distance', 'metric': 'manhattan'}. Best is trial 105 with value: 0.832293956043956.\u001b[0m\n",
            "\u001b[32m[I 2022-11-27 10:26:16,726]\u001b[0m Trial 389 finished with value: 0.6954258241758241 and parameters: {'scalers': 'standard', 'n_neighbors': 10, 'weights': 'uniform', 'metric': 'manhattan'}. Best is trial 105 with value: 0.832293956043956.\u001b[0m\n",
            "\u001b[32m[I 2022-11-27 10:26:16,777]\u001b[0m Trial 390 finished with value: 0.832293956043956 and parameters: {'scalers': 'standard', 'n_neighbors': 11, 'weights': 'distance', 'metric': 'manhattan'}. Best is trial 105 with value: 0.832293956043956.\u001b[0m\n",
            "\u001b[32m[I 2022-11-27 10:26:16,827]\u001b[0m Trial 391 finished with value: 0.8103067765567765 and parameters: {'scalers': 'standard', 'n_neighbors': 12, 'weights': 'distance', 'metric': 'manhattan'}. Best is trial 105 with value: 0.832293956043956.\u001b[0m\n",
            "\u001b[32m[I 2022-11-27 10:26:16,877]\u001b[0m Trial 392 finished with value: 0.7942872405372405 and parameters: {'scalers': 'standard', 'n_neighbors': 21, 'weights': 'distance', 'metric': 'manhattan'}. Best is trial 105 with value: 0.832293956043956.\u001b[0m\n",
            "\u001b[32m[I 2022-11-27 10:26:16,929]\u001b[0m Trial 393 finished with value: 0.8103067765567765 and parameters: {'scalers': 'standard', 'n_neighbors': 12, 'weights': 'distance', 'metric': 'manhattan'}. Best is trial 105 with value: 0.832293956043956.\u001b[0m\n",
            "\u001b[32m[I 2022-11-27 10:26:16,981]\u001b[0m Trial 394 finished with value: 0.832293956043956 and parameters: {'scalers': 'standard', 'n_neighbors': 11, 'weights': 'distance', 'metric': 'manhattan'}. Best is trial 105 with value: 0.832293956043956.\u001b[0m\n",
            "\u001b[32m[I 2022-11-27 10:26:17,030]\u001b[0m Trial 395 finished with value: 0.8097608029225676 and parameters: {'scalers': 'standard', 'n_neighbors': 14, 'weights': 'distance', 'metric': 'manhattan'}. Best is trial 105 with value: 0.832293956043956.\u001b[0m\n",
            "\u001b[32m[I 2022-11-27 10:26:17,081]\u001b[0m Trial 396 finished with value: 0.8106776556776556 and parameters: {'scalers': 'standard', 'n_neighbors': 10, 'weights': 'distance', 'metric': 'manhattan'}. Best is trial 105 with value: 0.832293956043956.\u001b[0m\n",
            "\u001b[32m[I 2022-11-27 10:26:17,142]\u001b[0m Trial 397 finished with value: 0.832293956043956 and parameters: {'scalers': 'standard', 'n_neighbors': 11, 'weights': 'distance', 'metric': 'manhattan'}. Best is trial 105 with value: 0.832293956043956.\u001b[0m\n",
            "\u001b[32m[I 2022-11-27 10:26:17,191]\u001b[0m Trial 398 finished with value: 0.8106776556776556 and parameters: {'scalers': 'standard', 'n_neighbors': 10, 'weights': 'distance', 'metric': 'manhattan'}. Best is trial 105 with value: 0.832293956043956.\u001b[0m\n",
            "\u001b[32m[I 2022-11-27 10:26:17,242]\u001b[0m Trial 399 finished with value: 0.7741838798456445 and parameters: {'scalers': 'standard', 'n_neighbors': 11, 'weights': 'distance', 'metric': 'minkowski'}. Best is trial 105 with value: 0.832293956043956.\u001b[0m\n",
            "\u001b[32m[I 2022-11-27 10:26:17,293]\u001b[0m Trial 400 finished with value: 0.8102827809445456 and parameters: {'scalers': 'standard', 'n_neighbors': 8, 'weights': 'distance', 'metric': 'manhattan'}. Best is trial 105 with value: 0.832293956043956.\u001b[0m\n",
            "\u001b[32m[I 2022-11-27 10:26:17,341]\u001b[0m Trial 401 finished with value: 0.8103067765567765 and parameters: {'scalers': 'standard', 'n_neighbors': 12, 'weights': 'distance', 'metric': 'manhattan'}. Best is trial 105 with value: 0.832293956043956.\u001b[0m\n",
            "\u001b[32m[I 2022-11-27 10:26:17,387]\u001b[0m Trial 402 finished with value: 0.8318269230769232 and parameters: {'scalers': 'standard', 'n_neighbors': 13, 'weights': 'distance', 'metric': 'manhattan'}. Best is trial 105 with value: 0.832293956043956.\u001b[0m\n",
            "\u001b[32m[I 2022-11-27 10:26:17,433]\u001b[0m Trial 403 finished with value: 0.832293956043956 and parameters: {'scalers': 'standard', 'n_neighbors': 11, 'weights': 'distance', 'metric': 'manhattan'}. Best is trial 105 with value: 0.832293956043956.\u001b[0m\n",
            "\u001b[32m[I 2022-11-27 10:26:17,482]\u001b[0m Trial 404 finished with value: 0.8106776556776556 and parameters: {'scalers': 'standard', 'n_neighbors': 10, 'weights': 'distance', 'metric': 'manhattan'}. Best is trial 105 with value: 0.832293956043956.\u001b[0m\n",
            "\u001b[32m[I 2022-11-27 10:26:17,540]\u001b[0m Trial 405 finished with value: 0.832293956043956 and parameters: {'scalers': 'standard', 'n_neighbors': 11, 'weights': 'distance', 'metric': 'manhattan'}. Best is trial 105 with value: 0.832293956043956.\u001b[0m\n",
            "\u001b[32m[I 2022-11-27 10:26:17,588]\u001b[0m Trial 406 finished with value: 0.8103067765567765 and parameters: {'scalers': 'standard', 'n_neighbors': 12, 'weights': 'distance', 'metric': 'manhattan'}. Best is trial 105 with value: 0.832293956043956.\u001b[0m\n",
            "\u001b[32m[I 2022-11-27 10:26:17,640]\u001b[0m Trial 407 finished with value: 0.6684454838247408 and parameters: {'scalers': 'standard', 'n_neighbors': 9, 'weights': 'uniform', 'metric': 'manhattan'}. Best is trial 105 with value: 0.832293956043956.\u001b[0m\n",
            "\u001b[32m[I 2022-11-27 10:26:17,690]\u001b[0m Trial 408 finished with value: 0.8106776556776556 and parameters: {'scalers': 'standard', 'n_neighbors': 10, 'weights': 'distance', 'metric': 'manhattan'}. Best is trial 105 with value: 0.832293956043956.\u001b[0m\n",
            "\u001b[32m[I 2022-11-27 10:26:17,739]\u001b[0m Trial 409 finished with value: 0.7674531106148753 and parameters: {'scalers': 'standard', 'n_neighbors': 12, 'weights': 'distance', 'metric': 'euclidean'}. Best is trial 105 with value: 0.832293956043956.\u001b[0m\n",
            "\u001b[32m[I 2022-11-27 10:26:17,788]\u001b[0m Trial 410 finished with value: 0.832293956043956 and parameters: {'scalers': 'standard', 'n_neighbors': 11, 'weights': 'distance', 'metric': 'manhattan'}. Best is trial 105 with value: 0.832293956043956.\u001b[0m\n",
            "\u001b[32m[I 2022-11-27 10:26:17,862]\u001b[0m Trial 411 finished with value: 0.7900263706881354 and parameters: {'scalers': 'robust', 'n_neighbors': 11, 'weights': 'distance', 'metric': 'manhattan'}. Best is trial 105 with value: 0.832293956043956.\u001b[0m\n",
            "\u001b[32m[I 2022-11-27 10:26:17,910]\u001b[0m Trial 412 finished with value: 0.832293956043956 and parameters: {'scalers': 'standard', 'n_neighbors': 11, 'weights': 'distance', 'metric': 'manhattan'}. Best is trial 105 with value: 0.832293956043956.\u001b[0m\n",
            "\u001b[32m[I 2022-11-27 10:26:17,962]\u001b[0m Trial 413 finished with value: 0.8106776556776556 and parameters: {'scalers': 'standard', 'n_neighbors': 10, 'weights': 'distance', 'metric': 'manhattan'}. Best is trial 105 with value: 0.832293956043956.\u001b[0m\n",
            "\u001b[32m[I 2022-11-27 10:26:18,011]\u001b[0m Trial 414 finished with value: 0.8103067765567765 and parameters: {'scalers': 'standard', 'n_neighbors': 12, 'weights': 'distance', 'metric': 'manhattan'}. Best is trial 105 with value: 0.832293956043956.\u001b[0m\n",
            "\u001b[32m[I 2022-11-27 10:26:18,061]\u001b[0m Trial 415 finished with value: 0.8318269230769232 and parameters: {'scalers': 'standard', 'n_neighbors': 13, 'weights': 'distance', 'metric': 'manhattan'}. Best is trial 105 with value: 0.832293956043956.\u001b[0m\n",
            "\u001b[32m[I 2022-11-27 10:26:18,116]\u001b[0m Trial 416 finished with value: 0.8106776556776556 and parameters: {'scalers': 'standard', 'n_neighbors': 10, 'weights': 'distance', 'metric': 'manhattan'}. Best is trial 105 with value: 0.832293956043956.\u001b[0m\n",
            "\u001b[32m[I 2022-11-27 10:26:18,171]\u001b[0m Trial 417 finished with value: 0.832293956043956 and parameters: {'scalers': 'standard', 'n_neighbors': 11, 'weights': 'distance', 'metric': 'manhattan'}. Best is trial 105 with value: 0.832293956043956.\u001b[0m\n",
            "\u001b[32m[I 2022-11-27 10:26:18,222]\u001b[0m Trial 418 finished with value: 0.8103067765567765 and parameters: {'scalers': 'standard', 'n_neighbors': 12, 'weights': 'distance', 'metric': 'manhattan'}. Best is trial 105 with value: 0.832293956043956.\u001b[0m\n",
            "\u001b[32m[I 2022-11-27 10:26:18,272]\u001b[0m Trial 419 finished with value: 0.7959421216038863 and parameters: {'scalers': 'standard', 'n_neighbors': 6, 'weights': 'distance', 'metric': 'manhattan'}. Best is trial 105 with value: 0.832293956043956.\u001b[0m\n",
            "\u001b[32m[I 2022-11-27 10:26:18,322]\u001b[0m Trial 420 finished with value: 0.7741838798456445 and parameters: {'scalers': 'standard', 'n_neighbors': 11, 'weights': 'distance', 'metric': 'minkowski'}. Best is trial 105 with value: 0.832293956043956.\u001b[0m\n",
            "\u001b[32m[I 2022-11-27 10:26:18,368]\u001b[0m Trial 421 finished with value: 0.8106776556776556 and parameters: {'scalers': 'standard', 'n_neighbors': 10, 'weights': 'distance', 'metric': 'manhattan'}. Best is trial 105 with value: 0.832293956043956.\u001b[0m\n",
            "\u001b[32m[I 2022-11-27 10:26:18,415]\u001b[0m Trial 422 finished with value: 0.832293956043956 and parameters: {'scalers': 'standard', 'n_neighbors': 11, 'weights': 'distance', 'metric': 'manhattan'}. Best is trial 105 with value: 0.832293956043956.\u001b[0m\n",
            "\u001b[32m[I 2022-11-27 10:26:18,463]\u001b[0m Trial 423 finished with value: 0.8103067765567765 and parameters: {'scalers': 'standard', 'n_neighbors': 12, 'weights': 'distance', 'metric': 'manhattan'}. Best is trial 105 with value: 0.832293956043956.\u001b[0m\n",
            "\u001b[32m[I 2022-11-27 10:26:18,514]\u001b[0m Trial 424 finished with value: 0.8115201465201466 and parameters: {'scalers': 'standard', 'n_neighbors': 9, 'weights': 'distance', 'metric': 'manhattan'}. Best is trial 105 with value: 0.832293956043956.\u001b[0m\n",
            "\u001b[32m[I 2022-11-27 10:26:18,566]\u001b[0m Trial 425 finished with value: 0.8106776556776556 and parameters: {'scalers': 'standard', 'n_neighbors': 10, 'weights': 'distance', 'metric': 'manhattan'}. Best is trial 105 with value: 0.832293956043956.\u001b[0m\n",
            "\u001b[32m[I 2022-11-27 10:26:18,619]\u001b[0m Trial 426 finished with value: 0.7019543201896143 and parameters: {'scalers': 'standard', 'n_neighbors': 12, 'weights': 'uniform', 'metric': 'manhattan'}. Best is trial 105 with value: 0.832293956043956.\u001b[0m\n",
            "\u001b[32m[I 2022-11-27 10:26:18,668]\u001b[0m Trial 427 finished with value: 0.8106776556776556 and parameters: {'scalers': 'standard', 'n_neighbors': 10, 'weights': 'distance', 'metric': 'manhattan'}. Best is trial 105 with value: 0.832293956043956.\u001b[0m\n",
            "\u001b[32m[I 2022-11-27 10:26:18,717]\u001b[0m Trial 428 finished with value: 0.832293956043956 and parameters: {'scalers': 'standard', 'n_neighbors': 11, 'weights': 'distance', 'metric': 'manhattan'}. Best is trial 105 with value: 0.832293956043956.\u001b[0m\n",
            "\u001b[32m[I 2022-11-27 10:26:18,770]\u001b[0m Trial 429 finished with value: 0.832293956043956 and parameters: {'scalers': 'standard', 'n_neighbors': 11, 'weights': 'distance', 'metric': 'manhattan'}. Best is trial 105 with value: 0.832293956043956.\u001b[0m\n",
            "\u001b[32m[I 2022-11-27 10:26:18,820]\u001b[0m Trial 430 finished with value: 0.832293956043956 and parameters: {'scalers': 'standard', 'n_neighbors': 11, 'weights': 'distance', 'metric': 'manhattan'}. Best is trial 105 with value: 0.832293956043956.\u001b[0m\n",
            "\u001b[32m[I 2022-11-27 10:26:18,876]\u001b[0m Trial 431 finished with value: 0.7885485347985348 and parameters: {'scalers': 'standard', 'n_neighbors': 13, 'weights': 'distance', 'metric': 'euclidean'}. Best is trial 105 with value: 0.832293956043956.\u001b[0m\n",
            "\u001b[32m[I 2022-11-27 10:26:18,925]\u001b[0m Trial 432 finished with value: 0.8103067765567765 and parameters: {'scalers': 'standard', 'n_neighbors': 12, 'weights': 'distance', 'metric': 'manhattan'}. Best is trial 105 with value: 0.832293956043956.\u001b[0m\n",
            "\u001b[32m[I 2022-11-27 10:26:18,982]\u001b[0m Trial 433 finished with value: 0.8103067765567765 and parameters: {'scalers': 'standard', 'n_neighbors': 12, 'weights': 'distance', 'metric': 'manhattan'}. Best is trial 105 with value: 0.832293956043956.\u001b[0m\n",
            "\u001b[32m[I 2022-11-27 10:26:19,033]\u001b[0m Trial 434 finished with value: 0.8106776556776556 and parameters: {'scalers': 'standard', 'n_neighbors': 10, 'weights': 'distance', 'metric': 'manhattan'}. Best is trial 105 with value: 0.832293956043956.\u001b[0m\n",
            "\u001b[32m[I 2022-11-27 10:26:19,110]\u001b[0m Trial 435 finished with value: 0.7900263706881354 and parameters: {'scalers': 'robust', 'n_neighbors': 11, 'weights': 'distance', 'metric': 'manhattan'}. Best is trial 105 with value: 0.832293956043956.\u001b[0m\n",
            "\u001b[32m[I 2022-11-27 10:26:19,169]\u001b[0m Trial 436 finished with value: 0.8115201465201466 and parameters: {'scalers': 'standard', 'n_neighbors': 9, 'weights': 'distance', 'metric': 'manhattan'}. Best is trial 105 with value: 0.832293956043956.\u001b[0m\n",
            "\u001b[32m[I 2022-11-27 10:26:19,220]\u001b[0m Trial 437 finished with value: 0.8106776556776556 and parameters: {'scalers': 'standard', 'n_neighbors': 10, 'weights': 'distance', 'metric': 'manhattan'}. Best is trial 105 with value: 0.832293956043956.\u001b[0m\n",
            "\u001b[32m[I 2022-11-27 10:26:19,270]\u001b[0m Trial 438 finished with value: 0.832293956043956 and parameters: {'scalers': 'standard', 'n_neighbors': 11, 'weights': 'distance', 'metric': 'manhattan'}. Best is trial 105 with value: 0.832293956043956.\u001b[0m\n",
            "\u001b[32m[I 2022-11-27 10:26:19,319]\u001b[0m Trial 439 finished with value: 0.8103067765567765 and parameters: {'scalers': 'standard', 'n_neighbors': 12, 'weights': 'distance', 'metric': 'manhattan'}. Best is trial 105 with value: 0.832293956043956.\u001b[0m\n",
            "\u001b[32m[I 2022-11-27 10:26:19,367]\u001b[0m Trial 440 finished with value: 0.8106776556776556 and parameters: {'scalers': 'standard', 'n_neighbors': 10, 'weights': 'distance', 'metric': 'manhattan'}. Best is trial 105 with value: 0.832293956043956.\u001b[0m\n",
            "\u001b[32m[I 2022-11-27 10:26:19,416]\u001b[0m Trial 441 finished with value: 0.832293956043956 and parameters: {'scalers': 'standard', 'n_neighbors': 11, 'weights': 'distance', 'metric': 'manhattan'}. Best is trial 105 with value: 0.832293956043956.\u001b[0m\n",
            "\u001b[32m[I 2022-11-27 10:26:19,465]\u001b[0m Trial 442 finished with value: 0.8318269230769232 and parameters: {'scalers': 'standard', 'n_neighbors': 13, 'weights': 'distance', 'metric': 'manhattan'}. Best is trial 105 with value: 0.832293956043956.\u001b[0m\n",
            "\u001b[32m[I 2022-11-27 10:26:19,515]\u001b[0m Trial 443 finished with value: 0.7741838798456445 and parameters: {'scalers': 'standard', 'n_neighbors': 11, 'weights': 'distance', 'metric': 'minkowski'}. Best is trial 105 with value: 0.832293956043956.\u001b[0m\n",
            "\u001b[32m[I 2022-11-27 10:26:19,565]\u001b[0m Trial 444 finished with value: 0.8103067765567765 and parameters: {'scalers': 'standard', 'n_neighbors': 12, 'weights': 'distance', 'metric': 'manhattan'}. Best is trial 105 with value: 0.832293956043956.\u001b[0m\n",
            "\u001b[32m[I 2022-11-27 10:26:19,614]\u001b[0m Trial 445 finished with value: 0.832293956043956 and parameters: {'scalers': 'standard', 'n_neighbors': 11, 'weights': 'distance', 'metric': 'manhattan'}. Best is trial 105 with value: 0.832293956043956.\u001b[0m\n",
            "\u001b[32m[I 2022-11-27 10:26:19,672]\u001b[0m Trial 446 finished with value: 0.832293956043956 and parameters: {'scalers': 'standard', 'n_neighbors': 11, 'weights': 'distance', 'metric': 'manhattan'}. Best is trial 105 with value: 0.832293956043956.\u001b[0m\n",
            "\u001b[32m[I 2022-11-27 10:26:19,728]\u001b[0m Trial 447 finished with value: 0.6800628048422166 and parameters: {'scalers': 'standard', 'n_neighbors': 8, 'weights': 'uniform', 'metric': 'manhattan'}. Best is trial 105 with value: 0.832293956043956.\u001b[0m\n",
            "\u001b[32m[I 2022-11-27 10:26:19,777]\u001b[0m Trial 448 finished with value: 0.8106776556776556 and parameters: {'scalers': 'standard', 'n_neighbors': 10, 'weights': 'distance', 'metric': 'manhattan'}. Best is trial 105 with value: 0.832293956043956.\u001b[0m\n",
            "\u001b[32m[I 2022-11-27 10:26:19,826]\u001b[0m Trial 449 finished with value: 0.832293956043956 and parameters: {'scalers': 'standard', 'n_neighbors': 11, 'weights': 'distance', 'metric': 'manhattan'}. Best is trial 105 with value: 0.832293956043956.\u001b[0m\n",
            "\u001b[32m[I 2022-11-27 10:26:19,876]\u001b[0m Trial 450 finished with value: 0.8103067765567765 and parameters: {'scalers': 'standard', 'n_neighbors': 12, 'weights': 'distance', 'metric': 'manhattan'}. Best is trial 105 with value: 0.832293956043956.\u001b[0m\n",
            "\u001b[32m[I 2022-11-27 10:26:19,924]\u001b[0m Trial 451 finished with value: 0.832293956043956 and parameters: {'scalers': 'standard', 'n_neighbors': 11, 'weights': 'distance', 'metric': 'manhattan'}. Best is trial 105 with value: 0.832293956043956.\u001b[0m\n",
            "\u001b[32m[I 2022-11-27 10:26:19,977]\u001b[0m Trial 452 finished with value: 0.8115201465201466 and parameters: {'scalers': 'standard', 'n_neighbors': 9, 'weights': 'distance', 'metric': 'manhattan'}. Best is trial 105 with value: 0.832293956043956.\u001b[0m\n",
            "\u001b[32m[I 2022-11-27 10:26:20,025]\u001b[0m Trial 453 finished with value: 0.8106776556776556 and parameters: {'scalers': 'standard', 'n_neighbors': 10, 'weights': 'distance', 'metric': 'manhattan'}. Best is trial 105 with value: 0.832293956043956.\u001b[0m\n",
            "\u001b[32m[I 2022-11-27 10:26:20,075]\u001b[0m Trial 454 finished with value: 0.832293956043956 and parameters: {'scalers': 'standard', 'n_neighbors': 11, 'weights': 'distance', 'metric': 'manhattan'}. Best is trial 105 with value: 0.832293956043956.\u001b[0m\n",
            "\u001b[32m[I 2022-11-27 10:26:20,155]\u001b[0m Trial 455 finished with value: 0.7972058578676225 and parameters: {'scalers': 'robust', 'n_neighbors': 12, 'weights': 'distance', 'metric': 'manhattan'}. Best is trial 105 with value: 0.832293956043956.\u001b[0m\n",
            "\u001b[32m[I 2022-11-27 10:26:20,213]\u001b[0m Trial 456 finished with value: 0.7885485347985348 and parameters: {'scalers': 'standard', 'n_neighbors': 13, 'weights': 'distance', 'metric': 'euclidean'}. Best is trial 105 with value: 0.832293956043956.\u001b[0m\n",
            "\u001b[32m[I 2022-11-27 10:26:20,266]\u001b[0m Trial 457 finished with value: 0.832293956043956 and parameters: {'scalers': 'standard', 'n_neighbors': 11, 'weights': 'distance', 'metric': 'manhattan'}. Best is trial 105 with value: 0.832293956043956.\u001b[0m\n",
            "\u001b[32m[I 2022-11-27 10:26:20,317]\u001b[0m Trial 458 finished with value: 0.8080079316108728 and parameters: {'scalers': 'standard', 'n_neighbors': 28, 'weights': 'distance', 'metric': 'manhattan'}. Best is trial 105 with value: 0.832293956043956.\u001b[0m\n",
            "\u001b[32m[I 2022-11-27 10:26:20,366]\u001b[0m Trial 459 finished with value: 0.8106776556776556 and parameters: {'scalers': 'standard', 'n_neighbors': 10, 'weights': 'distance', 'metric': 'manhattan'}. Best is trial 105 with value: 0.832293956043956.\u001b[0m\n",
            "\u001b[32m[I 2022-11-27 10:26:20,422]\u001b[0m Trial 460 finished with value: 0.8103067765567765 and parameters: {'scalers': 'standard', 'n_neighbors': 12, 'weights': 'distance', 'metric': 'manhattan'}. Best is trial 105 with value: 0.832293956043956.\u001b[0m\n",
            "\u001b[32m[I 2022-11-27 10:26:20,474]\u001b[0m Trial 461 finished with value: 0.832293956043956 and parameters: {'scalers': 'standard', 'n_neighbors': 11, 'weights': 'distance', 'metric': 'manhattan'}. Best is trial 105 with value: 0.832293956043956.\u001b[0m\n",
            "\u001b[32m[I 2022-11-27 10:26:20,524]\u001b[0m Trial 462 finished with value: 0.8115201465201466 and parameters: {'scalers': 'standard', 'n_neighbors': 9, 'weights': 'distance', 'metric': 'manhattan'}. Best is trial 105 with value: 0.832293956043956.\u001b[0m\n",
            "\u001b[32m[I 2022-11-27 10:26:20,584]\u001b[0m Trial 463 finished with value: 0.8106776556776556 and parameters: {'scalers': 'standard', 'n_neighbors': 10, 'weights': 'distance', 'metric': 'manhattan'}. Best is trial 105 with value: 0.832293956043956.\u001b[0m\n",
            "\u001b[32m[I 2022-11-27 10:26:20,631]\u001b[0m Trial 464 finished with value: 0.8103067765567765 and parameters: {'scalers': 'standard', 'n_neighbors': 12, 'weights': 'distance', 'metric': 'manhattan'}. Best is trial 105 with value: 0.832293956043956.\u001b[0m\n",
            "\u001b[32m[I 2022-11-27 10:26:20,681]\u001b[0m Trial 465 finished with value: 0.832293956043956 and parameters: {'scalers': 'standard', 'n_neighbors': 11, 'weights': 'distance', 'metric': 'manhattan'}. Best is trial 105 with value: 0.832293956043956.\u001b[0m\n",
            "\u001b[32m[I 2022-11-27 10:26:20,733]\u001b[0m Trial 466 finished with value: 0.66851812403283 and parameters: {'scalers': 'minmax', 'n_neighbors': 10, 'weights': 'uniform', 'metric': 'minkowski'}. Best is trial 105 with value: 0.832293956043956.\u001b[0m\n",
            "\u001b[32m[I 2022-11-27 10:26:20,783]\u001b[0m Trial 467 finished with value: 0.8103067765567765 and parameters: {'scalers': 'standard', 'n_neighbors': 12, 'weights': 'distance', 'metric': 'manhattan'}. Best is trial 105 with value: 0.832293956043956.\u001b[0m\n",
            "\u001b[32m[I 2022-11-27 10:26:20,832]\u001b[0m Trial 468 finished with value: 0.832293956043956 and parameters: {'scalers': 'standard', 'n_neighbors': 11, 'weights': 'distance', 'metric': 'manhattan'}. Best is trial 105 with value: 0.832293956043956.\u001b[0m\n",
            "\u001b[32m[I 2022-11-27 10:26:20,882]\u001b[0m Trial 469 finished with value: 0.8103067765567765 and parameters: {'scalers': 'standard', 'n_neighbors': 12, 'weights': 'distance', 'metric': 'manhattan'}. Best is trial 105 with value: 0.832293956043956.\u001b[0m\n",
            "\u001b[32m[I 2022-11-27 10:26:20,935]\u001b[0m Trial 470 finished with value: 0.832293956043956 and parameters: {'scalers': 'standard', 'n_neighbors': 11, 'weights': 'distance', 'metric': 'manhattan'}. Best is trial 105 with value: 0.832293956043956.\u001b[0m\n",
            "\u001b[32m[I 2022-11-27 10:26:20,987]\u001b[0m Trial 471 finished with value: 0.8106776556776556 and parameters: {'scalers': 'standard', 'n_neighbors': 10, 'weights': 'distance', 'metric': 'manhattan'}. Best is trial 105 with value: 0.832293956043956.\u001b[0m\n",
            "\u001b[32m[I 2022-11-27 10:26:21,037]\u001b[0m Trial 472 finished with value: 0.781253207576737 and parameters: {'scalers': 'standard', 'n_neighbors': 1, 'weights': 'distance', 'metric': 'manhattan'}. Best is trial 105 with value: 0.832293956043956.\u001b[0m\n",
            "\u001b[32m[I 2022-11-27 10:26:21,088]\u001b[0m Trial 473 finished with value: 0.8115201465201466 and parameters: {'scalers': 'standard', 'n_neighbors': 9, 'weights': 'distance', 'metric': 'manhattan'}. Best is trial 105 with value: 0.832293956043956.\u001b[0m\n",
            "\u001b[32m[I 2022-11-27 10:26:21,143]\u001b[0m Trial 474 finished with value: 0.8318269230769232 and parameters: {'scalers': 'standard', 'n_neighbors': 13, 'weights': 'distance', 'metric': 'manhattan'}. Best is trial 105 with value: 0.832293956043956.\u001b[0m\n",
            "\u001b[32m[I 2022-11-27 10:26:21,203]\u001b[0m Trial 475 finished with value: 0.7741838798456445 and parameters: {'scalers': 'standard', 'n_neighbors': 11, 'weights': 'distance', 'metric': 'euclidean'}. Best is trial 105 with value: 0.832293956043956.\u001b[0m\n",
            "\u001b[32m[I 2022-11-27 10:26:21,276]\u001b[0m Trial 476 finished with value: 0.7972058578676225 and parameters: {'scalers': 'robust', 'n_neighbors': 12, 'weights': 'distance', 'metric': 'manhattan'}. Best is trial 105 with value: 0.832293956043956.\u001b[0m\n",
            "\u001b[32m[I 2022-11-27 10:26:21,331]\u001b[0m Trial 477 finished with value: 0.8106776556776556 and parameters: {'scalers': 'standard', 'n_neighbors': 10, 'weights': 'distance', 'metric': 'manhattan'}. Best is trial 105 with value: 0.832293956043956.\u001b[0m\n",
            "\u001b[32m[I 2022-11-27 10:26:21,381]\u001b[0m Trial 478 finished with value: 0.832293956043956 and parameters: {'scalers': 'standard', 'n_neighbors': 11, 'weights': 'distance', 'metric': 'manhattan'}. Best is trial 105 with value: 0.832293956043956.\u001b[0m\n",
            "\u001b[32m[I 2022-11-27 10:26:21,431]\u001b[0m Trial 479 finished with value: 0.832293956043956 and parameters: {'scalers': 'standard', 'n_neighbors': 11, 'weights': 'distance', 'metric': 'manhattan'}. Best is trial 105 with value: 0.832293956043956.\u001b[0m\n",
            "\u001b[32m[I 2022-11-27 10:26:21,489]\u001b[0m Trial 480 finished with value: 0.8106776556776556 and parameters: {'scalers': 'standard', 'n_neighbors': 10, 'weights': 'distance', 'metric': 'manhattan'}. Best is trial 105 with value: 0.832293956043956.\u001b[0m\n",
            "\u001b[32m[I 2022-11-27 10:26:21,542]\u001b[0m Trial 481 finished with value: 0.8103067765567765 and parameters: {'scalers': 'standard', 'n_neighbors': 12, 'weights': 'distance', 'metric': 'manhattan'}. Best is trial 105 with value: 0.832293956043956.\u001b[0m\n",
            "\u001b[32m[I 2022-11-27 10:26:21,594]\u001b[0m Trial 482 finished with value: 0.832293956043956 and parameters: {'scalers': 'standard', 'n_neighbors': 11, 'weights': 'distance', 'metric': 'manhattan'}. Best is trial 105 with value: 0.832293956043956.\u001b[0m\n",
            "\u001b[32m[I 2022-11-27 10:26:21,644]\u001b[0m Trial 483 finished with value: 0.8097608029225676 and parameters: {'scalers': 'standard', 'n_neighbors': 14, 'weights': 'distance', 'metric': 'manhattan'}. Best is trial 105 with value: 0.832293956043956.\u001b[0m\n",
            "\u001b[32m[I 2022-11-27 10:26:21,697]\u001b[0m Trial 484 finished with value: 0.832293956043956 and parameters: {'scalers': 'standard', 'n_neighbors': 11, 'weights': 'distance', 'metric': 'manhattan'}. Best is trial 105 with value: 0.832293956043956.\u001b[0m\n",
            "\u001b[32m[I 2022-11-27 10:26:21,752]\u001b[0m Trial 485 finished with value: 0.6954258241758241 and parameters: {'scalers': 'standard', 'n_neighbors': 10, 'weights': 'uniform', 'metric': 'manhattan'}. Best is trial 105 with value: 0.832293956043956.\u001b[0m\n",
            "\u001b[32m[I 2022-11-27 10:26:21,803]\u001b[0m Trial 486 finished with value: 0.8318269230769232 and parameters: {'scalers': 'standard', 'n_neighbors': 13, 'weights': 'distance', 'metric': 'manhattan'}. Best is trial 105 with value: 0.832293956043956.\u001b[0m\n",
            "\u001b[32m[I 2022-11-27 10:26:21,854]\u001b[0m Trial 487 finished with value: 0.8103067765567765 and parameters: {'scalers': 'standard', 'n_neighbors': 12, 'weights': 'distance', 'metric': 'manhattan'}. Best is trial 105 with value: 0.832293956043956.\u001b[0m\n",
            "\u001b[32m[I 2022-11-27 10:26:21,905]\u001b[0m Trial 488 finished with value: 0.7853783063341887 and parameters: {'scalers': 'minmax', 'n_neighbors': 10, 'weights': 'distance', 'metric': 'minkowski'}. Best is trial 105 with value: 0.832293956043956.\u001b[0m\n",
            "\u001b[32m[I 2022-11-27 10:26:21,959]\u001b[0m Trial 489 finished with value: 0.832293956043956 and parameters: {'scalers': 'standard', 'n_neighbors': 11, 'weights': 'distance', 'metric': 'manhattan'}. Best is trial 105 with value: 0.832293956043956.\u001b[0m\n",
            "\u001b[32m[I 2022-11-27 10:26:22,009]\u001b[0m Trial 490 finished with value: 0.8022551223286516 and parameters: {'scalers': 'standard', 'n_neighbors': 4, 'weights': 'distance', 'metric': 'manhattan'}. Best is trial 105 with value: 0.832293956043956.\u001b[0m\n",
            "\u001b[32m[I 2022-11-27 10:26:22,061]\u001b[0m Trial 491 finished with value: 0.832293956043956 and parameters: {'scalers': 'standard', 'n_neighbors': 11, 'weights': 'distance', 'metric': 'manhattan'}. Best is trial 105 with value: 0.832293956043956.\u001b[0m\n",
            "\u001b[32m[I 2022-11-27 10:26:22,115]\u001b[0m Trial 492 finished with value: 0.8103067765567765 and parameters: {'scalers': 'standard', 'n_neighbors': 12, 'weights': 'distance', 'metric': 'manhattan'}. Best is trial 105 with value: 0.832293956043956.\u001b[0m\n",
            "\u001b[32m[I 2022-11-27 10:26:22,166]\u001b[0m Trial 493 finished with value: 0.8106776556776556 and parameters: {'scalers': 'standard', 'n_neighbors': 10, 'weights': 'distance', 'metric': 'manhattan'}. Best is trial 105 with value: 0.832293956043956.\u001b[0m\n",
            "\u001b[32m[I 2022-11-27 10:26:22,224]\u001b[0m Trial 494 finished with value: 0.832293956043956 and parameters: {'scalers': 'standard', 'n_neighbors': 11, 'weights': 'distance', 'metric': 'manhattan'}. Best is trial 105 with value: 0.832293956043956.\u001b[0m\n",
            "\u001b[32m[I 2022-11-27 10:26:22,278]\u001b[0m Trial 495 finished with value: 0.832293956043956 and parameters: {'scalers': 'standard', 'n_neighbors': 11, 'weights': 'distance', 'metric': 'manhattan'}. Best is trial 105 with value: 0.832293956043956.\u001b[0m\n",
            "\u001b[32m[I 2022-11-27 10:26:22,330]\u001b[0m Trial 496 finished with value: 0.8115201465201466 and parameters: {'scalers': 'standard', 'n_neighbors': 9, 'weights': 'distance', 'metric': 'manhattan'}. Best is trial 105 with value: 0.832293956043956.\u001b[0m\n",
            "\u001b[32m[I 2022-11-27 10:26:22,382]\u001b[0m Trial 497 finished with value: 0.8103067765567765 and parameters: {'scalers': 'standard', 'n_neighbors': 12, 'weights': 'distance', 'metric': 'manhattan'}. Best is trial 105 with value: 0.832293956043956.\u001b[0m\n",
            "\u001b[32m[I 2022-11-27 10:26:22,435]\u001b[0m Trial 498 finished with value: 0.832293956043956 and parameters: {'scalers': 'standard', 'n_neighbors': 11, 'weights': 'distance', 'metric': 'manhattan'}. Best is trial 105 with value: 0.832293956043956.\u001b[0m\n",
            "\u001b[32m[I 2022-11-27 10:26:22,520]\u001b[0m Trial 499 finished with value: 0.7707284219048925 and parameters: {'scalers': 'robust', 'n_neighbors': 10, 'weights': 'distance', 'metric': 'euclidean'}. Best is trial 105 with value: 0.832293956043956.\u001b[0m\n"
          ]
        }
      ],
      "source": [
        "kNN_sampler = TPESampler(seed=42) # create a seed for the sampler for reproducibility\n",
        "kNN_study = optuna.create_study(direction=\"maximize\", sampler=kNN_sampler)\n",
        "kNN_study.optimize(kNN_objective, n_trials=500)"
      ]
    },
    {
      "cell_type": "code",
      "execution_count": 191,
      "metadata": {
        "colab": {
          "base_uri": "https://localhost:8080/",
          "height": 542
        },
        "id": "Wp_6GXS62I2q",
        "outputId": "20fd8340-d469-4b24-8296-e9e73aea4dd1"
      },
      "outputs": [
        {
          "data": {
            "text/html": [
              "<html>\n",
              "<head><meta charset=\"utf-8\" /></head>\n",
              "<body>\n",
              "    <div>            <script src=\"https://cdnjs.cloudflare.com/ajax/libs/mathjax/2.7.5/MathJax.js?config=TeX-AMS-MML_SVG\"></script><script type=\"text/javascript\">if (window.MathJax) {MathJax.Hub.Config({SVG: {font: \"STIX-Web\"}});}</script>                <script type=\"text/javascript\">window.PlotlyConfig = {MathJaxConfig: 'local'};</script>\n",
              "        <script src=\"https://cdn.plot.ly/plotly-2.8.3.min.js\"></script>                <div id=\"62bdf25f-274f-4b72-afa8-c0c72edb91cb\" class=\"plotly-graph-div\" style=\"height:525px; width:100%;\"></div>            <script type=\"text/javascript\">                                    window.PLOTLYENV=window.PLOTLYENV || {};                                    if (document.getElementById(\"62bdf25f-274f-4b72-afa8-c0c72edb91cb\")) {                    Plotly.newPlot(                        \"62bdf25f-274f-4b72-afa8-c0c72edb91cb\",                        [{\"mode\":\"markers\",\"name\":\"Objective Value\",\"x\":[0,1,2,3,4,5,6,7,8,9,10,11,12,13,14,15,16,17,18,19,20,21,22,23,24,25,26,27,28,29,30,31,32,33,34,35,36,37,38,39,40,41,42,43,44,45,46,47,48,49,50,51,52,53,54,55,56,57,58,59,60,61,62,63,64,65,66,67,68,69,70,71,72,73,74,75,76,77,78,79,80,81,82,83,84,85,86,87,88,89,90,91,92,93,94,95,96,97,98,99,100,101,102,103,104,105,106,107,108,109,110,111,112,113,114,115,116,117,118,119,120,121,122,123,124,125,126,127,128,129,130,131,132,133,134,135,136,137,138,139,140,141,142,143,144,145,146,147,148,149,150,151,152,153,154,155,156,157,158,159,160,161,162,163,164,165,166,167,168,169,170,171,172,173,174,175,176,177,178,179,180,181,182,183,184,185,186,187,188,189,190,191,192,193,194,195,196,197,198,199,200,201,202,203,204,205,206,207,208,209,210,211,212,213,214,215,216,217,218,219,220,221,222,223,224,225,226,227,228,229,230,231,232,233,234,235,236,237,238,239,240,241,242,243,244,245,246,247,248,249,250,251,252,253,254,255,256,257,258,259,260,261,262,263,264,265,266,267,268,269,270,271,272,273,274,275,276,277,278,279,280,281,282,283,284,285,286,287,288,289,290,291,292,293,294,295,296,297,298,299,300,301,302,303,304,305,306,307,308,309,310,311,312,313,314,315,316,317,318,319,320,321,322,323,324,325,326,327,328,329,330,331,332,333,334,335,336,337,338,339,340,341,342,343,344,345,346,347,348,349,350,351,352,353,354,355,356,357,358,359,360,361,362,363,364,365,366,367,368,369,370,371,372,373,374,375,376,377,378,379,380,381,382,383,384,385,386,387,388,389,390,391,392,393,394,395,396,397,398,399,400,401,402,403,404,405,406,407,408,409,410,411,412,413,414,415,416,417,418,419,420,421,422,423,424,425,426,427,428,429,430,431,432,433,434,435,436,437,438,439,440,441,442,443,444,445,446,447,448,449,450,451,452,453,454,455,456,457,458,459,460,461,462,463,464,465,466,467,468,469,470,471,472,473,474,475,476,477,478,479,480,481,482,483,484,485,486,487,488,489,490,491,492,493,494,495,496,497,498,499],\"y\":[0.660348255975191,0.524051807325801,0.7557441904500728,0.6150520652378237,0.7879598600573832,0.8163596207713855,0.7518192918192919,0.7032097069597069,0.6912083259877376,0.7788958916900094,0.7793303755068461,0.7885749054866702,0.7864117826617827,0.7788958916900094,0.7984205023562608,0.785785684903332,0.7984205023562608,0.7606758192787605,0.8022836966954614,0.8093899238016885,0.7791485720162191,0.8022836966954614,0.815776184599714,0.815776184599714,0.815776184599714,0.815776184599714,0.6668712986360045,0.7853783063341887,0.795145418307183,0.5537839611369023,0.7939274695892342,0.815776184599714,0.7797521187962364,0.8017617186734833,0.5976643862673274,0.7932670270905565,0.8017617186734833,0.7819806663924311,0.6513252528345408,0.7793303755068461,0.5754850962590901,0.7932670270905565,0.815776184599714,0.7797521187962364,0.8017617186734833,0.7864117826617827,0.7939274695892342,0.8023824786324786,0.7932670270905565,0.8171886446886447,0.8019154456654455,0.8168910256410257,0.8089557746175394,0.8171886446886447,0.7864117826617827,0.7885749054866702,0.8163596207713855,0.7875507907125554,0.8163596207713855,0.5666665021425084,0.8088705738705737,0.8163596207713855,0.8163596207713855,0.8019154456654455,0.7873227507786331,0.8019154456654455,0.8091681929181929,0.7606758192787605,0.8171886446886447,0.7885749054866702,0.7873227507786331,0.8171886446886447,0.8171886446886447,0.8171886446886447,0.8171886446886447,0.8168910256410257,0.694549372196431,0.7873227507786331,0.7603422802687507,0.8095364439482087,0.8168910256410257,0.8168910256410257,0.8171886446886447,0.7864117826617827,0.815776184599714,0.8089557746175394,0.7873227507786331,0.8171886446886447,0.6787016170104405,0.8089557746175394,0.7885749054866702,0.8171886446886447,0.8171886446886447,0.8171886446886447,0.8019154456654455,0.7932670270905565,0.775622686137392,0.7864117826617827,0.8310565904683551,0.8310565904683551,0.8310565904683551,0.8310565904683551,0.8310565904683551,0.8310565904683551,0.8310565904683551,0.832293956043956,0.8115201465201466,0.6985425440572499,0.7959421216038863,0.795145418307183,0.781253207576737,0.8318269230769232,0.8318269230769232,0.8318269230769232,0.8318269230769232,0.8106776556776556,0.8318269230769232,0.8103067765567765,0.8318269230769232,0.832293956043956,0.832293956043956,0.832293956043956,0.832293956043956,0.8115201465201466,0.832293956043956,0.832293956043956,0.832293956043956,0.832293956043956,0.6985425440572499,0.832293956043956,0.8115201465201466,0.8106776556776556,0.832293956043956,0.832293956043956,0.832293956043956,0.832293956043956,0.832293956043956,0.7655326617826618,0.832293956043956,0.8115201465201466,0.8102827809445456,0.832293956043956,0.8106776556776556,0.8103067765567765,0.832293956043956,0.832293956043956,0.8103067765567765,0.8102827809445456,0.8106776556776556,0.8103067765567765,0.8115201465201466,0.832293956043956,0.832293956043956,0.8106776556776556,0.832293956043956,0.8106776556776556,0.8103067765567765,0.6985425440572499,0.8103067765567765,0.8115201465201466,0.7741838798456445,0.8106776556776556,0.832293956043956,0.8103067765567765,0.832293956043956,0.8106776556776556,0.8026545758163405,0.8103067765567765,0.8106776556776556,0.832293956043956,0.8103067765567765,0.832293956043956,0.832293956043956,0.8215949083596144,0.7633148224324695,0.8103067765567765,0.8106776556776556,0.832293956043956,0.8106776556776556,0.832293956043956,0.832293956043956,0.832293956043956,0.8103067765567765,0.8115201465201466,0.8106776556776556,0.7019543201896143,0.832293956043956,0.8106776556776556,0.8103067765567765,0.832293956043956,0.832293956043956,0.832293956043956,0.8106776556776556,0.832293956043956,0.8103067765567765,0.7655326617826618,0.8103067765567765,0.832293956043956,0.7900549205696265,0.8115201465201466,0.832293956043956,0.832293956043956,0.8106776556776556,0.8103067765567765,0.832293956043956,0.8103067765567765,0.832293956043956,0.8106776556776556,0.800261413423178,0.832293956043956,0.8106776556776556,0.832293956043956,0.8103067765567765,0.832293956043956,0.8106776556776556,0.832293956043956,0.656607142857143,0.8103067765567765,0.832293956043956,0.832293956043956,0.8106776556776556,0.832293956043956,0.8103067765567765,0.832293956043956,0.8115201465201466,0.8106776556776556,0.8103067765567765,0.832293956043956,0.8106776556776556,0.832293956043956,0.7707284219048925,0.832293956043956,0.832293956043956,0.8103067765567765,0.832293956043956,0.832293956043956,0.8103067765567765,0.832293956043956,0.8106776556776556,0.8103067765567765,0.832293956043956,0.8106776556776556,0.832293956043956,0.8103067765567765,0.832293956043956,0.8106776556776556,0.832293956043956,0.8103067765567765,0.832293956043956,0.8115201465201466,0.6954258241758241,0.8103067765567765,0.7741838798456445,0.8318269230769232,0.8106776556776556,0.832293956043956,0.8103067765567765,0.832293956043956,0.8106776556776556,0.832293956043956,0.8103067765567765,0.832293956043956,0.7713738222561752,0.832293956043956,0.8106776556776556,0.8103067765567765,0.8115201465201466,0.832293956043956,0.8103067765567765,0.8106776556776556,0.832293956043956,0.8103067765567765,0.832293956043956,0.6954258241758241,0.7674531106148753,0.832293956043956,0.8318269230769232,0.8106776556776556,0.832293956043956,0.832293956043956,0.8106776556776556,0.832293956043956,0.7633148224324695,0.8103067765567765,0.8106776556776556,0.832293956043956,0.832293956043956,0.7674531106148753,0.8022551223286516,0.8318269230769232,0.6954258241758241,0.8103067765567765,0.8115201465201466,0.832293956043956,0.832293956043956,0.8106776556776556,0.8103067765567765,0.832293956043956,0.8106776556776556,0.7741838798456445,0.8102827809445456,0.8318269230769232,0.832293956043956,0.7972058578676225,0.8115201465201466,0.8106776556776556,0.832293956043956,0.832293956043956,0.8103067765567765,0.832293956043956,0.6875019343401696,0.8103067765567765,0.832293956043956,0.8106776556776556,0.81627442002442,0.8103067765567765,0.8318269230769232,0.8106776556776556,0.832293956043956,0.7741838798456445,0.8103067765567765,0.8115201465201466,0.8106776556776556,0.832293956043956,0.8103067765567765,0.7493553015611839,0.8103067765567765,0.832293956043956,0.832293956043956,0.8318269230769232,0.7655326617826618,0.6985425440572499,0.8103067765567765,0.832293956043956,0.8106776556776556,0.832293956043956,0.8115201465201466,0.8103067765567765,0.832293956043956,0.8318269230769232,0.8106776556776556,0.832293956043956,0.8026545758163405,0.7674531106148753,0.8106776556776556,0.832293956043956,0.7972058578676225,0.8106776556776556,0.832293956043956,0.832293956043956,0.7019543201896143,0.8115201465201466,0.832293956043956,0.7655326617826618,0.832293956043956,0.8103067765567765,0.8318269230769232,0.8106776556776556,0.832293956043956,0.8103067765567765,0.8106776556776556,0.8103067765567765,0.8106776556776556,0.8115201465201466,0.7741838798456445,0.832293956043956,0.8093312324929972,0.7900549205696265,0.7019543201896143,0.832293956043956,0.8106776556776556,0.8103067765567765,0.8097608029225676,0.832293956043956,0.832293956043956,0.832293956043956,0.7655326617826618,0.832293956043956,0.8103067765567765,0.8115201465201466,0.8106776556776556,0.8103067765567765,0.832293956043956,0.8106776556776556,0.8318269230769232,0.8019494476112122,0.832293956043956,0.7674531106148753,0.7633148224324695,0.6954258241758241,0.832293956043956,0.8103067765567765,0.7942872405372405,0.8103067765567765,0.832293956043956,0.8097608029225676,0.8106776556776556,0.832293956043956,0.8106776556776556,0.7741838798456445,0.8102827809445456,0.8103067765567765,0.8318269230769232,0.832293956043956,0.8106776556776556,0.832293956043956,0.8103067765567765,0.6684454838247408,0.8106776556776556,0.7674531106148753,0.832293956043956,0.7900263706881354,0.832293956043956,0.8106776556776556,0.8103067765567765,0.8318269230769232,0.8106776556776556,0.832293956043956,0.8103067765567765,0.7959421216038863,0.7741838798456445,0.8106776556776556,0.832293956043956,0.8103067765567765,0.8115201465201466,0.8106776556776556,0.7019543201896143,0.8106776556776556,0.832293956043956,0.832293956043956,0.832293956043956,0.7885485347985348,0.8103067765567765,0.8103067765567765,0.8106776556776556,0.7900263706881354,0.8115201465201466,0.8106776556776556,0.832293956043956,0.8103067765567765,0.8106776556776556,0.832293956043956,0.8318269230769232,0.7741838798456445,0.8103067765567765,0.832293956043956,0.832293956043956,0.6800628048422166,0.8106776556776556,0.832293956043956,0.8103067765567765,0.832293956043956,0.8115201465201466,0.8106776556776556,0.832293956043956,0.7972058578676225,0.7885485347985348,0.832293956043956,0.8080079316108728,0.8106776556776556,0.8103067765567765,0.832293956043956,0.8115201465201466,0.8106776556776556,0.8103067765567765,0.832293956043956,0.66851812403283,0.8103067765567765,0.832293956043956,0.8103067765567765,0.832293956043956,0.8106776556776556,0.781253207576737,0.8115201465201466,0.8318269230769232,0.7741838798456445,0.7972058578676225,0.8106776556776556,0.832293956043956,0.832293956043956,0.8106776556776556,0.8103067765567765,0.832293956043956,0.8097608029225676,0.832293956043956,0.6954258241758241,0.8318269230769232,0.8103067765567765,0.7853783063341887,0.832293956043956,0.8022551223286516,0.832293956043956,0.8103067765567765,0.8106776556776556,0.832293956043956,0.832293956043956,0.8115201465201466,0.8103067765567765,0.832293956043956,0.7707284219048925],\"type\":\"scatter\"},{\"name\":\"Best Value\",\"x\":[0,1,2,3,4,5,6,7,8,9,10,11,12,13,14,15,16,17,18,19,20,21,22,23,24,25,26,27,28,29,30,31,32,33,34,35,36,37,38,39,40,41,42,43,44,45,46,47,48,49,50,51,52,53,54,55,56,57,58,59,60,61,62,63,64,65,66,67,68,69,70,71,72,73,74,75,76,77,78,79,80,81,82,83,84,85,86,87,88,89,90,91,92,93,94,95,96,97,98,99,100,101,102,103,104,105,106,107,108,109,110,111,112,113,114,115,116,117,118,119,120,121,122,123,124,125,126,127,128,129,130,131,132,133,134,135,136,137,138,139,140,141,142,143,144,145,146,147,148,149,150,151,152,153,154,155,156,157,158,159,160,161,162,163,164,165,166,167,168,169,170,171,172,173,174,175,176,177,178,179,180,181,182,183,184,185,186,187,188,189,190,191,192,193,194,195,196,197,198,199,200,201,202,203,204,205,206,207,208,209,210,211,212,213,214,215,216,217,218,219,220,221,222,223,224,225,226,227,228,229,230,231,232,233,234,235,236,237,238,239,240,241,242,243,244,245,246,247,248,249,250,251,252,253,254,255,256,257,258,259,260,261,262,263,264,265,266,267,268,269,270,271,272,273,274,275,276,277,278,279,280,281,282,283,284,285,286,287,288,289,290,291,292,293,294,295,296,297,298,299,300,301,302,303,304,305,306,307,308,309,310,311,312,313,314,315,316,317,318,319,320,321,322,323,324,325,326,327,328,329,330,331,332,333,334,335,336,337,338,339,340,341,342,343,344,345,346,347,348,349,350,351,352,353,354,355,356,357,358,359,360,361,362,363,364,365,366,367,368,369,370,371,372,373,374,375,376,377,378,379,380,381,382,383,384,385,386,387,388,389,390,391,392,393,394,395,396,397,398,399,400,401,402,403,404,405,406,407,408,409,410,411,412,413,414,415,416,417,418,419,420,421,422,423,424,425,426,427,428,429,430,431,432,433,434,435,436,437,438,439,440,441,442,443,444,445,446,447,448,449,450,451,452,453,454,455,456,457,458,459,460,461,462,463,464,465,466,467,468,469,470,471,472,473,474,475,476,477,478,479,480,481,482,483,484,485,486,487,488,489,490,491,492,493,494,495,496,497,498,499],\"y\":[0.660348255975191,0.660348255975191,0.7557441904500728,0.7557441904500728,0.7879598600573832,0.8163596207713855,0.8163596207713855,0.8163596207713855,0.8163596207713855,0.8163596207713855,0.8163596207713855,0.8163596207713855,0.8163596207713855,0.8163596207713855,0.8163596207713855,0.8163596207713855,0.8163596207713855,0.8163596207713855,0.8163596207713855,0.8163596207713855,0.8163596207713855,0.8163596207713855,0.8163596207713855,0.8163596207713855,0.8163596207713855,0.8163596207713855,0.8163596207713855,0.8163596207713855,0.8163596207713855,0.8163596207713855,0.8163596207713855,0.8163596207713855,0.8163596207713855,0.8163596207713855,0.8163596207713855,0.8163596207713855,0.8163596207713855,0.8163596207713855,0.8163596207713855,0.8163596207713855,0.8163596207713855,0.8163596207713855,0.8163596207713855,0.8163596207713855,0.8163596207713855,0.8163596207713855,0.8163596207713855,0.8163596207713855,0.8163596207713855,0.8171886446886447,0.8171886446886447,0.8171886446886447,0.8171886446886447,0.8171886446886447,0.8171886446886447,0.8171886446886447,0.8171886446886447,0.8171886446886447,0.8171886446886447,0.8171886446886447,0.8171886446886447,0.8171886446886447,0.8171886446886447,0.8171886446886447,0.8171886446886447,0.8171886446886447,0.8171886446886447,0.8171886446886447,0.8171886446886447,0.8171886446886447,0.8171886446886447,0.8171886446886447,0.8171886446886447,0.8171886446886447,0.8171886446886447,0.8171886446886447,0.8171886446886447,0.8171886446886447,0.8171886446886447,0.8171886446886447,0.8171886446886447,0.8171886446886447,0.8171886446886447,0.8171886446886447,0.8171886446886447,0.8171886446886447,0.8171886446886447,0.8171886446886447,0.8171886446886447,0.8171886446886447,0.8171886446886447,0.8171886446886447,0.8171886446886447,0.8171886446886447,0.8171886446886447,0.8171886446886447,0.8171886446886447,0.8171886446886447,0.8310565904683551,0.8310565904683551,0.8310565904683551,0.8310565904683551,0.8310565904683551,0.8310565904683551,0.8310565904683551,0.832293956043956,0.832293956043956,0.832293956043956,0.832293956043956,0.832293956043956,0.832293956043956,0.832293956043956,0.832293956043956,0.832293956043956,0.832293956043956,0.832293956043956,0.832293956043956,0.832293956043956,0.832293956043956,0.832293956043956,0.832293956043956,0.832293956043956,0.832293956043956,0.832293956043956,0.832293956043956,0.832293956043956,0.832293956043956,0.832293956043956,0.832293956043956,0.832293956043956,0.832293956043956,0.832293956043956,0.832293956043956,0.832293956043956,0.832293956043956,0.832293956043956,0.832293956043956,0.832293956043956,0.832293956043956,0.832293956043956,0.832293956043956,0.832293956043956,0.832293956043956,0.832293956043956,0.832293956043956,0.832293956043956,0.832293956043956,0.832293956043956,0.832293956043956,0.832293956043956,0.832293956043956,0.832293956043956,0.832293956043956,0.832293956043956,0.832293956043956,0.832293956043956,0.832293956043956,0.832293956043956,0.832293956043956,0.832293956043956,0.832293956043956,0.832293956043956,0.832293956043956,0.832293956043956,0.832293956043956,0.832293956043956,0.832293956043956,0.832293956043956,0.832293956043956,0.832293956043956,0.832293956043956,0.832293956043956,0.832293956043956,0.832293956043956,0.832293956043956,0.832293956043956,0.832293956043956,0.832293956043956,0.832293956043956,0.832293956043956,0.832293956043956,0.832293956043956,0.832293956043956,0.832293956043956,0.832293956043956,0.832293956043956,0.832293956043956,0.832293956043956,0.832293956043956,0.832293956043956,0.832293956043956,0.832293956043956,0.832293956043956,0.832293956043956,0.832293956043956,0.832293956043956,0.832293956043956,0.832293956043956,0.832293956043956,0.832293956043956,0.832293956043956,0.832293956043956,0.832293956043956,0.832293956043956,0.832293956043956,0.832293956043956,0.832293956043956,0.832293956043956,0.832293956043956,0.832293956043956,0.832293956043956,0.832293956043956,0.832293956043956,0.832293956043956,0.832293956043956,0.832293956043956,0.832293956043956,0.832293956043956,0.832293956043956,0.832293956043956,0.832293956043956,0.832293956043956,0.832293956043956,0.832293956043956,0.832293956043956,0.832293956043956,0.832293956043956,0.832293956043956,0.832293956043956,0.832293956043956,0.832293956043956,0.832293956043956,0.832293956043956,0.832293956043956,0.832293956043956,0.832293956043956,0.832293956043956,0.832293956043956,0.832293956043956,0.832293956043956,0.832293956043956,0.832293956043956,0.832293956043956,0.832293956043956,0.832293956043956,0.832293956043956,0.832293956043956,0.832293956043956,0.832293956043956,0.832293956043956,0.832293956043956,0.832293956043956,0.832293956043956,0.832293956043956,0.832293956043956,0.832293956043956,0.832293956043956,0.832293956043956,0.832293956043956,0.832293956043956,0.832293956043956,0.832293956043956,0.832293956043956,0.832293956043956,0.832293956043956,0.832293956043956,0.832293956043956,0.832293956043956,0.832293956043956,0.832293956043956,0.832293956043956,0.832293956043956,0.832293956043956,0.832293956043956,0.832293956043956,0.832293956043956,0.832293956043956,0.832293956043956,0.832293956043956,0.832293956043956,0.832293956043956,0.832293956043956,0.832293956043956,0.832293956043956,0.832293956043956,0.832293956043956,0.832293956043956,0.832293956043956,0.832293956043956,0.832293956043956,0.832293956043956,0.832293956043956,0.832293956043956,0.832293956043956,0.832293956043956,0.832293956043956,0.832293956043956,0.832293956043956,0.832293956043956,0.832293956043956,0.832293956043956,0.832293956043956,0.832293956043956,0.832293956043956,0.832293956043956,0.832293956043956,0.832293956043956,0.832293956043956,0.832293956043956,0.832293956043956,0.832293956043956,0.832293956043956,0.832293956043956,0.832293956043956,0.832293956043956,0.832293956043956,0.832293956043956,0.832293956043956,0.832293956043956,0.832293956043956,0.832293956043956,0.832293956043956,0.832293956043956,0.832293956043956,0.832293956043956,0.832293956043956,0.832293956043956,0.832293956043956,0.832293956043956,0.832293956043956,0.832293956043956,0.832293956043956,0.832293956043956,0.832293956043956,0.832293956043956,0.832293956043956,0.832293956043956,0.832293956043956,0.832293956043956,0.832293956043956,0.832293956043956,0.832293956043956,0.832293956043956,0.832293956043956,0.832293956043956,0.832293956043956,0.832293956043956,0.832293956043956,0.832293956043956,0.832293956043956,0.832293956043956,0.832293956043956,0.832293956043956,0.832293956043956,0.832293956043956,0.832293956043956,0.832293956043956,0.832293956043956,0.832293956043956,0.832293956043956,0.832293956043956,0.832293956043956,0.832293956043956,0.832293956043956,0.832293956043956,0.832293956043956,0.832293956043956,0.832293956043956,0.832293956043956,0.832293956043956,0.832293956043956,0.832293956043956,0.832293956043956,0.832293956043956,0.832293956043956,0.832293956043956,0.832293956043956,0.832293956043956,0.832293956043956,0.832293956043956,0.832293956043956,0.832293956043956,0.832293956043956,0.832293956043956,0.832293956043956,0.832293956043956,0.832293956043956,0.832293956043956,0.832293956043956,0.832293956043956,0.832293956043956,0.832293956043956,0.832293956043956,0.832293956043956,0.832293956043956,0.832293956043956,0.832293956043956,0.832293956043956,0.832293956043956,0.832293956043956,0.832293956043956,0.832293956043956,0.832293956043956,0.832293956043956,0.832293956043956,0.832293956043956,0.832293956043956,0.832293956043956,0.832293956043956,0.832293956043956,0.832293956043956,0.832293956043956,0.832293956043956,0.832293956043956,0.832293956043956,0.832293956043956,0.832293956043956,0.832293956043956,0.832293956043956,0.832293956043956,0.832293956043956,0.832293956043956,0.832293956043956,0.832293956043956,0.832293956043956,0.832293956043956,0.832293956043956,0.832293956043956,0.832293956043956,0.832293956043956,0.832293956043956,0.832293956043956,0.832293956043956,0.832293956043956,0.832293956043956,0.832293956043956,0.832293956043956,0.832293956043956,0.832293956043956,0.832293956043956,0.832293956043956,0.832293956043956,0.832293956043956,0.832293956043956,0.832293956043956,0.832293956043956,0.832293956043956,0.832293956043956,0.832293956043956,0.832293956043956,0.832293956043956,0.832293956043956,0.832293956043956,0.832293956043956,0.832293956043956,0.832293956043956,0.832293956043956,0.832293956043956,0.832293956043956,0.832293956043956,0.832293956043956,0.832293956043956,0.832293956043956,0.832293956043956,0.832293956043956,0.832293956043956,0.832293956043956,0.832293956043956,0.832293956043956,0.832293956043956,0.832293956043956,0.832293956043956,0.832293956043956,0.832293956043956,0.832293956043956,0.832293956043956,0.832293956043956,0.832293956043956,0.832293956043956,0.832293956043956,0.832293956043956,0.832293956043956,0.832293956043956,0.832293956043956,0.832293956043956,0.832293956043956,0.832293956043956,0.832293956043956,0.832293956043956,0.832293956043956,0.832293956043956,0.832293956043956,0.832293956043956,0.832293956043956,0.832293956043956,0.832293956043956,0.832293956043956,0.832293956043956,0.832293956043956,0.832293956043956],\"type\":\"scatter\"}],                        {\"title\":{\"text\":\"Optimization History Plot\"},\"xaxis\":{\"title\":{\"text\":\"Trial\"}},\"yaxis\":{\"title\":{\"text\":\"Objective Value\"}},\"template\":{\"data\":{\"bar\":[{\"error_x\":{\"color\":\"#2a3f5f\"},\"error_y\":{\"color\":\"#2a3f5f\"},\"marker\":{\"line\":{\"color\":\"#E5ECF6\",\"width\":0.5},\"pattern\":{\"fillmode\":\"overlay\",\"size\":10,\"solidity\":0.2}},\"type\":\"bar\"}],\"barpolar\":[{\"marker\":{\"line\":{\"color\":\"#E5ECF6\",\"width\":0.5},\"pattern\":{\"fillmode\":\"overlay\",\"size\":10,\"solidity\":0.2}},\"type\":\"barpolar\"}],\"carpet\":[{\"aaxis\":{\"endlinecolor\":\"#2a3f5f\",\"gridcolor\":\"white\",\"linecolor\":\"white\",\"minorgridcolor\":\"white\",\"startlinecolor\":\"#2a3f5f\"},\"baxis\":{\"endlinecolor\":\"#2a3f5f\",\"gridcolor\":\"white\",\"linecolor\":\"white\",\"minorgridcolor\":\"white\",\"startlinecolor\":\"#2a3f5f\"},\"type\":\"carpet\"}],\"choropleth\":[{\"colorbar\":{\"outlinewidth\":0,\"ticks\":\"\"},\"type\":\"choropleth\"}],\"contour\":[{\"colorbar\":{\"outlinewidth\":0,\"ticks\":\"\"},\"colorscale\":[[0.0,\"#0d0887\"],[0.1111111111111111,\"#46039f\"],[0.2222222222222222,\"#7201a8\"],[0.3333333333333333,\"#9c179e\"],[0.4444444444444444,\"#bd3786\"],[0.5555555555555556,\"#d8576b\"],[0.6666666666666666,\"#ed7953\"],[0.7777777777777778,\"#fb9f3a\"],[0.8888888888888888,\"#fdca26\"],[1.0,\"#f0f921\"]],\"type\":\"contour\"}],\"contourcarpet\":[{\"colorbar\":{\"outlinewidth\":0,\"ticks\":\"\"},\"type\":\"contourcarpet\"}],\"heatmap\":[{\"colorbar\":{\"outlinewidth\":0,\"ticks\":\"\"},\"colorscale\":[[0.0,\"#0d0887\"],[0.1111111111111111,\"#46039f\"],[0.2222222222222222,\"#7201a8\"],[0.3333333333333333,\"#9c179e\"],[0.4444444444444444,\"#bd3786\"],[0.5555555555555556,\"#d8576b\"],[0.6666666666666666,\"#ed7953\"],[0.7777777777777778,\"#fb9f3a\"],[0.8888888888888888,\"#fdca26\"],[1.0,\"#f0f921\"]],\"type\":\"heatmap\"}],\"heatmapgl\":[{\"colorbar\":{\"outlinewidth\":0,\"ticks\":\"\"},\"colorscale\":[[0.0,\"#0d0887\"],[0.1111111111111111,\"#46039f\"],[0.2222222222222222,\"#7201a8\"],[0.3333333333333333,\"#9c179e\"],[0.4444444444444444,\"#bd3786\"],[0.5555555555555556,\"#d8576b\"],[0.6666666666666666,\"#ed7953\"],[0.7777777777777778,\"#fb9f3a\"],[0.8888888888888888,\"#fdca26\"],[1.0,\"#f0f921\"]],\"type\":\"heatmapgl\"}],\"histogram\":[{\"marker\":{\"pattern\":{\"fillmode\":\"overlay\",\"size\":10,\"solidity\":0.2}},\"type\":\"histogram\"}],\"histogram2d\":[{\"colorbar\":{\"outlinewidth\":0,\"ticks\":\"\"},\"colorscale\":[[0.0,\"#0d0887\"],[0.1111111111111111,\"#46039f\"],[0.2222222222222222,\"#7201a8\"],[0.3333333333333333,\"#9c179e\"],[0.4444444444444444,\"#bd3786\"],[0.5555555555555556,\"#d8576b\"],[0.6666666666666666,\"#ed7953\"],[0.7777777777777778,\"#fb9f3a\"],[0.8888888888888888,\"#fdca26\"],[1.0,\"#f0f921\"]],\"type\":\"histogram2d\"}],\"histogram2dcontour\":[{\"colorbar\":{\"outlinewidth\":0,\"ticks\":\"\"},\"colorscale\":[[0.0,\"#0d0887\"],[0.1111111111111111,\"#46039f\"],[0.2222222222222222,\"#7201a8\"],[0.3333333333333333,\"#9c179e\"],[0.4444444444444444,\"#bd3786\"],[0.5555555555555556,\"#d8576b\"],[0.6666666666666666,\"#ed7953\"],[0.7777777777777778,\"#fb9f3a\"],[0.8888888888888888,\"#fdca26\"],[1.0,\"#f0f921\"]],\"type\":\"histogram2dcontour\"}],\"mesh3d\":[{\"colorbar\":{\"outlinewidth\":0,\"ticks\":\"\"},\"type\":\"mesh3d\"}],\"parcoords\":[{\"line\":{\"colorbar\":{\"outlinewidth\":0,\"ticks\":\"\"}},\"type\":\"parcoords\"}],\"pie\":[{\"automargin\":true,\"type\":\"pie\"}],\"scatter\":[{\"marker\":{\"colorbar\":{\"outlinewidth\":0,\"ticks\":\"\"}},\"type\":\"scatter\"}],\"scatter3d\":[{\"line\":{\"colorbar\":{\"outlinewidth\":0,\"ticks\":\"\"}},\"marker\":{\"colorbar\":{\"outlinewidth\":0,\"ticks\":\"\"}},\"type\":\"scatter3d\"}],\"scattercarpet\":[{\"marker\":{\"colorbar\":{\"outlinewidth\":0,\"ticks\":\"\"}},\"type\":\"scattercarpet\"}],\"scattergeo\":[{\"marker\":{\"colorbar\":{\"outlinewidth\":0,\"ticks\":\"\"}},\"type\":\"scattergeo\"}],\"scattergl\":[{\"marker\":{\"colorbar\":{\"outlinewidth\":0,\"ticks\":\"\"}},\"type\":\"scattergl\"}],\"scattermapbox\":[{\"marker\":{\"colorbar\":{\"outlinewidth\":0,\"ticks\":\"\"}},\"type\":\"scattermapbox\"}],\"scatterpolar\":[{\"marker\":{\"colorbar\":{\"outlinewidth\":0,\"ticks\":\"\"}},\"type\":\"scatterpolar\"}],\"scatterpolargl\":[{\"marker\":{\"colorbar\":{\"outlinewidth\":0,\"ticks\":\"\"}},\"type\":\"scatterpolargl\"}],\"scatterternary\":[{\"marker\":{\"colorbar\":{\"outlinewidth\":0,\"ticks\":\"\"}},\"type\":\"scatterternary\"}],\"surface\":[{\"colorbar\":{\"outlinewidth\":0,\"ticks\":\"\"},\"colorscale\":[[0.0,\"#0d0887\"],[0.1111111111111111,\"#46039f\"],[0.2222222222222222,\"#7201a8\"],[0.3333333333333333,\"#9c179e\"],[0.4444444444444444,\"#bd3786\"],[0.5555555555555556,\"#d8576b\"],[0.6666666666666666,\"#ed7953\"],[0.7777777777777778,\"#fb9f3a\"],[0.8888888888888888,\"#fdca26\"],[1.0,\"#f0f921\"]],\"type\":\"surface\"}],\"table\":[{\"cells\":{\"fill\":{\"color\":\"#EBF0F8\"},\"line\":{\"color\":\"white\"}},\"header\":{\"fill\":{\"color\":\"#C8D4E3\"},\"line\":{\"color\":\"white\"}},\"type\":\"table\"}]},\"layout\":{\"annotationdefaults\":{\"arrowcolor\":\"#2a3f5f\",\"arrowhead\":0,\"arrowwidth\":1},\"autotypenumbers\":\"strict\",\"coloraxis\":{\"colorbar\":{\"outlinewidth\":0,\"ticks\":\"\"}},\"colorscale\":{\"diverging\":[[0,\"#8e0152\"],[0.1,\"#c51b7d\"],[0.2,\"#de77ae\"],[0.3,\"#f1b6da\"],[0.4,\"#fde0ef\"],[0.5,\"#f7f7f7\"],[0.6,\"#e6f5d0\"],[0.7,\"#b8e186\"],[0.8,\"#7fbc41\"],[0.9,\"#4d9221\"],[1,\"#276419\"]],\"sequential\":[[0.0,\"#0d0887\"],[0.1111111111111111,\"#46039f\"],[0.2222222222222222,\"#7201a8\"],[0.3333333333333333,\"#9c179e\"],[0.4444444444444444,\"#bd3786\"],[0.5555555555555556,\"#d8576b\"],[0.6666666666666666,\"#ed7953\"],[0.7777777777777778,\"#fb9f3a\"],[0.8888888888888888,\"#fdca26\"],[1.0,\"#f0f921\"]],\"sequentialminus\":[[0.0,\"#0d0887\"],[0.1111111111111111,\"#46039f\"],[0.2222222222222222,\"#7201a8\"],[0.3333333333333333,\"#9c179e\"],[0.4444444444444444,\"#bd3786\"],[0.5555555555555556,\"#d8576b\"],[0.6666666666666666,\"#ed7953\"],[0.7777777777777778,\"#fb9f3a\"],[0.8888888888888888,\"#fdca26\"],[1.0,\"#f0f921\"]]},\"colorway\":[\"#636efa\",\"#EF553B\",\"#00cc96\",\"#ab63fa\",\"#FFA15A\",\"#19d3f3\",\"#FF6692\",\"#B6E880\",\"#FF97FF\",\"#FECB52\"],\"font\":{\"color\":\"#2a3f5f\"},\"geo\":{\"bgcolor\":\"white\",\"lakecolor\":\"white\",\"landcolor\":\"#E5ECF6\",\"showlakes\":true,\"showland\":true,\"subunitcolor\":\"white\"},\"hoverlabel\":{\"align\":\"left\"},\"hovermode\":\"closest\",\"mapbox\":{\"style\":\"light\"},\"paper_bgcolor\":\"white\",\"plot_bgcolor\":\"#E5ECF6\",\"polar\":{\"angularaxis\":{\"gridcolor\":\"white\",\"linecolor\":\"white\",\"ticks\":\"\"},\"bgcolor\":\"#E5ECF6\",\"radialaxis\":{\"gridcolor\":\"white\",\"linecolor\":\"white\",\"ticks\":\"\"}},\"scene\":{\"xaxis\":{\"backgroundcolor\":\"#E5ECF6\",\"gridcolor\":\"white\",\"gridwidth\":2,\"linecolor\":\"white\",\"showbackground\":true,\"ticks\":\"\",\"zerolinecolor\":\"white\"},\"yaxis\":{\"backgroundcolor\":\"#E5ECF6\",\"gridcolor\":\"white\",\"gridwidth\":2,\"linecolor\":\"white\",\"showbackground\":true,\"ticks\":\"\",\"zerolinecolor\":\"white\"},\"zaxis\":{\"backgroundcolor\":\"#E5ECF6\",\"gridcolor\":\"white\",\"gridwidth\":2,\"linecolor\":\"white\",\"showbackground\":true,\"ticks\":\"\",\"zerolinecolor\":\"white\"}},\"shapedefaults\":{\"line\":{\"color\":\"#2a3f5f\"}},\"ternary\":{\"aaxis\":{\"gridcolor\":\"white\",\"linecolor\":\"white\",\"ticks\":\"\"},\"baxis\":{\"gridcolor\":\"white\",\"linecolor\":\"white\",\"ticks\":\"\"},\"bgcolor\":\"#E5ECF6\",\"caxis\":{\"gridcolor\":\"white\",\"linecolor\":\"white\",\"ticks\":\"\"}},\"title\":{\"x\":0.05},\"xaxis\":{\"automargin\":true,\"gridcolor\":\"white\",\"linecolor\":\"white\",\"ticks\":\"\",\"title\":{\"standoff\":15},\"zerolinecolor\":\"white\",\"zerolinewidth\":2},\"yaxis\":{\"automargin\":true,\"gridcolor\":\"white\",\"linecolor\":\"white\",\"ticks\":\"\",\"title\":{\"standoff\":15},\"zerolinecolor\":\"white\",\"zerolinewidth\":2}}}},                        {\"responsive\": true}                    ).then(function(){\n",
              "                            \n",
              "var gd = document.getElementById('62bdf25f-274f-4b72-afa8-c0c72edb91cb');\n",
              "var x = new MutationObserver(function (mutations, observer) {{\n",
              "        var display = window.getComputedStyle(gd).display;\n",
              "        if (!display || display === 'none') {{\n",
              "            console.log([gd, 'removed!']);\n",
              "            Plotly.purge(gd);\n",
              "            observer.disconnect();\n",
              "        }}\n",
              "}});\n",
              "\n",
              "// Listen for the removal of the full notebook cells\n",
              "var notebookContainer = gd.closest('#notebook-container');\n",
              "if (notebookContainer) {{\n",
              "    x.observe(notebookContainer, {childList: true});\n",
              "}}\n",
              "\n",
              "// Listen for the clearing of the current output cell\n",
              "var outputEl = gd.closest('.output');\n",
              "if (outputEl) {{\n",
              "    x.observe(outputEl, {childList: true});\n",
              "}}\n",
              "\n",
              "                        })                };                            </script>        </div>\n",
              "</body>\n",
              "</html>"
            ]
          },
          "metadata": {},
          "output_type": "display_data"
        }
      ],
      "source": [
        "optuna.visualization.plot_optimization_history(kNN_study)"
      ]
    },
    {
      "cell_type": "code",
      "execution_count": 192,
      "metadata": {
        "colab": {
          "base_uri": "https://localhost:8080/",
          "height": 542
        },
        "id": "DK18b5Cv27hq",
        "outputId": "8e6d2877-285c-4274-a687-e8587a79fd12"
      },
      "outputs": [
        {
          "data": {
            "text/html": [
              "<html>\n",
              "<head><meta charset=\"utf-8\" /></head>\n",
              "<body>\n",
              "    <div>            <script src=\"https://cdnjs.cloudflare.com/ajax/libs/mathjax/2.7.5/MathJax.js?config=TeX-AMS-MML_SVG\"></script><script type=\"text/javascript\">if (window.MathJax) {MathJax.Hub.Config({SVG: {font: \"STIX-Web\"}});}</script>                <script type=\"text/javascript\">window.PlotlyConfig = {MathJaxConfig: 'local'};</script>\n",
              "        <script src=\"https://cdn.plot.ly/plotly-2.8.3.min.js\"></script>                <div id=\"f5c7a7ed-7e81-4182-aa1a-342fea5dff30\" class=\"plotly-graph-div\" style=\"height:525px; width:100%;\"></div>            <script type=\"text/javascript\">                                    window.PLOTLYENV=window.PLOTLYENV || {};                                    if (document.getElementById(\"f5c7a7ed-7e81-4182-aa1a-342fea5dff30\")) {                    Plotly.newPlot(                        \"f5c7a7ed-7e81-4182-aa1a-342fea5dff30\",                        [{\"cliponaxis\":false,\"hovertemplate\":[\"metric (CategoricalDistribution): 0.004998128964034069<extra></extra>\",\"n_neighbors (IntDistribution): 0.02720045826474656<extra></extra>\",\"scalers (CategoricalDistribution): 0.06785893235362296<extra></extra>\",\"weights (CategoricalDistribution): 0.8999424804175964<extra></extra>\"],\"marker\":{\"color\":\"rgb(66,146,198)\"},\"orientation\":\"h\",\"text\":[\"<0.01\",\"0.03\",\"0.07\",\"0.90\"],\"textposition\":\"outside\",\"x\":[0.004998128964034069,0.02720045826474656,0.06785893235362296,0.8999424804175964],\"y\":[\"metric\",\"n_neighbors\",\"scalers\",\"weights\"],\"type\":\"bar\"}],                        {\"showlegend\":false,\"title\":{\"text\":\"Hyperparameter Importances\"},\"xaxis\":{\"title\":{\"text\":\"Importance for Objective Value\"}},\"yaxis\":{\"title\":{\"text\":\"Hyperparameter\"}},\"template\":{\"data\":{\"bar\":[{\"error_x\":{\"color\":\"#2a3f5f\"},\"error_y\":{\"color\":\"#2a3f5f\"},\"marker\":{\"line\":{\"color\":\"#E5ECF6\",\"width\":0.5},\"pattern\":{\"fillmode\":\"overlay\",\"size\":10,\"solidity\":0.2}},\"type\":\"bar\"}],\"barpolar\":[{\"marker\":{\"line\":{\"color\":\"#E5ECF6\",\"width\":0.5},\"pattern\":{\"fillmode\":\"overlay\",\"size\":10,\"solidity\":0.2}},\"type\":\"barpolar\"}],\"carpet\":[{\"aaxis\":{\"endlinecolor\":\"#2a3f5f\",\"gridcolor\":\"white\",\"linecolor\":\"white\",\"minorgridcolor\":\"white\",\"startlinecolor\":\"#2a3f5f\"},\"baxis\":{\"endlinecolor\":\"#2a3f5f\",\"gridcolor\":\"white\",\"linecolor\":\"white\",\"minorgridcolor\":\"white\",\"startlinecolor\":\"#2a3f5f\"},\"type\":\"carpet\"}],\"choropleth\":[{\"colorbar\":{\"outlinewidth\":0,\"ticks\":\"\"},\"type\":\"choropleth\"}],\"contour\":[{\"colorbar\":{\"outlinewidth\":0,\"ticks\":\"\"},\"colorscale\":[[0.0,\"#0d0887\"],[0.1111111111111111,\"#46039f\"],[0.2222222222222222,\"#7201a8\"],[0.3333333333333333,\"#9c179e\"],[0.4444444444444444,\"#bd3786\"],[0.5555555555555556,\"#d8576b\"],[0.6666666666666666,\"#ed7953\"],[0.7777777777777778,\"#fb9f3a\"],[0.8888888888888888,\"#fdca26\"],[1.0,\"#f0f921\"]],\"type\":\"contour\"}],\"contourcarpet\":[{\"colorbar\":{\"outlinewidth\":0,\"ticks\":\"\"},\"type\":\"contourcarpet\"}],\"heatmap\":[{\"colorbar\":{\"outlinewidth\":0,\"ticks\":\"\"},\"colorscale\":[[0.0,\"#0d0887\"],[0.1111111111111111,\"#46039f\"],[0.2222222222222222,\"#7201a8\"],[0.3333333333333333,\"#9c179e\"],[0.4444444444444444,\"#bd3786\"],[0.5555555555555556,\"#d8576b\"],[0.6666666666666666,\"#ed7953\"],[0.7777777777777778,\"#fb9f3a\"],[0.8888888888888888,\"#fdca26\"],[1.0,\"#f0f921\"]],\"type\":\"heatmap\"}],\"heatmapgl\":[{\"colorbar\":{\"outlinewidth\":0,\"ticks\":\"\"},\"colorscale\":[[0.0,\"#0d0887\"],[0.1111111111111111,\"#46039f\"],[0.2222222222222222,\"#7201a8\"],[0.3333333333333333,\"#9c179e\"],[0.4444444444444444,\"#bd3786\"],[0.5555555555555556,\"#d8576b\"],[0.6666666666666666,\"#ed7953\"],[0.7777777777777778,\"#fb9f3a\"],[0.8888888888888888,\"#fdca26\"],[1.0,\"#f0f921\"]],\"type\":\"heatmapgl\"}],\"histogram\":[{\"marker\":{\"pattern\":{\"fillmode\":\"overlay\",\"size\":10,\"solidity\":0.2}},\"type\":\"histogram\"}],\"histogram2d\":[{\"colorbar\":{\"outlinewidth\":0,\"ticks\":\"\"},\"colorscale\":[[0.0,\"#0d0887\"],[0.1111111111111111,\"#46039f\"],[0.2222222222222222,\"#7201a8\"],[0.3333333333333333,\"#9c179e\"],[0.4444444444444444,\"#bd3786\"],[0.5555555555555556,\"#d8576b\"],[0.6666666666666666,\"#ed7953\"],[0.7777777777777778,\"#fb9f3a\"],[0.8888888888888888,\"#fdca26\"],[1.0,\"#f0f921\"]],\"type\":\"histogram2d\"}],\"histogram2dcontour\":[{\"colorbar\":{\"outlinewidth\":0,\"ticks\":\"\"},\"colorscale\":[[0.0,\"#0d0887\"],[0.1111111111111111,\"#46039f\"],[0.2222222222222222,\"#7201a8\"],[0.3333333333333333,\"#9c179e\"],[0.4444444444444444,\"#bd3786\"],[0.5555555555555556,\"#d8576b\"],[0.6666666666666666,\"#ed7953\"],[0.7777777777777778,\"#fb9f3a\"],[0.8888888888888888,\"#fdca26\"],[1.0,\"#f0f921\"]],\"type\":\"histogram2dcontour\"}],\"mesh3d\":[{\"colorbar\":{\"outlinewidth\":0,\"ticks\":\"\"},\"type\":\"mesh3d\"}],\"parcoords\":[{\"line\":{\"colorbar\":{\"outlinewidth\":0,\"ticks\":\"\"}},\"type\":\"parcoords\"}],\"pie\":[{\"automargin\":true,\"type\":\"pie\"}],\"scatter\":[{\"marker\":{\"colorbar\":{\"outlinewidth\":0,\"ticks\":\"\"}},\"type\":\"scatter\"}],\"scatter3d\":[{\"line\":{\"colorbar\":{\"outlinewidth\":0,\"ticks\":\"\"}},\"marker\":{\"colorbar\":{\"outlinewidth\":0,\"ticks\":\"\"}},\"type\":\"scatter3d\"}],\"scattercarpet\":[{\"marker\":{\"colorbar\":{\"outlinewidth\":0,\"ticks\":\"\"}},\"type\":\"scattercarpet\"}],\"scattergeo\":[{\"marker\":{\"colorbar\":{\"outlinewidth\":0,\"ticks\":\"\"}},\"type\":\"scattergeo\"}],\"scattergl\":[{\"marker\":{\"colorbar\":{\"outlinewidth\":0,\"ticks\":\"\"}},\"type\":\"scattergl\"}],\"scattermapbox\":[{\"marker\":{\"colorbar\":{\"outlinewidth\":0,\"ticks\":\"\"}},\"type\":\"scattermapbox\"}],\"scatterpolar\":[{\"marker\":{\"colorbar\":{\"outlinewidth\":0,\"ticks\":\"\"}},\"type\":\"scatterpolar\"}],\"scatterpolargl\":[{\"marker\":{\"colorbar\":{\"outlinewidth\":0,\"ticks\":\"\"}},\"type\":\"scatterpolargl\"}],\"scatterternary\":[{\"marker\":{\"colorbar\":{\"outlinewidth\":0,\"ticks\":\"\"}},\"type\":\"scatterternary\"}],\"surface\":[{\"colorbar\":{\"outlinewidth\":0,\"ticks\":\"\"},\"colorscale\":[[0.0,\"#0d0887\"],[0.1111111111111111,\"#46039f\"],[0.2222222222222222,\"#7201a8\"],[0.3333333333333333,\"#9c179e\"],[0.4444444444444444,\"#bd3786\"],[0.5555555555555556,\"#d8576b\"],[0.6666666666666666,\"#ed7953\"],[0.7777777777777778,\"#fb9f3a\"],[0.8888888888888888,\"#fdca26\"],[1.0,\"#f0f921\"]],\"type\":\"surface\"}],\"table\":[{\"cells\":{\"fill\":{\"color\":\"#EBF0F8\"},\"line\":{\"color\":\"white\"}},\"header\":{\"fill\":{\"color\":\"#C8D4E3\"},\"line\":{\"color\":\"white\"}},\"type\":\"table\"}]},\"layout\":{\"annotationdefaults\":{\"arrowcolor\":\"#2a3f5f\",\"arrowhead\":0,\"arrowwidth\":1},\"autotypenumbers\":\"strict\",\"coloraxis\":{\"colorbar\":{\"outlinewidth\":0,\"ticks\":\"\"}},\"colorscale\":{\"diverging\":[[0,\"#8e0152\"],[0.1,\"#c51b7d\"],[0.2,\"#de77ae\"],[0.3,\"#f1b6da\"],[0.4,\"#fde0ef\"],[0.5,\"#f7f7f7\"],[0.6,\"#e6f5d0\"],[0.7,\"#b8e186\"],[0.8,\"#7fbc41\"],[0.9,\"#4d9221\"],[1,\"#276419\"]],\"sequential\":[[0.0,\"#0d0887\"],[0.1111111111111111,\"#46039f\"],[0.2222222222222222,\"#7201a8\"],[0.3333333333333333,\"#9c179e\"],[0.4444444444444444,\"#bd3786\"],[0.5555555555555556,\"#d8576b\"],[0.6666666666666666,\"#ed7953\"],[0.7777777777777778,\"#fb9f3a\"],[0.8888888888888888,\"#fdca26\"],[1.0,\"#f0f921\"]],\"sequentialminus\":[[0.0,\"#0d0887\"],[0.1111111111111111,\"#46039f\"],[0.2222222222222222,\"#7201a8\"],[0.3333333333333333,\"#9c179e\"],[0.4444444444444444,\"#bd3786\"],[0.5555555555555556,\"#d8576b\"],[0.6666666666666666,\"#ed7953\"],[0.7777777777777778,\"#fb9f3a\"],[0.8888888888888888,\"#fdca26\"],[1.0,\"#f0f921\"]]},\"colorway\":[\"#636efa\",\"#EF553B\",\"#00cc96\",\"#ab63fa\",\"#FFA15A\",\"#19d3f3\",\"#FF6692\",\"#B6E880\",\"#FF97FF\",\"#FECB52\"],\"font\":{\"color\":\"#2a3f5f\"},\"geo\":{\"bgcolor\":\"white\",\"lakecolor\":\"white\",\"landcolor\":\"#E5ECF6\",\"showlakes\":true,\"showland\":true,\"subunitcolor\":\"white\"},\"hoverlabel\":{\"align\":\"left\"},\"hovermode\":\"closest\",\"mapbox\":{\"style\":\"light\"},\"paper_bgcolor\":\"white\",\"plot_bgcolor\":\"#E5ECF6\",\"polar\":{\"angularaxis\":{\"gridcolor\":\"white\",\"linecolor\":\"white\",\"ticks\":\"\"},\"bgcolor\":\"#E5ECF6\",\"radialaxis\":{\"gridcolor\":\"white\",\"linecolor\":\"white\",\"ticks\":\"\"}},\"scene\":{\"xaxis\":{\"backgroundcolor\":\"#E5ECF6\",\"gridcolor\":\"white\",\"gridwidth\":2,\"linecolor\":\"white\",\"showbackground\":true,\"ticks\":\"\",\"zerolinecolor\":\"white\"},\"yaxis\":{\"backgroundcolor\":\"#E5ECF6\",\"gridcolor\":\"white\",\"gridwidth\":2,\"linecolor\":\"white\",\"showbackground\":true,\"ticks\":\"\",\"zerolinecolor\":\"white\"},\"zaxis\":{\"backgroundcolor\":\"#E5ECF6\",\"gridcolor\":\"white\",\"gridwidth\":2,\"linecolor\":\"white\",\"showbackground\":true,\"ticks\":\"\",\"zerolinecolor\":\"white\"}},\"shapedefaults\":{\"line\":{\"color\":\"#2a3f5f\"}},\"ternary\":{\"aaxis\":{\"gridcolor\":\"white\",\"linecolor\":\"white\",\"ticks\":\"\"},\"baxis\":{\"gridcolor\":\"white\",\"linecolor\":\"white\",\"ticks\":\"\"},\"bgcolor\":\"#E5ECF6\",\"caxis\":{\"gridcolor\":\"white\",\"linecolor\":\"white\",\"ticks\":\"\"}},\"title\":{\"x\":0.05},\"xaxis\":{\"automargin\":true,\"gridcolor\":\"white\",\"linecolor\":\"white\",\"ticks\":\"\",\"title\":{\"standoff\":15},\"zerolinecolor\":\"white\",\"zerolinewidth\":2},\"yaxis\":{\"automargin\":true,\"gridcolor\":\"white\",\"linecolor\":\"white\",\"ticks\":\"\",\"title\":{\"standoff\":15},\"zerolinecolor\":\"white\",\"zerolinewidth\":2}}}},                        {\"responsive\": true}                    ).then(function(){\n",
              "                            \n",
              "var gd = document.getElementById('f5c7a7ed-7e81-4182-aa1a-342fea5dff30');\n",
              "var x = new MutationObserver(function (mutations, observer) {{\n",
              "        var display = window.getComputedStyle(gd).display;\n",
              "        if (!display || display === 'none') {{\n",
              "            console.log([gd, 'removed!']);\n",
              "            Plotly.purge(gd);\n",
              "            observer.disconnect();\n",
              "        }}\n",
              "}});\n",
              "\n",
              "// Listen for the removal of the full notebook cells\n",
              "var notebookContainer = gd.closest('#notebook-container');\n",
              "if (notebookContainer) {{\n",
              "    x.observe(notebookContainer, {childList: true});\n",
              "}}\n",
              "\n",
              "// Listen for the clearing of the current output cell\n",
              "var outputEl = gd.closest('.output');\n",
              "if (outputEl) {{\n",
              "    x.observe(outputEl, {childList: true});\n",
              "}}\n",
              "\n",
              "                        })                };                            </script>        </div>\n",
              "</body>\n",
              "</html>"
            ]
          },
          "metadata": {},
          "output_type": "display_data"
        }
      ],
      "source": [
        "optuna.visualization.plot_param_importances(kNN_study)"
      ]
    },
    {
      "cell_type": "code",
      "execution_count": 193,
      "metadata": {
        "colab": {
          "base_uri": "https://localhost:8080/"
        },
        "id": "YLdayxJF2MQe",
        "outputId": "457cabda-212b-4416-ab2a-cb9755235a66"
      },
      "outputs": [
        {
          "name": "stdout",
          "output_type": "stream",
          "text": [
            "Best parameters after tuning using mean accuracy:\n"
          ]
        },
        {
          "data": {
            "text/plain": [
              "{'scalers': 'standard',\n",
              " 'n_neighbors': 11,\n",
              " 'weights': 'distance',\n",
              " 'metric': 'manhattan'}"
            ]
          },
          "execution_count": 193,
          "metadata": {},
          "output_type": "execute_result"
        }
      ],
      "source": [
        "print(\"Best parameters after tuning using mean accuracy:\")\n",
        "kNN_study.best_params"
      ]
    },
    {
      "cell_type": "code",
      "execution_count": 194,
      "metadata": {
        "colab": {
          "base_uri": "https://localhost:8080/"
        },
        "id": "PftkUrRh3RHE",
        "outputId": "0dcc2ab4-926e-44a9-abb9-7b59d73872bd"
      },
      "outputs": [
        {
          "name": "stdout",
          "output_type": "stream",
          "text": [
            "Συνολικός χρόνος train και test: 0.056992530822753906 seconds\n",
            "Training Set:\n",
            "kNN Classifier accuracy:  0.8333333333333334\n",
            "kNN Classifier f1 macro:  0.832293956043956\n",
            "\n",
            "Testing set:\n",
            "kNN Classifier accuracy:  0.92\n",
            "kNN Classifier f1 macro:  0.9178981937602627\n",
            "\n",
            "kNN Classifier Classification Report:\n",
            "              precision    recall  f1-score   support\n",
            "\n",
            "         0.0       0.90      0.90      0.90        21\n",
            "         1.0       0.93      0.93      0.93        29\n",
            "\n",
            "    accuracy                           0.92        50\n",
            "   macro avg       0.92      0.92      0.92        50\n",
            "weighted avg       0.92      0.92      0.92        50\n",
            "\n",
            "\n"
          ]
        }
      ],
      "source": [
        "best_params = kNN_study.best_params\n",
        "\n",
        "if best_params['scalers'] == \"minmax\":\n",
        "  opt_scaler = MinMaxScaler()\n",
        "elif best_params['scalers'] == \"standard\":\n",
        "  opt_scaler = StandardScaler()\n",
        "else:\n",
        "  opt_scaler = RobustScaler()\n",
        "\n",
        "del best_params['scalers']\n",
        "\n",
        "# Creation of knn classifier with optimized parameters\n",
        "kNN_clf_opt = neighbors.KNeighborsClassifier(**best_params)\n",
        "kNN_pipeline = make_pipeline(opt_scaler, kNN_clf_opt)\n",
        "\n",
        "# Kαταγραφή χρόνου train και test\n",
        "start_time = time.time()\n",
        "\n",
        "# Model training \n",
        "strtfdKFold = StratifiedKFold(n_splits=10)\n",
        "# Creation of knn classifier with optimized parameters\n",
        "clf = neighbors.KNeighborsClassifier(**best_params)\n",
        "kNN_pipeline = make_pipeline(opt_scaler, clf)\n",
        "\n",
        "# Model testing\n",
        "kNN_pipeline.fit(x_train, y_train)\n",
        "kNN_scores_f1 = cross_val_score(kNN_pipeline, x_train, y_train, scoring='accuracy' ,cv = strtfdKFold, n_jobs=1)\n",
        "kNN_f1_macro_f1 = cross_val_score(kNN_pipeline, x_train, y_train, scoring='f1_macro', cv = strtfdKFold, n_jobs=1)\n",
        "\n",
        "# Time's up\n",
        "print(\"Συνολικός χρόνος train και test: %s seconds\" % (time.time() - start_time))\n",
        "\n",
        "print(\"Training Set:\")\n",
        "print(\"kNN Classifier accuracy: \", kNN_scores_f1.mean())\n",
        "print(\"kNN Classifier f1 macro: \", kNN_f1_macro_f1.mean())\n",
        "\n",
        "knn_test_acc_f1 = kNN_pipeline.score(x_test, y_test)\n",
        "kNN_preds_f1 = kNN_pipeline.predict(x_test)\n",
        "knn_f1_f1 = f1_score(y_test, kNN_preds_f1, average='macro')\n",
        "\n",
        "print(\"\\nTesting set:\")\n",
        "print(\"kNN Classifier accuracy: \", knn_test_acc_f1)\n",
        "print(\"kNN Classifier f1 macro: \", knn_f1_f1)\n",
        "print('\\nkNN Classifier Classification Report:\\n' + classification_report(y_test, kNN_preds_f1)+'\\n')"
      ]
    },
    {
      "cell_type": "markdown",
      "metadata": {
        "id": "BJqlu3obQTSr"
      },
      "source": [
        "Με τις βέλτιστες παραμέτρους που προέκυψαν από το optuna υπάρχει βελτίωση και στις 2 μετρικές της τάξης του 5-7% για το training set. Παρατηρούμε για το test set όμως, ότι τόσο το accuracy όσο και το f1-macro score μειώνονται σε σχέση με τα αντίστοιχα του training set, οδηγώντας μας στο να συμπεράνουμε ότι υπάρχει overfitting."
      ]
    },
    {
      "cell_type": "markdown",
      "metadata": {
        "id": "eO1SCWMIOrFf"
      },
      "source": [
        "### Logistic Regression (LR)"
      ]
    },
    {
      "cell_type": "code",
      "execution_count": 195,
      "metadata": {
        "id": "qDhVhm0RfhUq"
      },
      "outputs": [],
      "source": [
        "from sklearn.model_selection import GridSearchCV\n",
        "\n",
        "logModel = LogisticRegression()\n",
        "\n",
        "param_grid = [    \n",
        "    {'penalty' : ['l1', 'l2', 'elasticnet', 'none'], #Loss function\n",
        "    'C' : np.logspace(-1, 1, 40), \n",
        "    'solver' : ['lbfgs','newton-cg','liblinear','sag',], #'saga'\n",
        "    'max_iter' : [100] #100, 500, 1000, 2500, 5000\n",
        "    }\n",
        "]\n",
        "#Cause of warnings (εκτός της μη-σύγκλισης λόγο χαμηλού αριθμού max_iterations)\n",
        "#solvers :  {'lbfgs', 'newton-cg', 'sag'} support l2 or no Loss function\n",
        "#solver 'liblinear' supports does not support Elastic net Loss function "
      ]
    },
    {
      "cell_type": "code",
      "execution_count": 196,
      "metadata": {
        "colab": {
          "base_uri": "https://localhost:8080/"
        },
        "id": "dITpcE2IrI2Q",
        "outputId": "a724961a-ff11-4f65-c75a-d4e195386669"
      },
      "outputs": [
        {
          "name": "stdout",
          "output_type": "stream",
          "text": [
            "Fitting 10 folds for each of 640 candidates, totalling 6400 fits\n",
            "Συνολικός χρόνος train και test: 143.36900544166565 seconds\n"
          ]
        },
        {
          "name": "stderr",
          "output_type": "stream",
          "text": [
            "/usr/local/lib/python3.7/dist-packages/sklearn/model_selection/_validation.py:372: FitFailedWarning:\n",
            "\n",
            "\n",
            "3200 fits failed out of a total of 6400.\n",
            "The score on these train-test partitions for these parameters will be set to nan.\n",
            "If these failures are not expected, you can try to debug them by setting error_score='raise'.\n",
            "\n",
            "Below are more details about the failures:\n",
            "--------------------------------------------------------------------------------\n",
            "400 fits failed with the following error:\n",
            "Traceback (most recent call last):\n",
            "  File \"/usr/local/lib/python3.7/dist-packages/sklearn/model_selection/_validation.py\", line 680, in _fit_and_score\n",
            "    estimator.fit(X_train, y_train, **fit_params)\n",
            "  File \"/usr/local/lib/python3.7/dist-packages/sklearn/linear_model/_logistic.py\", line 1461, in fit\n",
            "    solver = _check_solver(self.solver, self.penalty, self.dual)\n",
            "  File \"/usr/local/lib/python3.7/dist-packages/sklearn/linear_model/_logistic.py\", line 449, in _check_solver\n",
            "    % (solver, penalty)\n",
            "ValueError: Solver lbfgs supports only 'l2' or 'none' penalties, got l1 penalty.\n",
            "\n",
            "--------------------------------------------------------------------------------\n",
            "400 fits failed with the following error:\n",
            "Traceback (most recent call last):\n",
            "  File \"/usr/local/lib/python3.7/dist-packages/sklearn/model_selection/_validation.py\", line 680, in _fit_and_score\n",
            "    estimator.fit(X_train, y_train, **fit_params)\n",
            "  File \"/usr/local/lib/python3.7/dist-packages/sklearn/linear_model/_logistic.py\", line 1461, in fit\n",
            "    solver = _check_solver(self.solver, self.penalty, self.dual)\n",
            "  File \"/usr/local/lib/python3.7/dist-packages/sklearn/linear_model/_logistic.py\", line 449, in _check_solver\n",
            "    % (solver, penalty)\n",
            "ValueError: Solver newton-cg supports only 'l2' or 'none' penalties, got l1 penalty.\n",
            "\n",
            "--------------------------------------------------------------------------------\n",
            "400 fits failed with the following error:\n",
            "Traceback (most recent call last):\n",
            "  File \"/usr/local/lib/python3.7/dist-packages/sklearn/model_selection/_validation.py\", line 680, in _fit_and_score\n",
            "    estimator.fit(X_train, y_train, **fit_params)\n",
            "  File \"/usr/local/lib/python3.7/dist-packages/sklearn/linear_model/_logistic.py\", line 1461, in fit\n",
            "    solver = _check_solver(self.solver, self.penalty, self.dual)\n",
            "  File \"/usr/local/lib/python3.7/dist-packages/sklearn/linear_model/_logistic.py\", line 449, in _check_solver\n",
            "    % (solver, penalty)\n",
            "ValueError: Solver sag supports only 'l2' or 'none' penalties, got l1 penalty.\n",
            "\n",
            "--------------------------------------------------------------------------------\n",
            "400 fits failed with the following error:\n",
            "Traceback (most recent call last):\n",
            "  File \"/usr/local/lib/python3.7/dist-packages/sklearn/model_selection/_validation.py\", line 680, in _fit_and_score\n",
            "    estimator.fit(X_train, y_train, **fit_params)\n",
            "  File \"/usr/local/lib/python3.7/dist-packages/sklearn/linear_model/_logistic.py\", line 1461, in fit\n",
            "    solver = _check_solver(self.solver, self.penalty, self.dual)\n",
            "  File \"/usr/local/lib/python3.7/dist-packages/sklearn/linear_model/_logistic.py\", line 449, in _check_solver\n",
            "    % (solver, penalty)\n",
            "ValueError: Solver lbfgs supports only 'l2' or 'none' penalties, got elasticnet penalty.\n",
            "\n",
            "--------------------------------------------------------------------------------\n",
            "400 fits failed with the following error:\n",
            "Traceback (most recent call last):\n",
            "  File \"/usr/local/lib/python3.7/dist-packages/sklearn/model_selection/_validation.py\", line 680, in _fit_and_score\n",
            "    estimator.fit(X_train, y_train, **fit_params)\n",
            "  File \"/usr/local/lib/python3.7/dist-packages/sklearn/linear_model/_logistic.py\", line 1461, in fit\n",
            "    solver = _check_solver(self.solver, self.penalty, self.dual)\n",
            "  File \"/usr/local/lib/python3.7/dist-packages/sklearn/linear_model/_logistic.py\", line 449, in _check_solver\n",
            "    % (solver, penalty)\n",
            "ValueError: Solver newton-cg supports only 'l2' or 'none' penalties, got elasticnet penalty.\n",
            "\n",
            "--------------------------------------------------------------------------------\n",
            "400 fits failed with the following error:\n",
            "Traceback (most recent call last):\n",
            "  File \"/usr/local/lib/python3.7/dist-packages/sklearn/model_selection/_validation.py\", line 680, in _fit_and_score\n",
            "    estimator.fit(X_train, y_train, **fit_params)\n",
            "  File \"/usr/local/lib/python3.7/dist-packages/sklearn/linear_model/_logistic.py\", line 1461, in fit\n",
            "    solver = _check_solver(self.solver, self.penalty, self.dual)\n",
            "  File \"/usr/local/lib/python3.7/dist-packages/sklearn/linear_model/_logistic.py\", line 459, in _check_solver\n",
            "    solver\n",
            "ValueError: Only 'saga' solver supports elasticnet penalty, got solver=liblinear.\n",
            "\n",
            "--------------------------------------------------------------------------------\n",
            "400 fits failed with the following error:\n",
            "Traceback (most recent call last):\n",
            "  File \"/usr/local/lib/python3.7/dist-packages/sklearn/model_selection/_validation.py\", line 680, in _fit_and_score\n",
            "    estimator.fit(X_train, y_train, **fit_params)\n",
            "  File \"/usr/local/lib/python3.7/dist-packages/sklearn/linear_model/_logistic.py\", line 1461, in fit\n",
            "    solver = _check_solver(self.solver, self.penalty, self.dual)\n",
            "  File \"/usr/local/lib/python3.7/dist-packages/sklearn/linear_model/_logistic.py\", line 449, in _check_solver\n",
            "    % (solver, penalty)\n",
            "ValueError: Solver sag supports only 'l2' or 'none' penalties, got elasticnet penalty.\n",
            "\n",
            "--------------------------------------------------------------------------------\n",
            "400 fits failed with the following error:\n",
            "Traceback (most recent call last):\n",
            "  File \"/usr/local/lib/python3.7/dist-packages/sklearn/model_selection/_validation.py\", line 680, in _fit_and_score\n",
            "    estimator.fit(X_train, y_train, **fit_params)\n",
            "  File \"/usr/local/lib/python3.7/dist-packages/sklearn/linear_model/_logistic.py\", line 1461, in fit\n",
            "    solver = _check_solver(self.solver, self.penalty, self.dual)\n",
            "  File \"/usr/local/lib/python3.7/dist-packages/sklearn/linear_model/_logistic.py\", line 464, in _check_solver\n",
            "    raise ValueError(\"penalty='none' is not supported for the liblinear solver\")\n",
            "ValueError: penalty='none' is not supported for the liblinear solver\n",
            "\n",
            "\n",
            "/usr/local/lib/python3.7/dist-packages/sklearn/model_selection/_search.py:972: UserWarning:\n",
            "\n",
            "One or more of the test scores are non-finite: [       nan        nan 0.79666667        nan 0.72619048 0.80380952\n",
            " 0.80333333 0.50857143        nan        nan        nan        nan\n",
            " 0.72666667 0.78238095        nan 0.50857143        nan        nan\n",
            " 0.81047619        nan 0.73333333 0.80380952 0.78952381 0.50857143\n",
            "        nan        nan        nan        nan 0.72666667 0.78238095\n",
            "        nan 0.50857143        nan        nan 0.81047619        nan\n",
            " 0.73333333 0.80380952 0.80380952 0.50857143        nan        nan\n",
            "        nan        nan 0.72666667 0.78238095        nan 0.50857143\n",
            "        nan        nan 0.80333333        nan 0.71190476 0.80380952\n",
            " 0.80380952 0.50857143        nan        nan        nan        nan\n",
            " 0.72666667 0.78238095        nan 0.50857143        nan        nan\n",
            " 0.81047619        nan 0.75428571 0.81095238 0.79666667 0.50857143\n",
            "        nan        nan        nan        nan 0.72666667 0.78238095\n",
            "        nan 0.50857143        nan        nan 0.81047619        nan\n",
            " 0.72619048 0.80380952 0.79666667 0.50857143        nan        nan\n",
            "        nan        nan 0.72666667 0.78238095        nan 0.50857143\n",
            "        nan        nan 0.81761905        nan 0.71238095 0.80380952\n",
            " 0.78238095 0.50857143        nan        nan        nan        nan\n",
            " 0.72666667 0.78238095        nan 0.50857143        nan        nan\n",
            " 0.81761905        nan 0.74809524 0.80380952 0.8247619  0.50857143\n",
            "        nan        nan        nan        nan 0.72666667 0.78238095\n",
            "        nan 0.50857143        nan        nan 0.81761905        nan\n",
            " 0.73333333 0.79666667 0.81047619 0.50857143        nan        nan\n",
            "        nan        nan 0.72666667 0.78238095        nan 0.50857143\n",
            "        nan        nan 0.81047619        nan 0.76809524 0.79666667\n",
            " 0.81095238 0.50857143        nan        nan        nan        nan\n",
            " 0.72666667 0.78238095        nan 0.50857143        nan        nan\n",
            " 0.80333333        nan 0.74809524 0.79666667 0.78952381 0.50857143\n",
            "        nan        nan        nan        nan 0.72666667 0.78238095\n",
            "        nan 0.50857143        nan        nan 0.79619048        nan\n",
            " 0.71238095 0.79666667 0.78952381 0.50857143        nan        nan\n",
            "        nan        nan 0.72666667 0.78238095        nan 0.50857143\n",
            "        nan        nan 0.81761905        nan 0.72619048 0.79666667\n",
            " 0.81095238 0.50857143        nan        nan        nan        nan\n",
            " 0.72666667 0.78238095        nan 0.50857143        nan        nan\n",
            " 0.79619048        nan 0.72666667 0.79666667 0.78952381 0.50857143\n",
            "        nan        nan        nan        nan 0.72666667 0.78238095\n",
            "        nan 0.50857143        nan        nan 0.79619048        nan\n",
            " 0.72666667 0.79666667 0.80380952 0.50857143        nan        nan\n",
            "        nan        nan 0.72666667 0.78238095        nan 0.50857143\n",
            "        nan        nan 0.79619048        nan 0.73380952 0.78952381\n",
            " 0.80380952 0.50857143        nan        nan        nan        nan\n",
            " 0.72666667 0.78238095        nan 0.50857143        nan        nan\n",
            " 0.79619048        nan 0.72666667 0.79666667 0.79619048 0.50857143\n",
            "        nan        nan        nan        nan 0.72666667 0.78238095\n",
            "        nan 0.50857143        nan        nan 0.78904762        nan\n",
            " 0.69809524 0.78238095 0.78952381 0.50857143        nan        nan\n",
            "        nan        nan 0.72666667 0.78238095        nan 0.50857143\n",
            "        nan        nan 0.7752381         nan 0.74095238 0.78952381\n",
            " 0.79666667 0.49428571        nan        nan        nan        nan\n",
            " 0.72666667 0.78238095        nan 0.50857143        nan        nan\n",
            " 0.7752381         nan 0.71952381 0.79666667 0.81761905 0.50857143\n",
            "        nan        nan        nan        nan 0.72666667 0.78238095\n",
            "        nan 0.50857143        nan        nan 0.78952381        nan\n",
            " 0.71952381 0.78238095 0.80333333 0.50857143        nan        nan\n",
            "        nan        nan 0.72666667 0.78238095        nan 0.50857143\n",
            "        nan        nan 0.7752381         nan 0.72666667 0.78238095\n",
            " 0.81761905 0.50857143        nan        nan        nan        nan\n",
            " 0.72666667 0.78238095        nan 0.50857143        nan        nan\n",
            " 0.78952381        nan 0.74666667 0.78238095 0.81047619 0.50857143\n",
            "        nan        nan        nan        nan 0.72666667 0.78238095\n",
            "        nan 0.50857143        nan        nan 0.78952381        nan\n",
            " 0.71904762 0.78238095 0.81095238 0.51571429        nan        nan\n",
            "        nan        nan 0.72666667 0.78238095        nan 0.50857143\n",
            "        nan        nan 0.78238095        nan 0.75380952 0.78238095\n",
            " 0.80380952 0.50857143        nan        nan        nan        nan\n",
            " 0.72666667 0.78238095        nan 0.50857143        nan        nan\n",
            " 0.78238095        nan 0.73952381 0.78952381 0.79666667 0.50857143\n",
            "        nan        nan        nan        nan 0.72666667 0.78238095\n",
            "        nan 0.50857143        nan        nan 0.7752381         nan\n",
            " 0.72666667 0.78238095 0.80333333 0.50857143        nan        nan\n",
            "        nan        nan 0.72666667 0.78238095        nan 0.50857143\n",
            "        nan        nan 0.78238095        nan 0.71238095 0.78238095\n",
            " 0.78952381 0.50857143        nan        nan        nan        nan\n",
            " 0.72666667 0.78238095        nan 0.50857143        nan        nan\n",
            " 0.78952381        nan 0.69809524 0.78238095 0.79619048 0.50857143\n",
            "        nan        nan        nan        nan 0.72666667 0.78238095\n",
            "        nan 0.50857143        nan        nan 0.7752381         nan\n",
            " 0.73428571 0.78238095 0.81047619 0.50857143        nan        nan\n",
            "        nan        nan 0.72666667 0.78238095        nan 0.50857143\n",
            "        nan        nan 0.78952381        nan 0.73380952 0.78238095\n",
            " 0.81047619 0.50857143        nan        nan        nan        nan\n",
            " 0.72666667 0.78238095        nan 0.50857143        nan        nan\n",
            " 0.78952381        nan 0.73380952 0.78238095 0.79666667 0.51571429\n",
            "        nan        nan        nan        nan 0.72666667 0.78238095\n",
            "        nan 0.50857143        nan        nan 0.78238095        nan\n",
            " 0.72666667 0.78238095 0.79666667 0.50857143        nan        nan\n",
            "        nan        nan 0.72666667 0.78238095        nan 0.50857143\n",
            "        nan        nan 0.78952381        nan 0.73380952 0.78952381\n",
            " 0.79666667 0.50857143        nan        nan        nan        nan\n",
            " 0.72666667 0.78238095        nan 0.50857143        nan        nan\n",
            " 0.78952381        nan 0.7052381  0.78238095 0.78238095 0.50857143\n",
            "        nan        nan        nan        nan 0.72666667 0.78238095\n",
            "        nan 0.50857143        nan        nan 0.78952381        nan\n",
            " 0.71952381 0.78238095 0.79619048 0.50857143        nan        nan\n",
            "        nan        nan 0.72666667 0.78238095        nan 0.50857143\n",
            "        nan        nan 0.78952381        nan 0.71952381 0.78238095\n",
            " 0.79666667 0.50857143        nan        nan        nan        nan\n",
            " 0.72666667 0.78238095        nan 0.50857143        nan        nan\n",
            " 0.78952381        nan 0.73333333 0.78238095 0.80380952 0.50857143\n",
            "        nan        nan        nan        nan 0.72666667 0.78238095\n",
            "        nan 0.50857143        nan        nan 0.78952381        nan\n",
            " 0.73238095 0.78238095 0.81761905 0.50857143        nan        nan\n",
            "        nan        nan 0.72666667 0.78238095        nan 0.50857143\n",
            "        nan        nan 0.78952381        nan 0.74666667 0.78238095\n",
            " 0.81047619 0.50857143        nan        nan        nan        nan\n",
            " 0.72666667 0.78238095        nan 0.50857143]\n",
            "\n"
          ]
        }
      ],
      "source": [
        "#Accuracy training for Logistic Regression Model\n",
        "\n",
        "#Searching for the optimal parameters \n",
        "with warnings.catch_warnings(record=True): \n",
        "  lr_opt_accuracy_train = GridSearchCV(logModel, param_grid = param_grid, cv = 10, verbose=True, scoring='accuracy', n_jobs=-1, )\n",
        "\n",
        "#Applying the best parameters & Καταγραφή χρόνου train και test\n",
        "start_time = time.time()\n",
        "optimised_accuracy_lr_model = lr_opt_accuracy_train.fit(x_train,y_train)\n",
        "\n",
        "#Evaluating...\n",
        "predictions_accuracy_model = optimised_accuracy_lr_model.predict(x_test)\n",
        "optimised_accuracy_lr_model_accuracy_test = optimised_accuracy_lr_model.score(x_test, y_test)\n",
        "\n",
        "#Time's up\n",
        "print(\"Συνολικός χρόνος train και test: %s seconds\" % (time.time() - start_time))"
      ]
    },
    {
      "cell_type": "code",
      "execution_count": 197,
      "metadata": {
        "colab": {
          "base_uri": "https://localhost:8080/"
        },
        "id": "mj0EKq6ZydnZ",
        "outputId": "05cd12e7-ba60-44bb-c932-a1fedc27ec85"
      },
      "outputs": [
        {
          "name": "stdout",
          "output_type": "stream",
          "text": [
            "Logistic Regression Model optimised on Accuracy\n",
            "Training Set:\n",
            "LR Accuracy - : 0.838\n",
            "\n",
            "Test set:\n",
            "LR accuracy:  0.76\n",
            "\n",
            "LR Classification Report:\n",
            "              precision    recall  f1-score   support\n",
            "\n",
            "         0.0       0.65      0.52      0.58        21\n",
            "         1.0       0.70      0.79      0.74        29\n",
            "\n",
            "    accuracy                           0.68        50\n",
            "   macro avg       0.67      0.66      0.66        50\n",
            "weighted avg       0.68      0.68      0.67        50\n",
            "\n",
            "\n",
            "LogisticRegression(C=0.22854638641349906, solver='liblinear')\n",
            "{'C': 0.22854638641349906, 'max_iter': 100, 'penalty': 'l2', 'solver': 'liblinear'}\n"
          ]
        }
      ],
      "source": [
        "print(\"Logistic Regression Model optimised on Accuracy\")\n",
        "\n",
        "# Training set accuracy score\n",
        "print(\"Training Set:\")\n",
        "print (f'LR Accuracy - : {optimised_accuracy_lr_model.score(x_train,y_train):.3f}')\n",
        "\n",
        "\n",
        "# Test set accuracy score and Classification Report\n",
        "print(\"\\nTest set:\")\n",
        "print(\"LR accuracy: \", optimised_accuracy_lr_model_accuracy_test)\n",
        "print('\\nLR Classification Report:\\n' + classification_report(y_test, LR_predictions)+'\\n')\n",
        "\n",
        "# Best parameters\n",
        "print(lr_opt_accuracy_train.best_estimator_)\n",
        "print(lr_opt_accuracy_train.best_params_)"
      ]
    },
    {
      "cell_type": "code",
      "execution_count": 199,
      "metadata": {
        "colab": {
          "base_uri": "https://localhost:8080/"
        },
        "id": "L8sH31xjq7p3",
        "outputId": "ce500aa5-a49d-4ae1-f27d-69ede47da251"
      },
      "outputs": [
        {
          "name": "stdout",
          "output_type": "stream",
          "text": [
            "Fitting 10 folds for each of 640 candidates, totalling 6400 fits\n",
            "Συνολικός χρόνος train και test: 144.6497664451599 seconds\n"
          ]
        },
        {
          "name": "stderr",
          "output_type": "stream",
          "text": [
            "/usr/local/lib/python3.7/dist-packages/sklearn/model_selection/_validation.py:372: FitFailedWarning:\n",
            "\n",
            "\n",
            "3200 fits failed out of a total of 6400.\n",
            "The score on these train-test partitions for these parameters will be set to nan.\n",
            "If these failures are not expected, you can try to debug them by setting error_score='raise'.\n",
            "\n",
            "Below are more details about the failures:\n",
            "--------------------------------------------------------------------------------\n",
            "400 fits failed with the following error:\n",
            "Traceback (most recent call last):\n",
            "  File \"/usr/local/lib/python3.7/dist-packages/sklearn/model_selection/_validation.py\", line 680, in _fit_and_score\n",
            "    estimator.fit(X_train, y_train, **fit_params)\n",
            "  File \"/usr/local/lib/python3.7/dist-packages/sklearn/linear_model/_logistic.py\", line 1461, in fit\n",
            "    solver = _check_solver(self.solver, self.penalty, self.dual)\n",
            "  File \"/usr/local/lib/python3.7/dist-packages/sklearn/linear_model/_logistic.py\", line 449, in _check_solver\n",
            "    % (solver, penalty)\n",
            "ValueError: Solver lbfgs supports only 'l2' or 'none' penalties, got l1 penalty.\n",
            "\n",
            "--------------------------------------------------------------------------------\n",
            "400 fits failed with the following error:\n",
            "Traceback (most recent call last):\n",
            "  File \"/usr/local/lib/python3.7/dist-packages/sklearn/model_selection/_validation.py\", line 680, in _fit_and_score\n",
            "    estimator.fit(X_train, y_train, **fit_params)\n",
            "  File \"/usr/local/lib/python3.7/dist-packages/sklearn/linear_model/_logistic.py\", line 1461, in fit\n",
            "    solver = _check_solver(self.solver, self.penalty, self.dual)\n",
            "  File \"/usr/local/lib/python3.7/dist-packages/sklearn/linear_model/_logistic.py\", line 449, in _check_solver\n",
            "    % (solver, penalty)\n",
            "ValueError: Solver newton-cg supports only 'l2' or 'none' penalties, got l1 penalty.\n",
            "\n",
            "--------------------------------------------------------------------------------\n",
            "400 fits failed with the following error:\n",
            "Traceback (most recent call last):\n",
            "  File \"/usr/local/lib/python3.7/dist-packages/sklearn/model_selection/_validation.py\", line 680, in _fit_and_score\n",
            "    estimator.fit(X_train, y_train, **fit_params)\n",
            "  File \"/usr/local/lib/python3.7/dist-packages/sklearn/linear_model/_logistic.py\", line 1461, in fit\n",
            "    solver = _check_solver(self.solver, self.penalty, self.dual)\n",
            "  File \"/usr/local/lib/python3.7/dist-packages/sklearn/linear_model/_logistic.py\", line 449, in _check_solver\n",
            "    % (solver, penalty)\n",
            "ValueError: Solver sag supports only 'l2' or 'none' penalties, got l1 penalty.\n",
            "\n",
            "--------------------------------------------------------------------------------\n",
            "400 fits failed with the following error:\n",
            "Traceback (most recent call last):\n",
            "  File \"/usr/local/lib/python3.7/dist-packages/sklearn/model_selection/_validation.py\", line 680, in _fit_and_score\n",
            "    estimator.fit(X_train, y_train, **fit_params)\n",
            "  File \"/usr/local/lib/python3.7/dist-packages/sklearn/linear_model/_logistic.py\", line 1461, in fit\n",
            "    solver = _check_solver(self.solver, self.penalty, self.dual)\n",
            "  File \"/usr/local/lib/python3.7/dist-packages/sklearn/linear_model/_logistic.py\", line 449, in _check_solver\n",
            "    % (solver, penalty)\n",
            "ValueError: Solver lbfgs supports only 'l2' or 'none' penalties, got elasticnet penalty.\n",
            "\n",
            "--------------------------------------------------------------------------------\n",
            "400 fits failed with the following error:\n",
            "Traceback (most recent call last):\n",
            "  File \"/usr/local/lib/python3.7/dist-packages/sklearn/model_selection/_validation.py\", line 680, in _fit_and_score\n",
            "    estimator.fit(X_train, y_train, **fit_params)\n",
            "  File \"/usr/local/lib/python3.7/dist-packages/sklearn/linear_model/_logistic.py\", line 1461, in fit\n",
            "    solver = _check_solver(self.solver, self.penalty, self.dual)\n",
            "  File \"/usr/local/lib/python3.7/dist-packages/sklearn/linear_model/_logistic.py\", line 449, in _check_solver\n",
            "    % (solver, penalty)\n",
            "ValueError: Solver newton-cg supports only 'l2' or 'none' penalties, got elasticnet penalty.\n",
            "\n",
            "--------------------------------------------------------------------------------\n",
            "400 fits failed with the following error:\n",
            "Traceback (most recent call last):\n",
            "  File \"/usr/local/lib/python3.7/dist-packages/sklearn/model_selection/_validation.py\", line 680, in _fit_and_score\n",
            "    estimator.fit(X_train, y_train, **fit_params)\n",
            "  File \"/usr/local/lib/python3.7/dist-packages/sklearn/linear_model/_logistic.py\", line 1461, in fit\n",
            "    solver = _check_solver(self.solver, self.penalty, self.dual)\n",
            "  File \"/usr/local/lib/python3.7/dist-packages/sklearn/linear_model/_logistic.py\", line 459, in _check_solver\n",
            "    solver\n",
            "ValueError: Only 'saga' solver supports elasticnet penalty, got solver=liblinear.\n",
            "\n",
            "--------------------------------------------------------------------------------\n",
            "400 fits failed with the following error:\n",
            "Traceback (most recent call last):\n",
            "  File \"/usr/local/lib/python3.7/dist-packages/sklearn/model_selection/_validation.py\", line 680, in _fit_and_score\n",
            "    estimator.fit(X_train, y_train, **fit_params)\n",
            "  File \"/usr/local/lib/python3.7/dist-packages/sklearn/linear_model/_logistic.py\", line 1461, in fit\n",
            "    solver = _check_solver(self.solver, self.penalty, self.dual)\n",
            "  File \"/usr/local/lib/python3.7/dist-packages/sklearn/linear_model/_logistic.py\", line 449, in _check_solver\n",
            "    % (solver, penalty)\n",
            "ValueError: Solver sag supports only 'l2' or 'none' penalties, got elasticnet penalty.\n",
            "\n",
            "--------------------------------------------------------------------------------\n",
            "400 fits failed with the following error:\n",
            "Traceback (most recent call last):\n",
            "  File \"/usr/local/lib/python3.7/dist-packages/sklearn/model_selection/_validation.py\", line 680, in _fit_and_score\n",
            "    estimator.fit(X_train, y_train, **fit_params)\n",
            "  File \"/usr/local/lib/python3.7/dist-packages/sklearn/linear_model/_logistic.py\", line 1461, in fit\n",
            "    solver = _check_solver(self.solver, self.penalty, self.dual)\n",
            "  File \"/usr/local/lib/python3.7/dist-packages/sklearn/linear_model/_logistic.py\", line 464, in _check_solver\n",
            "    raise ValueError(\"penalty='none' is not supported for the liblinear solver\")\n",
            "ValueError: penalty='none' is not supported for the liblinear solver\n",
            "\n",
            "\n",
            "/usr/local/lib/python3.7/dist-packages/sklearn/model_selection/_search.py:972: UserWarning:\n",
            "\n",
            "One or more of the test scores are non-finite: [       nan        nan 0.80333333        nan 0.72619048 0.80380952\n",
            " 0.80333333 0.50857143        nan        nan        nan        nan\n",
            " 0.72666667 0.78238095        nan 0.50857143        nan        nan\n",
            " 0.80333333        nan 0.73333333 0.80380952 0.78952381 0.50857143\n",
            "        nan        nan        nan        nan 0.72666667 0.78238095\n",
            "        nan 0.50857143        nan        nan 0.80333333        nan\n",
            " 0.73333333 0.80380952 0.80380952 0.50857143        nan        nan\n",
            "        nan        nan 0.72666667 0.78238095        nan 0.50857143\n",
            "        nan        nan 0.81047619        nan 0.71190476 0.80380952\n",
            " 0.80380952 0.50857143        nan        nan        nan        nan\n",
            " 0.72666667 0.78238095        nan 0.50142857        nan        nan\n",
            " 0.81761905        nan 0.75428571 0.81095238 0.79666667 0.50857143\n",
            "        nan        nan        nan        nan 0.72666667 0.78238095\n",
            "        nan 0.50142857        nan        nan 0.80333333        nan\n",
            " 0.72619048 0.80380952 0.79666667 0.50857143        nan        nan\n",
            "        nan        nan 0.72666667 0.78238095        nan 0.50857143\n",
            "        nan        nan 0.81761905        nan 0.71238095 0.80380952\n",
            " 0.78238095 0.50857143        nan        nan        nan        nan\n",
            " 0.72666667 0.78238095        nan 0.50857143        nan        nan\n",
            " 0.81761905        nan 0.74809524 0.80380952 0.8247619  0.50857143\n",
            "        nan        nan        nan        nan 0.72666667 0.78238095\n",
            "        nan 0.50857143        nan        nan 0.81761905        nan\n",
            " 0.73333333 0.79666667 0.81047619 0.50857143        nan        nan\n",
            "        nan        nan 0.72666667 0.78238095        nan 0.50857143\n",
            "        nan        nan 0.81047619        nan 0.76809524 0.79666667\n",
            " 0.81095238 0.50857143        nan        nan        nan        nan\n",
            " 0.72666667 0.78238095        nan 0.50857143        nan        nan\n",
            " 0.81761905        nan 0.74809524 0.79666667 0.78952381 0.50857143\n",
            "        nan        nan        nan        nan 0.72666667 0.78238095\n",
            "        nan 0.50857143        nan        nan 0.81047619        nan\n",
            " 0.71238095 0.79666667 0.78952381 0.50857143        nan        nan\n",
            "        nan        nan 0.72666667 0.78238095        nan 0.49428571\n",
            "        nan        nan 0.81047619        nan 0.72619048 0.79666667\n",
            " 0.81095238 0.50857143        nan        nan        nan        nan\n",
            " 0.72666667 0.78238095        nan 0.50857143        nan        nan\n",
            " 0.80333333        nan 0.72666667 0.79666667 0.78952381 0.50857143\n",
            "        nan        nan        nan        nan 0.72666667 0.78238095\n",
            "        nan 0.50857143        nan        nan 0.80333333        nan\n",
            " 0.72666667 0.79666667 0.80380952 0.50857143        nan        nan\n",
            "        nan        nan 0.72666667 0.78238095        nan 0.50857143\n",
            "        nan        nan 0.81047619        nan 0.73380952 0.78952381\n",
            " 0.80380952 0.50857143        nan        nan        nan        nan\n",
            " 0.72666667 0.78238095        nan 0.50857143        nan        nan\n",
            " 0.78904762        nan 0.72666667 0.79666667 0.79619048 0.50857143\n",
            "        nan        nan        nan        nan 0.72666667 0.78238095\n",
            "        nan 0.50857143        nan        nan 0.79619048        nan\n",
            " 0.69809524 0.78238095 0.78952381 0.50857143        nan        nan\n",
            "        nan        nan 0.72666667 0.78238095        nan 0.50857143\n",
            "        nan        nan 0.7752381         nan 0.74095238 0.78952381\n",
            " 0.79666667 0.50857143        nan        nan        nan        nan\n",
            " 0.72666667 0.78238095        nan 0.50857143        nan        nan\n",
            " 0.7752381         nan 0.71952381 0.79666667 0.81761905 0.50857143\n",
            "        nan        nan        nan        nan 0.72666667 0.78238095\n",
            "        nan 0.50857143        nan        nan 0.7752381         nan\n",
            " 0.71952381 0.78238095 0.80333333 0.51571429        nan        nan\n",
            "        nan        nan 0.72666667 0.78238095        nan 0.50857143\n",
            "        nan        nan 0.78238095        nan 0.72666667 0.78238095\n",
            " 0.81761905 0.50857143        nan        nan        nan        nan\n",
            " 0.72666667 0.78238095        nan 0.51571429        nan        nan\n",
            " 0.78238095        nan 0.74666667 0.78238095 0.81047619 0.50857143\n",
            "        nan        nan        nan        nan 0.72666667 0.78238095\n",
            "        nan 0.50857143        nan        nan 0.7752381         nan\n",
            " 0.71904762 0.78238095 0.81095238 0.50857143        nan        nan\n",
            "        nan        nan 0.72666667 0.78238095        nan 0.50857143\n",
            "        nan        nan 0.7752381         nan 0.75380952 0.78238095\n",
            " 0.80380952 0.51571429        nan        nan        nan        nan\n",
            " 0.72666667 0.78238095        nan 0.50857143        nan        nan\n",
            " 0.7752381         nan 0.73952381 0.78952381 0.79666667 0.50857143\n",
            "        nan        nan        nan        nan 0.72666667 0.78238095\n",
            "        nan 0.50857143        nan        nan 0.78238095        nan\n",
            " 0.72666667 0.78238095 0.80333333 0.50857143        nan        nan\n",
            "        nan        nan 0.72666667 0.78238095        nan 0.50857143\n",
            "        nan        nan 0.78952381        nan 0.71238095 0.78238095\n",
            " 0.78952381 0.50857143        nan        nan        nan        nan\n",
            " 0.72666667 0.78238095        nan 0.50857143        nan        nan\n",
            " 0.7752381         nan 0.69809524 0.78238095 0.79619048 0.50857143\n",
            "        nan        nan        nan        nan 0.72666667 0.78238095\n",
            "        nan 0.50857143        nan        nan 0.78238095        nan\n",
            " 0.73428571 0.78238095 0.81047619 0.50857143        nan        nan\n",
            "        nan        nan 0.72666667 0.78238095        nan 0.50857143\n",
            "        nan        nan 0.7752381         nan 0.73380952 0.78238095\n",
            " 0.81047619 0.50857143        nan        nan        nan        nan\n",
            " 0.72666667 0.78238095        nan 0.50857143        nan        nan\n",
            " 0.78238095        nan 0.73380952 0.78238095 0.79666667 0.49428571\n",
            "        nan        nan        nan        nan 0.72666667 0.78238095\n",
            "        nan 0.50142857        nan        nan 0.78238095        nan\n",
            " 0.72666667 0.78238095 0.79666667 0.50857143        nan        nan\n",
            "        nan        nan 0.72666667 0.78238095        nan 0.49428571\n",
            "        nan        nan 0.78238095        nan 0.73380952 0.78952381\n",
            " 0.79666667 0.50857143        nan        nan        nan        nan\n",
            " 0.72666667 0.78238095        nan 0.50857143        nan        nan\n",
            " 0.78952381        nan 0.7052381  0.78238095 0.78238095 0.50857143\n",
            "        nan        nan        nan        nan 0.72666667 0.78238095\n",
            "        nan 0.50857143        nan        nan 0.78952381        nan\n",
            " 0.71952381 0.78238095 0.79619048 0.50857143        nan        nan\n",
            "        nan        nan 0.72666667 0.78238095        nan 0.50857143\n",
            "        nan        nan 0.78952381        nan 0.71952381 0.78238095\n",
            " 0.79666667 0.50857143        nan        nan        nan        nan\n",
            " 0.72666667 0.78238095        nan 0.50857143        nan        nan\n",
            " 0.78952381        nan 0.73333333 0.78238095 0.80380952 0.50857143\n",
            "        nan        nan        nan        nan 0.72666667 0.78238095\n",
            "        nan 0.50857143        nan        nan 0.78952381        nan\n",
            " 0.73238095 0.78238095 0.81761905 0.50857143        nan        nan\n",
            "        nan        nan 0.72666667 0.78238095        nan 0.50857143\n",
            "        nan        nan 0.78952381        nan 0.74666667 0.78238095\n",
            " 0.81047619 0.50857143        nan        nan        nan        nan\n",
            " 0.72666667 0.78238095        nan 0.50857143]\n",
            "\n"
          ]
        }
      ],
      "source": [
        "#F1 score training for Logistic Regression Model\n",
        "\n",
        "#Searching for the optimal parameters \n",
        "with warnings.catch_warnings(record=True): \n",
        "  lr_opt_f1_macro_train = GridSearchCV(logModel, param_grid = param_grid, cv = 10, verbose=True, scoring='f1_macro', n_jobs=-1, )\n",
        "\n",
        "#Applying the best parameters & Καταγραφή χρόνου train και test \n",
        "start_time = time.time()\n",
        "optimised_f1_macro_lr_model = lr_opt_accuracy_train.fit(x_train,y_train)\n",
        "\n",
        "#Evaluating...\n",
        "predictions_f1_macro_model = optimised_f1_macro_lr_model.predict(x_test)\n",
        "optimised_f1_macro_lr_model_f1_test = f1_score(y_test, predictions_f1_macro_model, average='macro')\n",
        "\n",
        "\n",
        "#Time's up\n",
        "print(\"Συνολικός χρόνος train και test: %s seconds\" % (time.time() - start_time))"
      ]
    },
    {
      "cell_type": "code",
      "execution_count": 200,
      "metadata": {
        "colab": {
          "base_uri": "https://localhost:8080/"
        },
        "id": "vz4kgGxqwazR",
        "outputId": "f8867151-d1e2-4813-e2b7-91648729b32d"
      },
      "outputs": [
        {
          "name": "stdout",
          "output_type": "stream",
          "text": [
            "Logistic Regression Model optimised on f1-macro score\n",
            "Training Set:\n",
            "LR f1 macro - : 0.838\n",
            "\n",
            "Test set:\n",
            "LR f1 macro:  0.7564935064935064\n",
            "\n",
            "LR Classification Report:\n",
            "              precision    recall  f1-score   support\n",
            "\n",
            "         0.0       0.65      0.52      0.58        21\n",
            "         1.0       0.70      0.79      0.74        29\n",
            "\n",
            "    accuracy                           0.68        50\n",
            "   macro avg       0.67      0.66      0.66        50\n",
            "weighted avg       0.68      0.68      0.67        50\n",
            "\n",
            "\n"
          ]
        }
      ],
      "source": [
        "print(\"Logistic Regression Model optimised on f1-macro score\")\n",
        "\n",
        "#LR_f1_test = f1_score(y_test, LR_predictions, average='macro')\n",
        "\n",
        "# Training set f1-macro score\n",
        "print(\"Training Set:\")\n",
        "#print(\"LR f1 macro: \", np.mean(LR_f1_train)) #?????????\n",
        "print (f'LR f1 macro - : {optimised_f1_macro_lr_model.score(x_train,y_train):.3f}') \n",
        "\n",
        "# Test set f1-macro score and Classification Report \n",
        "print(\"\\nTest set:\")\n",
        "print(\"LR f1 macro: \", optimised_f1_macro_lr_model_f1_test)\n",
        "print('\\nLR Classification Report:\\n' + classification_report(y_test, LR_predictions)+'\\n')\n",
        "\n",
        "# Best parameters\n",
        "#print(lr_opt_f1_macro_train.best_estimator_)\n",
        "#print(lr_opt_f1_macro_train.best_params_)"
      ]
    },
    {
      "cell_type": "markdown",
      "metadata": {
        "id": "nkwbnUkwNKus"
      },
      "source": [
        "## Results and conclusions"
      ]
    },
    {
      "cell_type": "markdown",
      "metadata": {},
      "source": [
        "| Classifier | Συνολικός χρόνος train και test (sec) | Out-of-the-Box Accuracy | Optimized Accuracy | Out-of-the-Box f1 score | Optimised f1 score |\n",
        "| --- | :---: | :---: | :---: | :---: | :---: |\n",
        "| Dummy | - | 58 %  | - | 47.2 % | - |\n",
        "| Gnb | 0.07 | 66 % | 68 % | 62.6 % | 66 % |\n",
        "| Knn |  0.056 | 58 % | 92 % | 50.9 % | 91.7 % |\n",
        "| Ls |  144 | 68 %  | 76 % | 66 % | 75 % |\n"
      ]
    },
    {
      "cell_type": "markdown",
      "metadata": {
        "id": "u_onIVYFTSdw"
      },
      "source": [
        "### Plots & Comparison"
      ]
    },
    {
      "cell_type": "code",
      "execution_count": 201,
      "metadata": {
        "id": "Z9GUu9lGMk35"
      },
      "outputs": [],
      "source": [
        "#Accuracy Scores and F1-macro scores from our experiments\n",
        "\n",
        "# [OOTB accuracy, Optimized accuracy]\n",
        "Dummy_test_acc = [max(test_accuracy.values()), max(test_accuracy.values())]\n",
        "GNB_test_acc = [gnb_accuracy_test, gnb_accuracy_ACC]\n",
        "KNN_test_acc = [kNN_accuracy_test, kNN_acc_acc]\n",
        "LR_test_acc = [LR_accuracy_test, optimised_accuracy_lr_model_accuracy_test] \n",
        "\n",
        "barWidth = 0.25\n",
        "\n",
        "Dummy_test_f1 = [max(test_f1.values()), max(test_f1.values())]\n",
        "GNB_test_f1 = [gnb_f1_test, gnb_f1_F1]\n",
        "KNN_test_f1 = [kNN_f1_test, knn_f1_f1]\n",
        "LR_test_f1 = [LR_f1_test, optimised_f1_macro_lr_model_f1_test]"
      ]
    },
    {
      "cell_type": "code",
      "execution_count": 202,
      "metadata": {
        "id": "sFYM7W6wXW-I"
      },
      "outputs": [],
      "source": [
        "br1 = np.arange(len(Dummy_test_acc))\n",
        "br2 = [x + barWidth for x in br1]\n",
        "br3 = [x + barWidth for x in br2]\n",
        "br4 = [x + barWidth for x in br3]"
      ]
    },
    {
      "cell_type": "markdown",
      "metadata": {
        "id": "IIuXFQhcHj_4"
      },
      "source": [
        "**Accuracy Diagram**\n",
        "\n",
        "---"
      ]
    },
    {
      "cell_type": "code",
      "execution_count": 203,
      "metadata": {
        "colab": {
          "base_uri": "https://localhost:8080/",
          "height": 288
        },
        "id": "bu-N6SnFLtE6",
        "outputId": "22549ada-7e63-403d-d911-65845fef25b5"
      },
      "outputs": [
        {
          "data": {
            "image/png": "[encoded data removed]",
            "text/plain": [
              "<Figure size 432x288 with 1 Axes>"
            ]
          },
          "metadata": {
            "needs_background": "light"
          },
          "output_type": "display_data"
        }
      ],
      "source": [
        "#Test Set Accuracy Scores Plot\n",
        "\n",
        "barWidth = 0.25\n",
        "fig = plt.figure()\n",
        "\n",
        "plt.bar(br1, Dummy_test_acc, color ='y', width = barWidth,\n",
        "        edgecolor ='grey', label ='Dummy')\n",
        "plt.bar(br2, GNB_test_acc, color ='r', width = barWidth,\n",
        "        edgecolor ='grey', label ='GNB')\n",
        "plt.bar(br3, KNN_test_acc, color ='g', width = barWidth,\n",
        "        edgecolor ='grey', label ='KNN')\n",
        "plt.bar(br4, LR_test_acc, color ='b', width = barWidth,\n",
        "        edgecolor ='grey', label ='LR')\n",
        "\n",
        "plt.xlabel('Branch', fontweight ='bold', fontsize = 15)\n",
        "plt.ylabel('Accuracy Scores', fontweight ='bold', fontsize = 15)\n",
        "plt.xticks([r + barWidth for r in range(len(GNB_test_acc))],\n",
        "        ['Out of the Box', 'Optimized'])\n",
        " \n",
        "plt.legend()\n",
        "plt.ylim(0.0, 1.0) # Set min, max classifier scores\n",
        "plt.show()"
      ]
    },
    {
      "cell_type": "markdown",
      "metadata": {
        "id": "_Wm5aOX3Hf4K"
      },
      "source": [
        "**F1 Diagram**\n",
        "\n",
        "---"
      ]
    },
    {
      "cell_type": "code",
      "execution_count": 204,
      "metadata": {
        "colab": {
          "base_uri": "https://localhost:8080/",
          "height": 288
        },
        "id": "QgJK54yXMP9J",
        "outputId": "01c1eb7b-6665-4e29-ddc9-60dfdd2f5777"
      },
      "outputs": [
        {
          "data": {
            "image/png": "[encoded data removed]",
            "text/plain": [
              "<Figure size 432x288 with 1 Axes>"
            ]
          },
          "metadata": {
            "needs_background": "light"
          },
          "output_type": "display_data"
        }
      ],
      "source": [
        "#Test Set F1-macro Scores Plot\n",
        "\n",
        "barWidth = 0.25\n",
        "fig = plt.figure()\n",
        "\n",
        "plt.bar(br1, Dummy_test_f1, color ='y', width = barWidth,\n",
        "        edgecolor ='grey', label ='Dummy')\n",
        "plt.bar(br2, GNB_test_f1, color ='r', width = barWidth,\n",
        "        edgecolor ='grey', label ='GNB')\n",
        "plt.bar(br3, KNN_test_f1, color ='g', width = barWidth,\n",
        "        edgecolor ='grey', label ='KNN')\n",
        "plt.bar(br4, LR_test_f1, color ='b', width = barWidth,\n",
        "        edgecolor ='grey', label ='LR')\n",
        "\n",
        "plt.xlabel('Branch', fontweight ='bold', fontsize = 15)\n",
        "plt.ylabel('Test Set F1-macro Scores', fontweight ='bold', fontsize = 15)\n",
        "plt.xticks([r + barWidth for r in range(len(GNB_test_acc))],\n",
        "        ['Out of the Box', 'Optimized'])\n",
        " \n",
        "plt.legend()\n",
        "plt.ylim(0.0, 1.0) # Set min, max classifier scores\n",
        "plt.show()"
      ]
    },
    {
      "cell_type": "markdown",
      "metadata": {
        "id": "t6ASTwS6_KQi"
      },
      "source": [
        "###Confusion Matrix\n",
        "\n",
        "---"
      ]
    },
    {
      "cell_type": "code",
      "execution_count": 210,
      "metadata": {
        "colab": {
          "base_uri": "https://localhost:8080/",
          "height": 283
        },
        "id": "fHItFknG-_KQ",
        "outputId": "bb3fd977-b836-4365-f0e2-0c46a72d29d6"
      },
      "outputs": [
        {
          "data": {
            "text/plain": [
              "<matplotlib.axes._subplots.AxesSubplot at 0x7f3d01ed1cd0>"
            ]
          },
          "execution_count": 210,
          "metadata": {},
          "output_type": "execute_result"
        },
        {
          "data": {
            "image/png": "[encoded data removed]",
            "text/plain": [
              "<Figure size 432x288 with 2 Axes>"
            ]
          },
          "metadata": {
            "needs_background": "light"
          },
          "output_type": "display_data"
        }
      ],
      "source": [
        "# Confusion Matrix for the best classifier - K Nearest Neighbors \n",
        "from sklearn.metrics import confusion_matrix\n",
        "import seaborn as sns \n",
        "\n",
        "mlp_matrix = confusion_matrix(y_test, kNN_preds_acc)\n",
        "sns.heatmap(mlp_matrix.T, annot = True)"
      ]
    },
    {
      "cell_type": "code",
      "execution_count": 211,
      "metadata": {
        "colab": {
          "base_uri": "https://localhost:8080/",
          "height": 287
        },
        "id": "atiGpGY7xSF3",
        "outputId": "d013362f-8aa2-4e02-e2c2-5125506ead02"
      },
      "outputs": [
        {
          "data": {
            "text/plain": [
              "<matplotlib.axes._subplots.AxesSubplot at 0x7f3d01dc9a10>"
            ]
          },
          "execution_count": 211,
          "metadata": {},
          "output_type": "execute_result"
        },
        {
          "data": {
            "image/png": "[encoded data removed]",
            "text/plain": [
              "<Figure size 432x288 with 2 Axes>"
            ]
          },
          "metadata": {
            "needs_background": "light"
          },
          "output_type": "display_data"
        }
      ],
      "source": [
        "# Confusion Matrix for classifier - Logistic Regression\n",
        "mlp_matrix = confusion_matrix(y_test, predictions_accuracy_model)\n",
        "sns.heatmap(mlp_matrix.T, annot = True)"
      ]
    },
    {
      "cell_type": "code",
      "execution_count": 214,
      "metadata": {
        "colab": {
          "base_uri": "https://localhost:8080/",
          "height": 283
        },
        "id": "AdarVkOCwqFd",
        "outputId": "213e9e90-56c5-4287-ff60-e766b07d1951"
      },
      "outputs": [
        {
          "data": {
            "text/plain": [
              "<matplotlib.axes._subplots.AxesSubplot at 0x7f3d01a32dd0>"
            ]
          },
          "execution_count": 214,
          "metadata": {},
          "output_type": "execute_result"
        },
        {
          "data": {
            "image/png": "[encoded data removed]",
            "text/plain": [
              "<Figure size 432x288 with 2 Axes>"
            ]
          },
          "metadata": {
            "needs_background": "light"
          },
          "output_type": "display_data"
        }
      ],
      "source": [
        "# Confusion Matrix for the worst classifier - Gausian Naive Bayes\n",
        "mlp_matrix = confusion_matrix(y_test, gnb_predictions)\n",
        "sns.heatmap(mlp_matrix.T, annot=True)"
      ]
    },
    {
      "cell_type": "markdown",
      "metadata": {
        "id": "XI1sGezq_J0T"
      },
      "source": [
        "Παρατηρούμε ότι στο πίνακα σύγχυσης του βέλτιστου ταξινομητή Knn, τα στοιχεία εμφανίζονται κατά 92% στις θέσεις Τrue Positive ή True Negative. <br>\n",
        "Όμως για τον ταξινομητή Gnb, ο οποίος είναι ο χειρότερος για το dataset αυτό, παρατηρούμε ότι το ποσοστό αυτό στο 68%.  <br><br>\n",
        "\n",
        "Επειδή το σύνολο δεδομένων που εξετάζουμε αφορά το Υποκυτταρικό καρκίνωμα και η ερώτηση που τίθεται να απαντήση ο ταξινομητής είναι ιατρικής φύσης, θέλουμε να αποφύγουμε τα False Positive* στοιχεία καθώς ισχύει :  <br>   \n",
        "\n",
        "Αποτελέσματα :    \n",
        "$\\;\\;\\;\\;\\;\\;$   1 - > Ο ασθενής έζησε - positive <br>\n",
        "$\\;\\;\\;\\;\\;\\;$   0 - > O ασθενής απεβίωσε - negative <br>\n",
        "\n",
        "*(Οι Boolean τιμές είναι ανάποδα από τις σύνηθες ιατρικές τιμές που χρησιμοποιούνται. Όπως για παράδειγμα στο τεστ covid όπου θετικό(1) σημαίνει ότι ο ασθενής έχει τον ιό, ενώ αρνητικό ότι είνα υγιής)\n",
        "\n",
        "Ο βέλτιστος ταξινομητής για το συγκεκριμένο σύνολο δεδομένων και την χρήση του δεν πρέπει να εμφανίζει False Positive καθώς με αυτό τον τρόπο ο ασθενής θα θεωρείτε με λανθασμένη πρόβλεψη πως θα είναι υγιής ενώ στην πραγματικότητα θα αποβιώσει.  \n",
        "\n",
        "Άρα με αυτή την σκοπιά παρατηρούμε ότι ο Knn παραμένει ο καλύτερος ταξινομητής. Στην περίπτωση του χειρότερου ταξινομητή, παρόλο ότι ο Lr ταξινομητής είναι overall καλύτερος από τον Gnb, στην περίπτωση των false positive δεδομένων είναι ο χειρότερος από όλους.\n"
      ]
    },
    {
      "cell_type": "markdown",
      "metadata": {
        "id": "j8xj_frxyrmo"
      },
      "source": [
        "# Συμπεράσματα\n"
      ]
    },
    {
      "cell_type": "markdown",
      "metadata": {
        "id": "VLP2hq3h04K1"
      },
      "source": [
        "**Συμπεραίνουμε ότι ο καλύτερος ταξινομητής και αυτός ο οποίος προτείνουμε για το συγκεκριμένο σύνολο δεδομένων είναι το K Nearest Neighbors.**\n",
        "\n",
        "Η απόδοση του στο test set είναι πολύ καλύτερη σε όλες τις μετρικές. Ταυτόχρονα εμφανίζει τον μικρότερο αριθμό false positive στοιχείων και αυτό τον καθιστά τον καλύτερο ταξινομητή για την συγκεκριμένη ιατρική εφααρμογή. \n",
        "\n",
        "Η καλή απόδοση του Knn μπορεί να ερμηνευτεί από την μορφή των δεδομένων. Είναι πιθανόν τα δεδομένα να εμφανίζουν μια συγκεκριμένη ομαδοποίηση τέτεια ώστε ο αλγόριθμος να μπορεί να τα διαχωρίσει τα δεδομένα σε σαφής ξεχωριστές ομάδες χωρίς να υπάρχουν πολλά conflicts μεταξύ τους.<br>\n",
        "\n",
        "Για το χειρότερο overall ταξινομητή Gnb, θα μπορούσαμε να πούμε πως τα δεδομένα δεν είναι ανεξάρτητα μεταξύ τους και έτσι δεν μπορεί να δουλέψει σωστά ο Naive Bayes αλγόριθμος. Ιατρικές μετρήσεις και εξετάσεις ενός ανθρώπου δεν γίνεται να είναι ανεξάρτητες μεταξύ τους καθώς όλες γίνονται στο ίδιο οργανισμό. Έτσι, επειδή δεν εξασφαλίζεται η ανεξαρτησία ο αλγόριθμος δεν μπορεί να δουλέψει σωστά.\n"
      ]
    }
  ],
  "metadata": {
    "accelerator": "GPU",
    "colab": {
      "collapsed_sections": [
        "cONBmEiyWGfn",
        "UEMHhzDHk4jc",
        "sXHrqoI6WYK1",
        "-espkQvNOdWh",
        "-6z8F_n2WllL",
        "rlqHmu3yOdXP"
      ],
      "provenance": [],
      "toc_visible": true
    },
    "gpuClass": "standard",
    "kernelspec": {
      "display_name": "Python 3",
      "name": "python3"
    },
    "language_info": {
      "name": "python"
    }
  },
  "nbformat": 4,
  "nbformat_minor": 0
}
